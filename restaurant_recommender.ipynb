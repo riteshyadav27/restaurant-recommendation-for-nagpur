{
  "cells": [
    {
      "cell_type": "code",
      "execution_count": null,
      "metadata": {
        "colab": {
          "base_uri": "https://localhost:8080/"
        },
        "id": "-BqnNGR9vZ3H",
        "outputId": "242a33e2-c109-4b06-ffc6-08c9e1b04ad1"
      },
      "outputs": [],
      "source": [
        "import pandas as pd\n",
        "import numpy as np\n",
        "import geopandas as gpd\n",
        "import matplotlib.pyplot as plt\n",
        "import seaborn as sns\n",
        "import plotly\n",
        "import plotly.offline as py\n",
        "import plotly.graph_objs as go\n",
        "import plotly_express as px\n",
        "from sklearn.cluster import KMeans\n",
        "from sklearn.metrics import silhouette_score"
      ]
    },
    {
      "cell_type": "code",
      "execution_count": null,
      "metadata": {
        "id": "ISq_y-qCwOvH"
      },
      "outputs": [],
      "source": [
        "df = pd.read_csv(\"final_dataset.csv\")"
      ]
    },
    {
      "cell_type": "code",
      "execution_count": null,
      "metadata": {
        "colab": {
          "base_uri": "https://localhost:8080/",
          "height": 598
        },
        "id": "aKCYMspmwsgM",
        "outputId": "46a7db7b-839c-414e-e932-1c64449f9d11"
      },
      "outputs": [],
      "source": [
        "df.head(10)"
      ]
    },
    {
      "cell_type": "code",
      "execution_count": null,
      "metadata": {
        "colab": {
          "base_uri": "https://localhost:8080/"
        },
        "id": "ifVpSaB3wxel",
        "outputId": "8b2d962c-ee38-4443-de1f-b53833a89b15"
      },
      "outputs": [],
      "source": [
        "df.shape"
      ]
    },
    {
      "cell_type": "code",
      "execution_count": null,
      "metadata": {
        "colab": {
          "base_uri": "https://localhost:8080/"
        },
        "id": "RY4daQElxG1y",
        "outputId": "55897cca-f15c-47c3-e3aa-93cc6f85e7e5"
      },
      "outputs": [],
      "source": [
        "df.index"
      ]
    },
    {
      "cell_type": "code",
      "execution_count": null,
      "metadata": {
        "colab": {
          "base_uri": "https://localhost:8080/"
        },
        "id": "7dL3_O_kxkOS",
        "outputId": "63f6ab45-e72b-44ee-f525-aeb02c15c99c"
      },
      "outputs": [],
      "source": [
        "df.columns"
      ]
    },
    {
      "cell_type": "code",
      "execution_count": null,
      "metadata": {
        "id": "slva9td8iAId"
      },
      "outputs": [],
      "source": [
        "df=df.drop(['Unnamed: 0','Unnamed: 0'],axis=1)"
      ]
    },
    {
      "cell_type": "code",
      "execution_count": null,
      "metadata": {
        "id": "-Ga0pSJ9xl3h"
      },
      "outputs": [],
      "source": [
        "#df = df.drop_duplicates(subset=['title'])"
      ]
    },
    {
      "cell_type": "code",
      "execution_count": null,
      "metadata": {
        "colab": {
          "base_uri": "https://localhost:8080/"
        },
        "id": "MzMNxEwTyPZK",
        "outputId": "dd97bcb0-88e9-4371-fead-fb034b6222be"
      },
      "outputs": [],
      "source": [
        "df.shape"
      ]
    },
    {
      "cell_type": "markdown",
      "metadata": {
        "id": "4YYe7EJ_5rNr"
      },
      "source": [
        "Arranged the table on the basis of reviewcount and Rating"
      ]
    },
    {
      "cell_type": "code",
      "execution_count": null,
      "metadata": {
        "id": "PRFNLNFUEvYM"
      },
      "outputs": [],
      "source": [
        "import numpy as np\n",
        "df['Rating'] = pd.to_numeric(df['Rating'], errors='coerce')\n",
        "mean_rating = df['Rating'].mean()\n",
        "df['Rating'].fillna(mean_rating, inplace=True)\n",
        "df['Rating'] = df['Rating'].astype(float)"
      ]
    },
    {
      "cell_type": "code",
      "execution_count": null,
      "metadata": {
        "colab": {
          "base_uri": "https://localhost:8080/"
        },
        "id": "X08lNozNRL68",
        "outputId": "bea3c923-b466-4d09-9ef7-091031a9d9fb"
      },
      "outputs": [],
      "source": [
        "print(df['reviewsCount'].dtype)"
      ]
    },
    {
      "cell_type": "code",
      "execution_count": null,
      "metadata": {
        "id": "ws77QD7DJhRf"
      },
      "outputs": [],
      "source": [
        "df = df.sort_values(by=['reviewsCount','Rating'],ascending=False)[:] "
      ]
    },
    {
      "cell_type": "code",
      "execution_count": null,
      "metadata": {
        "id": "taVtXxL5SYJZ"
      },
      "outputs": [],
      "source": [
        "df = df.drop_duplicates(subset=['url'])"
      ]
    },
    {
      "cell_type": "code",
      "execution_count": null,
      "metadata": {
        "id": "ySiDKqejTYnN"
      },
      "outputs": [],
      "source": [
        "df = df.reset_index(drop=True)"
      ]
    },
    {
      "cell_type": "code",
      "execution_count": null,
      "metadata": {
        "colab": {
          "base_uri": "https://localhost:8080/",
          "height": 641
        },
        "id": "7c1IxTXYWELL",
        "outputId": "2e5ba071-d825-4bc8-9870-c5c4834a7c18"
      },
      "outputs": [],
      "source": [
        "df.head(100)"
      ]
    },
    {
      "cell_type": "code",
      "execution_count": null,
      "metadata": {
        "colab": {
          "base_uri": "https://localhost:8080/"
        },
        "id": "3uLDgQ-LWdTT",
        "outputId": "c6f38543-3876-4737-e45a-9762ee7da308"
      },
      "outputs": [],
      "source": [
        "df.shape"
      ]
    },
    {
      "cell_type": "code",
      "execution_count": null,
      "metadata": {
        "colab": {
          "base_uri": "https://localhost:8080/"
        },
        "id": "0B9Q-bGWZ9Dt",
        "outputId": "f18e44a6-2934-444b-a88b-501e8279f5f1"
      },
      "outputs": [],
      "source": [
        "df.columns"
      ]
    },
    {
      "cell_type": "code",
      "execution_count": null,
      "metadata": {
        "id": "pPVUA-WcZeNx"
      },
      "outputs": [],
      "source": [
        "top_restaurant = df.sort_values(['reviewsCount','Rating'],ascending=False) [:20]"
      ]
    },
    {
      "cell_type": "code",
      "execution_count": null,
      "metadata": {
        "colab": {
          "base_uri": "https://localhost:8080/"
        },
        "id": "tqjnRN7mbJwX",
        "outputId": "c7d67b32-ceae-47e0-ee2c-94ab3c0167b3"
      },
      "outputs": [],
      "source": [
        "df.columns"
      ]
    },
    {
      "cell_type": "code",
      "execution_count": null,
      "metadata": {
        "id": "wQSbKkIxdpQK"
      },
      "outputs": [],
      "source": [
        "df = df[df['Latitude'] != '#VALUE!']\n",
        "df = df[df['Longitude'] != '#VALUE!']\n",
        "df['Latitude'] = df['Latitude'].astype(float)\n",
        "df['Longitude'] = df['Longitude'].astype(float)"
      ]
    },
    {
      "cell_type": "markdown",
      "metadata": {
        "id": "19eXZ4Yuf10e"
      },
      "source": [
        "# K-Mean Clusttering"
      ]
    },
    {
      "cell_type": "code",
      "execution_count": null,
      "metadata": {
        "colab": {
          "base_uri": "https://localhost:8080/"
        },
        "id": "CUGTJwIvfhI3",
        "outputId": "87aae255-650b-4f73-ecbf-21551efb089e"
      },
      "outputs": [],
      "source": [
        "from sklearn.cluster import KMeans\n",
        "import matplotlib.pyplot as plt\n",
        "\n",
        "coords = df[['Latitude','Longitude']]\n",
        "distortions = []\n",
        "K = range(1, 25)\n",
        "\n",
        "for k in K:\n",
        "    kmeans_model = KMeans(n_clusters=k)\n",
        "    kmeans_model = kmeans_model.fit(coords)\n",
        "    distortions.append(kmeans_model.inertia_)"
      ]
    },
    {
      "cell_type": "markdown",
      "metadata": {
        "id": "GIVEw0wcgZPm"
      },
      "source": [
        "# Silhouette Method"
      ]
    },
    {
      "cell_type": "code",
      "execution_count": null,
      "metadata": {
        "colab": {
          "base_uri": "https://localhost:8080/"
        },
        "id": "AO80EnnvgKJF",
        "outputId": "248e86bb-4d21-47ee-dfcb-4743cd63b164"
      },
      "outputs": [],
      "source": [
        "from sklearn.metrics import silhouette_score\n",
        "\n",
        "sil = []\n",
        "kmax = 50\n",
        "\n",
        "# dissimilarity would not be defined for a single cluster, thus, minimum number of clu\n",
        "\n",
        "for k in range(2, kmax+1):\n",
        "    kmeans = KMeans (n_clusters = k).fit(coords)\n",
        "    labels = kmeans.labels_\n",
        "    sil.append(silhouette_score(coords, labels, metric = 'euclidean'))"
      ]
    },
    {
      "cell_type": "code",
      "execution_count": null,
      "metadata": {
        "colab": {
          "base_uri": "https://localhost:8080/"
        },
        "id": "1v1aD_Dbgd6Z",
        "outputId": "c4d2ba5f-018c-4d81-9bc7-6f8e99c56faf"
      },
      "outputs": [],
      "source": [
        "sil"
      ]
    },
    {
      "cell_type": "code",
      "execution_count": null,
      "metadata": {
        "colab": {
          "base_uri": "https://localhost:8080/"
        },
        "id": "zvB9IZrzgkfs",
        "outputId": "8404ce94-ce17-40f4-8c5b-c70bc0e6c205"
      },
      "outputs": [],
      "source": [
        "kmeans = KMeans (n_clusters=7, init='k-means++')\n",
        "kmeans.fit(coords)\n",
        "y = kmeans.labels_\n",
        "print(\"k = 7\", \"silhouette_score\", silhouette_score(coords, y, metric='euclidean'))"
      ]
    },
    {
      "cell_type": "code",
      "execution_count": null,
      "metadata": {
        "id": "oqA7yg7BhFNW"
      },
      "outputs": [],
      "source": [
        "df['cluster'] = kmeans.predict(df[[ 'Latitude','Longitude']]) "
      ]
    },
    {
      "cell_type": "code",
      "execution_count": null,
      "metadata": {
        "colab": {
          "base_uri": "https://localhost:8080/",
          "height": 817
        },
        "id": "qaQng-UMhIZj",
        "outputId": "d7f1b823-468c-45e7-b699-66832b289b0a"
      },
      "outputs": [],
      "source": [
        "px.scatter_mapbox(df,lat=\"Latitude\", lon=\"Longitude\", color=\"cluster\", size='reviewsCount' ,\n",
        "                  hover_data=['Restaurant','Latitude','Longitude'], zoom=10, width=1200, height=800)"
      ]
    },
    {
      "cell_type": "markdown",
      "metadata": {
        "id": "qFeNjs4JiNBl"
      },
      "source": [
        "# Location-Based Recommendation"
      ]
    },
    {
      "cell_type": "code",
      "execution_count": null,
      "metadata": {
        "id": "ymvrttKthOrE"
      },
      "outputs": [],
      "source": [
        "top_restaurnant_nagpur = df.sort_values(by=['reviewsCount','Rating'], ascending=False)\n"
      ]
    },
    {
      "cell_type": "code",
      "execution_count": null,
      "metadata": {
        "colab": {
          "base_uri": "https://localhost:8080/"
        },
        "id": "8M6UNVt2kAx6",
        "outputId": "23d8bd0c-d58b-4dee-fbfe-9a6486812cf6"
      },
      "outputs": [],
      "source": [
        "df.columns"
      ]
    },
    {
      "cell_type": "code",
      "execution_count": null,
      "metadata": {
        "id": "ZQ5PG9SDjEb7"
      },
      "outputs": [],
      "source": [
        "\n",
        "# def recommend_restaurants(latitude, longitude):\n",
        "#     user_location = np.array([latitude,longitude]).reshape(1, -1)\n",
        "#     cluster = kmeans.predict(user_location)[0]\n",
        "#     cluster_restaurants = df[df['cluster'] == cluster]\n",
        "#     return df[df[\"cluster\"]==cluster].iloc[0:100][['Restaurant', 'Latitude', 'Longitude','Rating','categoryName','url']];\n",
        "   "
      ]
    },
    {
      "cell_type": "code",
      "execution_count": null,
      "metadata": {
        "id": "pi3EHwLvWckV"
      },
      "outputs": [],
      "source": [
        "# import math\n",
        "\n",
        "# def calculate_distance(lat1, lon1, lat2, lon2):\n",
        "#     # Convert latitude and longitude from degrees to radians\n",
        "#     lat1_rad = math.radians(lat1)\n",
        "#     lon1_rad = math.radians(lon1)\n",
        "#     lat2_rad = math.radians(lat2)\n",
        "#     lon2_rad = math.radians(lon2)\n",
        "\n",
        "\n",
        "#     # Difference between the latitudes and longitudes\n",
        "#     d_lat = lat2_rad - lat1_rad\n",
        "#     d_lon = lon2_rad - lon1_rad\n",
        "\n",
        "\n",
        "#     # Haversine formula\n",
        "#     a = math.sin(d_lat/2)**2 + math.cos(lat1_rad) * math.cos(lat2_rad) * math.sin(d_lon/2)**2\n",
        "#     c = 2 * math.atan2(math.sqrt(a), math.sqrt(1-a))\n",
        "\n",
        "#     # Radius of the Earth (in kilometers)\n",
        "#     radius = 6371\n",
        "\n",
        "#     # Calculate the distance\n",
        "#     distance = radius * c\n",
        "#     return distance\n"
      ]
    },
    {
      "cell_type": "code",
      "execution_count": null,
      "metadata": {
        "id": "YY4O7mXngnwC"
      },
      "outputs": [],
      "source": [
        "category = [\n",
        "    'Fast food restaurant',\n",
        "    'Family restaurant',\n",
        "    'South Indian restaurant',\n",
        "    'Food court',\n",
        "    'Marathi restaurant',\n",
        "    'Barbecue restaurant',\n",
        "    'Bakery',\n",
        "    'North Indian restaurant',\n",
        "    'Indian restaurant',\n",
        "    'Bar & grill',\n",
        "    'Mughlai restaurant',\n",
        "    'Non vegetarian restaurant',\n",
        "    'Pizza restaurant',\n",
        "    'Vegetarian restaurant',\n",
        "    'Rajasthani restaurant',\n",
        "    'Breakfast restaurant',\n",
        "    'Italian restaurant',\n",
        "    'Punjabi restaurant',\n",
        "    'Candy store',\n",
        "    'Chicken restaurant',\n",
        "    'Fine dining restaurant',\n",
        "    'Biryani restaurant',\n",
        "    'Sandwich shop',\n",
        "    'Middle Eastern restaurant',\n",
        "    'Takeout restaurant',\n",
        "    'Small plates restaurant',\n",
        "    'American restaurant',\n",
        "    'Chinese restaurant',\n",
        "    'Dhaba',\n",
        "    'Juice shop',\n",
        "    'Grill',\n",
        "    'Shawarma restaurant',\n",
        "    'Bar',\n",
        "    'Momo restaurant',\n",
        "    'Asian restaurant',\n",
        "    'Buffet restaurant',\n",
        "    'Bengali restaurant',\n",
        "    'Country food restaurant',\n",
        "    'Hyderabadi restaurant',\n",
        "    'Seafood restaurant',\n",
        "    'Dessert shop',\n",
        "    'Health food restaurant',\n",
        "    'Vegan restaurant',\n",
        "    'Ice cream shop',\n",
        "    'Hamburger restaurant',\n",
        "    'Diner',\n",
        "    'Seafood donburi restaurant',\n",
        "    'Gujarati restaurant',\n",
        "    'Snack bar',\n",
        "    'Indian takeaway',\n",
        "    'Fish & chips restaurant',\n",
        "    'Hoagie restaurant',\n",
        "    'Cold noodle restaurant',\n",
        "    'Cape Verdean restaurant',\n",
        "    'Afghan restaurant',\n",
        "    'Tiffin center',\n",
        "    'Continental restaurant',\n",
        "    'Mandarin restaurant',\n",
        "    'Chinese noodle restaurant',\n",
        "    'Fondue restaurant',\n",
        "    'Sundae restaurant',\n",
        "    'Fish restaurant',\n",
        "    'Rice restaurant',\n",
        "    'Korean restaurant'\n",
        "]\n",
        "\n"
      ]
    },
    {
      "cell_type": "code",
      "execution_count": null,
      "metadata": {
        "id": "GhgXgw8J8-qC"
      },
      "outputs": [],
      "source": [
        "import math\n",
        "def recommend(latitude,longitude,rad,user_choice,restroom,wifi):\n",
        "\n",
        "    user_location = np.array([latitude,longitude]).reshape(1, -1)\n",
        "    cluster = kmeans.predict(user_location)[0]\n",
        "    recommended_restaurants = df[df[\"cluster\"]==cluster].iloc[0:200][['Restaurant', 'Latitude', 'Longitude','Rating','categoryName','url','Restroom','Wifi Availabilty','Cost of 2 person','Payment Method']]\n",
        "   \n",
        "\n",
        "    recommended_restaurants['Distance'] = None\n",
        "\n",
        "    fixed_lat = latitude\n",
        "    fixed_lon = longitude\n",
        "    radius = rad\n",
        "    # List of other coordinates\n",
        "    for index, row in recommended_restaurants.iterrows():\n",
        "        restaurant_latitude = row['Latitude']\n",
        "        restaurant_longitude = row['Longitude']\n",
        "\n",
        "        lat1_rad = math.radians(fixed_lat)\n",
        "        lon1_rad = math.radians(fixed_lon)\n",
        "        lat2_rad = math.radians(restaurant_latitude)\n",
        "        lon2_rad = math.radians(restaurant_longitude)\n",
        "\n",
        "\n",
        "    # Difference between the latitudes and longitudes\n",
        "        d_lat = lat2_rad - lat1_rad\n",
        "        d_lon = lon2_rad - lon1_rad\n",
        "\n",
        "\n",
        "    # Haversine formula\n",
        "        a = math.sin(d_lat/2)**2 + math.cos(lat1_rad) * math.cos(lat2_rad) * math.sin(d_lon/2)**2\n",
        "        c = 2 * math.atan2(math.sqrt(a), math.sqrt(1-a))\n",
        "\n",
        "    # Radius of the Earth (in kilometers)\n",
        "        radius = 6371\n",
        "\n",
        "    # Calculate the distance\n",
        "        distance = radius * c\n",
        "        recommended_restaurants.at[index,'Distance']=distance \n",
        "\n",
        "\n",
        "\n",
        "    \n",
        "    filtered_dist = recommended_restaurants[(recommended_restaurants['Distance'] <= rad)]\n",
        "\n",
        "    print(filtered_dist)\n",
        "\n",
        "    if restroom == 1 and wifi == 1 :\n",
        "        filtered_dist = filtered_dist[(filtered_dist['Restroom'] == 'Yes') &\n",
        "                                    (filtered_dist['Wifi Availabilty'] == 'Yes')]\n",
        "    elif restroom == 1 and wifi == 0 :\n",
        "        filtered_dist = filtered_dist[(filtered_dist['Restroom'] == 'Yes')]\n",
        "    elif restroom == 0 and wifi == 1 :\n",
        "        filtered_dist = filtered_dist[(filtered_dist['Wifi Availabilty'] == 'Yes')]\n",
        " \n",
        "    \n",
        " \n",
        "    print(filtered_dist)\n",
        "\n",
        "\n",
        "    \n",
        "    bychoice = filtered_dist[filtered_dist['categoryName'].str.contains(user_choice, case=False)]\n",
        "\n",
        "    bychoice = pd.concat([bychoice, filtered_dist.head(10)])\n",
        "\n",
        "\n",
        "\n",
        "    \n",
        "\n",
        "    print(\"Top 10 Restaurant Near you\")\n",
        "    print(bychoice[['Restaurant', 'categoryName','Rating','Distance','url','Restroom','Wifi Availabilty','Payment Method']].head(10))\n",
        "\n",
        "    bychoice = bychoice.reset_index(drop=True)\n",
        "\n",
        "    return bychoice[['Restaurant', 'categoryName','Rating','Distance','url','Latitude','Longitude','Restroom','Wifi Availabilty','Payment Method']].head(10).to_json(orient='columns')\n",
        "\n",
        "\n",
        "\n"
      ]
    },
    {
      "cell_type": "code",
      "execution_count": null,
      "metadata": {},
      "outputs": [],
      "source": [
        "\n",
        "import cloudpickle\n",
        "cloudpickle.dump(recommend,open('model.pkl','wb'))"
      ]
    },
    {
      "cell_type": "code",
      "execution_count": null,
      "metadata": {
        "colab": {
          "base_uri": "https://localhost:8080/",
          "height": 918
        },
        "id": "teaxCFw_925M",
        "outputId": "12ce6aea-b2ff-4142-c8fe-2df0836e3868"
      },
      "outputs": [],
      "source": [
        "recommend(21.1750198,79.1203504,3,'Cafe',1,1)\n"
      ]
    },
    {
      "cell_type": "code",
      "execution_count": null,
      "metadata": {
        "colab": {
          "base_uri": "https://localhost:8080/",
          "height": 918
        },
        "id": "dh3CFZl0_Fbd",
        "outputId": "ac7ec616-c5c8-4467-eebd-0818cd00fa30"
      },
      "outputs": [],
      "source": [
        "# recommend(21.1730198,79.1003504,20,'Fast Food')"
      ]
    },
    {
      "cell_type": "code",
      "execution_count": null,
      "metadata": {
        "colab": {
          "base_uri": "https://localhost:8080/",
          "height": 918
        },
        "id": "ctFtCFIV5rG0",
        "outputId": "df33544c-ff1f-46f2-f868-8d8f0709fac8"
      },
      "outputs": [],
      "source": [
        "# recommend(21.120712,78.9900825,10,'Vegetarian')\n"
      ]
    },
    {
      "cell_type": "code",
      "execution_count": null,
      "metadata": {
        "colab": {
          "base_uri": "https://localhost:8080/",
          "height": 918
        },
        "id": "90TMvXTK8PmC",
        "outputId": "07bebf79-60c0-41df-c199-745a4524ee8e"
      },
      "outputs": [],
      "source": [
        "# recommend(21.120712,78.9900825,6,'Biryani')"
      ]
    },
    {
      "cell_type": "code",
      "execution_count": null,
      "metadata": {
        "colab": {
          "base_uri": "https://localhost:8080/",
          "height": 1000
        },
        "id": "7R_9n0kgIH98",
        "outputId": "9bd257fd-10ab-4784-b6e0-cb996589a988"
      },
      "outputs": [],
      "source": [
        "# final = recommend(21.17121463402801, 79.12374868158489,10,'North Indian')\n",
        "# px.scatter_mapbox(final, lat=\"Latitude\", lon=\"Longitude\", color=\"Rating\",\n",
        "                #   size_max=30, zoom=3, width=1200, height=800)"
      ]
    },
    {
      "cell_type": "code",
      "execution_count": null,
      "metadata": {
        "colab": {
          "base_uri": "https://localhost:8080/",
          "height": 363
        },
        "id": "Skbfj96PocmJ",
        "outputId": "20237da7-a130-40eb-d7f5-02e28f430f50"
      },
      "outputs": [],
      "source": [
        "# final = recommend(20.7533238,78.5911708,100,'Fast Food')"
      ]
    },
    {
      "cell_type": "code",
      "execution_count": null,
      "metadata": {
        "colab": {
          "base_uri": "https://localhost:8080/",
          "height": 987
        },
        "id": "m9alRwZmgdqx",
        "outputId": "a0cd9f77-26df-4dd4-da99-68affdfb9b45"
      },
      "outputs": [],
      "source": [
        "# user_latitude = float(input(\"Enter your latitude: \"))\n",
        "# user_longitude = float(input(\"Enter your longitude: \"))\n",
        "# distance = float(input(\"Enter Distance radius: \"))\n",
        "# choice = input(\"Enter your choice: \")\n",
        "\n",
        "# final = recommend(user_latitude,user_longitude,distance,choice)\n",
        "\n",
        "# px.scatter_mapbox(final, lat=\"Latitude\", lon=\"Longitude\", color=\"Rating\",\n",
        "#                   size_max=30, zoom=3, width=1200, height=800)\n",
        "# final"
      ]
    },
    {
      "cell_type": "code",
      "execution_count": null,
      "metadata": {},
      "outputs": [],
      "source": []
    }
  ],
  "metadata": {
    "colab": {
      "provenance": []
    },
    "kernelspec": {
      "display_name": "Python 3",
      "name": "python3"
    },
    "language_info": {
      "codemirror_mode": {
        "name": "ipython",
        "version": 3
      },
      "file_extension": ".py",
      "mimetype": "text/x-python",
      "name": "python",
      "nbconvert_exporter": "python",
      "pygments_lexer": "ipython3",
      "version": "3.11.2"
    }
  },
  "nbformat": 4,
  "nbformat_minor": 0
}

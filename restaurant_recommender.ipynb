{
  "cells": [
    {
      "cell_type": "code",
      "execution_count": 420,
      "metadata": {
        "colab": {
          "base_uri": "https://localhost:8080/"
        },
        "id": "-BqnNGR9vZ3H",
        "outputId": "242a33e2-c109-4b06-ffc6-08c9e1b04ad1"
      },
      "outputs": [],
      "source": [
        "import pandas as pd\n",
        "import numpy as np\n",
        "import geopandas as gpd\n",
        "import matplotlib.pyplot as plt\n",
        "import seaborn as sns\n",
        "import plotly\n",
        "import plotly.offline as py\n",
        "import plotly.graph_objs as go\n",
        "import plotly_express as px\n",
        "from sklearn.cluster import KMeans\n",
        "from sklearn.metrics import silhouette_score"
      ]
    },
    {
      "cell_type": "code",
      "execution_count": 421,
      "metadata": {
        "id": "ISq_y-qCwOvH"
      },
      "outputs": [],
      "source": [
        "df = pd.read_csv(\"final_dataset.csv\")"
      ]
    },
    {
      "cell_type": "code",
      "execution_count": 422,
      "metadata": {
        "colab": {
          "base_uri": "https://localhost:8080/",
          "height": 598
        },
        "id": "aKCYMspmwsgM",
        "outputId": "46a7db7b-839c-414e-e932-1c64449f9d11"
      },
      "outputs": [
        {
          "data": {
            "text/html": [
              "<div>\n",
              "<style scoped>\n",
              "    .dataframe tbody tr th:only-of-type {\n",
              "        vertical-align: middle;\n",
              "    }\n",
              "\n",
              "    .dataframe tbody tr th {\n",
              "        vertical-align: top;\n",
              "    }\n",
              "\n",
              "    .dataframe thead th {\n",
              "        text-align: right;\n",
              "    }\n",
              "</style>\n",
              "<table border=\"1\" class=\"dataframe\">\n",
              "  <thead>\n",
              "    <tr style=\"text-align: right;\">\n",
              "      <th></th>\n",
              "      <th>Unnamed: 0</th>\n",
              "      <th>Restaurant</th>\n",
              "      <th>Rating</th>\n",
              "      <th>reviewsCount</th>\n",
              "      <th>street</th>\n",
              "      <th>phone</th>\n",
              "      <th>categoryName</th>\n",
              "      <th>url</th>\n",
              "      <th>Latitude</th>\n",
              "      <th>Longitude</th>\n",
              "      <th>Restroom</th>\n",
              "      <th>Wifi Availabilty</th>\n",
              "      <th>Cost of 2 person</th>\n",
              "      <th>Payment Method</th>\n",
              "    </tr>\n",
              "  </thead>\n",
              "  <tbody>\n",
              "    <tr>\n",
              "      <th>0</th>\n",
              "      <td>0</td>\n",
              "      <td>Haldiram's</td>\n",
              "      <td>4.2</td>\n",
              "      <td>12973</td>\n",
              "      <td>Haldiram's - Restaurant &amp; Retail Outlet, Plot ...</td>\n",
              "      <td>+91 712 252 2202</td>\n",
              "      <td>Fast food restaurant</td>\n",
              "      <td>https://www.google.com/maps/place/Haldiram's/@...</td>\n",
              "      <td>21.1367356</td>\n",
              "      <td>79.060505</td>\n",
              "      <td>Yes</td>\n",
              "      <td>Yes</td>\n",
              "      <td>905</td>\n",
              "      <td>ALL</td>\n",
              "    </tr>\n",
              "    <tr>\n",
              "      <th>1</th>\n",
              "      <td>1</td>\n",
              "      <td>Haldiram's</td>\n",
              "      <td>4.3</td>\n",
              "      <td>12347</td>\n",
              "      <td>Unit No.60, Ground Floor, Anjuman Complex, Man...</td>\n",
              "      <td>+91 70300 00146</td>\n",
              "      <td>Family restaurant</td>\n",
              "      <td>https://www.google.com/maps/place/Haldiram's/@...</td>\n",
              "      <td>21.1635421</td>\n",
              "      <td>79.080170</td>\n",
              "      <td>Yes</td>\n",
              "      <td>Yes</td>\n",
              "      <td>562</td>\n",
              "      <td>ALL</td>\n",
              "    </tr>\n",
              "    <tr>\n",
              "      <th>2</th>\n",
              "      <td>2</td>\n",
              "      <td>Haldiram's Abhinandan</td>\n",
              "      <td>4.1</td>\n",
              "      <td>6920</td>\n",
              "      <td>City Road, near City Post Office</td>\n",
              "      <td>+91 712 277 9187</td>\n",
              "      <td>Restaurant</td>\n",
              "      <td>https://www.google.com/maps/place/Haldiram's+A...</td>\n",
              "      <td>21.1526584</td>\n",
              "      <td>79.108589</td>\n",
              "      <td>Yes</td>\n",
              "      <td>Yes</td>\n",
              "      <td>700</td>\n",
              "      <td>ALL</td>\n",
              "    </tr>\n",
              "    <tr>\n",
              "      <th>3</th>\n",
              "      <td>3</td>\n",
              "      <td>Reddy's Gokul Brindavan</td>\n",
              "      <td>4.3</td>\n",
              "      <td>6279</td>\n",
              "      <td>Coffee House Builiding, W High Ct Rd</td>\n",
              "      <td>+91 93731 02496</td>\n",
              "      <td>South Indian restaurant</td>\n",
              "      <td>https://www.google.com/maps/place/Reddy's+Goku...</td>\n",
              "      <td>21.1422</td>\n",
              "      <td>79.061052</td>\n",
              "      <td>Yes</td>\n",
              "      <td>Yes</td>\n",
              "      <td>852</td>\n",
              "      <td>ALL</td>\n",
              "    </tr>\n",
              "    <tr>\n",
              "      <th>4</th>\n",
              "      <td>4</td>\n",
              "      <td>The Chatori Street -Nagpur's 1st outdoor food ...</td>\n",
              "      <td>4.2</td>\n",
              "      <td>6137</td>\n",
              "      <td>280, Central Bazar Road</td>\n",
              "      <td>+91 96736 14281</td>\n",
              "      <td>Food court</td>\n",
              "      <td>https://www.google.com/maps/place/The+Chatori+...</td>\n",
              "      <td>21.1332186</td>\n",
              "      <td>79.071868</td>\n",
              "      <td>Yes</td>\n",
              "      <td>Yes</td>\n",
              "      <td>712</td>\n",
              "      <td>ALL</td>\n",
              "    </tr>\n",
              "    <tr>\n",
              "      <th>5</th>\n",
              "      <td>5</td>\n",
              "      <td>Gayatri Bhojnalaya</td>\n",
              "      <td>4.3</td>\n",
              "      <td>6079</td>\n",
              "      <td>W High Ct Rd, Behind Khandelwal Jewellers</td>\n",
              "      <td>+91 77091 09275</td>\n",
              "      <td>Marathi restaurant</td>\n",
              "      <td>https://www.google.com/maps/place/Gayatri+Bhoj...</td>\n",
              "      <td>21.1413035</td>\n",
              "      <td>79.061763</td>\n",
              "      <td>Yes</td>\n",
              "      <td>Yes</td>\n",
              "      <td>956</td>\n",
              "      <td>ALL</td>\n",
              "    </tr>\n",
              "    <tr>\n",
              "      <th>6</th>\n",
              "      <td>6</td>\n",
              "      <td>Checkers Restaurant VCA</td>\n",
              "      <td>4.2</td>\n",
              "      <td>5993</td>\n",
              "      <td>23/24, VCA Ground, K Naidu Road, near Liberty ...</td>\n",
              "      <td>NaN</td>\n",
              "      <td>Restaurant</td>\n",
              "      <td>https://www.google.com/maps/place/Checkers+Res...</td>\n",
              "      <td>21.1578596</td>\n",
              "      <td>79.076661</td>\n",
              "      <td>Yes</td>\n",
              "      <td>Yes</td>\n",
              "      <td>559</td>\n",
              "      <td>ALL</td>\n",
              "    </tr>\n",
              "    <tr>\n",
              "      <th>7</th>\n",
              "      <td>7</td>\n",
              "      <td>Uttar Dakshin by Naivedhyam</td>\n",
              "      <td>4.3</td>\n",
              "      <td>5942</td>\n",
              "      <td>Mount Rd Ext</td>\n",
              "      <td>+91 93268 81014</td>\n",
              "      <td>South Indian restaurant</td>\n",
              "      <td>https://www.google.com/maps/place/Uttar+Dakshi...</td>\n",
              "      <td>21.1588564</td>\n",
              "      <td>79.079894</td>\n",
              "      <td>Yes</td>\n",
              "      <td>No</td>\n",
              "      <td>949</td>\n",
              "      <td>ALL</td>\n",
              "    </tr>\n",
              "    <tr>\n",
              "      <th>8</th>\n",
              "      <td>8</td>\n",
              "      <td>Vishnuji Ki Rasoi</td>\n",
              "      <td>4.1</td>\n",
              "      <td>5807</td>\n",
              "      <td>Central Bazar Road</td>\n",
              "      <td>+91 93703 27557</td>\n",
              "      <td>Marathi restaurant</td>\n",
              "      <td>https://www.google.com/maps/place/Vishnuji+Ki+...</td>\n",
              "      <td>21.1313664</td>\n",
              "      <td>79.065387</td>\n",
              "      <td>Yes</td>\n",
              "      <td>Yes</td>\n",
              "      <td>519</td>\n",
              "      <td>ALL</td>\n",
              "    </tr>\n",
              "    <tr>\n",
              "      <th>9</th>\n",
              "      <td>9</td>\n",
              "      <td>Barbeque Nation - Nagpur - Eternity Mall</td>\n",
              "      <td>4.4</td>\n",
              "      <td>5223</td>\n",
              "      <td>2nd Floor Eternity Mall, Amravati Rd</td>\n",
              "      <td>+91 80 6902 8737</td>\n",
              "      <td>Barbecue restaurant</td>\n",
              "      <td>https://www.google.com/maps/place/Barbeque+Nat...</td>\n",
              "      <td>21.1429634</td>\n",
              "      <td>79.080415</td>\n",
              "      <td>Yes</td>\n",
              "      <td>Yes</td>\n",
              "      <td>680</td>\n",
              "      <td>ALL</td>\n",
              "    </tr>\n",
              "  </tbody>\n",
              "</table>\n",
              "</div>"
            ],
            "text/plain": [
              "   Unnamed: 0                                         Restaurant  Rating   \n",
              "0           0                                         Haldiram's     4.2  \\\n",
              "1           1                                         Haldiram's     4.3   \n",
              "2           2                              Haldiram's Abhinandan     4.1   \n",
              "3           3                            Reddy's Gokul Brindavan     4.3   \n",
              "4           4  The Chatori Street -Nagpur's 1st outdoor food ...     4.2   \n",
              "5           5                                 Gayatri Bhojnalaya     4.3   \n",
              "6           6                            Checkers Restaurant VCA     4.2   \n",
              "7           7                        Uttar Dakshin by Naivedhyam     4.3   \n",
              "8           8                                  Vishnuji Ki Rasoi     4.1   \n",
              "9           9           Barbeque Nation - Nagpur - Eternity Mall     4.4   \n",
              "\n",
              "   reviewsCount                                             street   \n",
              "0         12973  Haldiram's - Restaurant & Retail Outlet, Plot ...  \\\n",
              "1         12347  Unit No.60, Ground Floor, Anjuman Complex, Man...   \n",
              "2          6920                   City Road, near City Post Office   \n",
              "3          6279               Coffee House Builiding, W High Ct Rd   \n",
              "4          6137                            280, Central Bazar Road   \n",
              "5          6079          W High Ct Rd, Behind Khandelwal Jewellers   \n",
              "6          5993  23/24, VCA Ground, K Naidu Road, near Liberty ...   \n",
              "7          5942                                       Mount Rd Ext   \n",
              "8          5807                                 Central Bazar Road   \n",
              "9          5223               2nd Floor Eternity Mall, Amravati Rd   \n",
              "\n",
              "              phone             categoryName   \n",
              "0  +91 712 252 2202     Fast food restaurant  \\\n",
              "1   +91 70300 00146        Family restaurant   \n",
              "2  +91 712 277 9187               Restaurant   \n",
              "3   +91 93731 02496  South Indian restaurant   \n",
              "4   +91 96736 14281               Food court   \n",
              "5   +91 77091 09275       Marathi restaurant   \n",
              "6               NaN               Restaurant   \n",
              "7   +91 93268 81014  South Indian restaurant   \n",
              "8   +91 93703 27557       Marathi restaurant   \n",
              "9  +91 80 6902 8737      Barbecue restaurant   \n",
              "\n",
              "                                                 url    Latitude  Longitude   \n",
              "0  https://www.google.com/maps/place/Haldiram's/@...  21.1367356  79.060505  \\\n",
              "1  https://www.google.com/maps/place/Haldiram's/@...  21.1635421  79.080170   \n",
              "2  https://www.google.com/maps/place/Haldiram's+A...  21.1526584  79.108589   \n",
              "3  https://www.google.com/maps/place/Reddy's+Goku...     21.1422  79.061052   \n",
              "4  https://www.google.com/maps/place/The+Chatori+...  21.1332186  79.071868   \n",
              "5  https://www.google.com/maps/place/Gayatri+Bhoj...  21.1413035  79.061763   \n",
              "6  https://www.google.com/maps/place/Checkers+Res...  21.1578596  79.076661   \n",
              "7  https://www.google.com/maps/place/Uttar+Dakshi...  21.1588564  79.079894   \n",
              "8  https://www.google.com/maps/place/Vishnuji+Ki+...  21.1313664  79.065387   \n",
              "9  https://www.google.com/maps/place/Barbeque+Nat...  21.1429634  79.080415   \n",
              "\n",
              "  Restroom Wifi Availabilty  Cost of 2 person Payment Method  \n",
              "0      Yes              Yes               905            ALL  \n",
              "1      Yes              Yes               562            ALL  \n",
              "2      Yes              Yes               700            ALL  \n",
              "3      Yes              Yes               852            ALL  \n",
              "4      Yes              Yes               712            ALL  \n",
              "5      Yes              Yes               956            ALL  \n",
              "6      Yes              Yes               559            ALL  \n",
              "7      Yes               No               949            ALL  \n",
              "8      Yes              Yes               519            ALL  \n",
              "9      Yes              Yes               680            ALL  "
            ]
          },
          "execution_count": 422,
          "metadata": {},
          "output_type": "execute_result"
        }
      ],
      "source": [
        "df.head(10)"
      ]
    },
    {
      "cell_type": "code",
      "execution_count": 423,
      "metadata": {
        "colab": {
          "base_uri": "https://localhost:8080/"
        },
        "id": "ifVpSaB3wxel",
        "outputId": "8b2d962c-ee38-4443-de1f-b53833a89b15"
      },
      "outputs": [
        {
          "data": {
            "text/plain": [
              "(1996, 14)"
            ]
          },
          "execution_count": 423,
          "metadata": {},
          "output_type": "execute_result"
        }
      ],
      "source": [
        "df.shape"
      ]
    },
    {
      "cell_type": "code",
      "execution_count": 424,
      "metadata": {
        "colab": {
          "base_uri": "https://localhost:8080/"
        },
        "id": "RY4daQElxG1y",
        "outputId": "55897cca-f15c-47c3-e3aa-93cc6f85e7e5"
      },
      "outputs": [
        {
          "data": {
            "text/plain": [
              "RangeIndex(start=0, stop=1996, step=1)"
            ]
          },
          "execution_count": 424,
          "metadata": {},
          "output_type": "execute_result"
        }
      ],
      "source": [
        "df.index"
      ]
    },
    {
      "cell_type": "code",
      "execution_count": 425,
      "metadata": {
        "colab": {
          "base_uri": "https://localhost:8080/"
        },
        "id": "7dL3_O_kxkOS",
        "outputId": "63f6ab45-e72b-44ee-f525-aeb02c15c99c"
      },
      "outputs": [
        {
          "data": {
            "text/plain": [
              "Index(['Unnamed: 0', 'Restaurant', 'Rating', 'reviewsCount', 'street', 'phone',\n",
              "       'categoryName', 'url', 'Latitude', 'Longitude', 'Restroom',\n",
              "       'Wifi Availabilty', 'Cost of 2 person', 'Payment Method'],\n",
              "      dtype='object')"
            ]
          },
          "execution_count": 425,
          "metadata": {},
          "output_type": "execute_result"
        }
      ],
      "source": [
        "df.columns"
      ]
    },
    {
      "cell_type": "code",
      "execution_count": 426,
      "metadata": {
        "id": "slva9td8iAId"
      },
      "outputs": [],
      "source": [
        "df=df.drop(['Unnamed: 0','Unnamed: 0'],axis=1)"
      ]
    },
    {
      "cell_type": "code",
      "execution_count": 427,
      "metadata": {
        "id": "-Ga0pSJ9xl3h"
      },
      "outputs": [],
      "source": [
        "#df = df.drop_duplicates(subset=['title'])"
      ]
    },
    {
      "cell_type": "code",
      "execution_count": 428,
      "metadata": {
        "colab": {
          "base_uri": "https://localhost:8080/"
        },
        "id": "MzMNxEwTyPZK",
        "outputId": "dd97bcb0-88e9-4371-fead-fb034b6222be"
      },
      "outputs": [
        {
          "data": {
            "text/plain": [
              "(1996, 13)"
            ]
          },
          "execution_count": 428,
          "metadata": {},
          "output_type": "execute_result"
        }
      ],
      "source": [
        "df.shape"
      ]
    },
    {
      "cell_type": "markdown",
      "metadata": {
        "id": "4YYe7EJ_5rNr"
      },
      "source": [
        "Arranged the table on the basis of reviewcount and Rating"
      ]
    },
    {
      "cell_type": "code",
      "execution_count": 429,
      "metadata": {
        "id": "PRFNLNFUEvYM"
      },
      "outputs": [],
      "source": [
        "import numpy as np\n",
        "df['Rating'] = pd.to_numeric(df['Rating'], errors='coerce')\n",
        "mean_rating = df['Rating'].mean()\n",
        "df['Rating'].fillna(mean_rating, inplace=True)\n",
        "df['Rating'] = df['Rating'].astype(float)"
      ]
    },
    {
      "cell_type": "code",
      "execution_count": 430,
      "metadata": {
        "colab": {
          "base_uri": "https://localhost:8080/"
        },
        "id": "X08lNozNRL68",
        "outputId": "bea3c923-b466-4d09-9ef7-091031a9d9fb"
      },
      "outputs": [
        {
          "name": "stdout",
          "output_type": "stream",
          "text": [
            "int64\n"
          ]
        }
      ],
      "source": [
        "print(df['reviewsCount'].dtype)"
      ]
    },
    {
      "cell_type": "code",
      "execution_count": 431,
      "metadata": {
        "id": "ws77QD7DJhRf"
      },
      "outputs": [],
      "source": [
        "df = df.sort_values(by=['reviewsCount','Rating'],ascending=False)[:] "
      ]
    },
    {
      "cell_type": "code",
      "execution_count": 432,
      "metadata": {
        "id": "taVtXxL5SYJZ"
      },
      "outputs": [],
      "source": [
        "df = df.drop_duplicates(subset=['url'])"
      ]
    },
    {
      "cell_type": "code",
      "execution_count": 433,
      "metadata": {
        "id": "ySiDKqejTYnN"
      },
      "outputs": [],
      "source": [
        "df = df.reset_index(drop=True)"
      ]
    },
    {
      "cell_type": "code",
      "execution_count": 434,
      "metadata": {
        "colab": {
          "base_uri": "https://localhost:8080/",
          "height": 641
        },
        "id": "7c1IxTXYWELL",
        "outputId": "2e5ba071-d825-4bc8-9870-c5c4834a7c18"
      },
      "outputs": [
        {
          "data": {
            "text/html": [
              "<div>\n",
              "<style scoped>\n",
              "    .dataframe tbody tr th:only-of-type {\n",
              "        vertical-align: middle;\n",
              "    }\n",
              "\n",
              "    .dataframe tbody tr th {\n",
              "        vertical-align: top;\n",
              "    }\n",
              "\n",
              "    .dataframe thead th {\n",
              "        text-align: right;\n",
              "    }\n",
              "</style>\n",
              "<table border=\"1\" class=\"dataframe\">\n",
              "  <thead>\n",
              "    <tr style=\"text-align: right;\">\n",
              "      <th></th>\n",
              "      <th>Restaurant</th>\n",
              "      <th>Rating</th>\n",
              "      <th>reviewsCount</th>\n",
              "      <th>street</th>\n",
              "      <th>phone</th>\n",
              "      <th>categoryName</th>\n",
              "      <th>url</th>\n",
              "      <th>Latitude</th>\n",
              "      <th>Longitude</th>\n",
              "      <th>Restroom</th>\n",
              "      <th>Wifi Availabilty</th>\n",
              "      <th>Cost of 2 person</th>\n",
              "      <th>Payment Method</th>\n",
              "    </tr>\n",
              "  </thead>\n",
              "  <tbody>\n",
              "    <tr>\n",
              "      <th>0</th>\n",
              "      <td>Haldiram's</td>\n",
              "      <td>4.2</td>\n",
              "      <td>12973</td>\n",
              "      <td>Haldiram's - Restaurant &amp; Retail Outlet, Plot ...</td>\n",
              "      <td>+91 712 252 2202</td>\n",
              "      <td>Fast food restaurant</td>\n",
              "      <td>https://www.google.com/maps/place/Haldiram's/@...</td>\n",
              "      <td>21.1367356</td>\n",
              "      <td>79.060505</td>\n",
              "      <td>Yes</td>\n",
              "      <td>Yes</td>\n",
              "      <td>905</td>\n",
              "      <td>ALL</td>\n",
              "    </tr>\n",
              "    <tr>\n",
              "      <th>1</th>\n",
              "      <td>Haldiram's</td>\n",
              "      <td>4.3</td>\n",
              "      <td>12347</td>\n",
              "      <td>Unit No.60, Ground Floor, Anjuman Complex, Man...</td>\n",
              "      <td>+91 70300 00146</td>\n",
              "      <td>Family restaurant</td>\n",
              "      <td>https://www.google.com/maps/place/Haldiram's/@...</td>\n",
              "      <td>21.1635421</td>\n",
              "      <td>79.080170</td>\n",
              "      <td>Yes</td>\n",
              "      <td>Yes</td>\n",
              "      <td>562</td>\n",
              "      <td>ALL</td>\n",
              "    </tr>\n",
              "    <tr>\n",
              "      <th>2</th>\n",
              "      <td>Haldiram's Abhinandan</td>\n",
              "      <td>4.1</td>\n",
              "      <td>6920</td>\n",
              "      <td>City Road, near City Post Office</td>\n",
              "      <td>+91 712 277 9187</td>\n",
              "      <td>Restaurant</td>\n",
              "      <td>https://www.google.com/maps/place/Haldiram's+A...</td>\n",
              "      <td>21.1526584</td>\n",
              "      <td>79.108589</td>\n",
              "      <td>Yes</td>\n",
              "      <td>Yes</td>\n",
              "      <td>700</td>\n",
              "      <td>ALL</td>\n",
              "    </tr>\n",
              "    <tr>\n",
              "      <th>3</th>\n",
              "      <td>Reddy's Gokul Brindavan</td>\n",
              "      <td>4.3</td>\n",
              "      <td>6279</td>\n",
              "      <td>Coffee House Builiding, W High Ct Rd</td>\n",
              "      <td>+91 93731 02496</td>\n",
              "      <td>South Indian restaurant</td>\n",
              "      <td>https://www.google.com/maps/place/Reddy's+Goku...</td>\n",
              "      <td>21.1422</td>\n",
              "      <td>79.061052</td>\n",
              "      <td>Yes</td>\n",
              "      <td>Yes</td>\n",
              "      <td>852</td>\n",
              "      <td>ALL</td>\n",
              "    </tr>\n",
              "    <tr>\n",
              "      <th>4</th>\n",
              "      <td>The Chatori Street -Nagpur's 1st outdoor food ...</td>\n",
              "      <td>4.2</td>\n",
              "      <td>6137</td>\n",
              "      <td>280, Central Bazar Road</td>\n",
              "      <td>+91 96736 14281</td>\n",
              "      <td>Food court</td>\n",
              "      <td>https://www.google.com/maps/place/The+Chatori+...</td>\n",
              "      <td>21.1332186</td>\n",
              "      <td>79.071868</td>\n",
              "      <td>Yes</td>\n",
              "      <td>Yes</td>\n",
              "      <td>712</td>\n",
              "      <td>ALL</td>\n",
              "    </tr>\n",
              "    <tr>\n",
              "      <th>...</th>\n",
              "      <td>...</td>\n",
              "      <td>...</td>\n",
              "      <td>...</td>\n",
              "      <td>...</td>\n",
              "      <td>...</td>\n",
              "      <td>...</td>\n",
              "      <td>...</td>\n",
              "      <td>...</td>\n",
              "      <td>...</td>\n",
              "      <td>...</td>\n",
              "      <td>...</td>\n",
              "      <td>...</td>\n",
              "      <td>...</td>\n",
              "    </tr>\n",
              "    <tr>\n",
              "      <th>95</th>\n",
              "      <td>Gurpal Foods</td>\n",
              "      <td>3.9</td>\n",
              "      <td>1150</td>\n",
              "      <td>Plot No 14, Kamptee Road, Opp Tirpude Hospital</td>\n",
              "      <td>+91 93725 96161</td>\n",
              "      <td>Punjabi restaurant</td>\n",
              "      <td>https://www.google.com/maps/place/Gurpal+Foods...</td>\n",
              "      <td>21.1724472</td>\n",
              "      <td>79.100048</td>\n",
              "      <td>No</td>\n",
              "      <td>Yes</td>\n",
              "      <td>697</td>\n",
              "      <td>CASH AND UPI</td>\n",
              "    </tr>\n",
              "    <tr>\n",
              "      <th>96</th>\n",
              "      <td>Villa 167 Cafe</td>\n",
              "      <td>4.3</td>\n",
              "      <td>1146</td>\n",
              "      <td>Plot No 167, Abhyankar Nagar Rd</td>\n",
              "      <td>+91 78208 83985</td>\n",
              "      <td>Cafe</td>\n",
              "      <td>https://www.google.com/maps/place/Villa+167+Ca...</td>\n",
              "      <td>21.1226156</td>\n",
              "      <td>79.057234</td>\n",
              "      <td>Yes</td>\n",
              "      <td>Yes</td>\n",
              "      <td>987</td>\n",
              "      <td>ALL</td>\n",
              "    </tr>\n",
              "    <tr>\n",
              "      <th>97</th>\n",
              "      <td>Villa 167 Cafe</td>\n",
              "      <td>4.3</td>\n",
              "      <td>1146</td>\n",
              "      <td>plot no 167 , Villa, 167, Abhyankar Nagar Rd</td>\n",
              "      <td>+91 78208 83985</td>\n",
              "      <td>Cafe</td>\n",
              "      <td>https://www.google.com/maps/place/Villa+167+Ca...</td>\n",
              "      <td>21.1267214</td>\n",
              "      <td>79.057502</td>\n",
              "      <td>Yes</td>\n",
              "      <td>Yes</td>\n",
              "      <td>945</td>\n",
              "      <td>ALL</td>\n",
              "    </tr>\n",
              "    <tr>\n",
              "      <th>98</th>\n",
              "      <td>Cafe Coffee Day</td>\n",
              "      <td>4.0</td>\n",
              "      <td>1141</td>\n",
              "      <td>Shop no 9,10,11, VCA Stadium Complex, Rabindra...</td>\n",
              "      <td>+91 1800 102 5093</td>\n",
              "      <td>Cafe</td>\n",
              "      <td>https://www.google.com/maps/place/Cafe+Coffee+...</td>\n",
              "      <td>21.1570552</td>\n",
              "      <td>79.077172</td>\n",
              "      <td>Yes</td>\n",
              "      <td>Yes</td>\n",
              "      <td>906</td>\n",
              "      <td>ALL</td>\n",
              "    </tr>\n",
              "    <tr>\n",
              "      <th>99</th>\n",
              "      <td>Domino's Pizza</td>\n",
              "      <td>4.1</td>\n",
              "      <td>1133</td>\n",
              "      <td>Shop No.4 , First Floor, AJ Tower, Plot No. 10...</td>\n",
              "      <td>+91 1800 208 1234</td>\n",
              "      <td>Pizza restaurant</td>\n",
              "      <td>https://www.google.com/maps/place/Domino's+Piz...</td>\n",
              "      <td>21.2033826</td>\n",
              "      <td>79.077338</td>\n",
              "      <td>Yes</td>\n",
              "      <td>Yes</td>\n",
              "      <td>563</td>\n",
              "      <td>ALL</td>\n",
              "    </tr>\n",
              "  </tbody>\n",
              "</table>\n",
              "<p>100 rows × 13 columns</p>\n",
              "</div>"
            ],
            "text/plain": [
              "                                           Restaurant  Rating  reviewsCount   \n",
              "0                                          Haldiram's     4.2         12973  \\\n",
              "1                                          Haldiram's     4.3         12347   \n",
              "2                               Haldiram's Abhinandan     4.1          6920   \n",
              "3                             Reddy's Gokul Brindavan     4.3          6279   \n",
              "4   The Chatori Street -Nagpur's 1st outdoor food ...     4.2          6137   \n",
              "..                                                ...     ...           ...   \n",
              "95                                       Gurpal Foods     3.9          1150   \n",
              "96                                     Villa 167 Cafe     4.3          1146   \n",
              "97                                     Villa 167 Cafe     4.3          1146   \n",
              "98                                    Cafe Coffee Day     4.0          1141   \n",
              "99                                     Domino's Pizza     4.1          1133   \n",
              "\n",
              "                                               street              phone   \n",
              "0   Haldiram's - Restaurant & Retail Outlet, Plot ...   +91 712 252 2202  \\\n",
              "1   Unit No.60, Ground Floor, Anjuman Complex, Man...    +91 70300 00146   \n",
              "2                    City Road, near City Post Office   +91 712 277 9187   \n",
              "3                Coffee House Builiding, W High Ct Rd    +91 93731 02496   \n",
              "4                             280, Central Bazar Road    +91 96736 14281   \n",
              "..                                                ...                ...   \n",
              "95     Plot No 14, Kamptee Road, Opp Tirpude Hospital    +91 93725 96161   \n",
              "96                    Plot No 167, Abhyankar Nagar Rd    +91 78208 83985   \n",
              "97       plot no 167 , Villa, 167, Abhyankar Nagar Rd    +91 78208 83985   \n",
              "98  Shop no 9,10,11, VCA Stadium Complex, Rabindra...  +91 1800 102 5093   \n",
              "99  Shop No.4 , First Floor, AJ Tower, Plot No. 10...  +91 1800 208 1234   \n",
              "\n",
              "               categoryName   \n",
              "0      Fast food restaurant  \\\n",
              "1         Family restaurant   \n",
              "2                Restaurant   \n",
              "3   South Indian restaurant   \n",
              "4                Food court   \n",
              "..                      ...   \n",
              "95       Punjabi restaurant   \n",
              "96                     Cafe   \n",
              "97                     Cafe   \n",
              "98                     Cafe   \n",
              "99         Pizza restaurant   \n",
              "\n",
              "                                                  url    Latitude  Longitude   \n",
              "0   https://www.google.com/maps/place/Haldiram's/@...  21.1367356  79.060505  \\\n",
              "1   https://www.google.com/maps/place/Haldiram's/@...  21.1635421  79.080170   \n",
              "2   https://www.google.com/maps/place/Haldiram's+A...  21.1526584  79.108589   \n",
              "3   https://www.google.com/maps/place/Reddy's+Goku...     21.1422  79.061052   \n",
              "4   https://www.google.com/maps/place/The+Chatori+...  21.1332186  79.071868   \n",
              "..                                                ...         ...        ...   \n",
              "95  https://www.google.com/maps/place/Gurpal+Foods...  21.1724472  79.100048   \n",
              "96  https://www.google.com/maps/place/Villa+167+Ca...  21.1226156  79.057234   \n",
              "97  https://www.google.com/maps/place/Villa+167+Ca...  21.1267214  79.057502   \n",
              "98  https://www.google.com/maps/place/Cafe+Coffee+...  21.1570552  79.077172   \n",
              "99  https://www.google.com/maps/place/Domino's+Piz...  21.2033826  79.077338   \n",
              "\n",
              "   Restroom Wifi Availabilty  Cost of 2 person Payment Method  \n",
              "0       Yes              Yes               905            ALL  \n",
              "1       Yes              Yes               562            ALL  \n",
              "2       Yes              Yes               700            ALL  \n",
              "3       Yes              Yes               852            ALL  \n",
              "4       Yes              Yes               712            ALL  \n",
              "..      ...              ...               ...            ...  \n",
              "95       No              Yes               697   CASH AND UPI  \n",
              "96      Yes              Yes               987            ALL  \n",
              "97      Yes              Yes               945            ALL  \n",
              "98      Yes              Yes               906            ALL  \n",
              "99      Yes              Yes               563            ALL  \n",
              "\n",
              "[100 rows x 13 columns]"
            ]
          },
          "execution_count": 434,
          "metadata": {},
          "output_type": "execute_result"
        }
      ],
      "source": [
        "df.head(100)"
      ]
    },
    {
      "cell_type": "code",
      "execution_count": 435,
      "metadata": {
        "colab": {
          "base_uri": "https://localhost:8080/"
        },
        "id": "3uLDgQ-LWdTT",
        "outputId": "c6f38543-3876-4737-e45a-9762ee7da308"
      },
      "outputs": [
        {
          "data": {
            "text/plain": [
              "(1996, 13)"
            ]
          },
          "execution_count": 435,
          "metadata": {},
          "output_type": "execute_result"
        }
      ],
      "source": [
        "df.shape"
      ]
    },
    {
      "cell_type": "code",
      "execution_count": 436,
      "metadata": {
        "colab": {
          "base_uri": "https://localhost:8080/"
        },
        "id": "0B9Q-bGWZ9Dt",
        "outputId": "f18e44a6-2934-444b-a88b-501e8279f5f1"
      },
      "outputs": [
        {
          "data": {
            "text/plain": [
              "Index(['Restaurant', 'Rating', 'reviewsCount', 'street', 'phone',\n",
              "       'categoryName', 'url', 'Latitude', 'Longitude', 'Restroom',\n",
              "       'Wifi Availabilty', 'Cost of 2 person', 'Payment Method'],\n",
              "      dtype='object')"
            ]
          },
          "execution_count": 436,
          "metadata": {},
          "output_type": "execute_result"
        }
      ],
      "source": [
        "df.columns"
      ]
    },
    {
      "cell_type": "code",
      "execution_count": 437,
      "metadata": {
        "id": "pPVUA-WcZeNx"
      },
      "outputs": [],
      "source": [
        "top_restaurant = df.sort_values(['reviewsCount','Rating'],ascending=False) [:20]"
      ]
    },
    {
      "cell_type": "code",
      "execution_count": 438,
      "metadata": {
        "colab": {
          "base_uri": "https://localhost:8080/"
        },
        "id": "tqjnRN7mbJwX",
        "outputId": "c7d67b32-ceae-47e0-ee2c-94ab3c0167b3"
      },
      "outputs": [
        {
          "data": {
            "text/plain": [
              "Index(['Restaurant', 'Rating', 'reviewsCount', 'street', 'phone',\n",
              "       'categoryName', 'url', 'Latitude', 'Longitude', 'Restroom',\n",
              "       'Wifi Availabilty', 'Cost of 2 person', 'Payment Method'],\n",
              "      dtype='object')"
            ]
          },
          "execution_count": 438,
          "metadata": {},
          "output_type": "execute_result"
        }
      ],
      "source": [
        "df.columns"
      ]
    },
    {
      "cell_type": "code",
      "execution_count": 439,
      "metadata": {
        "id": "wQSbKkIxdpQK"
      },
      "outputs": [],
      "source": [
        "df = df[df['Latitude'] != '#VALUE!']\n",
        "df = df[df['Longitude'] != '#VALUE!']\n",
        "df['Latitude'] = df['Latitude'].astype(float)\n",
        "df['Longitude'] = df['Longitude'].astype(float)"
      ]
    },
    {
      "cell_type": "markdown",
      "metadata": {
        "id": "19eXZ4Yuf10e"
      },
      "source": [
        "# K-Mean Clusttering"
      ]
    },
    {
      "cell_type": "code",
      "execution_count": 440,
      "metadata": {
        "colab": {
          "base_uri": "https://localhost:8080/"
        },
        "id": "CUGTJwIvfhI3",
        "outputId": "87aae255-650b-4f73-ecbf-21551efb089e"
      },
      "outputs": [
        {
          "name": "stderr",
          "output_type": "stream",
          "text": [
            "c:\\Users\\RITESH\\AppData\\Local\\Programs\\Python\\Python311\\Lib\\site-packages\\sklearn\\cluster\\_kmeans.py:870: FutureWarning:\n",
            "\n",
            "The default value of `n_init` will change from 10 to 'auto' in 1.4. Set the value of `n_init` explicitly to suppress the warning\n",
            "\n",
            "c:\\Users\\RITESH\\AppData\\Local\\Programs\\Python\\Python311\\Lib\\site-packages\\sklearn\\cluster\\_kmeans.py:870: FutureWarning:\n",
            "\n",
            "The default value of `n_init` will change from 10 to 'auto' in 1.4. Set the value of `n_init` explicitly to suppress the warning\n",
            "\n",
            "c:\\Users\\RITESH\\AppData\\Local\\Programs\\Python\\Python311\\Lib\\site-packages\\sklearn\\cluster\\_kmeans.py:870: FutureWarning:\n",
            "\n",
            "The default value of `n_init` will change from 10 to 'auto' in 1.4. Set the value of `n_init` explicitly to suppress the warning\n",
            "\n",
            "c:\\Users\\RITESH\\AppData\\Local\\Programs\\Python\\Python311\\Lib\\site-packages\\sklearn\\cluster\\_kmeans.py:870: FutureWarning:\n",
            "\n",
            "The default value of `n_init` will change from 10 to 'auto' in 1.4. Set the value of `n_init` explicitly to suppress the warning\n",
            "\n",
            "c:\\Users\\RITESH\\AppData\\Local\\Programs\\Python\\Python311\\Lib\\site-packages\\sklearn\\cluster\\_kmeans.py:870: FutureWarning:\n",
            "\n",
            "The default value of `n_init` will change from 10 to 'auto' in 1.4. Set the value of `n_init` explicitly to suppress the warning\n",
            "\n",
            "c:\\Users\\RITESH\\AppData\\Local\\Programs\\Python\\Python311\\Lib\\site-packages\\sklearn\\cluster\\_kmeans.py:870: FutureWarning:\n",
            "\n",
            "The default value of `n_init` will change from 10 to 'auto' in 1.4. Set the value of `n_init` explicitly to suppress the warning\n",
            "\n",
            "c:\\Users\\RITESH\\AppData\\Local\\Programs\\Python\\Python311\\Lib\\site-packages\\sklearn\\cluster\\_kmeans.py:870: FutureWarning:\n",
            "\n",
            "The default value of `n_init` will change from 10 to 'auto' in 1.4. Set the value of `n_init` explicitly to suppress the warning\n",
            "\n",
            "c:\\Users\\RITESH\\AppData\\Local\\Programs\\Python\\Python311\\Lib\\site-packages\\sklearn\\cluster\\_kmeans.py:870: FutureWarning:\n",
            "\n",
            "The default value of `n_init` will change from 10 to 'auto' in 1.4. Set the value of `n_init` explicitly to suppress the warning\n",
            "\n",
            "c:\\Users\\RITESH\\AppData\\Local\\Programs\\Python\\Python311\\Lib\\site-packages\\sklearn\\cluster\\_kmeans.py:870: FutureWarning:\n",
            "\n",
            "The default value of `n_init` will change from 10 to 'auto' in 1.4. Set the value of `n_init` explicitly to suppress the warning\n",
            "\n",
            "c:\\Users\\RITESH\\AppData\\Local\\Programs\\Python\\Python311\\Lib\\site-packages\\sklearn\\cluster\\_kmeans.py:870: FutureWarning:\n",
            "\n",
            "The default value of `n_init` will change from 10 to 'auto' in 1.4. Set the value of `n_init` explicitly to suppress the warning\n",
            "\n",
            "c:\\Users\\RITESH\\AppData\\Local\\Programs\\Python\\Python311\\Lib\\site-packages\\sklearn\\cluster\\_kmeans.py:870: FutureWarning:\n",
            "\n",
            "The default value of `n_init` will change from 10 to 'auto' in 1.4. Set the value of `n_init` explicitly to suppress the warning\n",
            "\n",
            "c:\\Users\\RITESH\\AppData\\Local\\Programs\\Python\\Python311\\Lib\\site-packages\\sklearn\\cluster\\_kmeans.py:870: FutureWarning:\n",
            "\n",
            "The default value of `n_init` will change from 10 to 'auto' in 1.4. Set the value of `n_init` explicitly to suppress the warning\n",
            "\n",
            "c:\\Users\\RITESH\\AppData\\Local\\Programs\\Python\\Python311\\Lib\\site-packages\\sklearn\\cluster\\_kmeans.py:870: FutureWarning:\n",
            "\n",
            "The default value of `n_init` will change from 10 to 'auto' in 1.4. Set the value of `n_init` explicitly to suppress the warning\n",
            "\n",
            "c:\\Users\\RITESH\\AppData\\Local\\Programs\\Python\\Python311\\Lib\\site-packages\\sklearn\\cluster\\_kmeans.py:870: FutureWarning:\n",
            "\n",
            "The default value of `n_init` will change from 10 to 'auto' in 1.4. Set the value of `n_init` explicitly to suppress the warning\n",
            "\n",
            "c:\\Users\\RITESH\\AppData\\Local\\Programs\\Python\\Python311\\Lib\\site-packages\\sklearn\\cluster\\_kmeans.py:870: FutureWarning:\n",
            "\n",
            "The default value of `n_init` will change from 10 to 'auto' in 1.4. Set the value of `n_init` explicitly to suppress the warning\n",
            "\n",
            "c:\\Users\\RITESH\\AppData\\Local\\Programs\\Python\\Python311\\Lib\\site-packages\\sklearn\\cluster\\_kmeans.py:870: FutureWarning:\n",
            "\n",
            "The default value of `n_init` will change from 10 to 'auto' in 1.4. Set the value of `n_init` explicitly to suppress the warning\n",
            "\n",
            "c:\\Users\\RITESH\\AppData\\Local\\Programs\\Python\\Python311\\Lib\\site-packages\\sklearn\\cluster\\_kmeans.py:870: FutureWarning:\n",
            "\n",
            "The default value of `n_init` will change from 10 to 'auto' in 1.4. Set the value of `n_init` explicitly to suppress the warning\n",
            "\n",
            "c:\\Users\\RITESH\\AppData\\Local\\Programs\\Python\\Python311\\Lib\\site-packages\\sklearn\\cluster\\_kmeans.py:870: FutureWarning:\n",
            "\n",
            "The default value of `n_init` will change from 10 to 'auto' in 1.4. Set the value of `n_init` explicitly to suppress the warning\n",
            "\n",
            "c:\\Users\\RITESH\\AppData\\Local\\Programs\\Python\\Python311\\Lib\\site-packages\\sklearn\\cluster\\_kmeans.py:870: FutureWarning:\n",
            "\n",
            "The default value of `n_init` will change from 10 to 'auto' in 1.4. Set the value of `n_init` explicitly to suppress the warning\n",
            "\n",
            "c:\\Users\\RITESH\\AppData\\Local\\Programs\\Python\\Python311\\Lib\\site-packages\\sklearn\\cluster\\_kmeans.py:870: FutureWarning:\n",
            "\n",
            "The default value of `n_init` will change from 10 to 'auto' in 1.4. Set the value of `n_init` explicitly to suppress the warning\n",
            "\n",
            "c:\\Users\\RITESH\\AppData\\Local\\Programs\\Python\\Python311\\Lib\\site-packages\\sklearn\\cluster\\_kmeans.py:870: FutureWarning:\n",
            "\n",
            "The default value of `n_init` will change from 10 to 'auto' in 1.4. Set the value of `n_init` explicitly to suppress the warning\n",
            "\n",
            "c:\\Users\\RITESH\\AppData\\Local\\Programs\\Python\\Python311\\Lib\\site-packages\\sklearn\\cluster\\_kmeans.py:870: FutureWarning:\n",
            "\n",
            "The default value of `n_init` will change from 10 to 'auto' in 1.4. Set the value of `n_init` explicitly to suppress the warning\n",
            "\n",
            "c:\\Users\\RITESH\\AppData\\Local\\Programs\\Python\\Python311\\Lib\\site-packages\\sklearn\\cluster\\_kmeans.py:870: FutureWarning:\n",
            "\n",
            "The default value of `n_init` will change from 10 to 'auto' in 1.4. Set the value of `n_init` explicitly to suppress the warning\n",
            "\n",
            "c:\\Users\\RITESH\\AppData\\Local\\Programs\\Python\\Python311\\Lib\\site-packages\\sklearn\\cluster\\_kmeans.py:870: FutureWarning:\n",
            "\n",
            "The default value of `n_init` will change from 10 to 'auto' in 1.4. Set the value of `n_init` explicitly to suppress the warning\n",
            "\n"
          ]
        }
      ],
      "source": [
        "from sklearn.cluster import KMeans\n",
        "import matplotlib.pyplot as plt\n",
        "\n",
        "coords = df[['Latitude','Longitude']]\n",
        "distortions = []\n",
        "K = range(1, 25)\n",
        "\n",
        "for k in K:\n",
        "    kmeans_model = KMeans(n_clusters=k)\n",
        "    kmeans_model = kmeans_model.fit(coords)\n",
        "    distortions.append(kmeans_model.inertia_)"
      ]
    },
    {
      "cell_type": "markdown",
      "metadata": {
        "id": "GIVEw0wcgZPm"
      },
      "source": [
        "# Silhouette Method"
      ]
    },
    {
      "cell_type": "code",
      "execution_count": 441,
      "metadata": {
        "colab": {
          "base_uri": "https://localhost:8080/"
        },
        "id": "AO80EnnvgKJF",
        "outputId": "248e86bb-4d21-47ee-dfcb-4743cd63b164"
      },
      "outputs": [
        {
          "name": "stderr",
          "output_type": "stream",
          "text": [
            "c:\\Users\\RITESH\\AppData\\Local\\Programs\\Python\\Python311\\Lib\\site-packages\\sklearn\\cluster\\_kmeans.py:870: FutureWarning:\n",
            "\n",
            "The default value of `n_init` will change from 10 to 'auto' in 1.4. Set the value of `n_init` explicitly to suppress the warning\n",
            "\n",
            "c:\\Users\\RITESH\\AppData\\Local\\Programs\\Python\\Python311\\Lib\\site-packages\\sklearn\\cluster\\_kmeans.py:870: FutureWarning:\n",
            "\n",
            "The default value of `n_init` will change from 10 to 'auto' in 1.4. Set the value of `n_init` explicitly to suppress the warning\n",
            "\n",
            "c:\\Users\\RITESH\\AppData\\Local\\Programs\\Python\\Python311\\Lib\\site-packages\\sklearn\\cluster\\_kmeans.py:870: FutureWarning:\n",
            "\n",
            "The default value of `n_init` will change from 10 to 'auto' in 1.4. Set the value of `n_init` explicitly to suppress the warning\n",
            "\n",
            "c:\\Users\\RITESH\\AppData\\Local\\Programs\\Python\\Python311\\Lib\\site-packages\\sklearn\\cluster\\_kmeans.py:870: FutureWarning:\n",
            "\n",
            "The default value of `n_init` will change from 10 to 'auto' in 1.4. Set the value of `n_init` explicitly to suppress the warning\n",
            "\n",
            "c:\\Users\\RITESH\\AppData\\Local\\Programs\\Python\\Python311\\Lib\\site-packages\\sklearn\\cluster\\_kmeans.py:870: FutureWarning:\n",
            "\n",
            "The default value of `n_init` will change from 10 to 'auto' in 1.4. Set the value of `n_init` explicitly to suppress the warning\n",
            "\n",
            "c:\\Users\\RITESH\\AppData\\Local\\Programs\\Python\\Python311\\Lib\\site-packages\\sklearn\\cluster\\_kmeans.py:870: FutureWarning:\n",
            "\n",
            "The default value of `n_init` will change from 10 to 'auto' in 1.4. Set the value of `n_init` explicitly to suppress the warning\n",
            "\n",
            "c:\\Users\\RITESH\\AppData\\Local\\Programs\\Python\\Python311\\Lib\\site-packages\\sklearn\\cluster\\_kmeans.py:870: FutureWarning:\n",
            "\n",
            "The default value of `n_init` will change from 10 to 'auto' in 1.4. Set the value of `n_init` explicitly to suppress the warning\n",
            "\n",
            "c:\\Users\\RITESH\\AppData\\Local\\Programs\\Python\\Python311\\Lib\\site-packages\\sklearn\\cluster\\_kmeans.py:870: FutureWarning:\n",
            "\n",
            "The default value of `n_init` will change from 10 to 'auto' in 1.4. Set the value of `n_init` explicitly to suppress the warning\n",
            "\n",
            "c:\\Users\\RITESH\\AppData\\Local\\Programs\\Python\\Python311\\Lib\\site-packages\\sklearn\\cluster\\_kmeans.py:870: FutureWarning:\n",
            "\n",
            "The default value of `n_init` will change from 10 to 'auto' in 1.4. Set the value of `n_init` explicitly to suppress the warning\n",
            "\n",
            "c:\\Users\\RITESH\\AppData\\Local\\Programs\\Python\\Python311\\Lib\\site-packages\\sklearn\\cluster\\_kmeans.py:870: FutureWarning:\n",
            "\n",
            "The default value of `n_init` will change from 10 to 'auto' in 1.4. Set the value of `n_init` explicitly to suppress the warning\n",
            "\n",
            "c:\\Users\\RITESH\\AppData\\Local\\Programs\\Python\\Python311\\Lib\\site-packages\\sklearn\\cluster\\_kmeans.py:870: FutureWarning:\n",
            "\n",
            "The default value of `n_init` will change from 10 to 'auto' in 1.4. Set the value of `n_init` explicitly to suppress the warning\n",
            "\n",
            "c:\\Users\\RITESH\\AppData\\Local\\Programs\\Python\\Python311\\Lib\\site-packages\\sklearn\\cluster\\_kmeans.py:870: FutureWarning:\n",
            "\n",
            "The default value of `n_init` will change from 10 to 'auto' in 1.4. Set the value of `n_init` explicitly to suppress the warning\n",
            "\n",
            "c:\\Users\\RITESH\\AppData\\Local\\Programs\\Python\\Python311\\Lib\\site-packages\\sklearn\\cluster\\_kmeans.py:870: FutureWarning:\n",
            "\n",
            "The default value of `n_init` will change from 10 to 'auto' in 1.4. Set the value of `n_init` explicitly to suppress the warning\n",
            "\n",
            "c:\\Users\\RITESH\\AppData\\Local\\Programs\\Python\\Python311\\Lib\\site-packages\\sklearn\\cluster\\_kmeans.py:870: FutureWarning:\n",
            "\n",
            "The default value of `n_init` will change from 10 to 'auto' in 1.4. Set the value of `n_init` explicitly to suppress the warning\n",
            "\n",
            "c:\\Users\\RITESH\\AppData\\Local\\Programs\\Python\\Python311\\Lib\\site-packages\\sklearn\\cluster\\_kmeans.py:870: FutureWarning:\n",
            "\n",
            "The default value of `n_init` will change from 10 to 'auto' in 1.4. Set the value of `n_init` explicitly to suppress the warning\n",
            "\n",
            "c:\\Users\\RITESH\\AppData\\Local\\Programs\\Python\\Python311\\Lib\\site-packages\\sklearn\\cluster\\_kmeans.py:870: FutureWarning:\n",
            "\n",
            "The default value of `n_init` will change from 10 to 'auto' in 1.4. Set the value of `n_init` explicitly to suppress the warning\n",
            "\n",
            "c:\\Users\\RITESH\\AppData\\Local\\Programs\\Python\\Python311\\Lib\\site-packages\\sklearn\\cluster\\_kmeans.py:870: FutureWarning:\n",
            "\n",
            "The default value of `n_init` will change from 10 to 'auto' in 1.4. Set the value of `n_init` explicitly to suppress the warning\n",
            "\n",
            "c:\\Users\\RITESH\\AppData\\Local\\Programs\\Python\\Python311\\Lib\\site-packages\\sklearn\\cluster\\_kmeans.py:870: FutureWarning:\n",
            "\n",
            "The default value of `n_init` will change from 10 to 'auto' in 1.4. Set the value of `n_init` explicitly to suppress the warning\n",
            "\n",
            "c:\\Users\\RITESH\\AppData\\Local\\Programs\\Python\\Python311\\Lib\\site-packages\\sklearn\\cluster\\_kmeans.py:870: FutureWarning:\n",
            "\n",
            "The default value of `n_init` will change from 10 to 'auto' in 1.4. Set the value of `n_init` explicitly to suppress the warning\n",
            "\n",
            "c:\\Users\\RITESH\\AppData\\Local\\Programs\\Python\\Python311\\Lib\\site-packages\\sklearn\\cluster\\_kmeans.py:870: FutureWarning:\n",
            "\n",
            "The default value of `n_init` will change from 10 to 'auto' in 1.4. Set the value of `n_init` explicitly to suppress the warning\n",
            "\n",
            "c:\\Users\\RITESH\\AppData\\Local\\Programs\\Python\\Python311\\Lib\\site-packages\\sklearn\\cluster\\_kmeans.py:870: FutureWarning:\n",
            "\n",
            "The default value of `n_init` will change from 10 to 'auto' in 1.4. Set the value of `n_init` explicitly to suppress the warning\n",
            "\n",
            "c:\\Users\\RITESH\\AppData\\Local\\Programs\\Python\\Python311\\Lib\\site-packages\\sklearn\\cluster\\_kmeans.py:870: FutureWarning:\n",
            "\n",
            "The default value of `n_init` will change from 10 to 'auto' in 1.4. Set the value of `n_init` explicitly to suppress the warning\n",
            "\n",
            "c:\\Users\\RITESH\\AppData\\Local\\Programs\\Python\\Python311\\Lib\\site-packages\\sklearn\\cluster\\_kmeans.py:870: FutureWarning:\n",
            "\n",
            "The default value of `n_init` will change from 10 to 'auto' in 1.4. Set the value of `n_init` explicitly to suppress the warning\n",
            "\n",
            "c:\\Users\\RITESH\\AppData\\Local\\Programs\\Python\\Python311\\Lib\\site-packages\\sklearn\\cluster\\_kmeans.py:870: FutureWarning:\n",
            "\n",
            "The default value of `n_init` will change from 10 to 'auto' in 1.4. Set the value of `n_init` explicitly to suppress the warning\n",
            "\n",
            "c:\\Users\\RITESH\\AppData\\Local\\Programs\\Python\\Python311\\Lib\\site-packages\\sklearn\\cluster\\_kmeans.py:870: FutureWarning:\n",
            "\n",
            "The default value of `n_init` will change from 10 to 'auto' in 1.4. Set the value of `n_init` explicitly to suppress the warning\n",
            "\n",
            "c:\\Users\\RITESH\\AppData\\Local\\Programs\\Python\\Python311\\Lib\\site-packages\\sklearn\\cluster\\_kmeans.py:870: FutureWarning:\n",
            "\n",
            "The default value of `n_init` will change from 10 to 'auto' in 1.4. Set the value of `n_init` explicitly to suppress the warning\n",
            "\n",
            "c:\\Users\\RITESH\\AppData\\Local\\Programs\\Python\\Python311\\Lib\\site-packages\\sklearn\\cluster\\_kmeans.py:870: FutureWarning:\n",
            "\n",
            "The default value of `n_init` will change from 10 to 'auto' in 1.4. Set the value of `n_init` explicitly to suppress the warning\n",
            "\n",
            "c:\\Users\\RITESH\\AppData\\Local\\Programs\\Python\\Python311\\Lib\\site-packages\\sklearn\\cluster\\_kmeans.py:870: FutureWarning:\n",
            "\n",
            "The default value of `n_init` will change from 10 to 'auto' in 1.4. Set the value of `n_init` explicitly to suppress the warning\n",
            "\n",
            "c:\\Users\\RITESH\\AppData\\Local\\Programs\\Python\\Python311\\Lib\\site-packages\\sklearn\\cluster\\_kmeans.py:870: FutureWarning:\n",
            "\n",
            "The default value of `n_init` will change from 10 to 'auto' in 1.4. Set the value of `n_init` explicitly to suppress the warning\n",
            "\n",
            "c:\\Users\\RITESH\\AppData\\Local\\Programs\\Python\\Python311\\Lib\\site-packages\\sklearn\\cluster\\_kmeans.py:870: FutureWarning:\n",
            "\n",
            "The default value of `n_init` will change from 10 to 'auto' in 1.4. Set the value of `n_init` explicitly to suppress the warning\n",
            "\n",
            "c:\\Users\\RITESH\\AppData\\Local\\Programs\\Python\\Python311\\Lib\\site-packages\\sklearn\\cluster\\_kmeans.py:870: FutureWarning:\n",
            "\n",
            "The default value of `n_init` will change from 10 to 'auto' in 1.4. Set the value of `n_init` explicitly to suppress the warning\n",
            "\n",
            "c:\\Users\\RITESH\\AppData\\Local\\Programs\\Python\\Python311\\Lib\\site-packages\\sklearn\\cluster\\_kmeans.py:870: FutureWarning:\n",
            "\n",
            "The default value of `n_init` will change from 10 to 'auto' in 1.4. Set the value of `n_init` explicitly to suppress the warning\n",
            "\n",
            "c:\\Users\\RITESH\\AppData\\Local\\Programs\\Python\\Python311\\Lib\\site-packages\\sklearn\\cluster\\_kmeans.py:870: FutureWarning:\n",
            "\n",
            "The default value of `n_init` will change from 10 to 'auto' in 1.4. Set the value of `n_init` explicitly to suppress the warning\n",
            "\n",
            "c:\\Users\\RITESH\\AppData\\Local\\Programs\\Python\\Python311\\Lib\\site-packages\\sklearn\\cluster\\_kmeans.py:870: FutureWarning:\n",
            "\n",
            "The default value of `n_init` will change from 10 to 'auto' in 1.4. Set the value of `n_init` explicitly to suppress the warning\n",
            "\n",
            "c:\\Users\\RITESH\\AppData\\Local\\Programs\\Python\\Python311\\Lib\\site-packages\\sklearn\\cluster\\_kmeans.py:870: FutureWarning:\n",
            "\n",
            "The default value of `n_init` will change from 10 to 'auto' in 1.4. Set the value of `n_init` explicitly to suppress the warning\n",
            "\n",
            "c:\\Users\\RITESH\\AppData\\Local\\Programs\\Python\\Python311\\Lib\\site-packages\\sklearn\\cluster\\_kmeans.py:870: FutureWarning:\n",
            "\n",
            "The default value of `n_init` will change from 10 to 'auto' in 1.4. Set the value of `n_init` explicitly to suppress the warning\n",
            "\n",
            "c:\\Users\\RITESH\\AppData\\Local\\Programs\\Python\\Python311\\Lib\\site-packages\\sklearn\\cluster\\_kmeans.py:870: FutureWarning:\n",
            "\n",
            "The default value of `n_init` will change from 10 to 'auto' in 1.4. Set the value of `n_init` explicitly to suppress the warning\n",
            "\n",
            "c:\\Users\\RITESH\\AppData\\Local\\Programs\\Python\\Python311\\Lib\\site-packages\\sklearn\\cluster\\_kmeans.py:870: FutureWarning:\n",
            "\n",
            "The default value of `n_init` will change from 10 to 'auto' in 1.4. Set the value of `n_init` explicitly to suppress the warning\n",
            "\n",
            "c:\\Users\\RITESH\\AppData\\Local\\Programs\\Python\\Python311\\Lib\\site-packages\\sklearn\\cluster\\_kmeans.py:870: FutureWarning:\n",
            "\n",
            "The default value of `n_init` will change from 10 to 'auto' in 1.4. Set the value of `n_init` explicitly to suppress the warning\n",
            "\n",
            "c:\\Users\\RITESH\\AppData\\Local\\Programs\\Python\\Python311\\Lib\\site-packages\\sklearn\\cluster\\_kmeans.py:870: FutureWarning:\n",
            "\n",
            "The default value of `n_init` will change from 10 to 'auto' in 1.4. Set the value of `n_init` explicitly to suppress the warning\n",
            "\n",
            "c:\\Users\\RITESH\\AppData\\Local\\Programs\\Python\\Python311\\Lib\\site-packages\\sklearn\\cluster\\_kmeans.py:870: FutureWarning:\n",
            "\n",
            "The default value of `n_init` will change from 10 to 'auto' in 1.4. Set the value of `n_init` explicitly to suppress the warning\n",
            "\n",
            "c:\\Users\\RITESH\\AppData\\Local\\Programs\\Python\\Python311\\Lib\\site-packages\\sklearn\\cluster\\_kmeans.py:870: FutureWarning:\n",
            "\n",
            "The default value of `n_init` will change from 10 to 'auto' in 1.4. Set the value of `n_init` explicitly to suppress the warning\n",
            "\n",
            "c:\\Users\\RITESH\\AppData\\Local\\Programs\\Python\\Python311\\Lib\\site-packages\\sklearn\\cluster\\_kmeans.py:870: FutureWarning:\n",
            "\n",
            "The default value of `n_init` will change from 10 to 'auto' in 1.4. Set the value of `n_init` explicitly to suppress the warning\n",
            "\n",
            "c:\\Users\\RITESH\\AppData\\Local\\Programs\\Python\\Python311\\Lib\\site-packages\\sklearn\\cluster\\_kmeans.py:870: FutureWarning:\n",
            "\n",
            "The default value of `n_init` will change from 10 to 'auto' in 1.4. Set the value of `n_init` explicitly to suppress the warning\n",
            "\n",
            "c:\\Users\\RITESH\\AppData\\Local\\Programs\\Python\\Python311\\Lib\\site-packages\\sklearn\\cluster\\_kmeans.py:870: FutureWarning:\n",
            "\n",
            "The default value of `n_init` will change from 10 to 'auto' in 1.4. Set the value of `n_init` explicitly to suppress the warning\n",
            "\n",
            "c:\\Users\\RITESH\\AppData\\Local\\Programs\\Python\\Python311\\Lib\\site-packages\\sklearn\\cluster\\_kmeans.py:870: FutureWarning:\n",
            "\n",
            "The default value of `n_init` will change from 10 to 'auto' in 1.4. Set the value of `n_init` explicitly to suppress the warning\n",
            "\n",
            "c:\\Users\\RITESH\\AppData\\Local\\Programs\\Python\\Python311\\Lib\\site-packages\\sklearn\\cluster\\_kmeans.py:870: FutureWarning:\n",
            "\n",
            "The default value of `n_init` will change from 10 to 'auto' in 1.4. Set the value of `n_init` explicitly to suppress the warning\n",
            "\n",
            "c:\\Users\\RITESH\\AppData\\Local\\Programs\\Python\\Python311\\Lib\\site-packages\\sklearn\\cluster\\_kmeans.py:870: FutureWarning:\n",
            "\n",
            "The default value of `n_init` will change from 10 to 'auto' in 1.4. Set the value of `n_init` explicitly to suppress the warning\n",
            "\n",
            "c:\\Users\\RITESH\\AppData\\Local\\Programs\\Python\\Python311\\Lib\\site-packages\\sklearn\\cluster\\_kmeans.py:870: FutureWarning:\n",
            "\n",
            "The default value of `n_init` will change from 10 to 'auto' in 1.4. Set the value of `n_init` explicitly to suppress the warning\n",
            "\n"
          ]
        }
      ],
      "source": [
        "from sklearn.metrics import silhouette_score\n",
        "\n",
        "sil = []\n",
        "kmax = 50\n",
        "\n",
        "# dissimilarity would not be defined for a single cluster, thus, minimum number of clu\n",
        "\n",
        "for k in range(2, kmax+1):\n",
        "    kmeans = KMeans (n_clusters = k).fit(coords)\n",
        "    labels = kmeans.labels_\n",
        "    sil.append(silhouette_score(coords, labels, metric = 'euclidean'))"
      ]
    },
    {
      "cell_type": "code",
      "execution_count": 442,
      "metadata": {
        "colab": {
          "base_uri": "https://localhost:8080/"
        },
        "id": "1v1aD_Dbgd6Z",
        "outputId": "c4d2ba5f-018c-4d81-9bc7-6f8e99c56faf"
      },
      "outputs": [
        {
          "data": {
            "text/plain": [
              "[0.3814804557216189,\n",
              " 0.4128995124174254,\n",
              " 0.3882889108799941,\n",
              " 0.3528798376571443,\n",
              " 0.39210695371596826,\n",
              " 0.39692055275322513,\n",
              " 0.4029089611703391,\n",
              " 0.41094756774945174,\n",
              " 0.4106900140105129,\n",
              " 0.41050548525797725,\n",
              " 0.41782236413779594,\n",
              " 0.42100686648935437,\n",
              " 0.43282546859222726,\n",
              " 0.4300698133926965,\n",
              " 0.4278852693412075,\n",
              " 0.4292324522799866,\n",
              " 0.41946562815727506,\n",
              " 0.429836994877078,\n",
              " 0.43115650644987896,\n",
              " 0.4329341552293131,\n",
              " 0.4285225963112591,\n",
              " 0.4370124833354928,\n",
              " 0.43820816071703383,\n",
              " 0.4308905335544436,\n",
              " 0.4460184189791285,\n",
              " 0.4435877427588015,\n",
              " 0.4371671633047711,\n",
              " 0.44148195892255115,\n",
              " 0.44827635457146464,\n",
              " 0.4340471891559203,\n",
              " 0.44448598135890377,\n",
              " 0.44797662855700143,\n",
              " 0.4442649454112828,\n",
              " 0.4451445432726267,\n",
              " 0.44488452489850056,\n",
              " 0.44803787678052326,\n",
              " 0.4384211693585574,\n",
              " 0.4438688576013093,\n",
              " 0.4482080143916297,\n",
              " 0.42793107738977954,\n",
              " 0.430291268770884,\n",
              " 0.44213685727195756,\n",
              " 0.44368722953647544,\n",
              " 0.4444282834613857,\n",
              " 0.4341007287738665,\n",
              " 0.44025797215151136,\n",
              " 0.4457590710911608,\n",
              " 0.4493746656623924,\n",
              " 0.4429218579641038]"
            ]
          },
          "execution_count": 442,
          "metadata": {},
          "output_type": "execute_result"
        }
      ],
      "source": [
        "sil"
      ]
    },
    {
      "cell_type": "code",
      "execution_count": 443,
      "metadata": {
        "colab": {
          "base_uri": "https://localhost:8080/"
        },
        "id": "zvB9IZrzgkfs",
        "outputId": "8404ce94-ce17-40f4-8c5b-c70bc0e6c205"
      },
      "outputs": [
        {
          "name": "stdout",
          "output_type": "stream",
          "text": [
            "k = 7 silhouette_score 0.3968347391775048\n"
          ]
        },
        {
          "name": "stderr",
          "output_type": "stream",
          "text": [
            "c:\\Users\\RITESH\\AppData\\Local\\Programs\\Python\\Python311\\Lib\\site-packages\\sklearn\\cluster\\_kmeans.py:870: FutureWarning:\n",
            "\n",
            "The default value of `n_init` will change from 10 to 'auto' in 1.4. Set the value of `n_init` explicitly to suppress the warning\n",
            "\n"
          ]
        }
      ],
      "source": [
        "kmeans = KMeans (n_clusters=7, init='k-means++')\n",
        "kmeans.fit(coords)\n",
        "y = kmeans.labels_\n",
        "print(\"k = 7\", \"silhouette_score\", silhouette_score(coords, y, metric='euclidean'))"
      ]
    },
    {
      "cell_type": "code",
      "execution_count": 444,
      "metadata": {
        "id": "oqA7yg7BhFNW"
      },
      "outputs": [],
      "source": [
        "df['cluster'] = kmeans.predict(df[[ 'Latitude','Longitude']]) "
      ]
    },
    {
      "cell_type": "code",
      "execution_count": 445,
      "metadata": {
        "colab": {
          "base_uri": "https://localhost:8080/",
          "height": 817
        },
        "id": "qaQng-UMhIZj",
        "outputId": "d7f1b823-468c-45e7-b699-66832b289b0a"
      },
      "outputs": [
        {
          "data": {
            "application/vnd.plotly.v1+json": {
              "config": {
                "plotlyServerURL": "https://plot.ly"
              },
              "data": [
                {
                  "customdata": [
                    [
                      "Haldiram's",
                      21.1367356,
                      79.0605046
                    ],
                    [
                      "Haldiram's",
                      21.1635421,
                      79.08017
                    ],
                    [
                      "Haldiram's Abhinandan",
                      21.1526584,
                      79.1085892
                    ],
                    [
                      "Reddy's Gokul Brindavan",
                      21.1422,
                      79.061052
                    ],
                    [
                      "The Chatori Street -Nagpur's 1st outdoor food court chain.",
                      21.1332186,
                      79.0718678
                    ],
                    [
                      "Gayatri Bhojnalaya",
                      21.1413035,
                      79.0617635
                    ],
                    [
                      "Checkers Restaurant VCA",
                      21.1578596,
                      79.0766613
                    ],
                    [
                      "Uttar Dakshin by Naivedhyam",
                      21.1588564,
                      79.0798939
                    ],
                    [
                      "Vishnuji Ki Rasoi",
                      21.1313664,
                      79.065387
                    ],
                    [
                      "Barbeque Nation - Nagpur - Eternity Mall",
                      21.1429634,
                      79.0804153
                    ],
                    [
                      "Shabana Bakery",
                      21.1700156,
                      79.0797083
                    ],
                    [
                      "Laxmi Family Garden And Restaurant",
                      21.122056,
                      79.1364595
                    ],
                    [
                      "Uttar Dakshin by Naivedhyam",
                      21.1185025,
                      79.056843
                    ],
                    [
                      "Fuel Station Cafe & Restro",
                      21.1343815,
                      79.0614434
                    ],
                    [
                      "Mocha Cafe & Bar",
                      21.137782,
                      79.0587487
                    ],
                    [
                      "Kareem's Hotel",
                      21.1749293,
                      79.0777007
                    ],
                    [
                      "Ashoka Restaurant",
                      21.1592229,
                      79.0798178
                    ],
                    [
                      "JAGDISH SAOJI BHOJANALAY",
                      21.1440921,
                      79.0987489
                    ],
                    [
                      "Farmhouse Kitchen restaurent",
                      21.131145,
                      79.064159
                    ],
                    [
                      "Shree Ganesh Sagar Pure Veg Restaurant",
                      21.1421707,
                      79.061653
                    ],
                    [
                      "Shree Ganesh Sagar",
                      21.1381306,
                      79.0813516
                    ],
                    [
                      "Haldiram's Express",
                      21.1185188,
                      79.018471
                    ],
                    [
                      "Domino's Pizza",
                      21.0985173,
                      79.067254
                    ],
                    [
                      "Sanjha Chullah Restaurant",
                      21.1595197,
                      79.0786802
                    ],
                    [
                      "Shree Gayatri Bhojanalay",
                      21.11571,
                      79.0565979
                    ],
                    [
                      "Krishnum Restaurant",
                      21.1134565,
                      79.0705837
                    ],
                    [
                      "Amaira",
                      21.1494038,
                      79.0739943
                    ],
                    [
                      "Haldiram's Thaat Baat Restaurant",
                      21.1428103,
                      79.0815081
                    ],
                    [
                      "Checkers Restaurant SJTI",
                      21.1604022,
                      79.079909
                    ],
                    [
                      "The Breakfast Story",
                      21.1232894,
                      79.0386039
                    ],
                    [
                      "Hotel Al Zam Zam",
                      21.1493225,
                      79.1139831
                    ],
                    [
                      "Bouffage Cafe And Bistro",
                      21.1344121,
                      79.0583702
                    ],
                    [
                      "The Food Garage",
                      21.0583921,
                      79.0547982
                    ],
                    [
                      "Pahunchar The Family Restaurant",
                      21.1285641,
                      79.1229379
                    ],
                    [
                      "Anna Idli",
                      21.1229932,
                      79.0576604
                    ],
                    [
                      "Krishnum Food Plaza",
                      21.1596407,
                      79.0773846
                    ],
                    [
                      "Calcutta Rolls",
                      21.136187,
                      79.061045
                    ],
                    [
                      "Domino's Pizza",
                      21.1762505,
                      79.0500524
                    ],
                    [
                      "Delhi Darbar",
                      21.0671275,
                      79.0581178
                    ],
                    [
                      "Little Italy",
                      21.1494952,
                      79.066155
                    ],
                    [
                      "Venu Corner",
                      21.1105806,
                      79.1035472
                    ],
                    [
                      "Three Beans Coffee Bar, Dharampeth",
                      21.1458083,
                      79.0632957
                    ],
                    [
                      "Hotel Al-Kausar",
                      21.156185,
                      79.0966833
                    ],
                    [
                      "Icecube Pub & Restaurant",
                      21.1587063,
                      79.0810516
                    ],
                    [
                      "Dahiya Momos",
                      21.1140089,
                      79.0439309
                    ],
                    [
                      "New Paratha Shop Restaurant",
                      21.1613118,
                      79.0797481
                    ],
                    [
                      "Samosawala",
                      21.1583238,
                      79.0493448
                    ],
                    [
                      "Bula's Kitchen",
                      21.1123324,
                      79.0631682
                    ],
                    [
                      "Navaratna Raghav",
                      21.1599495,
                      79.0770206
                    ],
                    [
                      "Hitchki Nagpur",
                      21.166829,
                      79.0833288
                    ],
                    [
                      "Domino's Pizza",
                      21.118559,
                      79.018461
                    ],
                    [
                      "AB's - Absolute Barbecues | Dharampet, Nagpur",
                      21.143276,
                      79.0612804
                    ],
                    [
                      "Café Illusions",
                      21.1369982,
                      79.0650637
                    ],
                    [
                      "Tattwam",
                      21.1327123,
                      79.0699562
                    ],
                    [
                      "The Common Ground - Sports Cafe & Restro",
                      21.1307314,
                      79.0633641
                    ],
                    [
                      "Cafe Villa 55.",
                      21.1448573,
                      79.0576971
                    ],
                    [
                      "SHANKAR SAOJI RESTAURANT",
                      21.1112904,
                      79.0395355
                    ],
                    [
                      "Banjara's CHULLA",
                      21.0597118,
                      79.055506
                    ],
                    [
                      "Desi Grill",
                      21.1301177,
                      79.1191731
                    ],
                    [
                      "Urban Hermitage",
                      21.0886162,
                      79.0646019
                    ],
                    [
                      "Pakodewala",
                      21.1447485,
                      79.0861686
                    ],
                    [
                      "Haldiram's Sweets & Planet Food",
                      21.1839538,
                      79.0692493
                    ],
                    [
                      "Jubilee Cafe",
                      21.1698893,
                      79.077066
                    ],
                    [
                      "SAN SEBASTIN CAFE",
                      21.1259939,
                      79.0637081
                    ],
                    [
                      "Cluckers",
                      21.1222221,
                      79.0566365
                    ],
                    [
                      "The Indian Grill",
                      21.1887662,
                      79.0967143
                    ],
                    [
                      "Yello Cafe & Restro",
                      21.1579349,
                      79.0631928
                    ],
                    [
                      "Yello",
                      21.1132107,
                      79.0469832
                    ],
                    [
                      "Mustard Restro Lounge",
                      21.1356017,
                      79.0592052
                    ],
                    [
                      "Jaiswal Restaurant",
                      21.1700175,
                      79.1005936
                    ],
                    [
                      "SardaarJi Nagpur \" Authentic Punjabi Food\"",
                      21.1349809,
                      79.0758774
                    ],
                    [
                      "Euphoria Restaurant",
                      21.130387,
                      79.120274
                    ],
                    [
                      "Happy Foods",
                      21.101415,
                      79.101619
                    ],
                    [
                      "Bombaywala Sweets - Katol Road Outlet",
                      21.1825717,
                      79.0336516
                    ],
                    [
                      "Rudra Royal Kitchen & Resto",
                      21.0579458,
                      79.0547897
                    ],
                    [
                      "Hotel Al-Zam Zam, Wardha Rd.",
                      21.1123945,
                      79.0701557
                    ],
                    [
                      "Sagar Family Restaurant",
                      21.208216,
                      79.0778471
                    ],
                    [
                      "Lush House",
                      21.1256567,
                      79.0584942
                    ],
                    [
                      "Khichadiwala",
                      21.1178619,
                      79.0468829
                    ],
                    [
                      "HIDEOUT the Street Cafe",
                      21.1294197,
                      79.0604787
                    ],
                    [
                      "Fuel Station Cafe & Restro Hingna Tpoint",
                      21.1209606,
                      79.0311172
                    ],
                    [
                      "The Nirvana Multi Cuisine Restaurant",
                      21.152581,
                      79.0199827
                    ],
                    [
                      "Domino's Pizza",
                      21.17135,
                      79.079453
                    ],
                    [
                      "Shri Chau Maau Fast Food Center",
                      21.1542598,
                      79.1110159
                    ],
                    [
                      "RSVP NAGPUR(Restro-bar,Rooftop & Rooms)",
                      21.1219173,
                      79.0328722
                    ],
                    [
                      "Taj Matka Roti",
                      21.1298465,
                      79.0618234
                    ],
                    [
                      "Calcutta Roll Biryani Centre",
                      21.1344671,
                      79.1196434
                    ],
                    [
                      "Ambience Garden Restaurant",
                      21.1527249,
                      79.0197641
                    ],
                    [
                      "Hotel Al Rahman.",
                      21.1785225,
                      79.1318024
                    ],
                    [
                      "Manu's Missal Co.- Best Missal Pav In Nagpur",
                      21.1134113,
                      79.058013
                    ],
                    [
                      "House of Caffeine",
                      21.1221255,
                      79.0424099
                    ],
                    [
                      "Renu Restaurant & Mess",
                      21.1185483,
                      79.0325037
                    ],
                    [
                      "9 3/4 Central Perk Cafe",
                      21.1302264,
                      79.0466529
                    ],
                    [
                      "Shree Shanti Bhavan Nagpur",
                      21.1391529,
                      79.0793552
                    ],
                    [
                      "DASTARKHWAN RESTAURANT",
                      21.1874071,
                      79.0560222
                    ],
                    [
                      "Gurpal Foods",
                      21.1724472,
                      79.1000483
                    ],
                    [
                      "Villa 167 Cafe",
                      21.1226156,
                      79.057234
                    ],
                    [
                      "Villa 167 Cafe",
                      21.1267214,
                      79.0575023
                    ],
                    [
                      "Cafe Coffee Day",
                      21.1570552,
                      79.0771718
                    ],
                    [
                      "Domino's Pizza",
                      21.2033826,
                      79.077338
                    ],
                    [
                      "Sherubhai Biryani Center and Tandoori Chicken Fry",
                      21.1198823,
                      79.113626
                    ],
                    [
                      "Shreenath Pav Bhaji Hut",
                      21.1378654,
                      79.0824675
                    ],
                    [
                      "Hotel Shravan",
                      21.1410742,
                      79.081062
                    ],
                    [
                      "Bhau Cha Dhakka",
                      21.1083907,
                      79.0183252
                    ],
                    [
                      "Panino | The Sandwich World",
                      21.0978217,
                      79.0683323
                    ],
                    [
                      "Sagar South Indian Restaurant",
                      21.134956,
                      79.078696
                    ],
                    [
                      "Arabian Tandoor",
                      21.1824172,
                      79.0668198
                    ],
                    [
                      "Café Coffee Day",
                      21.1283007,
                      79.0577193
                    ],
                    [
                      "Cafe Coffee Day",
                      21.1125862,
                      79.0518238
                    ],
                    [
                      "Two Joes Gastro Bar",
                      21.126331,
                      79.0581125
                    ],
                    [
                      "Shaam E Mehfil - Biryani Xpress",
                      21.1180814,
                      79.0343393
                    ],
                    [
                      "Subway",
                      21.1714272,
                      79.0792861
                    ],
                    [
                      "Babbu Plaza",
                      21.1639698,
                      79.0797645
                    ],
                    [
                      "Panino : The Sandwich World",
                      21.1466395,
                      79.1354029
                    ],
                    [
                      "The Arvikar's Food Corner",
                      21.0966221,
                      79.0753007
                    ],
                    [
                      "Panino | The Sandwich World",
                      21.1335568,
                      79.073926
                    ],
                    [
                      "Rajput's Restaurant",
                      21.1703871,
                      79.1004696
                    ],
                    [
                      "Gulshan Plaza Biryani Restaurant",
                      21.1411702,
                      79.0857948
                    ],
                    [
                      "Pizza Hut",
                      21.1432884,
                      79.0804437
                    ],
                    [
                      "The Heritage Restaurant and Banquet",
                      21.1053688,
                      79.1003256
                    ],
                    [
                      "High Steaks Nagpur",
                      21.1348539,
                      79.0763167
                    ],
                    [
                      "Hotel Daawat The Mughal Cuisine",
                      21.1833187,
                      79.0786515
                    ],
                    [
                      "Aww The Cafe Studio",
                      21.1534481,
                      79.0678487
                    ],
                    [
                      "Solid Tandoori",
                      21.1777267,
                      79.0469541
                    ],
                    [
                      "Veer Da Dhaba",
                      21.152561,
                      79.0199813
                    ],
                    [
                      "Heritage Plaza",
                      21.1230538,
                      79.1098224
                    ],
                    [
                      "Amir's Punjabi Restaurant by Khana Khazana",
                      21.1501041,
                      79.108042
                    ],
                    [
                      "Ram Shyaam Poha",
                      21.1088681,
                      79.0692563
                    ],
                    [
                      "KFC",
                      21.12301,
                      79.0575
                    ],
                    [
                      "The Next Chapter Cafe",
                      21.1335963,
                      79.0604003
                    ],
                    [
                      "City Restaurant",
                      21.1113691,
                      79.0687735
                    ],
                    [
                      "LB's Kitchen",
                      21.1590546,
                      79.0800991
                    ],
                    [
                      "Maddtowns Sports Restrobar",
                      21.1585806,
                      79.0808723
                    ],
                    [
                      "Bloggers Cafe & Restaurant",
                      21.1291045,
                      79.0461792
                    ],
                    [
                      "Checkers Restaurant IT Park",
                      21.1174721,
                      79.0470785
                    ],
                    [
                      "Moksh - The Restrolounge",
                      21.1401968,
                      79.080211
                    ],
                    [
                      "Yamazaki Iora Pure Veg Restaurant",
                      21.1474502,
                      79.1374249
                    ],
                    [
                      "House of Caffeine",
                      21.120119,
                      79.0315548
                    ],
                    [
                      "Matka Biryani®",
                      21.168263,
                      79.090504
                    ],
                    [
                      "Wow Bakery and Cafe",
                      21.1916437,
                      79.0779567
                    ],
                    [
                      "Airport Restaurant",
                      21.0907891,
                      79.0544696
                    ],
                    [
                      "ZINQ - Kitchen. Bar. Bistro",
                      21.1482445,
                      79.070747
                    ],
                    [
                      "Brewin Cafe",
                      21.1255531,
                      79.0636545
                    ],
                    [
                      "The Pancake Story",
                      21.1267348,
                      79.058048
                    ],
                    [
                      "Hungry Eyes",
                      21.1591583,
                      79.0807258
                    ],
                    [
                      "Hotel The Great Indian",
                      21.116882,
                      79.017193
                    ],
                    [
                      "Café Coffee Day",
                      21.1182229,
                      79.0469924
                    ],
                    [
                      "Burger Bar",
                      21.1286861,
                      79.0579338
                    ],
                    [
                      "Ruoofh 180º",
                      21.1337441,
                      79.073017
                    ],
                    [
                      "Rajkamal Mess And Restaurant",
                      21.1435184,
                      79.0562983
                    ],
                    [
                      "Babbu's Hotel",
                      21.1198127,
                      79.022038
                    ],
                    [
                      "Hotel New Delhi Darbar",
                      21.1825383,
                      79.0674177
                    ],
                    [
                      "Lucknowala - Biryani Restaurant In Nagpur, Dum Biryani, Nonveg Restaurant, Pure Veg Restaurant, Kebab & Curry In Nagpur",
                      21.1600217,
                      79.0797333
                    ],
                    [
                      "Czaar Restaurant",
                      21.0897252,
                      79.0544052
                    ],
                    [
                      "New Highway Glory Restaurant",
                      21.1533158,
                      79.0164651
                    ],
                    [
                      "Uptown501 Cafe-lounge",
                      21.13956,
                      79.065752
                    ],
                    [
                      "Angel's N Devil's Restro, Lounge & Bar - Best Family Restaurant | Highway Restaurant | Dining Restaurant In Nagpur",
                      21.1228935,
                      79.0364181
                    ],
                    [
                      "AANGAN GAJALI FAMILY RESTAURANT",
                      21.1213764,
                      79.0265138
                    ],
                    [
                      "Mughal's Garden And Restaurant",
                      21.2108873,
                      79.0758273
                    ],
                    [
                      "Param Da Dhaba (Tandoori Roti & Dal)",
                      21.1543326,
                      79.1176641
                    ],
                    [
                      "Pours And Plate",
                      21.1206402,
                      79.0645543
                    ],
                    [
                      "Machan",
                      21.0852489,
                      79.0638962
                    ],
                    [
                      "King's Kitchen",
                      21.1888171,
                      79.0995397
                    ],
                    [
                      "The Chocolate Room",
                      21.1469762,
                      79.0580923
                    ],
                    [
                      "Anna The Restaurant",
                      21.1288627,
                      79.058637
                    ],
                    [
                      "New Shere A Punjab Dhaba and Restaurant",
                      21.2179993,
                      79.0799172
                    ],
                    [
                      "Pizzzenia",
                      21.1124339,
                      79.0629411
                    ],
                    [
                      "Eden Garden Restaurant",
                      21.2122741,
                      79.0778672
                    ],
                    [
                      "Liberty Family Restaurant",
                      21.1593584,
                      79.0792568
                    ],
                    [
                      "Khichadiwala",
                      21.1350502,
                      79.0694412
                    ],
                    [
                      "Arabian Taj Sadar",
                      21.1652741,
                      79.081731
                    ],
                    [
                      "Corridor Seven Coffee Roastery/Standing Room",
                      21.1379033,
                      79.0656236
                    ],
                    [
                      "Domino's Pizza",
                      21.1395852,
                      79.0657022
                    ],
                    [
                      "Nawabs The Royal Mughlai Dining",
                      21.1495973,
                      79.0747941
                    ],
                    [
                      "Carnations Restaurant",
                      21.1600327,
                      79.0772671
                    ],
                    [
                      "Pizza Hut",
                      21.148305,
                      79.133458
                    ],
                    [
                      "Om Restaurant",
                      21.1108761,
                      79.1355511
                    ],
                    [
                      "Mana Bar & Restaurant",
                      21.0993692,
                      79.1013087
                    ],
                    [
                      "The Second Wife Restaurant",
                      21.0597108,
                      79.0554951
                    ],
                    [
                      "SHHORT ORDER PURE VEG RESTAURANT",
                      21.1474603,
                      79.1364221
                    ],
                    [
                      "Ganesh Bhandar",
                      21.1469077,
                      79.1073014
                    ],
                    [
                      "The Kathi Crossing",
                      21.1728679,
                      79.079278
                    ],
                    [
                      "Jog Hospitality Pvt. Ltd",
                      21.1189138,
                      79.0328943
                    ],
                    [
                      "Dahiya Momos",
                      21.0958136,
                      79.070413
                    ],
                    [
                      "Udupi gokula",
                      21.1587041,
                      79.0803609
                    ],
                    [
                      "Della Italia- Icecream Cafe",
                      21.1579056,
                      79.0760453
                    ],
                    [
                      "SURAJ DOSAWALA",
                      21.1359881,
                      79.1085428
                    ],
                    [
                      "Café Illusions",
                      21.1137937,
                      79.0560059
                    ],
                    [
                      "Café Coffee Day",
                      21.1017098,
                      79.0673658
                    ],
                    [
                      "Sagar family Restaurant",
                      21.1865547,
                      79.1008037
                    ],
                    [
                      "Shree Balaji Veg-Non Veg Restaurant",
                      21.1072283,
                      79.1195077
                    ],
                    [
                      "Euphoria Chinese Restaurant",
                      21.1360061,
                      79.1197331
                    ],
                    [
                      "Candle Light Restaurant",
                      21.1146585,
                      79.0419719
                    ],
                    [
                      "Shabana's Herbs & Spices",
                      21.1702876,
                      79.0798356
                    ],
                    [
                      "Haldiram's Station 24X7 - The Railway Coach Restaurant",
                      21.1518907,
                      79.0877105
                    ],
                    [
                      "Indore Namkeens & Restaurant",
                      21.1715641,
                      79.1000601
                    ],
                    [
                      "M.L CANTEEN",
                      21.1539999,
                      79.0967093
                    ],
                    [
                      "Cafe Coffee Corner",
                      21.12632,
                      79.119066
                    ],
                    [
                      "व्हरायटी फूड",
                      21.1170534,
                      79.0649243
                    ],
                    [
                      "Al Rahman",
                      21.1823966,
                      79.0679261
                    ],
                    [
                      "Punjabizz",
                      21.1673513,
                      79.0902141
                    ],
                    [
                      "Raghuveer Restaurant",
                      21.117875,
                      79.015965
                    ],
                    [
                      "Ghugare Nasta Point",
                      21.1445581,
                      79.0817789
                    ],
                    [
                      "Urban Nukkad | Best Pure Veg Restaurant | Best Restaurant | Restaurant",
                      21.120959,
                      79.055607
                    ],
                    [
                      "Nandu Pohewala",
                      21.1358943,
                      79.0968839
                    ],
                    [
                      "Baba Cafe",
                      21.1214141,
                      79.0482647
                    ],
                    [
                      "Ghate's Food Court",
                      21.1469156,
                      79.10389
                    ],
                    [
                      "Three Beans Coffee & Eatery, Civil Lines",
                      21.1512277,
                      79.0688261
                    ],
                    [
                      "Jaiswal Restaurant/Haldiram Sweets,Snacks,Breakfast,Lunch,Dinner",
                      21.1793747,
                      79.117884
                    ],
                    [
                      "IDLI DOSA",
                      21.1169165,
                      79.0702292
                    ],
                    [
                      "The Beach Story",
                      21.2030527,
                      79.0773261
                    ],
                    [
                      "Hotel Sarja",
                      21.1564541,
                      79.1482239
                    ],
                    [
                      "Sonu Restaurant",
                      21.1593426,
                      79.0431123
                    ],
                    [
                      "Suraahi Family Restuarant & Bar",
                      21.1349689,
                      79.1196403
                    ],
                    [
                      "CYBERCITY INTERNET CAFE AND GAMING ZONE",
                      21.1850443,
                      79.0961017
                    ],
                    [
                      "MH-31 Family Garden Restaurant",
                      21.2071571,
                      79.0769828
                    ],
                    [
                      "Ravi's Food",
                      21.2059392,
                      79.0776225
                    ],
                    [
                      "TDM - The Daawat Mahal",
                      21.1180535,
                      79.0343895
                    ],
                    [
                      "Tandoori Chaska",
                      21.1372935,
                      79.1080907
                    ],
                    [
                      "FRULLATO - Sadar",
                      21.164832,
                      79.079791
                    ],
                    [
                      "Green Diamond Dhaba and Family Restaurant",
                      21.2148,
                      79.0789
                    ],
                    [
                      "Gamdoor Restaurant",
                      21.1763786,
                      79.1054126
                    ],
                    [
                      "Amrut Bar",
                      21.1545496,
                      79.1042209
                    ],
                    [
                      "Comesum",
                      21.1518994,
                      79.0883185
                    ],
                    [
                      "Prabhat Restaurant",
                      21.144032,
                      79.055796
                    ],
                    [
                      "All That's Coffee - Dharampeth",
                      21.1404711,
                      79.065874
                    ],
                    [
                      "Ravi's Food",
                      21.1579061,
                      79.0767399
                    ],
                    [
                      "Aatithya Family Restaurant",
                      21.1137352,
                      79.0590274
                    ],
                    [
                      "Reddy's - All About Idli",
                      21.1545633,
                      79.0609718
                    ],
                    [
                      "Parimal Restaurant and Bar",
                      21.106216,
                      79.0840598
                    ],
                    [
                      "Best Biryani",
                      21.1825856,
                      79.0677453
                    ],
                    [
                      "Grand Kashmir Family Restaurant",
                      21.1780566,
                      79.1079296
                    ],
                    [
                      "Two Brother's Shawarma",
                      21.1211416,
                      79.0527116
                    ],
                    [
                      "Collective Blends Cafe",
                      21.1366209,
                      79.059219
                    ],
                    [
                      "Three Bags Full Bistro",
                      21.147055,
                      79.0580185
                    ],
                    [
                      "Mayur Bar & Restaurant",
                      21.1317977,
                      79.0984605
                    ],
                    [
                      "Winq Cafe",
                      21.1483251,
                      79.0703482
                    ],
                    [
                      "The King's Shawarmaa",
                      21.1331969,
                      79.0719156
                    ],
                    [
                      "The Ambazari Restaurant",
                      21.1229757,
                      79.0429775
                    ],
                    [
                      "Mr.Hops Brew Cafe",
                      21.1052698,
                      79.0696965
                    ],
                    [
                      "Maratha Family Garden Restaurant",
                      21.1468821,
                      79.0424042
                    ],
                    [
                      "SHAWARMA KING",
                      21.1308323,
                      79.1195939
                    ],
                    [
                      "Atithi Restaurant & Atithi Tandoor Restaurant",
                      21.10326,
                      79.101258
                    ],
                    [
                      "Haldiram Planet Food",
                      21.1187296,
                      79.0724652
                    ],
                    [
                      "Chandani Bar & Restaurant",
                      21.1326079,
                      79.1153674
                    ],
                    [
                      "Miki Momo",
                      21.1229813,
                      79.0571152
                    ],
                    [
                      "Indiya Oye Radisson Blu",
                      21.1055549,
                      79.0689949
                    ],
                    [
                      "Plated",
                      21.1189049,
                      79.0329112
                    ],
                    [
                      "Ideal Restaurant",
                      21.146822,
                      79.136002
                    ],
                    [
                      "Babbu Biryani",
                      21.1577474,
                      79.0760722
                    ],
                    [
                      "Mad fries (green)",
                      21.1313561,
                      79.1195916
                    ],
                    [
                      "The Bali's Cafe",
                      21.1467147,
                      79.1356171
                    ],
                    [
                      "Bawarchi Restaurant",
                      21.1403438,
                      79.1457378
                    ],
                    [
                      "Café Coffee Day",
                      21.123303,
                      79.0643351
                    ],
                    [
                      "UFO Fries & Corn",
                      21.1288667,
                      79.058652
                    ],
                    [
                      "Dali - The Art Cafe'",
                      21.1049975,
                      79.0692248
                    ],
                    [
                      "Flame And Fire of God",
                      21.1575407,
                      79.077373
                    ],
                    [
                      "Bombaywala Sweets - V4 Veggie Restaurant",
                      21.1189094,
                      79.0204466
                    ],
                    [
                      "Jagdish Restaurant and Mess",
                      21.1313167,
                      79.0534762
                    ],
                    [
                      "Haveli Family Garden Restaurant",
                      21.1812818,
                      79.0389671
                    ],
                    [
                      "Cream Corner",
                      21.134298,
                      79.074861
                    ],
                    [
                      "Chafekar Dugdha Mandir",
                      21.1436422,
                      79.081743
                    ],
                    [
                      "Jitendra Pure Veg Restaurant",
                      21.1387264,
                      79.0833247
                    ],
                    [
                      "Istaqbaal Restaurant",
                      21.163834,
                      79.0798748
                    ],
                    [
                      "Cafe Donal",
                      21.113656,
                      79.045134
                    ],
                    [
                      "The Creative Kitchen Radisson Blu",
                      21.1055316,
                      79.0689483
                    ],
                    [
                      "Temptation café",
                      21.1305018,
                      79.1192577
                    ],
                    [
                      "Varhadi village",
                      21.1232758,
                      79.0419764
                    ],
                    [
                      "Dada South Indian Food / Anna Dosawala",
                      21.0970175,
                      79.0707621
                    ],
                    [
                      "Christ Coffee Day",
                      21.1575038,
                      79.0776261
                    ],
                    [
                      "New Amar Prem Restaurant",
                      21.1416756,
                      79.080615
                    ],
                    [
                      "Dawat Garden Family Restaurant",
                      21.0950918,
                      79.0658478
                    ],
                    [
                      "Taj Restaurant",
                      21.1742385,
                      79.1063999
                    ],
                    [
                      "Diplomat Restaurant",
                      21.1441597,
                      79.0893591
                    ],
                    [
                      "Kirti Restaurant",
                      21.1215884,
                      79.0564619
                    ],
                    [
                      "Babbu's Celebration",
                      21.1187374,
                      79.0331403
                    ],
                    [
                      "GPS Highway Restaurant",
                      21.0668622,
                      79.0581
                    ],
                    [
                      "Hotel New Delhi Darbar",
                      21.1870473,
                      79.0759357
                    ],
                    [
                      "Shree Ashtavinayak Sweets,and Namkeen",
                      21.1451085,
                      79.1340491
                    ],
                    [
                      "Eelaichii",
                      21.113444,
                      79.0575056
                    ],
                    [
                      "Bouffage Binge And Spirits",
                      21.1564643,
                      79.0812321
                    ],
                    [
                      "Majestic Masala",
                      21.1338326,
                      79.0729393
                    ],
                    [
                      "Habits Restaurant",
                      21.1475004,
                      79.1363003
                    ],
                    [
                      "Mahek biryaniwala The family restaurant",
                      21.165627,
                      79.082268
                    ],
                    [
                      "Bajrang Hotel",
                      21.1797508,
                      79.089943
                    ],
                    [
                      "Panchtara Bar Shop & Restaurant",
                      21.1055319,
                      79.1032813
                    ],
                    [
                      "Burger King",
                      21.1328391,
                      79.0967158
                    ],
                    [
                      "Java - The Coffee Club",
                      21.1191311,
                      79.0470736
                    ],
                    [
                      "Famous Bangali Babu Sandwich",
                      21.1531702,
                      79.1088751
                    ],
                    [
                      "The Brew Crew | Nagpur",
                      21.1293672,
                      79.0602964
                    ],
                    [
                      "Pawan Samosawala",
                      21.1584896,
                      79.0497757
                    ],
                    [
                      "Shivaay Dahiya Momos & Chinese",
                      21.1126707,
                      79.0468519
                    ],
                    [
                      "Toscana cafe and bistro",
                      21.1470468,
                      79.0580883
                    ],
                    [
                      "Barapatre Saoji hotel",
                      21.1365799,
                      79.0833456
                    ],
                    [
                      "Moti Mahal Delux",
                      21.14518,
                      79.0894224
                    ],
                    [
                      "Rangla Punjab Restaurant",
                      21.1814834,
                      79.1089741
                    ],
                    [
                      "Goli Vada Pav",
                      21.1771001,
                      79.0481557
                    ],
                    [
                      "7/12 FAMILY RESTAURANT",
                      21.0728047,
                      79.0596803
                    ],
                    [
                      "Zaika Restaurant",
                      21.1835171,
                      79.1157128
                    ],
                    [
                      "Bala's Café",
                      21.1699717,
                      79.0789146
                    ],
                    [
                      "La Pasta Fresca Deli",
                      21.1390163,
                      79.0659767
                    ],
                    [
                      "UNLTD PizzaZ",
                      21.130915,
                      79.0488799
                    ],
                    [
                      "The Tiger Saoji Family Restaurant",
                      21.1143773,
                      79.0310858
                    ],
                    [
                      "Theody",
                      21.1410626,
                      79.0627447
                    ],
                    [
                      "Sonu Restaurant",
                      21.2002459,
                      79.0678276
                    ],
                    [
                      "Jay Bhole Restaurant",
                      21.120017,
                      79.0400802
                    ],
                    [
                      "New taj biryani centre",
                      21.1743795,
                      79.1107352
                    ],
                    [
                      "Anand Bhandar, Sitabuldi, Nagpur",
                      21.142818,
                      79.0815043
                    ],
                    [
                      "Shivraj The Thali Restaurant",
                      21.1529871,
                      79.0942161
                    ],
                    [
                      "Casa Unplugged",
                      21.122408,
                      79.0337737
                    ],
                    [
                      "Anandam Veg Multi Cuisine Restaurant",
                      21.1521754,
                      79.0228072
                    ],
                    [
                      "Tadka Restaurant & Caterers",
                      21.1396255,
                      79.066158
                    ],
                    [
                      "KB's Bucket Biryani",
                      21.1839005,
                      79.0564081
                    ],
                    [
                      "Delhi Grill",
                      21.1679762,
                      79.0791137
                    ],
                    [
                      "MURTY South Indian Restaurant",
                      21.179177,
                      79.055638
                    ],
                    [
                      "Oval Beans Coffee /Oval Pizza",
                      21.1178586,
                      79.0348812
                    ],
                    [
                      "Voka Bar",
                      21.1885883,
                      79.094602
                    ],
                    [
                      "Afghan Darbar Restaurant & Takeaways",
                      21.1826646,
                      79.1240524
                    ],
                    [
                      "JMV Food Zone",
                      21.1609894,
                      79.079679
                    ],
                    [
                      "Delhi darbar biryani",
                      21.1823923,
                      79.0666749
                    ],
                    [
                      "Editors Choice Restaurant",
                      21.1388803,
                      79.0800181
                    ],
                    [
                      "Gangaur",
                      21.1411111,
                      79.060738
                    ],
                    [
                      "Cafe Fruita",
                      21.1279244,
                      79.1195647
                    ],
                    [
                      "Indore Restaurant Shanti Nagar",
                      21.1600945,
                      79.1205997
                    ],
                    [
                      "FOOD LOGIN",
                      21.1645447,
                      79.0443899
                    ],
                    [
                      "R.B. Bar & Restaurants",
                      21.1285459,
                      79.1409393
                    ],
                    [
                      "Scam Fast Food",
                      21.1051762,
                      79.1060065
                    ],
                    [
                      "222 Backyard",
                      21.1440757,
                      79.0608554
                    ],
                    [
                      "R. Rajkumar Family Chinese Restaurant",
                      21.1894261,
                      79.1002253
                    ],
                    [
                      "Ann Bhojan Mess",
                      21.091575,
                      79.0767033
                    ],
                    [
                      "Aaswad family restaurant",
                      21.1250435,
                      79.1185421
                    ],
                    [
                      "Arya restaurant",
                      21.134272,
                      79.1197268
                    ],
                    [
                      "Food Beyond Fantasy",
                      21.1531278,
                      79.0175782
                    ],
                    [
                      "Jai Bhole Halba Saoji Bhojnalay",
                      21.1142203,
                      79.0437112
                    ],
                    [
                      "Mock Drills Restaurant",
                      21.1023819,
                      79.0731551
                    ],
                    [
                      "Oggy's Cafe",
                      21.1321988,
                      79.0621576
                    ],
                    [
                      "Murliwala Cafe & Restaurant",
                      21.1339025,
                      79.1197302
                    ],
                    [
                      "Chariot Bar And Restaurant",
                      21.1407176,
                      79.0623387
                    ],
                    [
                      "Gayatri Restaurant Bhola",
                      21.1147245,
                      79.0621421
                    ],
                    [
                      "SURYAKANT SAOJI(SAVJI)",
                      21.1156544,
                      79.0409716
                    ],
                    [
                      "Jaiswal Biryani House",
                      21.1196305,
                      79.0210604
                    ],
                    [
                      "The headquarters",
                      21.1886657,
                      79.0952055
                    ],
                    [
                      "B B C Courtyard Restaurant",
                      21.182806,
                      79.1154695
                    ],
                    [
                      "Tanveer",
                      21.1539964,
                      79.0965853
                    ],
                    [
                      "Café Coffee Day",
                      21.143228,
                      79.0803772
                    ],
                    [
                      "Bartania Hotel",
                      21.1654968,
                      79.0820662
                    ],
                    [
                      "Cafe Coffee Day",
                      21.1481213,
                      79.0924235
                    ],
                    [
                      "YAMAZAKI Pan-Asian Cuisine",
                      21.127788,
                      79.0632735
                    ],
                    [
                      "Riddhi Siddhi Chat Center",
                      21.1518189,
                      79.121604
                    ],
                    [
                      "Goodluck Restaurant & Bar",
                      21.17632,
                      79.044546
                    ],
                    [
                      "SWAD PALACE FAMILY RESTAURANT AND BAR",
                      21.215064,
                      79.0789485
                    ],
                    [
                      "Biryani Center",
                      21.1625718,
                      79.0734208
                    ],
                    [
                      "Cafe Seven O' Eleven (Cafe 7 O' 11)",
                      21.1242008,
                      79.058126
                    ],
                    [
                      "Biryani By Kilo - Nagpur",
                      21.1400281,
                      79.0560016
                    ],
                    [
                      "Corner Point Family Restaurant & Lounge",
                      21.1080555,
                      79.1217341
                    ],
                    [
                      "Corner Point Family Restaurant & Lounge",
                      21.1080555,
                      79.1217341
                    ],
                    [
                      "Samadhan Bar and Restaurant",
                      21.129866,
                      79.0620234
                    ],
                    [
                      "Fuel station cafe & restro",
                      21.1382662,
                      79.1029928
                    ],
                    [
                      "Fluff Artisan Cafe",
                      21.122768,
                      79.0570095
                    ],
                    [
                      "Aahar",
                      21.0961098,
                      79.0769602
                    ],
                    [
                      "Dosa Dlite Restro & Food Court",
                      21.1466686,
                      79.1354284
                    ],
                    [
                      "Garamshala cafe",
                      21.1694071,
                      79.0773947
                    ],
                    [
                      "The Destination",
                      21.1536244,
                      79.0140391
                    ],
                    [
                      "Yahi Cafe & Restro",
                      21.1321092,
                      79.0621933
                    ],
                    [
                      "Rajesh Chinese Centre (जुना स्वादिष्ट)",
                      21.1307079,
                      79.063736
                    ],
                    [
                      "Tea Bar",
                      21.1255357,
                      79.06387
                    ],
                    [
                      "Cafe Hide n' seek",
                      21.1679985,
                      79.0786722
                    ],
                    [
                      "The Beer Cafe",
                      21.14699,
                      79.0580179
                    ],
                    [
                      "Shri Krishna Restaurant",
                      21.1179324,
                      79.0157881
                    ],
                    [
                      "Hira's family Garden Resturant",
                      21.1056296,
                      79.1059038
                    ],
                    [
                      "Priya Bar & Restaurant",
                      21.1329107,
                      79.1076963
                    ],
                    [
                      "Rajveer family restaurant and cafe",
                      21.1054231,
                      79.0916999
                    ],
                    [
                      "Enfield Cafe",
                      21.1330495,
                      79.1196252
                    ],
                    [
                      "I love Momo",
                      21.1210532,
                      79.0531134
                    ],
                    [
                      "4Brothers, Restaurant,Pure Vegetarian",
                      21.2085991,
                      79.0650113
                    ],
                    [
                      "Mama's kitchen",
                      21.1068667,
                      79.0686588
                    ],
                    [
                      "Moon Light Bar & Restaurant",
                      21.1237034,
                      79.1144136
                    ],
                    [
                      "Babbu galaxy restaurant",
                      21.1688072,
                      79.0778984
                    ],
                    [
                      "Kusum Tea stall 24*7",
                      21.1621335,
                      79.0152497
                    ],
                    [
                      "JIMO",
                      21.1078459,
                      79.0679034
                    ],
                    [
                      "Naidu's kitchen",
                      21.1567377,
                      79.0835568
                    ],
                    [
                      "Hungama Street Cafe",
                      21.1413411,
                      79.0663671
                    ],
                    [
                      "Cafe Chintamani",
                      21.1388531,
                      79.1237493
                    ],
                    [
                      "Sakuraa's -The Bubble World",
                      21.13147,
                      79.1196164
                    ],
                    [
                      "Haji Hotel",
                      21.1562986,
                      79.0964636
                    ],
                    [
                      "Cafeana Cafe Studio & Lounge",
                      21.1319313,
                      79.11667
                    ],
                    [
                      "Junction Bar & Restaurant",
                      21.1478386,
                      79.1454612
                    ],
                    [
                      "Ivory House Restaurant",
                      21.105475,
                      79.058836
                    ],
                    [
                      "Patlacha Wada Family Restaurant",
                      21.1239796,
                      79.1285693
                    ],
                    [
                      "Misal Darbar - Nagpur",
                      21.1209242,
                      79.0557405
                    ],
                    [
                      "COFFEE HOUSE",
                      21.1389772,
                      79.0834033
                    ],
                    [
                      "Prashant Bar And Restaurant",
                      21.1223336,
                      79.1051301
                    ],
                    [
                      "NP's Cafe",
                      21.1286408,
                      79.1195691
                    ],
                    [
                      "al-yaseen fastfood & beverage",
                      21.1575272,
                      79.0963241
                    ],
                    [
                      "Dabo club and kitchen",
                      21.0877954,
                      79.0644116
                    ],
                    [
                      "Java Chay - जावा चाय",
                      21.1907266,
                      79.0714415
                    ],
                    [
                      "Nandanvan Street House",
                      21.1329598,
                      79.1196242
                    ],
                    [
                      "Thakur's Family Garden Restaurant",
                      21.0844675,
                      79.0639186
                    ],
                    [
                      "Payal Bar & Restaurant",
                      21.149102,
                      79.1482338
                    ],
                    [
                      "Food Beyond Fantasy",
                      21.207652,
                      79.0774882
                    ],
                    [
                      "Dpd",
                      21.1110651,
                      79.0604385
                    ],
                    [
                      "Cafe Republic",
                      21.1094821,
                      79.0693685
                    ],
                    [
                      "Abhi Saoji",
                      21.186374,
                      79.071108
                    ],
                    [
                      "Zilha biryani",
                      21.1545274,
                      79.0719476
                    ],
                    [
                      "Hotel Taj Biryani & Chinese",
                      21.1070844,
                      79.1194391
                    ],
                    [
                      "EATALY CAFE'",
                      21.1579714,
                      79.0767276
                    ],
                    [
                      "The Brewed Leaf",
                      21.143558,
                      79.0567781
                    ],
                    [
                      "Sandpizz café",
                      21.1062494,
                      79.088469
                    ],
                    [
                      "Mohanbhog Sweet And Namkeen",
                      21.163947,
                      79.0797787
                    ],
                    [
                      "Nosh Cafe",
                      21.1339387,
                      79.0557642
                    ],
                    [
                      "dockyard cafe",
                      21.1488013,
                      79.041253
                    ],
                    [
                      "Orchid Multi Cuisine Restaurant",
                      21.118387,
                      79.019345
                    ],
                    [
                      "Biryani Restaurant",
                      21.1231482,
                      79.1098977
                    ],
                    [
                      "Arya Family Restaurant & Bar",
                      21.1594731,
                      79.078937
                    ],
                    [
                      "The Nagpur Vintage",
                      21.1282451,
                      79.1234882
                    ],
                    [
                      "JEPIS Cafe' I Nandanvan (Nagpur)",
                      21.1339116,
                      79.119693
                    ],
                    [
                      "Shikara Restaurant And Lounge",
                      21.1536329,
                      79.0137973
                    ],
                    [
                      "Sangram Bar & Restaurant",
                      21.1383917,
                      79.1181391
                    ],
                    [
                      "GOOGLY",
                      21.1277653,
                      79.0579707
                    ],
                    [
                      "Hari Om Junction Nasta Point",
                      21.0929345,
                      79.068961
                    ],
                    [
                      "Tree House Cafe THC",
                      21.1258511,
                      79.1028133
                    ],
                    [
                      "Gulshan Bakery & Cafe",
                      21.1742492,
                      79.109501
                    ],
                    [
                      "Saoji That Restaurant",
                      21.17576,
                      79.0513239
                    ],
                    [
                      "Saoji Junction Family Restaurant - Nagpuri Saoji, Tandoor, Indian Cuisine, Chinese",
                      21.1086111,
                      79.1221909
                    ],
                    [
                      "Chill House Café",
                      21.1236059,
                      79.1132185
                    ],
                    [
                      "Gangour Restaurant",
                      21.1423293,
                      79.0819435
                    ],
                    [
                      "Bhatiya's Kitchen",
                      21.1768057,
                      79.0902938
                    ],
                    [
                      "CEO cafe (Checkeatout cafe)",
                      21.1297575,
                      79.1151761
                    ],
                    [
                      "Mayuri Saoji Bar And Restaurant",
                      21.1727827,
                      79.1165514
                    ],
                    [
                      "Burger Pav Cafe",
                      21.1289579,
                      79.0628094
                    ],
                    [
                      "POKKET CAFE",
                      21.0978221,
                      79.0683378
                    ],
                    [
                      "MANTRA MARG BANGALORE RESTAURANT",
                      21.1612617,
                      79.0799693
                    ],
                    [
                      "The Nama's Kitchen",
                      21.1486407,
                      79.0436053
                    ],
                    [
                      "De Martini Lounge",
                      21.1421211,
                      79.0611867
                    ],
                    [
                      "Hotel Al Arafat",
                      21.1489082,
                      79.1140477
                    ],
                    [
                      "Arina cafe and Hotcup",
                      21.1905611,
                      79.0918781
                    ],
                    [
                      "Cafe Good Good",
                      21.1404572,
                      79.0614709
                    ],
                    [
                      "The Palate (Pure Veg Restaurant)",
                      21.137334,
                      79.0657793
                    ],
                    [
                      "The Indian Eatery",
                      21.1513451,
                      79.1472568
                    ],
                    [
                      "Nishigandha Restaurent",
                      21.189135,
                      79.0785159
                    ],
                    [
                      "7 bucks cafe",
                      21.1471024,
                      79.0570056
                    ],
                    [
                      "BHAYYAJI SAOJI & FAMILY RESTAURANT",
                      21.1087504,
                      79.0412651
                    ],
                    [
                      "Behrouz Biryani Manewada",
                      21.1065825,
                      79.1147973
                    ],
                    [
                      "Ghodpage saoji restaurant",
                      21.1498338,
                      79.110617
                    ],
                    [
                      "Kanchan Restaurant And Bar",
                      21.1455319,
                      79.1200272
                    ],
                    [
                      "Shree Sharanya Mahal- Restaurant and Banquet Hall in Nagpur",
                      21.123843,
                      79.0448138
                    ],
                    [
                      "Garage The Lounge & Cafe",
                      21.1300622,
                      79.1192719
                    ],
                    [
                      "NEW THALI KING",
                      21.1091595,
                      79.0447976
                    ],
                    [
                      "Jains food point",
                      21.1541245,
                      79.1174653
                    ],
                    [
                      "ROBO 2.0 [ Future Of Dining ]",
                      21.143275,
                      79.080347
                    ],
                    [
                      "Jay Durga Restaurant",
                      21.188636,
                      79.078695
                    ],
                    [
                      "Median Grilled",
                      21.0912605,
                      79.07554
                    ],
                    [
                      "Ecstasy cafe and bakery",
                      21.1188132,
                      79.0319283
                    ],
                    [
                      "Buland Darbar - Biryani & Kebabs",
                      21.1275489,
                      79.0605129
                    ],
                    [
                      "Maifeel cafe",
                      21.1798969,
                      79.0422023
                    ],
                    [
                      "Hangout Cafe",
                      21.1384361,
                      79.1215478
                    ],
                    [
                      "Khalsa Hotel",
                      21.1450329,
                      79.0880709
                    ],
                    [
                      "Ni Hao Restaurant",
                      21.1057846,
                      79.0696649
                    ],
                    [
                      "Shalimar Hotel Veg & Non Veg",
                      21.1729472,
                      79.1293153
                    ],
                    [
                      "Small Town Cafe",
                      21.1312582,
                      79.1164
                    ],
                    [
                      "Ice And Fire Manish Nagar",
                      21.0949856,
                      79.0698329
                    ],
                    [
                      "The Chai Chaska Bar & Cafe",
                      21.1713271,
                      79.0387473
                    ],
                    [
                      "Maharaja thali",
                      21.1048699,
                      79.0624613
                    ],
                    [
                      "Spice Mystery",
                      21.1035423,
                      79.0641446
                    ],
                    [
                      "Hotel Oojam & Bar",
                      21.1054648,
                      79.0960917
                    ],
                    [
                      "Mad About Coffee",
                      21.1423983,
                      79.0612415
                    ],
                    [
                      "Tea Tonique cafe",
                      21.1384253,
                      79.0833463
                    ],
                    [
                      "Pizza Hut",
                      21.171271,
                      79.079411
                    ],
                    [
                      "Manmeet Lounge And Restaurant",
                      21.1954231,
                      79.0998382
                    ],
                    [
                      "Just Taste Us(cloud kitchen/dark kitchen/gosht kitchen)",
                      21.0863193,
                      79.0671352
                    ],
                    [
                      "Momma's Cafe",
                      21.1407641,
                      79.0643145
                    ],
                    [
                      "House Of Tadka",
                      21.1271357,
                      79.101831
                    ],
                    [
                      "Namaste Mexico",
                      21.1532928,
                      79.1547588
                    ],
                    [
                      "Nitro hub cafe & restro",
                      21.1833511,
                      79.0865865
                    ],
                    [
                      "Pinto saoji restaurant",
                      21.1493567,
                      79.0409552
                    ],
                    [
                      "New Singh's Barbeque & Curry - Best Restaurant Near Medical Chowk Nagpur",
                      21.1309062,
                      79.0992617
                    ],
                    [
                      "Banjara Rasoi",
                      21.1126738,
                      79.0619756
                    ],
                    [
                      "Laziz Affair Family Restaurant (Veg & Non-Veg)",
                      21.1874622,
                      79.0790271
                    ],
                    [
                      "Nourrir Cafe",
                      21.1407643,
                      79.0644107
                    ],
                    [
                      "Arabica Coffee Cafe",
                      21.1294727,
                      79.0606187
                    ],
                    [
                      "Mother & Sun Foods",
                      21.1168525,
                      79.0695329
                    ],
                    [
                      "Treat At Street Cafe",
                      21.1126599,
                      79.0522062
                    ],
                    [
                      "Taj Shahi Biriyani Centre",
                      21.1339883,
                      79.1248918
                    ],
                    [
                      "Coffee Story",
                      21.1421978,
                      79.063458
                    ],
                    [
                      "Maa Durga Restaurant Paratha House",
                      21.1202271,
                      79.0309761
                    ],
                    [
                      "Indore namkeen and restaurant",
                      21.179641,
                      79.0908251
                    ],
                    [
                      "Café Oliver",
                      21.1053849,
                      79.0963228
                    ],
                    [
                      "The Pixie Bee, Cafe and Bistro",
                      21.1462311,
                      79.0619125
                    ],
                    [
                      "Cafe tunes",
                      21.1505885,
                      79.074899
                    ],
                    [
                      "Om Shakti Saoji Bhojnalaya, Manish nagar",
                      21.0912604,
                      79.0773364
                    ],
                    [
                      "Galaxy Family Restaurant",
                      21.1661166,
                      79.0163067
                    ],
                    [
                      "Grey Hills The Restaurant",
                      21.1288746,
                      79.058654
                    ],
                    [
                      "Cafe Pride Nagpur",
                      21.0870753,
                      79.0644917
                    ],
                    [
                      "Shri Saikrupa South Indian Fast Food Corner",
                      21.1489512,
                      79.1183511
                    ],
                    [
                      "Woodspeen",
                      21.1322409,
                      79.0809111
                    ],
                    [
                      "Classmate Cafe | Leading Cafe In Nagpur",
                      21.134366,
                      79.1159905
                    ],
                    [
                      "Nitin Veg Restaurant",
                      21.1430113,
                      79.0898395
                    ],
                    [
                      "Casadepeixe & Grilled Fish",
                      21.1103482,
                      79.0440517
                    ],
                    [
                      "Feliz Cafe",
                      21.1244323,
                      79.1133116
                    ],
                    [
                      "R.D. Mess & Caterers",
                      21.1100855,
                      79.0467891
                    ],
                    [
                      "Greens Pure Veg Multicuisine Restaurant",
                      21.1437057,
                      79.0567736
                    ],
                    [
                      "Café Coffee Day",
                      21.1729626,
                      79.10038
                    ],
                    [
                      "Raza Biryani Centre",
                      21.1472986,
                      79.1019176
                    ],
                    [
                      "Sonal Savji Restaurant",
                      21.1878081,
                      79.1006334
                    ],
                    [
                      "Halba",
                      21.1489716,
                      79.118083
                    ],
                    [
                      "Bombaywala Sweets & Namkeen hingna road",
                      21.1189724,
                      79.0206555
                    ],
                    [
                      "Moti Mahal",
                      21.1438436,
                      79.0798818
                    ],
                    [
                      "THE DUGOUT CAFE AND ICE CREAM PARLOUR",
                      21.1333539,
                      79.1000686
                    ],
                    [
                      "AJANTA RESTAURANT AND BAR",
                      21.1483526,
                      79.1235874
                    ],
                    [
                      "All That's Coffee - Wardhaman Nagar",
                      21.1472187,
                      79.1369226
                    ],
                    [
                      "Boston Tea and Cafe",
                      21.1205537,
                      79.0252697
                    ],
                    [
                      "Taj Matka Roti",
                      21.1460428,
                      79.0565064
                    ],
                    [
                      "Khake Dekh Cafe",
                      21.1276108,
                      79.0606473
                    ],
                    [
                      "The Host - The House of Spicy Tadka",
                      21.1236063,
                      79.1174883
                    ],
                    [
                      "Haldiram's",
                      21.0904888,
                      79.054266
                    ],
                    [
                      "Gayatri Restaurant & Bhojanalaya",
                      21.1173354,
                      79.0429434
                    ],
                    [
                      "Delhiwala Restaurant",
                      21.1872137,
                      79.0788435
                    ],
                    [
                      "Maratha - Shekhar Saoji",
                      21.1176545,
                      79.0471316
                    ],
                    [
                      "Coffee Shots",
                      21.0915746,
                      79.0741788
                    ],
                    [
                      "Uncle John's Pizza Nagpur",
                      21.1801592,
                      79.0583884
                    ],
                    [
                      "MIITRO RESTRO & CAFE",
                      21.1330216,
                      79.1224437
                    ],
                    [
                      "The new age cafe",
                      21.120805,
                      79.0248495
                    ],
                    [
                      "The barbeque delight",
                      21.1290301,
                      79.122832
                    ],
                    [
                      "Ratan Bar & Restaurant",
                      21.1316885,
                      79.113261
                    ],
                    [
                      "Goli Vadapav Naka",
                      21.1194767,
                      79.0216432
                    ],
                    [
                      "CyberValley Net Cafe",
                      21.175091,
                      79.039446
                    ],
                    [
                      "The Long Drive",
                      21.0854583,
                      79.0639238
                    ],
                    [
                      "Tealogy Cafe - Glocal Mall Nagpur",
                      21.1425953,
                      79.082001
                    ],
                    [
                      "Arabian Tandoor Family Garden Restaurant",
                      21.2083128,
                      79.0767515
                    ],
                    [
                      "Behrouz Biryani T-Point Hingna",
                      21.122171,
                      79.0323164
                    ],
                    [
                      "ibiza Lounge and Restaurant",
                      21.1208321,
                      79.0472946
                    ],
                    [
                      "Ketan Restaurant",
                      21.1746881,
                      79.1452667
                    ],
                    [
                      "Mona Saoji Bar And Restaurant",
                      21.1437592,
                      79.1199101
                    ],
                    [
                      "Behrouz Biryani Sadar",
                      21.1630475,
                      79.0733809
                    ],
                    [
                      "The Local House Cafe",
                      21.128845,
                      79.0586516
                    ],
                    [
                      "Mint Leaf",
                      21.1336299,
                      79.0730875
                    ],
                    [
                      "The Rise and Grind",
                      21.1375349,
                      79.0657148
                    ],
                    [
                      "Bachelor's Tea & Cafe",
                      21.1197581,
                      79.1045425
                    ],
                    [
                      "Dil Punjabi Dhaba",
                      21.1683707,
                      79.0916061
                    ],
                    [
                      "Ashish Restaurants",
                      21.1241505,
                      79.1381457
                    ],
                    [
                      "Hotel Noori Plaza - Biryani Centre in Nagpur",
                      21.1425551,
                      79.0592287
                    ],
                    [
                      "New Maratha Family Restaurant",
                      21.1143511,
                      79.0713904
                    ],
                    [
                      "Family Food",
                      21.116751,
                      79.065008
                    ],
                    [
                      "Utsav family restaurant",
                      21.0582723,
                      79.054821
                    ],
                    [
                      "The Pixie Bee",
                      21.1294334,
                      79.060509
                    ],
                    [
                      "Hotel Kaveri Bar & Restaurant",
                      21.1443495,
                      79.0778999
                    ],
                    [
                      "Venkateswara South Indian Restaurant",
                      21.1402959,
                      79.05618
                    ],
                    [
                      "chai villa pratapnagar",
                      21.1128717,
                      79.0527929
                    ],
                    [
                      "Patlancha Pahunchar Restaurant",
                      21.1212111,
                      79.1362459
                    ],
                    [
                      "Mama Chicken Mama Franky House",
                      21.0955058,
                      79.1083625
                    ],
                    [
                      "The Square One Café",
                      21.1260399,
                      79.058624
                    ],
                    [
                      "Lakhan Restaurant",
                      21.1512,
                      79.152773
                    ],
                    [
                      "99 Bar & Restaurant",
                      21.1731389,
                      79.1165101
                    ],
                    [
                      "hotel Nawab",
                      21.1823818,
                      79.0667268
                    ],
                    [
                      "Saplings Cafe",
                      21.1072379,
                      79.0476848
                    ],
                    [
                      "The Chaat Hut",
                      21.1265045,
                      79.1348654
                    ],
                    [
                      "The Desi Food Court - Couple Friendly Cafe, Kitty Party, Cafe In Dharampeth",
                      21.1390103,
                      79.0595712
                    ],
                    [
                      "Silverpoint Internet Cafe",
                      21.1096014,
                      79.0631671
                    ],
                    [
                      "GREEN CHILLI FAMILY SAOJI RESTAURANT",
                      21.1056554,
                      79.0710836
                    ],
                    [
                      "Himalaya Bar And Restaurant",
                      21.1305971,
                      79.1188564
                    ],
                    [
                      "MAAN - PAN Family Garden Restaurant",
                      21.1290481,
                      79.1228157
                    ],
                    [
                      "The Shawarma Point",
                      21.1177562,
                      79.0471554
                    ],
                    [
                      "Airport Centre Point- Golden Harvest- Dine In & Take Away",
                      21.1572898,
                      79.0819708
                    ],
                    [
                      "The tree of wonder",
                      21.1863506,
                      79.0711078
                    ],
                    [
                      "TEN 11 Cafe & Restro",
                      21.1793072,
                      79.0908393
                    ],
                    [
                      "Fuel Station Cafe & Restro",
                      21.1795985,
                      79.0891395
                    ],
                    [
                      "Rajkot Wala",
                      21.113891,
                      79.040693
                    ],
                    [
                      "Dana Pani Restaurant",
                      21.1151228,
                      79.0300396
                    ],
                    [
                      "Fitfuelz",
                      21.1164463,
                      79.0670778
                    ],
                    [
                      "Cafe Purple HUB ( Map of Soul )",
                      21.1148435,
                      79.0401569
                    ],
                    [
                      "Indore's Heart Beat Bar And Restaurant",
                      21.1521894,
                      79.023148
                    ],
                    [
                      "Cafe saajan",
                      21.1388896,
                      79.1324245
                    ],
                    [
                      "High On 10",
                      21.1396065,
                      79.0661268
                    ],
                    [
                      "Raghuvir Hotel",
                      21.1178427,
                      79.0160188
                    ],
                    [
                      "Zunka Bhakar Restaurant",
                      21.1319463,
                      79.0955275
                    ],
                    [
                      "MAD CASA Cafe",
                      21.1481744,
                      79.1464478
                    ],
                    [
                      "Hotel Raza galaxy",
                      21.1815447,
                      79.0643898
                    ],
                    [
                      "Blue Star Bar & Restaurant",
                      21.1473001,
                      79.1370813
                    ],
                    [
                      "Mauli chulha V/NV Family Restaurant",
                      21.0946007,
                      79.0697284
                    ],
                    [
                      "Bokade Saoji And Family Restaurant",
                      21.1065583,
                      79.1346683
                    ],
                    [
                      "Mount road Nandri",
                      21.1585127,
                      79.081643
                    ],
                    [
                      "chopstic food cafe",
                      21.1051999,
                      79.0948238
                    ],
                    [
                      "Haveli Restaurant",
                      21.113131,
                      79.041518
                    ],
                    [
                      "Kunal Saoji Restaurant",
                      21.1477005,
                      79.1184536
                    ],
                    [
                      "Froozo cafe",
                      21.1304627,
                      79.1192862
                    ],
                    [
                      "T.S.M Cafe",
                      21.1309565,
                      79.0492623
                    ],
                    [
                      "Chatak Matak Restaurant",
                      21.1211014,
                      79.0561576
                    ],
                    [
                      "Bhannat Cafe",
                      21.0953028,
                      79.0784295
                    ],
                    [
                      "KASA cafe",
                      21.127516,
                      79.0927199
                    ],
                    [
                      "The HUT House &Cafe",
                      21.1322215,
                      79.1166898
                    ],
                    [
                      "Marshal Cyber Cafe",
                      21.1171953,
                      79.0925324
                    ],
                    [
                      "THE PUNJABI GRILL",
                      21.1484327,
                      79.1317231
                    ],
                    [
                      "CAFE BONJOUR MAMA",
                      21.1482355,
                      79.1332149
                    ],
                    [
                      "Calcutta Bar & Restaurant",
                      21.1439127,
                      79.0796096
                    ],
                    [
                      "My eighteen cafe",
                      21.1318327,
                      79.1145054
                    ],
                    [
                      "Karma Yogi South Indian Nashta Point",
                      21.0951574,
                      79.0791365
                    ],
                    [
                      "Hotel Swad Nagpur",
                      21.1395703,
                      79.094999
                    ],
                    [
                      "Shalimar Bar & Restaurant",
                      21.1453877,
                      79.0898483
                    ],
                    [
                      "SNOW STATION CAFE, A DESERT HOUSE",
                      21.1485636,
                      79.1246095
                    ],
                    [
                      "Aanya Tiffin services",
                      21.1696131,
                      79.0798798
                    ],
                    [
                      "Black Diamond Restaurant and Caterers",
                      21.158386,
                      79.0571028
                    ],
                    [
                      "The Crazy Cafe",
                      21.128185,
                      79.082775
                    ],
                    [
                      "Sandwich King",
                      21.1221175,
                      79.0321277
                    ],
                    [
                      "THE UPPER DECK RESTAURANT",
                      21.2033843,
                      79.0773204
                    ],
                    [
                      "Babbu's Hotel",
                      21.1423906,
                      79.0613311
                    ],
                    [
                      "Million Dollar Cafe",
                      21.1405564,
                      79.057646
                    ],
                    [
                      "STAR RESTAURANT AND PATEL CELEBRATION HALL",
                      21.1779927,
                      79.1504843
                    ],
                    [
                      "Chaska Chai",
                      21.1861249,
                      79.0505389
                    ],
                    [
                      "CUBA",
                      21.1406841,
                      79.0608687
                    ],
                    [
                      "Pakodewala Samosewala",
                      21.1583658,
                      79.0495022
                    ],
                    [
                      "The Egg Break - Jafar Nagar - Nagpur",
                      21.1823481,
                      79.0665787
                    ],
                    [
                      "BURGERO",
                      21.1802672,
                      79.0942988
                    ],
                    [
                      "Faasos Sadar",
                      21.1629004,
                      79.0760619
                    ],
                    [
                      "Mahi Restaurant Veg-Nonveg",
                      21.1053076,
                      79.1069575
                    ],
                    [
                      "West Coast Cafe",
                      21.1297455,
                      79.0464473
                    ],
                    [
                      "Dakshinayam south Indian",
                      21.1399235,
                      79.0951024
                    ],
                    [
                      "Rajesh Bhojanalay & Restaurant",
                      21.1395355,
                      79.0955636
                    ],
                    [
                      "Rajesh Bhojanalay & Restaurant",
                      21.1395355,
                      79.0955636
                    ],
                    [
                      "Arun's Café",
                      21.1650395,
                      79.0812623
                    ],
                    [
                      "DIPANSHU SAOJI - The Best Saoji Hotel / Restaurant in Nagpur",
                      21.1736148,
                      79.0598166
                    ],
                    [
                      "Cybervilla Net Café",
                      21.1155858,
                      79.1338566
                    ],
                    [
                      "Shree'z Restaurant Nagpur",
                      21.1481085,
                      79.0520008
                    ],
                    [
                      "Hotel Sanjari Taj",
                      21.2082191,
                      79.077046
                    ],
                    [
                      "Puran Da Dhaba",
                      21.0869846,
                      79.064577
                    ],
                    [
                      "KGN Restaurant & Sweet Centre",
                      21.168372,
                      79.133733
                    ],
                    [
                      "Al Shifa Restaurant",
                      21.1827001,
                      79.0679811
                    ],
                    [
                      "SOLOMON\"S CAFE",
                      21.1033195,
                      79.0872139
                    ],
                    [
                      "Sanu's Cafe",
                      21.1177129,
                      79.104979
                    ],
                    [
                      "Sea Food Point",
                      21.1199125,
                      79.1108043
                    ],
                    [
                      "The Unlimited Biryani - TUB",
                      21.1303466,
                      79.0464371
                    ],
                    [
                      "Fusion Grill cafe",
                      21.1290069,
                      79.0585781
                    ],
                    [
                      "Shere Punjab Bar and Restaurant",
                      21.1822754,
                      79.1170797
                    ],
                    [
                      "STREET 7 CAFE",
                      21.1874949,
                      79.1096218
                    ],
                    [
                      "Neelam Fast Food",
                      21.1595689,
                      79.0785613
                    ],
                    [
                      "Chew 24Caret cafe",
                      21.1210452,
                      79.0536217
                    ],
                    [
                      "Begum's Biryani",
                      21.1839056,
                      79.0696337
                    ],
                    [
                      "New Mrunal Restaurant",
                      21.1284746,
                      79.0826988
                    ],
                    [
                      "Kadak Cafe",
                      21.1757316,
                      79.0525582
                    ],
                    [
                      "Papajiis",
                      21.1693538,
                      79.11391
                    ],
                    [
                      "Kajal Chat Center",
                      21.1539924,
                      79.1628601
                    ],
                    [
                      "Colours Cafe",
                      21.1628915,
                      79.0786168
                    ],
                    [
                      "SWINGO CAFE & RESTAURANT.",
                      21.1771875,
                      79.0889375
                    ],
                    [
                      "Tiffin",
                      21.0912005,
                      79.078283
                    ],
                    [
                      "JFC (Just Fried Chicken)",
                      21.1811153,
                      79.0619337
                    ],
                    [
                      "Dosa Boyz Restaurant",
                      21.1003586,
                      79.1016311
                    ],
                    [
                      "The Chemistry Lab",
                      21.1620123,
                      79.0877407
                    ],
                    [
                      "Beyond - The Kitchen",
                      21.0887671,
                      79.0647645
                    ],
                    [
                      "Mango juice and coffee",
                      21.1318381,
                      79.1137872
                    ],
                    [
                      "Last Chance Family Bar & Restaurant",
                      21.1196034,
                      79.0564855
                    ],
                    [
                      "TTF ( The Temptation Feast ) Cafe and Restro",
                      21.0911554,
                      79.0786948
                    ],
                    [
                      "New Nirmal Bar And Restaurant",
                      21.115067,
                      79.0678505
                    ],
                    [
                      "JK Garden Restaurant",
                      21.1741545,
                      79.0727529
                    ],
                    [
                      "THE DOWN TOWN CAFE & RESTRO",
                      21.1364286,
                      79.0822809
                    ],
                    [
                      "Pratik Tea Stall",
                      21.1491213,
                      79.124773
                    ],
                    [
                      "NAGPUR RESTAURANT AND SWEET MART",
                      21.1823284,
                      79.0665157
                    ],
                    [
                      "Red Lion Restaurant SAOJI",
                      21.1180898,
                      79.0333974
                    ],
                    [
                      "Callisto 19 Cafe",
                      21.1340283,
                      79.1193319
                    ],
                    [
                      "Helly & Chilly Cafe - The Mugs & Spoon",
                      21.1412548,
                      79.0623163
                    ],
                    [
                      "Cafe Regent",
                      21.1496101,
                      79.0747652
                    ],
                    [
                      "Hangouts",
                      21.1407096,
                      79.0597157
                    ],
                    [
                      "Shri Gujrat Bhojanalaya",
                      21.1424668,
                      79.0847309
                    ],
                    [
                      "Jai durga restaurant",
                      21.1680458,
                      79.1024322
                    ],
                    [
                      "Bhoyar Dudh Dairy and Restaurant",
                      21.066867,
                      79.058561
                    ],
                    [
                      "Riddhi Siddhi Foods",
                      21.1483201,
                      79.1350005
                    ],
                    [
                      "Karan Family Restaurant",
                      21.1050872,
                      79.0532515
                    ],
                    [
                      "Kickass42",
                      21.0993351,
                      79.0669223
                    ],
                    [
                      "Finger bite cafe",
                      21.1281006,
                      79.0827644
                    ],
                    [
                      "Owl Night Cafe 2.0 New",
                      21.1350868,
                      79.1196499
                    ],
                    [
                      "Jack & Jill",
                      21.1694379,
                      79.0892895
                    ],
                    [
                      "Tea Station",
                      21.1191748,
                      79.1111121
                    ],
                    [
                      "Hotel A.R’s",
                      21.1241284,
                      79.1385331
                    ],
                    [
                      "Sonu Family Garden Restaurant & Catering Services",
                      21.1939504,
                      79.1099852
                    ],
                    [
                      "Maa Durga Farsan Bhandar and restaurant",
                      21.1235566,
                      79.1117025
                    ],
                    [
                      "Piyaa's Home Kitchen - Bengali Food.",
                      21.1091743,
                      79.0514184
                    ],
                    [
                      "Baithak Cafe & Samosazz- The Fun Triangle",
                      21.1424974,
                      79.0584249
                    ],
                    [
                      "PUNJABI TI'MES",
                      21.1807276,
                      79.0583045
                    ],
                    [
                      "Midtown Milkshakes",
                      21.1339218,
                      79.1198354
                    ],
                    [
                      "Maa Sharda Restaurant",
                      21.2080092,
                      79.0770031
                    ],
                    [
                      "Nilkamal Sweets Farsan",
                      21.1918252,
                      79.0782542
                    ],
                    [
                      "Navneet restaurant and bar",
                      21.179835,
                      79.0640206
                    ],
                    [
                      "Chai Piyo Biscut Khao",
                      21.1873819,
                      79.0916125
                    ],
                    [
                      "Toast N Tonic",
                      21.1483718,
                      79.0500844
                    ],
                    [
                      "Shree Srinivasa South Indian Restaurant",
                      21.1406897,
                      79.0595878
                    ],
                    [
                      "Spicerack",
                      21.17651,
                      79.0474939
                    ],
                    [
                      "Waltrs cafe",
                      21.1769449,
                      79.0958469
                    ],
                    [
                      "N10 The Nitro Cafe",
                      21.1300556,
                      79.1192589
                    ],
                    [
                      "Ustad’ Kitchen",
                      21.1307945,
                      79.0640548
                    ],
                    [
                      "Tejas Computers & Cyber Cafe",
                      21.1045511,
                      79.1017597
                    ],
                    [
                      "Mile Stone Food Court",
                      21.169267,
                      79.079268
                    ],
                    [
                      "Angan Garden Restaurant",
                      21.1211217,
                      79.0267745
                    ],
                    [
                      "Dilip Saoji Family Restaurant",
                      21.149707,
                      79.147968
                    ],
                    [
                      "New Eskimo Point Restaurant",
                      21.094734,
                      79.0662777
                    ],
                    [
                      "Maa Ambe restaurant",
                      21.1493995,
                      79.159906
                    ],
                    [
                      "Munna Samosa Center",
                      21.1638034,
                      79.1254798
                    ],
                    [
                      "Mejwani Family Restaurant And Garden",
                      21.0668382,
                      79.0580768
                    ],
                    [
                      "Winscafe",
                      21.1337322,
                      79.1208936
                    ],
                    [
                      "Tandoori cafe + family restaurant",
                      21.1570552,
                      79.0771718
                    ],
                    [
                      "Teavoyage",
                      21.1198853,
                      79.0317103
                    ],
                    [
                      "Tuktuk Restaurant",
                      21.152623,
                      79.0952656
                    ],
                    [
                      "Kanha Food Court",
                      21.115951,
                      79.101842
                    ],
                    [
                      "Food Fusion Cafe",
                      21.125891,
                      79.058644
                    ],
                    [
                      "Park Paradise RESTAURANT",
                      21.1834522,
                      79.0900409
                    ],
                    [
                      "Rigal Hotel And Family Restaurant",
                      21.1626073,
                      79.114569
                    ],
                    [
                      "Baba Saoji Restaurant",
                      21.203955,
                      79.0669804
                    ],
                    [
                      "TeaMax Cafe Nagpur",
                      21.1132011,
                      79.0453707
                    ],
                    [
                      "The Chicken Co.",
                      21.1408584,
                      79.0662842
                    ],
                    [
                      "The Brewing Counter",
                      21.147069,
                      79.057176
                    ],
                    [
                      "Veggie-Licious Pure Veg Restro & Plant Boutique",
                      21.1485615,
                      79.127238
                    ],
                    [
                      "Taiechi Puranpoli",
                      21.1088656,
                      79.0499276
                    ],
                    [
                      "Cafe-O-Graphy: Cafe and Bistro",
                      21.1058477,
                      79.0589222
                    ],
                    [
                      "Red cherry cafe",
                      21.16385,
                      79.0816153
                    ],
                    [
                      "Shiv Restaurant (Zade Hotel )",
                      21.163472,
                      79.1255951
                    ],
                    [
                      "Veggietude Restaurant Civil Lines",
                      21.1496381,
                      79.074643
                    ],
                    [
                      "Cafe Aroma",
                      21.1290951,
                      79.1047463
                    ],
                    [
                      "Hotel Trilok family restaurant",
                      21.1668809,
                      79.1021682
                    ],
                    [
                      "Spark Internet Cafe",
                      21.1095926,
                      79.0633162
                    ],
                    [
                      "Foodiction Cafe",
                      21.1310441,
                      79.0826593
                    ],
                    [
                      "Saheb Amruttulya",
                      21.1811328,
                      79.0619101
                    ],
                    [
                      "Street9Kaffee | Garden Cafe | coffee",
                      21.1375452,
                      79.0665232
                    ],
                    [
                      "Encore's Aadhi Potoba!",
                      21.114477,
                      79.043036
                    ],
                    [
                      "The Shawarma factory",
                      21.1339634,
                      79.1193182
                    ],
                    [
                      "Gattu Chinese Center",
                      21.1577937,
                      79.0441048
                    ],
                    [
                      "Durgesh Saoji Bhojnalaya",
                      21.1553254,
                      79.1042443
                    ],
                    [
                      "DAWAT RESTAURANT",
                      21.1054325,
                      79.0916657
                    ],
                    [
                      "MASALA ZONE (MULTI CUISINE RESTAURANT)",
                      21.1414523,
                      79.0962236
                    ],
                    [
                      "Flavour Heights",
                      21.1587757,
                      79.0797672
                    ],
                    [
                      "Krishna Saoji Bhojnalaya",
                      21.1794462,
                      79.1536762
                    ],
                    [
                      "SIMPLY SOUTH - The Taste of kerala",
                      21.1442283,
                      79.0857543
                    ],
                    [
                      "Hotel Grand Shalimar",
                      21.1078328,
                      79.139502
                    ],
                    [
                      "Best Poha samosa kachori Tapri",
                      21.1883373,
                      79.1033567
                    ],
                    [
                      "Khidmat Biryani Center",
                      21.1838794,
                      79.0663404
                    ],
                    [
                      "Shree Foods ( The Courtyard Cafe)",
                      21.1260862,
                      79.0567373
                    ],
                    [
                      "VINCENT'S CAFE",
                      21.1257596,
                      79.0622462
                    ],
                    [
                      "The food junction",
                      21.1419184,
                      79.0836366
                    ],
                    [
                      "Lassi Day Cafe",
                      21.1290025,
                      79.0628331
                    ],
                    [
                      "Lassi Day Cafe",
                      21.1290025,
                      79.0628331
                    ],
                    [
                      "brinj studio",
                      21.1502425,
                      79.0450564
                    ],
                    [
                      "Cafe 9 to 9",
                      21.1318049,
                      79.1138227
                    ],
                    [
                      "Madhu Restaurant",
                      21.1834776,
                      79.0935979
                    ],
                    [
                      "Reddy South Indian Food",
                      21.1397809,
                      79.095656
                    ],
                    [
                      "Crumb Cakes & cafe",
                      21.1495759,
                      79.0447838
                    ],
                    [
                      "Balaji Restaurant",
                      21.1363045,
                      79.1162073
                    ],
                    [
                      "Spice Garden",
                      21.0922256,
                      79.0655041
                    ],
                    [
                      "Eatos The Food Stop",
                      21.1178862,
                      79.0420691
                    ],
                    [
                      "Ark - Indian Kitchen",
                      21.1504087,
                      79.0747216
                    ],
                    [
                      "Farmaaish Cafe",
                      21.1532425,
                      79.1120297
                    ],
                    [
                      "NIGHTOUT cafe & continental",
                      21.1542951,
                      79.0976624
                    ],
                    [
                      "Aroma Cafe",
                      21.1626597,
                      79.1134203
                    ],
                    [
                      "Foodies squad cafe and restro",
                      21.1165252,
                      79.1161261
                    ],
                    [
                      "Jay Ganesh Bhojnalay",
                      21.138875,
                      79.079124
                    ],
                    [
                      "Samaj Bhavan, Nr. Shiv Mandir",
                      21.1773392,
                      79.0347215
                    ],
                    [
                      "Shri Ganesh South Indian Corner",
                      21.094561,
                      79.0817794
                    ],
                    [
                      "Ashoka hotel",
                      21.1630141,
                      79.0733854
                    ],
                    [
                      "Manjunath Restaurant & Savaji Bhojnalay",
                      21.1079734,
                      79.1391315
                    ],
                    [
                      "WTF Cafe and Lounge",
                      21.1457935,
                      79.0633853
                    ],
                    [
                      "TKG - The Kebab Guy",
                      21.170583,
                      79.0798732
                    ],
                    [
                      "Bhagwan Bharose Bhojanalay",
                      21.1568134,
                      79.1085034
                    ],
                    [
                      "Royal Palace Family Restaurant 6599",
                      21.184828,
                      79.100292
                    ],
                    [
                      "Coffee by Texas",
                      21.1235812,
                      79.1157975
                    ],
                    [
                      "Delicious Fast Food",
                      21.1787383,
                      79.1182544
                    ],
                    [
                      "Angels Cafe Corner",
                      21.192184,
                      79.0997996
                    ],
                    [
                      "PENTHAUS ROOFTOP RESTAURANT",
                      21.1415457,
                      79.096245
                    ],
                    [
                      "Dheeraj chinese centre",
                      21.1620667,
                      79.0080748
                    ],
                    [
                      "Umesh Chinese Restaurent",
                      21.1704372,
                      79.095369
                    ],
                    [
                      "Beijing Lu",
                      21.1597724,
                      79.0795207
                    ],
                    [
                      "Cafe Laza",
                      21.1288882,
                      79.1195799
                    ],
                    [
                      "MOO THICKSHAKES",
                      21.1123794,
                      79.0631407
                    ],
                    [
                      "NAGPUR ADDA",
                      21.1434772,
                      79.0810993
                    ],
                    [
                      "Le Kopa Cafe",
                      21.1125543,
                      79.0408097
                    ],
                    [
                      "Nagpur Restaurant",
                      21.1794929,
                      79.1309082
                    ],
                    [
                      "Mohan Saoji Bhojnalaya",
                      21.1576136,
                      79.1067839
                    ],
                    [
                      "SORO CAFE & LOUNGE",
                      21.1405555,
                      79.0576765
                    ],
                    [
                      "Chennai Next - Chen'X",
                      21.1187244,
                      79.0419761
                    ],
                    [
                      "Babu Moshay Cafe",
                      21.1593734,
                      79.079181
                    ],
                    [
                      "HAVANA CAFE",
                      21.132954,
                      79.1048486
                    ],
                    [
                      "Goodluck Saoji Restaurant",
                      21.1615238,
                      79.015536
                    ],
                    [
                      "RCOEM Mess",
                      21.17775,
                      79.0626829
                    ],
                    [
                      "Brewed Cafe",
                      21.1212739,
                      79.0526616
                    ],
                    [
                      "The Chai Courtyard",
                      21.1104512,
                      79.063294
                    ],
                    [
                      "THE MUSIC CAFE",
                      21.1475425,
                      79.1364422
                    ],
                    [
                      "Liopold Cafe",
                      21.1179755,
                      79.0335121
                    ],
                    [
                      "Rajveer family restaurant veg...&.non veg",
                      21.1029426,
                      79.0901824
                    ],
                    [
                      "Sarang saoji bhojnalaya & family restaurant",
                      21.109165,
                      79.0396514
                    ],
                    [
                      "Hotel Swad Plaza",
                      21.1155658,
                      79.0711124
                    ],
                    [
                      "KIVA Chinese Tandoor",
                      21.1535896,
                      79.0131076
                    ],
                    [
                      "Om Pakodewala",
                      21.1583739,
                      79.0494907
                    ],
                    [
                      "Mehman nawaji The Family Restaurant",
                      21.1180746,
                      79.0185836
                    ],
                    [
                      "Krishna Restaurant",
                      21.1804138,
                      79.1505038
                    ],
                    [
                      "Mizaaj Cafe Lounge",
                      21.1473529,
                      79.1372119
                    ],
                    [
                      "Chinese Hut",
                      21.1189302,
                      79.0356607
                    ],
                    [
                      "SAOJI DARBAAR DELIGHT FAMILY RESTAURANT",
                      21.1220625,
                      79.1374375
                    ],
                    [
                      "Cake Walk",
                      21.1055549,
                      79.0689949
                    ],
                    [
                      "Anand Bahar Sweets & Snacks",
                      21.1742591,
                      79.0562976
                    ],
                    [
                      "Shikar Family Restaurant",
                      21.084963,
                      79.0638416
                    ],
                    [
                      "EAT ME CAFE",
                      21.163264,
                      79.0794537
                    ],
                    [
                      "Shri Sai Bhojanalaya",
                      21.1348602,
                      79.075887
                    ],
                    [
                      "New Subhash Hotel Bar & Restaurant",
                      21.1419724,
                      79.0863653
                    ],
                    [
                      "Pepper Fry by Kamats Restaurant",
                      21.141326,
                      79.082538
                    ],
                    [
                      "Mini cafe",
                      21.178009,
                      79.1075791
                    ],
                    [
                      "Aaswad Family Resturant",
                      21.1217847,
                      79.1047882
                    ],
                    [
                      "Memes Kitchen - Jaripatka",
                      21.1809872,
                      79.0898845
                    ],
                    [
                      "PIN-CODE 36 Cafe & family restaurant",
                      21.1196372,
                      79.0210607
                    ],
                    [
                      "The bunk story cafe - Best Cafe in Nagpur",
                      21.1275339,
                      79.0632849
                    ],
                    [
                      "Crossover Café",
                      21.188527,
                      79.1012795
                    ],
                    [
                      "RDR the roll ice cream & cafe",
                      21.1144792,
                      79.0427045
                    ],
                    [
                      "Hkgn hotel ( sajju)",
                      21.1750015,
                      79.1135176
                    ],
                    [
                      "Tandoori Delight Restaurant",
                      21.1449912,
                      79.1196013
                    ],
                    [
                      "The Neighbourhood Restra",
                      21.1277747,
                      79.0632582
                    ],
                    [
                      "Just Delicious",
                      21.1478946,
                      79.0934863
                    ],
                    [
                      "MOM's Cafe",
                      21.1933061,
                      79.0777355
                    ],
                    [
                      "MotoRush The Garage Cafe",
                      21.1147006,
                      79.0418465
                    ],
                    [
                      "Bread Bash IT Park Nagpur",
                      21.1172972,
                      79.0468662
                    ],
                    [
                      "Golden Harvest- Airport Centre Point",
                      21.0941212,
                      79.0654576
                    ],
                    [
                      "LAZIZ FOOD HALAL PLACE",
                      21.1034908,
                      79.0871399
                    ],
                    [
                      "Bablu da Dhaba-Airport Centre Point",
                      21.0942534,
                      79.0654324
                    ],
                    [
                      "Chandni chowk restaurant",
                      21.1352637,
                      79.0786119
                    ],
                    [
                      "Goswami Resturant",
                      21.1243705,
                      79.1375792
                    ],
                    [
                      "Rohit Saoji",
                      21.1039818,
                      79.0635318
                    ],
                    [
                      "Taj Restaurant",
                      21.1385661,
                      79.128152
                    ],
                    [
                      "Mandarin Lounge and Restaurant",
                      21.0907124,
                      79.0545377
                    ],
                    [
                      "PCM street cafe",
                      21.1419892,
                      79.0836483
                    ],
                    [
                      "Cafe Bella Ciao",
                      21.1217218,
                      79.0966406
                    ],
                    [
                      "BBQ RIDE NAGPUR",
                      21.1245125,
                      79.0587551
                    ],
                    [
                      "4Amigos Cafe",
                      21.1255811,
                      79.060448
                    ],
                    [
                      "Sugar Quotes Cafe",
                      21.1463483,
                      79.1335723
                    ],
                    [
                      "Desi Aroma Family Restaurant",
                      21.175325,
                      79.05108
                    ],
                    [
                      "Paper Cups Café",
                      21.1506489,
                      79.0749044
                    ],
                    [
                      "Hotel Madhuban",
                      21.1393212,
                      79.0949295
                    ],
                    [
                      "RoHIT Chinese food Stall",
                      21.1844536,
                      79.0989955
                    ],
                    [
                      "Surinder Restaurant",
                      21.153582,
                      79.0132915
                    ],
                    [
                      "Cafe Expresso",
                      21.1442282,
                      79.0619178
                    ],
                    [
                      "Dhakate Saoji Family restaurant",
                      21.126391,
                      79.1288868
                    ],
                    [
                      "SAMADHAN SAOJI",
                      21.1309179,
                      79.064181
                    ],
                    [
                      "Sereni. Tea",
                      21.119851,
                      79.0316146
                    ],
                    [
                      "Apni Duniya",
                      21.2032751,
                      79.0564541
                    ],
                    [
                      "Tealightful cafe",
                      21.1363916,
                      79.0822734
                    ],
                    [
                      "The Foodie Siblings - Best Cakes , Sandwich, Pizza, Burger, Maggie Point, Momos in Dharampeth",
                      21.1413911,
                      79.0672029
                    ],
                    [
                      "Yummi Momos Jaripatka (The Hungers Cafe)",
                      21.1834236,
                      79.0911201
                    ],
                    [
                      "New Gangaur Restaurant",
                      21.1729303,
                      79.1000266
                    ],
                    [
                      "Kerala Snacks",
                      21.1253912,
                      79.0585935
                    ],
                    [
                      "Balaji Pan Palace",
                      21.2071601,
                      79.0774539
                    ],
                    [
                      "Ashok Snacks Point",
                      21.1401066,
                      79.06029
                    ],
                    [
                      "Infusion Coffee & You",
                      21.1220687,
                      79.0569158
                    ],
                    [
                      "New Paradise restaurant",
                      21.1065886,
                      79.1144492
                    ],
                    [
                      "New Paradise restaurant",
                      21.1065886,
                      79.1144492
                    ],
                    [
                      "Kanchipuram South Indian Restaurant",
                      21.1479784,
                      79.0544264
                    ],
                    [
                      "Walkers cafe",
                      21.1260024,
                      79.1025854
                    ],
                    [
                      "Rohit Restaurant",
                      21.1143083,
                      79.1040645
                    ],
                    [
                      "Avi,\"S Fast Food",
                      21.180947,
                      79.108995
                    ],
                    [
                      "Chai house & Street cafe",
                      21.1413379,
                      79.0663725
                    ],
                    [
                      "Bakasurr Cafe n Restro",
                      21.1313596,
                      79.0630084
                    ],
                    [
                      "The Story Book cafe",
                      21.1209586,
                      79.0533999
                    ],
                    [
                      "Manikkya Restaurant",
                      21.1296853,
                      79.104967
                    ],
                    [
                      "Friends Dosa corner south Indian restaurant",
                      21.1210354,
                      79.0418481
                    ],
                    [
                      "चिंटू सावजी भोजनालय",
                      21.1307171,
                      79.1198487
                    ],
                    [
                      "KokoRani Delicious",
                      21.1469466,
                      79.1031887
                    ],
                    [
                      "Sidewalk",
                      21.1413186,
                      79.0857786
                    ],
                    [
                      "Sachin saoji restaurant",
                      21.1057774,
                      79.1100478
                    ],
                    [
                      "CHAI SUTTA CAFE",
                      21.1388555,
                      79.1271432
                    ],
                    [
                      "London Street restaurant &Saoji",
                      21.104987,
                      79.054829
                    ],
                    [
                      "SAI CHINESE CENTER",
                      21.1952976,
                      79.0697139
                    ],
                    [
                      "Chandralok Bar & Restaurant",
                      21.10623,
                      79.11295
                    ],
                    [
                      "Hotel Jai Bhole",
                      21.1439348,
                      79.0799563
                    ],
                    [
                      "MAA NARAYANI TARRI_POHA CENTER",
                      21.1860751,
                      79.0606961
                    ],
                    [
                      "Out Of The Box Cafe",
                      21.1334704,
                      79.0516681
                    ],
                    [
                      "Secret ingredient (TSI)",
                      21.1441684,
                      79.0830586
                    ],
                    [
                      "Crown Cafe",
                      21.1159726,
                      79.0671823
                    ],
                    [
                      "Creamy Nuts",
                      21.1161527,
                      79.0463937
                    ],
                    [
                      "Friends Corner (Fish Fry Chicken Tandoor)",
                      21.1107329,
                      79.0710986
                    ],
                    [
                      "Vitthalkeshav",
                      21.1217229,
                      79.0294015
                    ],
                    [
                      "HALDIRAM Oam Industries India pvt ltd",
                      21.1495595,
                      79.0875963
                    ],
                    [
                      "KKothimbir pure veg restaurant",
                      21.1179877,
                      79.0649206
                    ],
                    [
                      "EtusCafe",
                      21.1632668,
                      79.0794762
                    ],
                    [
                      "Pankaj Sawji Bhojanalay",
                      21.105409,
                      79.098144
                    ],
                    [
                      "Lalaji Bar & Restaurant",
                      21.1843667,
                      79.1005667
                    ],
                    [
                      "SN's Multicuisine Restaurant",
                      21.1296562,
                      79.1414805
                    ],
                    [
                      "Mexico multicusine restaurant",
                      21.0913197,
                      79.0769604
                    ],
                    [
                      "Kamal cafe and family restaurant",
                      21.182101,
                      79.1280241
                    ],
                    [
                      "N.R. South Indian Food Plaza",
                      21.1767876,
                      79.090728
                    ],
                    [
                      "Oishi - Pan Asian Kitchen",
                      21.1515993,
                      79.1007601
                    ],
                    [
                      "Ojas foods",
                      21.1486154,
                      79.0475178
                    ],
                    [
                      "Nosh cafe",
                      21.1809464,
                      79.0915577
                    ],
                    [
                      "Meme's Cafe & Restro",
                      21.1309629,
                      79.0491215
                    ],
                    [
                      "Suresh Restaurant",
                      21.1208589,
                      79.030507
                    ],
                    [
                      "NIMJE'S RESTAURANT & CAFEE",
                      21.1390718,
                      79.1312935
                    ],
                    [
                      "Welcome To Biryanipur",
                      21.1408584,
                      79.0662842
                    ],
                    [
                      "Gurukripa Chinese Fast Food",
                      21.1063221,
                      79.0474175
                    ],
                    [
                      "The Barbque House",
                      21.1481454,
                      79.1378038
                    ],
                    [
                      "Cafe Mil-Kha",
                      21.1730794,
                      79.0478903
                    ],
                    [
                      "Shrija mini cafe",
                      21.1978661,
                      79.068769
                    ],
                    [
                      "Cafello - The Coffee Shop",
                      21.1262761,
                      79.0635629
                    ],
                    [
                      "Gupshup zone",
                      21.1997765,
                      79.1022428
                    ],
                    [
                      "Platezo Cafe",
                      21.1362921,
                      79.1161767
                    ],
                    [
                      "Swad punjabi barbeque and curry",
                      21.1694582,
                      79.0893101
                    ],
                    [
                      "Kareem's",
                      21.1403942,
                      79.1457467
                    ],
                    [
                      "Miyaanji's Futala",
                      21.1609196,
                      79.071828
                    ],
                    [
                      "Prem Kamal Restaurant",
                      21.108716,
                      79.122114
                    ],
                    [
                      "Prem Kamal Restaurant",
                      21.108716,
                      79.122114
                    ],
                    [
                      "Yum Yum Cafe",
                      21.0983988,
                      79.0669241
                    ],
                    [
                      "Chefus saoji and family restaurant",
                      21.1223468,
                      79.0437787
                    ],
                    [
                      "Silver Spoon Biryani",
                      21.0942823,
                      79.0695872
                    ],
                    [
                      "Swad Kitchen and Restaurant",
                      21.1259135,
                      79.1032244
                    ],
                    [
                      "Shree Vrindavan restaurant nagpur",
                      21.1137089,
                      79.0293308
                    ],
                    [
                      "Urban Folks café and lounge",
                      21.0938555,
                      79.0750191
                    ],
                    [
                      "Hip Hop Chinese Center",
                      21.1620461,
                      79.0052257
                    ],
                    [
                      "Khansama - Authentic Mughlai Restaurant",
                      21.1648489,
                      79.0820562
                    ],
                    [
                      "Gappa Goshti Cafe",
                      21.1388451,
                      79.1247561
                    ],
                    [
                      "Food Junction",
                      21.1093165,
                      79.0511314
                    ],
                    [
                      "The Green House - Health Cafe",
                      21.1431321,
                      79.0612483
                    ],
                    [
                      "Veggie Green",
                      21.1731008,
                      79.1004826
                    ],
                    [
                      "Shidhi Restaurant",
                      21.1574741,
                      79.1659449
                    ],
                    [
                      "Chetan Family Restaurant And Bhojanalay",
                      21.133715,
                      79.1429935
                    ],
                    [
                      "V S RESTAURANT AND BAR",
                      21.1522634,
                      79.1493387
                    ],
                    [
                      "Vinita's Kitchen",
                      21.1043808,
                      79.08476
                    ],
                    [
                      "The Aragorn's Cafe",
                      21.1487988,
                      79.124268
                    ],
                    [
                      "Haveli Heritage Restaurant",
                      21.1124763,
                      79.0643042
                    ],
                    [
                      "The Right Place Café",
                      21.1300567,
                      79.1208293
                    ],
                    [
                      "FNC, Forks And Cues",
                      21.1907512,
                      79.0914329
                    ],
                    [
                      "La Cafe Tria",
                      21.1363564,
                      79.0485469
                    ],
                    [
                      "Firantu riders cafe",
                      21.1252784,
                      79.161185
                    ],
                    [
                      "The V.p's cafe",
                      21.2015536,
                      79.0701653
                    ],
                    [
                      "DARPAN RESTAURANT",
                      21.1061659,
                      79.1227
                    ],
                    [
                      "Taj Chicken Biryani",
                      21.1888767,
                      79.1005965
                    ],
                    [
                      "Sai Cafe",
                      21.1001254,
                      79.0704938
                    ],
                    [
                      "Niraj Chat Center",
                      21.1238989,
                      79.1391118
                    ],
                    [
                      "Maya mess bhojnalay and tiffin seva",
                      21.1786278,
                      79.0593788
                    ],
                    [
                      "New Deepak Restaurant",
                      21.1514532,
                      79.0906692
                    ],
                    [
                      "Rising star cafe",
                      21.1378921,
                      79.0829979
                    ],
                    [
                      "Tajshree Family Restaurant & Sweet's",
                      21.1684233,
                      79.1337359
                    ],
                    [
                      "Royal Saoji Kitchen",
                      21.1975197,
                      79.1356507
                    ],
                    [
                      "Fuel Blend Wardhaman Nagar",
                      21.1475938,
                      79.1366124
                    ],
                    [
                      "Skytouch Rooftop Restaurant In Manish Nagar | Nagpur(Hotel Ashoka Imperial)",
                      21.0955871,
                      79.0777809
                    ],
                    [
                      "HoT Shawarma",
                      21.1058961,
                      79.0874592
                    ],
                    [
                      "South Indian Tasty Spot",
                      21.1184726,
                      79.0172589
                    ],
                    [
                      "Ganesh Anna South Indian Food",
                      21.0970321,
                      79.0707633
                    ],
                    [
                      "Manthan Biryani Centre",
                      21.1408393,
                      79.0661616
                    ],
                    [
                      "Hotel Kalyani & Family Garden Restaurant",
                      21.128018,
                      79.1504676
                    ],
                    [
                      "Oye Orange Café",
                      21.1478402,
                      79.0930706
                    ],
                    [
                      "Dwarkadhish Refreshment Restaurant",
                      21.1225371,
                      79.0436379
                    ],
                    [
                      "BRN Restaurant",
                      21.175707,
                      79.1144044
                    ],
                    [
                      "Chaman saoji restaurant",
                      21.1569975,
                      79.1065776
                    ],
                    [
                      "New Grand Restaurant Bar",
                      21.1133946,
                      79.056535
                    ],
                    [
                      "Angel Cool Hut Cafe",
                      21.1132454,
                      79.1040791
                    ],
                    [
                      "Shree net Cafe",
                      21.1194956,
                      79.0278436
                    ],
                    [
                      "Vindhyavasini Sweets & Restaurent",
                      21.1102613,
                      79.1037985
                    ],
                    [
                      "Uma Restaurant Sweets And Namkeen",
                      21.1740534,
                      79.0575501
                    ],
                    [
                      "Taj Restaurant",
                      21.1140387,
                      79.1218945
                    ],
                    [
                      "Dhiraj Saoji Restaurant",
                      21.1465773,
                      79.1193225
                    ],
                    [
                      "MIT Saoji Restaurant",
                      21.098547,
                      79.091817
                    ],
                    [
                      "Barbeque Pav Bhaji manewada",
                      21.1803798,
                      79.0912437
                    ],
                    [
                      "Cafe 1998",
                      21.1407642,
                      79.06434
                    ],
                    [
                      "Oye It’s Coffee",
                      21.1217938,
                      79.0298915
                    ],
                    [
                      "Yummi Momo ' S",
                      21.1907046,
                      79.0712582
                    ],
                    [
                      "MAHOOL The Urban Cafe",
                      21.2047748,
                      79.0666352
                    ],
                    [
                      "Crazy Hub Cafe",
                      21.1128795,
                      79.0414663
                    ],
                    [
                      "Light house Cafe",
                      21.1479402,
                      79.1475421
                    ],
                    [
                      "Galaxy Family restaurant and bar",
                      21.1871698,
                      79.0470426
                    ],
                    [
                      "South Indian Food",
                      21.11094,
                      79.0367885
                    ],
                    [
                      "Haldiram Franchise",
                      21.1513502,
                      79.1480028
                    ],
                    [
                      "Delicious Taste Food Restaurant",
                      21.159084,
                      79.0796093
                    ],
                    [
                      "Shaukeens Cafe & Restaurant",
                      21.119055,
                      79.0325487
                    ],
                    [
                      "Makhan Mishri",
                      21.1521097,
                      79.1448986
                    ],
                    [
                      "Vina Vihar Restaurant",
                      21.1382679,
                      79.0802382
                    ],
                    [
                      "Dev Corner Food & Restaurant",
                      21.1066444,
                      79.1165849
                    ],
                    [
                      "Shree Laxmi Narayan South Indian Family Restaurant",
                      21.1085335,
                      79.1192081
                    ],
                    [
                      "Shri Sabri Swami Hot Chips",
                      21.1443432,
                      79.103679
                    ],
                    [
                      "Shree Laxmi Narayan South Indian Family Restaurant",
                      21.1085335,
                      79.1192081
                    ],
                    [
                      "Flavours Of Maharashtra",
                      21.1189139,
                      79.028278
                    ],
                    [
                      "Spicy Kitchen Multicuisine",
                      21.148168,
                      79.092302
                    ],
                    [
                      "Daana Paani family garden restaurant",
                      21.130993,
                      79.064792
                    ],
                    [
                      "Meals101",
                      21.1205096,
                      79.0313476
                    ],
                    [
                      "Vivi's Kitchen",
                      21.180315,
                      79.0916815
                    ],
                    [
                      "Café Thela",
                      21.1747036,
                      79.0479386
                    ],
                    [
                      "Cafe Socials",
                      21.1227949,
                      79.0570334
                    ],
                    [
                      "Pandu saoji and family restaurant",
                      21.1696318,
                      79.113409
                    ],
                    [
                      "Desi Food Palace Cafe and Family Restaurant",
                      21.1088488,
                      79.1333916
                    ],
                    [
                      "Banana Leaf South Indian Restaurant",
                      21.2012114,
                      79.0774405
                    ],
                    [
                      "Intervals-The Gourmet Thing",
                      21.1479415,
                      79.1323199
                    ],
                    [
                      "FIT FOOD ( Diet Cafe & Restro )",
                      21.1236073,
                      79.1099624
                    ],
                    [
                      "Desi Food Palace Cafe and Family Restaurant",
                      21.1088488,
                      79.1333916
                    ],
                    [
                      "Mehfil cafe",
                      21.1391001,
                      79.1328002
                    ],
                    [
                      "The Era's Cafe",
                      21.1210942,
                      79.0528318
                    ],
                    [
                      "Harley Davidson Coffee Lounge",
                      21.1858125,
                      79.0779375
                    ],
                    [
                      "Momology",
                      21.1721481,
                      79.0356807
                    ],
                    [
                      "MI Maratha family restaurant",
                      21.1272075,
                      79.0704733
                    ],
                    [
                      "Neon Lounge Restaurant & Bar",
                      21.2033977,
                      79.0772724
                    ],
                    [
                      "Grand family restaurant and bar",
                      21.1438411,
                      79.0825715
                    ],
                    [
                      "Cafe Blue Dream's",
                      21.1121712,
                      79.1338509
                    ],
                    [
                      "The RoadSide House",
                      21.1214168,
                      79.0283604
                    ],
                    [
                      "Hotel al-hamd",
                      21.1823284,
                      79.0665157
                    ],
                    [
                      "The Urban Kitchen",
                      21.164697,
                      79.0815012
                    ],
                    [
                      "DuJour Cafe",
                      21.1641283,
                      79.0818583
                    ],
                    [
                      "Hotel AL-JANNAT",
                      21.1873667,
                      79.0784049
                    ],
                    [
                      "TeaMax Cafe Wardhaman Nagar Nagpur",
                      21.1484159,
                      79.1338635
                    ],
                    [
                      "Daawat restaurant",
                      21.1380389,
                      79.0819735
                    ],
                    [
                      "HEALTH & NUTRITION CAFE",
                      21.1302463,
                      79.1245283
                    ],
                    [
                      "Elisha's Sports Cafe and Multi-cuisine Restaurant",
                      21.117859,
                      79.01828
                    ],
                    [
                      "Basundi Chai Cafe",
                      21.1187861,
                      79.0321696
                    ],
                    [
                      "Bake 4 u cafe",
                      21.1427245,
                      79.1120988
                    ],
                    [
                      "Taste of Chow chow",
                      21.1835666,
                      79.0916744
                    ],
                    [
                      "UFC Family Restaurant",
                      21.1295653,
                      79.1414662
                    ],
                    [
                      "Panino The Sandwich World",
                      21.1577151,
                      79.0767554
                    ],
                    [
                      "Kalyani Kitchen",
                      21.1044638,
                      79.0316722
                    ],
                    [
                      "Raj Sweet And Namkeen Center",
                      21.1831803,
                      79.0935426
                    ],
                    [
                      "Vibes Cafe",
                      21.1576572,
                      79.0773002
                    ],
                    [
                      "Aarohi The Grill House (Veg & Nonveg)",
                      21.0681244,
                      79.0589982
                    ],
                    [
                      "New Gurpal Kitchen",
                      21.1778179,
                      79.107953
                    ],
                    [
                      "CHASKA FAMILY RESTAURANT",
                      21.1342593,
                      79.1432874
                    ],
                    [
                      "THREE \"S\" TEA & FOOD CORNER",
                      21.1608478,
                      79.1581896
                    ],
                    [
                      "The mocktail cafe",
                      21.1756451,
                      79.1083671
                    ],
                    [
                      "Kadak Chai & Cafe",
                      21.1744794,
                      79.0509319
                    ],
                    [
                      "BBA TARRI POHA WALA",
                      21.1766545,
                      79.0891499
                    ],
                    [
                      "Delicioso cafe",
                      21.1716088,
                      79.1242059
                    ],
                    [
                      "Cafe Lounge",
                      21.1590864,
                      79.0573769
                    ],
                    [
                      "Cafe lockdown",
                      21.1777742,
                      79.1085373
                    ],
                    [
                      "Banana Leaf Caterer",
                      21.1769217,
                      79.038265
                    ],
                    [
                      "Mother's Khazana",
                      21.1107038,
                      79.0268308
                    ],
                    [
                      "Gabru Saoji & Restaurant",
                      21.1679254,
                      79.1323112
                    ],
                    [
                      "HOTEL KGN Jafar Restaurant",
                      21.186301,
                      79.11299
                    ],
                    [
                      "Shreenath Shravan Pav Bhaji Pulao Center",
                      21.091049,
                      79.0790045
                    ],
                    [
                      "Gayatri Restaurant and Cake Shop",
                      21.1240617,
                      79.0444602
                    ],
                    [
                      "Pizza Outlets",
                      21.117265,
                      79.104077
                    ],
                    [
                      "Jai Ambika Bhojnalaya",
                      21.152317,
                      79.087526
                    ],
                    [
                      "maitri chinese center",
                      21.1961083,
                      79.0509046
                    ],
                    [
                      "Kumbhare Saoji",
                      21.1224564,
                      79.0339697
                    ],
                    [
                      "Tannu Mess Biryani And Chinese Center",
                      21.1188052,
                      79.0321639
                    ],
                    [
                      "GOLDY RESTAURANT",
                      21.1815054,
                      79.117428
                    ],
                    [
                      "Snacks Bar",
                      21.0910018,
                      79.0544917
                    ],
                    [
                      "Nation Biryani Center",
                      21.1586925,
                      79.1457314
                    ],
                    [
                      "Hungers Den",
                      21.1226503,
                      79.0997747
                    ],
                    [
                      "Koby's Chaap Cafe",
                      21.122605,
                      79.0431735
                    ],
                    [
                      "Udta punjab",
                      21.1060391,
                      79.0853552
                    ],
                    [
                      "KULSUM’S KITCHEN",
                      21.1729108,
                      79.0734016
                    ],
                    [
                      "Darbar smoke cafe",
                      21.1831863,
                      79.1008407
                    ],
                    [
                      "Hatwar Tea and Smokin cafe",
                      21.1353571,
                      79.1435789
                    ],
                    [
                      "Maa durga bhojnalay & restaurant",
                      21.1449071,
                      79.0897886
                    ],
                    [
                      "The Bokade Saoji Restaurant",
                      21.1469997,
                      79.103195
                    ],
                    [
                      "Food Junction Family Restaurant",
                      21.1071205,
                      79.0454059
                    ],
                    [
                      "Bhukele",
                      21.1945407,
                      79.103269
                    ],
                    [
                      "The scrumptious zone",
                      21.1501045,
                      79.041986
                    ],
                    [
                      "Barbecue chef",
                      21.1702235,
                      79.0888435
                    ],
                    [
                      "The Treat House Cafe",
                      21.1295366,
                      79.1148469
                    ],
                    [
                      "Choudhary Restaurant",
                      21.1387217,
                      79.1328347
                    ],
                    [
                      "Gokul Restaurant",
                      21.1049931,
                      79.0548066
                    ],
                    [
                      "SALAD box",
                      21.0873383,
                      79.0732814
                    ],
                    [
                      "Divine Kitchen",
                      21.1056682,
                      79.0750145
                    ],
                    [
                      "Baba Sailani Chinese Center",
                      21.1575381,
                      79.0443182
                    ],
                    [
                      "B.F.F Café",
                      21.120959,
                      79.055607
                    ],
                    [
                      "KGF cafe & Bistro king of good food",
                      21.1010723,
                      79.0868691
                    ],
                    [
                      "Clickaholic Internet Cafe",
                      21.1921679,
                      79.1034363
                    ],
                    [
                      "Badmaash Restaurant",
                      21.1441047,
                      79.0786963
                    ],
                    [
                      "Tandoori nights",
                      21.1956442,
                      79.0508203
                    ],
                    [
                      "Dee S2 Kitchen",
                      21.1344028,
                      79.1196466
                    ],
                    [
                      "Snacks Corner",
                      21.167948,
                      79.0787667
                    ],
                    [
                      "Marquees Restaurant & Coffee Bar",
                      21.1403638,
                      79.058068
                    ],
                    [
                      "Amazing food cafe",
                      21.1582271,
                      79.1500335
                    ],
                    [
                      "Bullock Cart Bar & Restaurant",
                      21.1594496,
                      79.0790391
                    ],
                    [
                      "Corridor Seven Lean",
                      21.1354227,
                      79.0780004
                    ],
                    [
                      "BITES N CREAM CAFE",
                      21.1505576,
                      79.1061723
                    ],
                    [
                      "NITRO CAFE AND LOUNGE",
                      21.1420837,
                      79.0610629
                    ],
                    [
                      "TREAT ZONE CAFE",
                      21.120466,
                      79.0261851
                    ],
                    [
                      "The Sandwich Club",
                      21.0959996,
                      79.0667535
                    ],
                    [
                      "Yaari Dosti Pizza cafe",
                      21.1318903,
                      79.1162503
                    ],
                    [
                      "Golden Spoon Cafe",
                      21.1661337,
                      79.1016273
                    ],
                    [
                      "Hungry House Cafe",
                      21.1579094,
                      79.1067962
                    ],
                    [
                      "MAULI CHAI VILLA",
                      21.1257901,
                      79.1166801
                    ],
                    [
                      "Cafe am se pm",
                      21.1658973,
                      79.1025227
                    ],
                    [
                      "Friends CAFE",
                      21.164962,
                      79.0813186
                    ],
                    [
                      "The Mini Bowl Cafe",
                      21.1127444,
                      79.0903287
                    ],
                    [
                      "Kaveri South Indian Restaurant",
                      21.140304,
                      79.0851853
                    ],
                    [
                      "Anna's Madras Cafe",
                      21.1642389,
                      79.0806
                    ],
                    [
                      "Box5",
                      21.1518017,
                      79.1216982
                    ],
                    [
                      "PENTHOUSE CAFE",
                      21.1700619,
                      79.0784041
                    ],
                    [
                      "Jas Kitchen",
                      21.1936215,
                      79.0905939
                    ],
                    [
                      "Samosa Grid",
                      21.1097457,
                      79.0804888
                    ],
                    [
                      "Punjabi Grill N Curries Family Restaurant",
                      21.159492,
                      79.078845
                    ],
                    [
                      "Premvati Food Corner",
                      21.136878,
                      79.1446197
                    ],
                    [
                      "Night world popular cafe",
                      21.1327175,
                      79.0623027
                    ],
                    [
                      "Online foodie Restaurant",
                      21.1438525,
                      79.1416287
                    ],
                    [
                      "Vishal Saoji Bhojnalaya",
                      21.1485574,
                      79.1157247
                    ],
                    [
                      "Food Genes",
                      21.1158966,
                      79.0388539
                    ],
                    [
                      "Vishal Thool Internet Cafe",
                      21.1021782,
                      79.1020422
                    ],
                    [
                      "Raghuveer Restaurant",
                      21.15363,
                      79.0136424
                    ],
                    [
                      "Ticha katta cafe",
                      21.1206532,
                      79.030726
                    ],
                    [
                      "Nidhi Caterers Services & Ruchi's Family Restaurant",
                      21.186548,
                      79.092325
                    ],
                    [
                      "hotel new uphar gruha",
                      21.1525904,
                      79.0869714
                    ],
                    [
                      "Maitri Snacks Cafe",
                      21.1178809,
                      79.0169153
                    ],
                    [
                      "Jaiswal delight",
                      21.1480063,
                      79.1345172
                    ],
                    [
                      "Essence Bakery & Cafe",
                      21.1174541,
                      79.0577364
                    ],
                    [
                      "Day_Night Cafe & Resturant",
                      21.1206308,
                      79.0283815
                    ],
                    [
                      "RTR South Indian Food's",
                      21.0684195,
                      79.0591142
                    ],
                    [
                      "RV's Food Corner",
                      21.2014157,
                      79.0677962
                    ],
                    [
                      "Solterra Cafe",
                      21.1439838,
                      79.1125031
                    ],
                    [
                      "Cheesy Crazy Cafe",
                      21.1638325,
                      79.0816206
                    ],
                    [
                      "Mom's Recipe",
                      21.1701285,
                      78.9983793
                    ],
                    [
                      "Maai Family Restaurant",
                      21.18716,
                      79.0494659
                    ],
                    [
                      "Delish kitchen",
                      21.1160282,
                      79.0308244
                    ],
                    [
                      "Kgf Smoke Cafe",
                      21.1260171,
                      79.1189214
                    ],
                    [
                      "Cake Smith Bakery & Cafe",
                      21.1479288,
                      79.1385538
                    ],
                    [
                      "Irani chai",
                      21.1824127,
                      79.0679219
                    ],
                    [
                      "The Next World Family Garden Restaurant",
                      21.1119222,
                      79.0664888
                    ],
                    [
                      "Feel The Vibes Rooftop Cafe & Restaurant",
                      21.0972044,
                      79.073971
                    ],
                    [
                      "Hare Ram Hare Krishna Family Restaurant",
                      21.1084491,
                      79.1231734
                    ],
                    [
                      "Arbiya Restaurant",
                      21.1604318,
                      79.1195473
                    ],
                    [
                      "Anna South Indian Food Stall",
                      21.1752288,
                      79.0541644
                    ],
                    [
                      "Golu samose wala",
                      21.1499202,
                      79.0431028
                    ],
                    [
                      "Baba Tea House",
                      21.1687831,
                      79.1071576
                    ],
                    [
                      "Cafe Chokolade",
                      21.1308818,
                      79.0487194
                    ],
                    [
                      "Rajasthani Restaurant",
                      21.1119222,
                      79.0664888
                    ],
                    [
                      "Kakke De Kulche Nagpur (Restaurant)",
                      21.1405557,
                      79.0658929
                    ],
                    [
                      "Vasant Restaurant",
                      21.1368991,
                      79.078619
                    ],
                    [
                      "Hotel Ashok",
                      21.1651014,
                      79.0574436
                    ],
                    [
                      "Cafe Clockers",
                      21.1261212,
                      79.055798
                    ],
                    [
                      "baba non-veg center",
                      21.1084179,
                      79.0889385
                    ],
                    [
                      "Museum Revolving Restaurant",
                      21.1657166,
                      79.0903845
                    ],
                    [
                      "Kamala Restaurant And Bakery",
                      21.190258,
                      79.078215
                    ],
                    [
                      "Plan B Cafe",
                      21.1656334,
                      79.1083206
                    ],
                    [
                      "Sarthi Restaurant",
                      21.1402338,
                      79.0944069
                    ],
                    [
                      "Shri Balaji Veg Restaurant",
                      21.144293,
                      79.07822
                    ],
                    [
                      "Culcutta Restaurant",
                      21.1439111,
                      79.0796171
                    ],
                    [
                      "Tasty saoji",
                      21.1585644,
                      79.1010958
                    ],
                    [
                      "Abhinandan pure veg family restaurant",
                      21.1909125,
                      79.1611853
                    ],
                    [
                      "It's Time To eat",
                      21.1403915,
                      79.1304889
                    ],
                    [
                      "GANESH RESTAURANT",
                      21.116851,
                      79.1340348
                    ],
                    [
                      "Sukun South Indian Restaurant",
                      21.1100334,
                      79.0703093
                    ],
                    [
                      "SINAI KITCHEN",
                      21.1905865,
                      79.0786814
                    ],
                    [
                      "4ks rooftop",
                      21.1635668,
                      79.079293
                    ],
                    [
                      "Green City Family Restaurant",
                      21.1533086,
                      79.0966312
                    ],
                    [
                      "Shahi momo and cafe Nagpur",
                      21.1390737,
                      79.1312011
                    ],
                    [
                      "Juicify cafe & restro",
                      21.1198853,
                      79.0317103
                    ],
                    [
                      "4ks Cafe",
                      21.1635787,
                      79.0792962
                    ],
                    [
                      "CANDLE NIGHT'S RESTRO & CAFE",
                      21.1281429,
                      79.125615
                    ],
                    [
                      "Delicious Saoji Chines Center",
                      21.1757294,
                      79.1472833
                    ],
                    [
                      "DESI CULTURE - Delivery Kitchen & Outdoor Catering",
                      21.1724345,
                      79.049359
                    ],
                    [
                      "FARMAAISH CAFE",
                      21.1131397,
                      79.047596
                    ],
                    [
                      "Chop N Hop Cafe",
                      21.1505885,
                      79.074899
                    ],
                    [
                      "Games N Cafe",
                      21.118583,
                      79.0184663
                    ],
                    [
                      "Maharashtrian Zunka Bhakar Center",
                      21.1074,
                      79.0443014
                    ],
                    [
                      "Master Curry Restaurant,",
                      21.1225435,
                      79.0344691
                    ],
                    [
                      "Mahi's Kitchen",
                      21.1706265,
                      79.0464394
                    ],
                    [
                      "26 CARAT FAMILY GARDEN RESTAURANT",
                      21.1167863,
                      79.1167987
                    ],
                    [
                      "Venom’s tomando cafe and restaurent",
                      21.1415639,
                      79.1208893
                    ],
                    [
                      "Brother's Chay sutta cafe",
                      21.1363373,
                      79.1022793
                    ],
                    [
                      "Lloyd's restaurant",
                      21.105365,
                      79.0562114
                    ],
                    [
                      "Yashoda restaurant",
                      21.1492663,
                      79.1594747
                    ],
                    [
                      "HEDAOO SAOJI BHOJNALAY",
                      21.2010964,
                      79.0677027
                    ],
                    [
                      "Al Zaika Hotel",
                      21.1875229,
                      79.0563041
                    ],
                    [
                      "Highway inn Bar and restaurant",
                      21.1798844,
                      79.109938
                    ],
                    [
                      "Champions Cafe",
                      21.1744633,
                      79.0562003
                    ],
                    [
                      "Coffee and Cream",
                      21.1637012,
                      79.0797781
                    ],
                    [
                      "D DARK CAFE",
                      21.1457655,
                      79.1211074
                    ],
                    [
                      "Manoj Restaurant",
                      21.1597123,
                      79.1185182
                    ],
                    [
                      "Chotu Chai La",
                      21.1877367,
                      79.0673209
                    ],
                    [
                      "Fusion of spices Chinese Restaurant",
                      21.155599,
                      79.100861
                    ],
                    [
                      "PIZZA N CAFE",
                      21.1046055,
                      79.0943862
                    ],
                    [
                      "A3 Restaurant Lodging and Boarding",
                      21.1162175,
                      79.1211947
                    ],
                    [
                      "Laziz Biryani Centre",
                      21.1344132,
                      79.1196618
                    ],
                    [
                      "A3 Restaurant Lodging and Boarding",
                      21.1162175,
                      79.1211947
                    ],
                    [
                      "RY chines center",
                      21.1968371,
                      79.0509874
                    ],
                    [
                      "Hookups Cafe",
                      21.138802,
                      79.1218805
                    ],
                    [
                      "Sarvagya Chaupaty",
                      21.1978645,
                      79.0687647
                    ],
                    [
                      "Harshita Amruttullya",
                      21.1916321,
                      79.0746441
                    ],
                    [
                      "AR - Raheem Restaurant",
                      21.1823332,
                      79.0664983
                    ],
                    [
                      "Mahalaxmi Restaurant",
                      21.2072853,
                      79.0770088
                    ],
                    [
                      "Enjoy Point",
                      21.1447383,
                      79.0846549
                    ],
                    [
                      "Biryani Center",
                      21.1699614,
                      79.0792891
                    ],
                    [
                      "Smoke Cartel",
                      21.1875659,
                      79.0840457
                    ],
                    [
                      "Mother's Tea & Poha",
                      21.1947694,
                      79.0701709
                    ],
                    [
                      "Highway Paradise Open Garden Restaurant",
                      21.0904303,
                      79.064967
                    ],
                    [
                      "Ikigai Cafe",
                      21.116988,
                      79.0436495
                    ],
                    [
                      "Babur hh",
                      21.1514408,
                      79.1039929
                    ],
                    [
                      "Samadhan Bawarchi",
                      21.1309508,
                      79.0645358
                    ],
                    [
                      "Super Taj Biryani Center",
                      21.1648772,
                      79.1434314
                    ],
                    [
                      "Shree Dattakrupa Sweet Mart",
                      21.1973464,
                      79.0510224
                    ],
                    [
                      "Street Chowpati",
                      21.1305375,
                      79.1004727
                    ],
                    [
                      "Dipty's cafe",
                      21.1308087,
                      79.0625728
                    ],
                    [
                      "Chauki Cafe / Raymond’s Tea",
                      21.1744006,
                      79.0509177
                    ],
                    [
                      "Patel's Cafe",
                      21.192831,
                      79.0465162
                    ],
                    [
                      "Annaji restaurant",
                      21.1586256,
                      79.1174766
                    ],
                    [
                      "Jay sewa chicken shop",
                      21.065853,
                      79.0581805
                    ],
                    [
                      "The Zaika Home Kitchen Biriyani Centre",
                      21.1636549,
                      79.0432198
                    ],
                    [
                      "Guptaji Sweet",
                      21.1664201,
                      79.1660555
                    ],
                    [
                      "Two cousins cafe TCC",
                      21.1360103,
                      79.119792
                    ],
                    [
                      "The fire 9 cafe",
                      21.1348298,
                      79.1399446
                    ],
                    [
                      "BROTHER'S Pan place & Tea point",
                      21.1892335,
                      79.1353308
                    ],
                    [
                      "CODE 14 DOUBLE DECKER FOOD TRUCK CAFE",
                      21.1807492,
                      79.0852951
                    ],
                    [
                      "CAFE D.M",
                      21.1977475,
                      79.068591
                    ],
                    [
                      "Raaga Cafe",
                      21.1366625,
                      79.0532418
                    ],
                    [
                      "Rajasthani Restaurant Pure Veg Family Restaurant",
                      21.1335468,
                      79.1433276
                    ],
                    [
                      "Jungle Safari Restaurant",
                      21.1771369,
                      79.0293853
                    ],
                    [
                      "Cheesy Snacks",
                      21.108865,
                      79.069238
                    ],
                    [
                      "CHAI CAFE",
                      21.0976569,
                      79.0676701
                    ],
                    [
                      "Cafe cofee day",
                      21.1406844,
                      79.1192665
                    ],
                    [
                      "Kohinoor Bakery, Daily Needs & Snacks",
                      21.1952533,
                      79.0610504
                    ],
                    [
                      "ROHANI RESTAURANT",
                      21.1826914,
                      79.0688717
                    ],
                    [
                      "Cafe MAFIA",
                      21.1836027,
                      79.0909084
                    ],
                    [
                      "A-1 Biryani",
                      21.1796458,
                      79.0908081
                    ],
                    [
                      "Goli Vada Pav - Poonam Enterprises",
                      21.1644556,
                      79.1153109
                    ],
                    [
                      "Taj Chicken Center",
                      21.1121266,
                      79.0303207
                    ],
                    [
                      "Car-o-Bar",
                      21.1157415,
                      79.0684952
                    ],
                    [
                      "Flavour's in kulhad",
                      21.1176839,
                      79.0471586
                    ],
                    [
                      "SAOJI TADKA",
                      21.0967362,
                      79.0918935
                    ],
                    [
                      "Magic Box Cafe & Cake",
                      21.1088892,
                      79.0842016
                    ],
                    [
                      "VS Cakes and Pizzas",
                      21.1627773,
                      79.0156467
                    ],
                    [
                      "Fuel station",
                      21.1479531,
                      79.1378789
                    ],
                    [
                      "Agrasen Enterprises",
                      21.1425125,
                      79.0584271
                    ],
                    [
                      "CAFE HUT NAGPUR",
                      21.1655687,
                      79.0827166
                    ],
                    [
                      "Harish Restaurant",
                      21.1526738,
                      79.1084753
                    ],
                    [
                      "COOL CAFE",
                      21.1130367,
                      79.0524049
                    ],
                    [
                      "Nitrozone.in",
                      21.1759376,
                      79.096013
                    ],
                    [
                      "Bhagwati restaurent",
                      21.1832387,
                      79.0791072
                    ],
                    [
                      "BellaVista Cafe & Skybar",
                      21.1527169,
                      79.0770849
                    ],
                    [
                      "Selene Rooftop & Bar",
                      21.1395595,
                      79.065709
                    ],
                    [
                      "Goosebumps Nagpur",
                      21.1576041,
                      79.0756946
                    ],
                    [
                      "Saubhagya Restaurant",
                      21.1333357,
                      79.0464153
                    ],
                    [
                      "Kabab Hut Restaurant",
                      21.1162265,
                      79.0681303
                    ],
                    [
                      "Rohit Restaurant",
                      21.1382435,
                      79.1193789
                    ],
                    [
                      "Bullockcart Restaurant",
                      21.1593974,
                      79.079081
                    ],
                    [
                      "Tea Time",
                      21.1765001,
                      79.089608
                    ],
                    [
                      "Balaji Restaurant",
                      21.11295,
                      79.098826
                    ],
                    [
                      "Jubabe momos (जुबाबे मोमोज)",
                      21.1596424,
                      79.1164027
                    ],
                    [
                      "Welcome biryani center",
                      21.1591563,
                      79.0040698
                    ],
                    [
                      "Nirali cafe",
                      21.1478924,
                      79.0929097
                    ],
                    [
                      "Cafe c9",
                      21.1736306,
                      79.0597402
                    ],
                    [
                      "Rockstar Cafe",
                      21.1190401,
                      79.0718292
                    ],
                    [
                      "Da kitchen delight",
                      21.1359485,
                      79.1344092
                    ],
                    [
                      "Liciouss Pizza's",
                      21.1341327,
                      79.1286151
                    ],
                    [
                      "Pote Restaurant",
                      21.1644256,
                      79.1529599
                    ],
                    [
                      "SNAX CAFE",
                      21.1158889,
                      79.0424597
                    ],
                    [
                      "Mishraji nashta Point",
                      21.1565492,
                      79.1576321
                    ],
                    [
                      "Grill King FAST FOOD RESTAURANT",
                      21.1439564,
                      79.1082672
                    ],
                    [
                      "PARADISE RESTAURANT",
                      21.0973008,
                      79.0999025
                    ],
                    [
                      "Punjabi Kitchen",
                      21.1758315,
                      79.0449771
                    ],
                    [
                      "SACHIN MESS",
                      21.1778053,
                      79.0418469
                    ],
                    [
                      "Satnam Restaurant",
                      21.191523,
                      79.0721806
                    ],
                    [
                      "AS Cafe & Restro",
                      21.1106272,
                      79.1167941
                    ],
                    [
                      "N7 Nitro factory cafe",
                      21.1443589,
                      79.1124086
                    ],
                    [
                      "Hot Chilli - Food & Cafe",
                      21.1488946,
                      79.1242911
                    ],
                    [
                      "Mauve Story Cafe",
                      21.1730782,
                      79.0835793
                    ],
                    [
                      "ORANGE CITY CAFE & BISTRO",
                      21.1644681,
                      79.0215242
                    ],
                    [
                      "Red Cafe",
                      21.1393827,
                      79.0946655
                    ],
                    [
                      "Gulhane building",
                      21.199672,
                      79.074283
                    ],
                    [
                      "Lembas Bread Cafe",
                      21.1397107,
                      79.0631364
                    ],
                    [
                      "Chief's choice cafe",
                      21.1426825,
                      79.065722
                    ],
                    [
                      "Shree Pawanputra Canteen",
                      21.1908768,
                      79.1101857
                    ],
                    [
                      "Zaiqa Cafe and Restaurant",
                      21.1133726,
                      79.0584095
                    ],
                    [
                      "Green Leaf Grill Restaurant",
                      21.1147647,
                      79.0437378
                    ],
                    [
                      "Eat Forever",
                      21.1103172,
                      79.0715509
                    ],
                    [
                      "Vijay Kumar South Indian Restaurant",
                      21.1436703,
                      79.1121777
                    ],
                    [
                      "Rose birds cafe",
                      21.1678672,
                      79.1161547
                    ],
                    [
                      "Freedom Restaurant",
                      21.0938949,
                      79.098181
                    ],
                    [
                      "Al Noor foods & cafe",
                      21.1550757,
                      79.117042
                    ],
                    [
                      "Matrix snacks Corner",
                      21.1871525,
                      79.0613505
                    ],
                    [
                      "COSTAL CAFÉ",
                      21.1542111,
                      79.0457094
                    ],
                    [
                      "Marathwadyachi Jhunka fresh bhakar Bharit better than restaurant",
                      21.0910409,
                      79.0770786
                    ],
                    [
                      "QG Family Restaurant",
                      21.1652606,
                      79.0815194
                    ],
                    [
                      "Saoji Kitchen Veg & NonVeg Restaurant",
                      21.1290221,
                      79.1428926
                    ],
                    [
                      "Haweli Restaurant",
                      21.114014,
                      79.1043849
                    ],
                    [
                      "Home's Kitchen",
                      21.1738198,
                      79.165503
                    ],
                    [
                      "Grand imperial Family Restaurant",
                      21.0865047,
                      79.0727401
                    ],
                    [
                      "Sonu bhau ki tapri",
                      21.1838409,
                      79.1328873
                    ],
                    [
                      "Sai Computer Interner Cafe",
                      21.1060743,
                      79.1212918
                    ],
                    [
                      "Nikita Restaurant",
                      21.1677898,
                      79.1025988
                    ],
                    [
                      "Cafe of Gravity",
                      21.1834397,
                      79.0913536
                    ],
                    [
                      "Biryani cafe",
                      21.1733688,
                      79.1080409
                    ],
                    [
                      "Joggers cafe",
                      21.1437489,
                      79.0677444
                    ],
                    [
                      "Gitashi Net Cafe",
                      21.1602083,
                      79.011065
                    ],
                    [
                      "Hotel Sanjari Taj",
                      21.1822888,
                      79.0729793
                    ],
                    [
                      "The Malabar Biryani",
                      21.1691931,
                      79.0809475
                    ],
                    [
                      "Nescafe Cafe",
                      21.1768684,
                      79.0618787
                    ],
                    [
                      "Pizzzenia",
                      21.1464475,
                      79.0560897
                    ],
                    [
                      "AAHAR FAST FOODS",
                      21.1137615,
                      79.0418093
                    ],
                    [
                      "Friends Cafe",
                      21.1038467,
                      79.0678484
                    ],
                    [
                      "Balaji Restaurant And Bar",
                      21.1133367,
                      79.0468083
                    ],
                    [
                      "Deja Brew",
                      21.135409,
                      79.1209479
                    ],
                    [
                      "Akashdeep Bar & Restaurant",
                      21.1615209,
                      79.1473196
                    ],
                    [
                      "The Cafewilla",
                      21.1517293,
                      79.0455145
                    ],
                    [
                      "Jai Bhole Restaurant",
                      21.207188,
                      79.0772516
                    ],
                    [
                      "Baba Taj Hotel",
                      21.1658779,
                      79.1465679
                    ],
                    [
                      "Dakshjeet Dabha and Restaurant",
                      21.1257691,
                      79.1590943
                    ],
                    [
                      "Jay Ambe Restaurant & Tea stall",
                      21.1281919,
                      79.1503388
                    ],
                    [
                      "Zohan hotel",
                      21.1810177,
                      79.1175286
                    ],
                    [
                      "Famous chat center",
                      21.1838209,
                      79.109536
                    ],
                    [
                      "Brota House ( Refreshments Cafe)",
                      21.114659,
                      79.0419947
                    ],
                    [
                      "Cafe Junglee",
                      21.1748931,
                      79.0509632
                    ],
                    [
                      "Al aalmin biryani point",
                      21.1543712,
                      79.1443093
                    ],
                    [
                      "Mohini chaines centre",
                      21.1502974,
                      79.1582966
                    ],
                    [
                      "SAANVI pure veg family restaurant",
                      21.1308038,
                      79.1196097
                    ],
                    [
                      "Mehta Catering (punjabi rosoi & tiffin service)",
                      21.1880478,
                      79.051709
                    ],
                    [
                      "DESIYUM",
                      21.1762461,
                      79.050038
                    ],
                    [
                      "Om Sai Restaurant Dosa Center",
                      21.12976,
                      79.1217196
                    ],
                    [
                      "Sai Tiffins (Mess)",
                      21.2000312,
                      79.0601471
                    ],
                    [
                      "King's cafe & tea restaurant",
                      21.1384699,
                      79.1237432
                    ],
                    [
                      "Gokul restaurant",
                      21.1672511,
                      79.1113643
                    ],
                    [
                      "Shree Sai Restaurant",
                      21.1347963,
                      79.0763367
                    ],
                    [
                      "Log Sabha Tea & Cafe",
                      21.1316313,
                      79.1157165
                    ],
                    [
                      "Chai Coffee cafe (Entrepreneur deshi chaiwale)",
                      21.1487511,
                      79.0918325
                    ],
                    [
                      "LP Street Food Cafe",
                      21.1911253,
                      79.1098374
                    ],
                    [
                      "Triple 2 cafe",
                      21.1631604,
                      79.1136915
                    ],
                    [
                      "MOWGLI TEA CAFE",
                      21.1729511,
                      79.1179079
                    ],
                    [
                      "BROTHERS TEA POINT",
                      21.1892326,
                      79.135215
                    ],
                    [
                      "HANGOUT cafe",
                      21.1252004,
                      79.1614702
                    ],
                    [
                      "The Washington waffles",
                      21.1328372,
                      79.1192846
                    ],
                    [
                      "Shyam PAN palace",
                      21.1401782,
                      79.1474302
                    ],
                    [
                      "Aaradhya Cyber Cafe",
                      21.123616,
                      79.12895
                    ],
                    [
                      "Madhu net cafe",
                      21.1906587,
                      79.0541997
                    ],
                    [
                      "Lockdown cafe and chai sutta point",
                      21.1411515,
                      79.0543455
                    ],
                    [
                      "Smokers_ house",
                      21.1615672,
                      79.0046623
                    ],
                    [
                      "Shree balaji canteen",
                      21.1609679,
                      79.1450317
                    ],
                    [
                      "Cafe forever",
                      21.1998667,
                      79.0686299
                    ],
                    [
                      "Chinese Food",
                      21.171995,
                      79.0362617
                    ],
                    [
                      "Tasty Meals Restaurant",
                      21.0911909,
                      79.0730154
                    ],
                    [
                      "Shahu restaurant",
                      21.1457191,
                      79.0703544
                    ],
                    [
                      "John Calcutta Roll & Chinese Corner",
                      21.1810807,
                      79.0606847
                    ],
                    [
                      "Mate Restaurant & Tea Stall",
                      21.1884209,
                      79.1000199
                    ],
                    [
                      "Hot Spicy Restaurant",
                      21.125064,
                      79.0642184
                    ],
                    [
                      "Bengali Nasta",
                      21.1536422,
                      79.1108755
                    ],
                    [
                      "Maddy's Kitchen",
                      21.1975415,
                      79.1357029
                    ],
                    [
                      "Burgerland",
                      21.1916234,
                      79.0787651
                    ],
                    [
                      "Pizzeria Cafe Shop",
                      21.1313581,
                      79.1456063
                    ],
                    [
                      "Aarambh Amrutulya",
                      21.1881338,
                      79.1068967
                    ],
                    [
                      "Toss Cafe",
                      21.1331879,
                      79.0716834
                    ],
                    [
                      "Cafe Te Amo",
                      21.1978689,
                      79.0687719
                    ],
                    [
                      "Jiya's kitchen & family restaurant",
                      21.1764579,
                      79.0290808
                    ],
                    [
                      "Guruprasad Nasta Hub",
                      21.104043,
                      79.066823
                    ],
                    [
                      "Roundtable Cafe",
                      21.1797501,
                      79.039621
                    ],
                    [
                      "SIGNATURE CAFE",
                      21.161136,
                      79.1294162
                    ],
                    [
                      "Tiwari Canteen",
                      21.1671955,
                      79.1478566
                    ],
                    [
                      "Om tea stalls",
                      21.16722,
                      79.006783
                    ],
                    [
                      "Gajanan Taj Restaurant",
                      21.1799231,
                      79.1538666
                    ],
                    [
                      "Pathan'S best Biryani corner",
                      21.1636437,
                      79.0434514
                    ],
                    [
                      "DiDi'sKitchen",
                      21.1754365,
                      79.0461748
                    ],
                    [
                      "Orange Box CAFE",
                      21.1138964,
                      79.0578187
                    ],
                    [
                      "Amruth Restaurent",
                      21.0908973,
                      79.0555625
                    ],
                    [
                      "Lily Garden & Restaurant",
                      21.146957,
                      79.1562163
                    ],
                    [
                      "Lao-Tzu The Asian Kitchen",
                      21.1594099,
                      79.0794628
                    ],
                    [
                      "FBF's सिद्धाम्रत चहा",
                      21.2075959,
                      79.0774732
                    ],
                    [
                      "Gallery 12 Cafe",
                      21.1306994,
                      79.0818004
                    ],
                    [
                      "SHREE Restaurant",
                      21.120016,
                      79.022948
                    ],
                    [
                      "Sin & Cos Cafe",
                      21.0972713,
                      79.0724983
                    ],
                    [
                      "Hunger point",
                      21.205756,
                      79.0662747
                    ],
                    [
                      "Chinese Center",
                      21.1663361,
                      79.0119679
                    ],
                    [
                      "ETA [EAT ALL TIME]",
                      21.1056166,
                      79.1200586
                    ],
                    [
                      "Cafe स्थान",
                      21.1120742,
                      79.0651653
                    ],
                    [
                      "Yash fast food restaurant",
                      21.2062169,
                      79.0658911
                    ],
                    [
                      "Restaurant Vharadi Bana",
                      21.1404158,
                      79.0599085
                    ],
                    [
                      "Neon - the lounge",
                      21.1967244,
                      79.078154
                    ],
                    [
                      "Silver bar and restaurant",
                      21.1311,
                      79.1164709
                    ],
                    [
                      "Log Heaven",
                      21.0896451,
                      79.0712674
                    ],
                    [
                      "The corner cafe",
                      21.1508057,
                      79.1187246
                    ],
                    [
                      "Delight cafe",
                      21.171125,
                      79.0810263
                    ],
                    [
                      "Shiv shakti restaurant",
                      21.1520527,
                      79.0906451
                    ],
                    [
                      "Maa Ansuya Restaurant",
                      21.193605,
                      79.0701646
                    ],
                    [
                      "Jayka Restaurant",
                      21.1402824,
                      79.095556
                    ],
                    [
                      "The Village Cafe",
                      21.1452035,
                      79.0841829
                    ],
                    [
                      "Raj Restaurant",
                      21.1489581,
                      79.031611
                    ],
                    [
                      "Shaikh Hotel",
                      21.191771,
                      79.1274128
                    ],
                    [
                      "N B Cafe",
                      21.1000464,
                      79.0704831
                    ],
                    [
                      "Rambhau Fastfood",
                      21.138264,
                      79.161945
                    ],
                    [
                      "Kutch Mandavi Dabeli Center",
                      21.1487989,
                      79.1287044
                    ],
                    [
                      "Darling's Café & Family Restaurant",
                      21.1508086,
                      79.1535454
                    ],
                    [
                      "Shazal Kitchen",
                      21.096026,
                      79.0515458
                    ],
                    [
                      "Aatithya Restaurant",
                      21.1284564,
                      79.1192391
                    ],
                    [
                      "La Calista Cafe",
                      21.1877855,
                      79.0558761
                    ],
                    [
                      "Knowhere cafe",
                      21.11906,
                      79.032634
                    ],
                    [
                      "Mayur Pan Shop",
                      21.155547,
                      79.159581
                    ],
                    [
                      "OD's Cafe",
                      21.1211578,
                      79.0264702
                    ],
                    [
                      "TCS cafe",
                      21.1141912,
                      79.0435388
                    ],
                    [
                      "Cakes 4 U Bakery & Cafe",
                      21.1491795,
                      79.0412068
                    ],
                    [
                      "Real Bulls Cafe",
                      21.1752656,
                      79.0510514
                    ],
                    [
                      "SALIM BAKERY & SNACKS CORNER",
                      21.1837305,
                      79.1324947
                    ],
                    [
                      "Enfield Cafe",
                      21.1121298,
                      79.0640669
                    ],
                    [
                      "The Gose's cafe",
                      21.1470373,
                      79.0573209
                    ],
                    [
                      "The Spiceyard",
                      21.1623264,
                      79.062021
                    ],
                    [
                      "Fish factory",
                      21.1324015,
                      79.0705355
                    ],
                    [
                      "Shree Anand Restaurant",
                      21.1453478,
                      79.0817211
                    ],
                    [
                      "Anand RESTAURANT",
                      21.1408593,
                      79.0804084
                    ],
                    [
                      "Shama Restaurant",
                      21.1605267,
                      79.0831541
                    ],
                    [
                      "Peshwa Garden Restaurant",
                      21.144853,
                      79.0804231
                    ],
                    [
                      "Chaat bhandar",
                      21.0676974,
                      79.0588091
                    ],
                    [
                      "Krishna Restaurent",
                      21.0906076,
                      79.0650062
                    ],
                    [
                      "Mayur Family Restaurant",
                      21.102919,
                      79.0872948
                    ],
                    [
                      "MDP Swishy Fish Store",
                      21.1874475,
                      79.0478837
                    ],
                    [
                      "Om Namo Krishna Family Restaurant",
                      21.2029519,
                      79.0673536
                    ],
                    [
                      "KGN NASTA CENTER",
                      21.1867442,
                      79.0496232
                    ],
                    [
                      "Sudev Punjabi Paratha& Masalas",
                      21.1750686,
                      79.0583825
                    ],
                    [
                      "Bramhandnayak Amruttulya Evam Satvik Ahar Kendra",
                      21.163745,
                      79.043495
                    ],
                    [
                      "Madras kitchen",
                      21.1569313,
                      79.0752159
                    ],
                    [
                      "Mataka saoji ( मटका सावजी)",
                      21.2068283,
                      79.0659589
                    ],
                    [
                      "Naashta Center",
                      21.1086705,
                      79.1241276
                    ],
                    [
                      "Paapi Pait",
                      21.1661594,
                      79.1026986
                    ],
                    [
                      "Barapatre Saoji Online Restaurant",
                      21.129727,
                      79.1232341
                    ],
                    [
                      "Hedaoo Savji",
                      21.2009909,
                      79.067902
                    ],
                    [
                      "Restaurants",
                      21.1144169,
                      79.1305984
                    ],
                    [
                      "Wasundhara's Family Garden Restaurant",
                      21.1241835,
                      79.1384362
                    ],
                    [
                      "Green Hut Family Restaurant",
                      21.165067,
                      79.1067105
                    ],
                    [
                      "Shri Hari restaurant MahajanBadi",
                      21.1519912,
                      79.1046021
                    ],
                    [
                      "Chaha Chaska & Restaurant",
                      21.123276,
                      79.1098306
                    ],
                    [
                      "Vedanta restaurant",
                      21.1450875,
                      79.0856248
                    ],
                    [
                      "Swad Samrat",
                      21.10995,
                      79.072498
                    ],
                    [
                      "Sai Sweet and Restaurant",
                      21.1056426,
                      79.0945697
                    ],
                    [
                      "Tasty katta",
                      21.1979629,
                      79.0685968
                    ],
                    [
                      "Good Day Snacks",
                      21.1913196,
                      79.0724169
                    ],
                    [
                      "Radhe Govind Chaat Chaska & Cafe",
                      21.1310746,
                      79.1183698
                    ],
                    [
                      "Head House Cafe",
                      21.1358194,
                      79.1371524
                    ],
                    [
                      "कडक अमृत चहा KAC MOMOS CAFE",
                      21.1235932,
                      79.1124645
                    ],
                    [
                      "Smart Kitchen & Cafe",
                      21.1929423,
                      79.1102213
                    ],
                    [
                      "Pizzeria Cafe Shop",
                      21.1119047,
                      79.0753284
                    ],
                    [
                      "Kashh chay sutta corner",
                      21.1130969,
                      79.094378
                    ],
                    [
                      "The Cafe - Taste Dil Se",
                      21.1904355,
                      79.1186938
                    ],
                    [
                      "UMAHAS Food Experts Cafe",
                      21.1235903,
                      79.1162436
                    ],
                    [
                      "BROTHER TEA POINT",
                      21.1837137,
                      79.1325001
                    ],
                    [
                      "Shaurya Tea shop",
                      21.1528464,
                      79.1651083
                    ],
                    [
                      "Sahajan Service",
                      21.1578074,
                      79.1173671
                    ],
                    [
                      "Sai Food cafe",
                      21.1579118,
                      79.1497202
                    ],
                    [
                      "Smoking Zone",
                      21.1809807,
                      79.1486698
                    ],
                    [
                      "Chai Darbar",
                      21.1789502,
                      79.131217
                    ],
                    [
                      "PANINO CAFE N BISTRO",
                      21.140468,
                      79.139316
                    ],
                    [
                      "cafe",
                      21.1874949,
                      79.1096218
                    ],
                    [
                      "PL 12 Ramai Nagar Nari Road Para Pan Shop",
                      21.1898592,
                      79.1096356
                    ],
                    [
                      "Yaduvanshi house Rajesh yadav",
                      21.1922325,
                      79.1146501
                    ],
                    [
                      "Backyard bowls",
                      21.1730136,
                      79.1016792
                    ],
                    [
                      "Hamza Tea Stall",
                      21.159226,
                      79.0961621
                    ],
                    [
                      "The Chai Chaska Bar & Cafe",
                      21.145256,
                      79.104002
                    ],
                    [
                      "Arya samaj mandir",
                      21.1630141,
                      79.0733854
                    ],
                    [
                      "LAKHI GOODS TRANSPORT",
                      21.1604142,
                      79.0100552
                    ],
                    [
                      "G bhau chai",
                      21.1982755,
                      79.0507901
                    ],
                    [
                      "Ayodhya dham Food Garage",
                      21.1584249,
                      79.0496906
                    ],
                    [
                      "Hency Cafe",
                      21.1641371,
                      79.1033447
                    ],
                    [
                      "Gaurav bharadkar",
                      21.175548,
                      79.138688
                    ],
                    [
                      "Shivam Kirana",
                      21.1569066,
                      79.1568056
                    ],
                    [
                      "AP Food",
                      21.1504381,
                      79.1366617
                    ],
                    [
                      "The Cafe Delight",
                      21.1746666,
                      79.060722
                    ],
                    [
                      "Brownie pastry and chocolates",
                      21.1997714,
                      79.0701001
                    ],
                    [
                      "Mr T Cafe",
                      21.2072689,
                      79.0659189
                    ],
                    [
                      "The Parliament Cafe",
                      21.1746693,
                      79.0607222
                    ],
                    [
                      "Chai Paratha Zone",
                      21.0980031,
                      79.0668656
                    ],
                    [
                      "Sai Net Cafe",
                      21.1822663,
                      79.0667094
                    ],
                    [
                      "Karma Cafe & lounge",
                      21.1186842,
                      79.0330873
                    ],
                    [
                      "Baba Taj Janu Biryani Center",
                      21.2107848,
                      79.1040432
                    ],
                    [
                      "Tangerine Restaurant",
                      21.1514731,
                      79.0636951
                    ],
                    [
                      "Gajanan Restaurant",
                      21.1927541,
                      79.078157
                    ],
                    [
                      "Shazal Kitchen",
                      21.096026,
                      79.0515458
                    ],
                    [
                      "Mai Marathi Family Restaurant",
                      21.0897564,
                      79.0757827
                    ],
                    [
                      "Mangesh Nashta Point",
                      21.1740775,
                      79.0350179
                    ],
                    [
                      "Vaishnavi Dhaba and Family Restaurant",
                      21.1345899,
                      79.0710926
                    ],
                    [
                      "Veer Brothers Restaurent",
                      21.1700037,
                      79.0501603
                    ],
                    [
                      "Food on mood chinese and indian family restaurant",
                      21.1099561,
                      79.0235386
                    ],
                    [
                      "A STAR RESTAURANT",
                      21.1713771,
                      79.0858293
                    ],
                    [
                      "Krisha Chat Center",
                      21.0925549,
                      79.0307408
                    ],
                    [
                      "Ketali amruttullya",
                      21.1741626,
                      79.0568066
                    ],
                    [
                      "Kirti Restaurant",
                      21.1830062,
                      79.0793528
                    ],
                    [
                      "Cafe Chocolade",
                      21.1210277,
                      79.0310948
                    ],
                    [
                      "Cafe Aanandam",
                      21.1210538,
                      79.0561221
                    ],
                    [
                      "The Students Cafe",
                      21.1693697,
                      79.047427
                    ],
                    [
                      "Imran Chicken Shop",
                      21.1722765,
                      79.1199232
                    ],
                    [
                      "Café Coffee Day",
                      21.1504545,
                      79.0915827
                    ],
                    [
                      "Pool deck restaurant and bar",
                      21.1236446,
                      79.0644655
                    ],
                    [
                      "Shiv sakti restaurant",
                      21.1491838,
                      79.089343
                    ],
                    [
                      "Fast food restaurant",
                      21.0886024,
                      79.0589984
                    ],
                    [
                      "Shivana South Indian Point",
                      21.1647802,
                      79.0499199
                    ],
                    [
                      "Brother's Cafe",
                      21.1682143,
                      79.1081253
                    ],
                    [
                      "Cafe cakewalk",
                      21.1876969,
                      79.0468755
                    ],
                    [
                      "Indor Namkeen & Restaurant",
                      21.1651173,
                      79.102626
                    ],
                    [
                      "Mishraji Nashta Point",
                      21.1720597,
                      79.043179
                    ],
                    [
                      "Balajee Restaurant",
                      21.1438823,
                      79.0796695
                    ],
                    [
                      "Raju Dhaba",
                      21.1347689,
                      79.1434008
                    ],
                    [
                      "Kartik Restaurant",
                      21.1523572,
                      79.1177612
                    ],
                    [
                      "Chill Out Restaurant",
                      21.1829965,
                      79.0702637
                    ],
                    [
                      "Shahu fast food and restaurant",
                      21.2063596,
                      79.0787693
                    ],
                    [
                      "All About Idli",
                      21.2027687,
                      79.0892313
                    ],
                    [
                      "Saagar Restaurant",
                      21.1350628,
                      79.0774721
                    ],
                    [
                      "R2B Tandoor Restaurant .",
                      21.176466,
                      79.0604473
                    ],
                    [
                      "Dosa Bite South Indian Restaurant",
                      21.1874438,
                      79.1096577
                    ],
                    [
                      "Descent Square Restaurant",
                      21.1706324,
                      79.1308485
                    ],
                    [
                      "Ridhisidhi restaurant nagpur",
                      21.1234507,
                      79.122238
                    ],
                    [
                      "Joshi Restaurant",
                      21.1455395,
                      79.0899393
                    ],
                    [
                      "Kasbaa Hill Restaurant with Bar",
                      21.1458004,
                      79.0881546
                    ],
                    [
                      "Vedansh Savji Bhojanalay",
                      21.1720127,
                      79.1211416
                    ],
                    [
                      "Mangalam Chinese Restaurant",
                      21.1349423,
                      79.1082496
                    ],
                    [
                      "Food Corner",
                      21.1161034,
                      79.1041588
                    ],
                    [
                      "Khara Khajana Restaurant",
                      21.1323769,
                      79.1129299
                    ],
                    [
                      "OVI Internet Cafe",
                      21.1099561,
                      79.0235386
                    ],
                    [
                      "NETFLIX CHINESE FAST FOOD",
                      21.2035663,
                      79.1013774
                    ],
                    [
                      "Bengali Restaurant",
                      21.1542794,
                      79.1110359
                    ],
                    [
                      "Yummies Restaurant",
                      21.1142154,
                      79.0409554
                    ],
                    [
                      "family garden restaurant",
                      21.1542431,
                      79.1214338
                    ],
                    [
                      "FOOD STATION CAFE",
                      21.1744632,
                      79.0562004
                    ],
                    [
                      "Angad mahato",
                      21.2026319,
                      79.0615194
                    ],
                    [
                      "Tomorrowland Restaurant",
                      21.2134461,
                      79.0783486
                    ],
                    [
                      "Closed",
                      21.197552,
                      79.069233
                    ],
                    [
                      "Aahar Restaurant",
                      21.1912114,
                      79.0710173
                    ],
                    [
                      "Preeti Foods",
                      21.188395,
                      79.0773372
                    ],
                    [
                      "Plaza restaurant and bar",
                      21.1363913,
                      79.1443102
                    ],
                    [
                      "Chandrakanta Restaurant",
                      21.1981145,
                      79.0841229
                    ],
                    [
                      "Alishan Food Corner",
                      21.1569907,
                      79.0078974
                    ],
                    [
                      "Taj Mobile Shoppee",
                      21.1803933,
                      79.1537924
                    ],
                    [
                      "Shri Sairam Hot Chips",
                      21.127714,
                      79.0826422
                    ],
                    [
                      "Burgershah's",
                      21.1625218,
                      79.1134923
                    ],
                    [
                      "Baba Saoji & Family Restaurant",
                      21.1040102,
                      79.0170956
                    ],
                    [
                      "Piyu Chainis Center",
                      21.1735395,
                      79.1515424
                    ],
                    [
                      "Manish Services",
                      21.1807571,
                      79.1330806
                    ],
                    [
                      "Sovam Tea Stool",
                      21.1699552,
                      79.0219488
                    ],
                    [
                      "Taj Mehandi Pan Palace",
                      21.1270119,
                      79.1525218
                    ],
                    [
                      "Naresh chaniess",
                      21.1763156,
                      79.1392844
                    ],
                    [
                      "Mohin8 Chinese",
                      21.1566514,
                      79.1660995
                    ],
                    [
                      "Mumbai Vada Pav",
                      21.1242345,
                      79.1384959
                    ],
                    [
                      "Amit Chicken Center",
                      21.174218,
                      79.144757
                    ],
                    [
                      "Shree Ganesh Farsan",
                      21.1603077,
                      79.1567142
                    ],
                    [
                      "Prajwal",
                      21.1790865,
                      79.1511492
                    ],
                    [
                      "Box 5 cafe",
                      21.1541964,
                      79.117774
                    ],
                    [
                      "P D Chinese",
                      21.1563425,
                      79.1659607
                    ],
                    [
                      "Shree Sai Internet Cafe",
                      21.1709704,
                      79.1205574
                    ],
                    [
                      "RANAPRATAP RESTAURANT",
                      21.1141004,
                      79.0567116
                    ],
                    [
                      "Ankush Chinese Centre",
                      21.1805062,
                      79.1391797
                    ],
                    [
                      "Bombay chaat",
                      21.17346,
                      79.1437409
                    ],
                    [
                      "Nilesh Service",
                      21.1728497,
                      79.1167948
                    ],
                    [
                      "Quality Restaurant",
                      21.1106635,
                      79.0235994
                    ],
                    [
                      "The Food Art's Chinese Corner",
                      21.1586006,
                      79.1662872
                    ],
                    [
                      "The Tea Factory Jagti",
                      21.1324467,
                      79.1430457
                    ],
                    [
                      "Cafe sharad",
                      21.121231,
                      79.0310118
                    ],
                    [
                      "Rizwan Services",
                      21.1823682,
                      79.1216667
                    ],
                    [
                      "Rupesh Service",
                      21.1735439,
                      79.1170689
                    ],
                    [
                      "Abhay Services",
                      21.1735216,
                      79.1166684
                    ],
                    [
                      "Brewing Panda",
                      21.1224175,
                      79.0336975
                    ],
                    [
                      "Pooja Tea Stall",
                      21.1718727,
                      79.1166385
                    ],
                    [
                      "Hitendra Sanju Bhaji",
                      21.1599026,
                      79.1547604
                    ],
                    [
                      "Fuel Station Cafe & Restro",
                      21.1479531,
                      79.1378789
                    ],
                    [
                      "Royal food cafe",
                      21.1629858,
                      79.1629519
                    ],
                    [
                      "Dilshan Pan Shop",
                      21.1817407,
                      79.1258043
                    ],
                    [
                      "Chill House",
                      21.1880078,
                      79.1008504
                    ],
                    [
                      "Swarashtra Chinese Center",
                      21.1622212,
                      79.1627667
                    ],
                    [
                      "Maktumbano Sheikh Sales",
                      21.1736013,
                      79.1168095
                    ],
                    [
                      "Maa Bhawani Chinese Center",
                      21.1588561,
                      79.1663023
                    ],
                    [
                      "Nk fast Food Cafe",
                      21.1632693,
                      79.0744726
                    ],
                    [
                      "Raju Tea Center",
                      21.1435096,
                      79.1247133
                    ],
                    [
                      "Vicky Shop",
                      21.1507573,
                      79.1481508
                    ],
                    [
                      "Cafe and cocktail",
                      21.0912639,
                      79.0753822
                    ],
                    [
                      "Jaanta Raja",
                      21.1584856,
                      79.1451521
                    ],
                    [
                      "Vithal Chaaha",
                      21.1529591,
                      79.1498851
                    ],
                    [
                      "Aysha Coldrink",
                      21.1446935,
                      79.1311168
                    ],
                    [
                      "Pradum Chat Centre",
                      21.1499231,
                      79.1580785
                    ],
                    [
                      "Cafe QB",
                      21.1406763,
                      79.0609111
                    ],
                    [
                      "Chandravanshi Juice",
                      21.1768972,
                      79.148696
                    ],
                    [
                      "Chinese Fast Food",
                      21.1146141,
                      79.0422008
                    ],
                    [
                      "Chaiadda",
                      21.1497315,
                      79.1578843
                    ],
                    [
                      "Nimbu Pani Center",
                      21.1500069,
                      79.1628661
                    ],
                    [
                      "Thikana Cafe",
                      21.1338631,
                      79.0536181
                    ],
                    [
                      "Mohammad Service",
                      21.1824786,
                      79.1405694
                    ],
                    [
                      "CAFE ZONE",
                      21.130501,
                      79.0469205
                    ],
                    [
                      "Mumbai dum biryani yashoda nagar",
                      21.1162784,
                      79.025134
                    ],
                    [
                      "Jagdamba Daily Needs",
                      21.1845921,
                      79.132172
                    ],
                    [
                      "Shiv Shakti Bar",
                      21.1694594,
                      79.1360695
                    ],
                    [
                      "Viru Chinese",
                      21.1573466,
                      79.1491244
                    ],
                    [
                      "The woodpeckers nest restaurant",
                      21.125908,
                      79.0582381
                    ],
                    [
                      "David juice and cafe center",
                      21.1679859,
                      79.0630522
                    ],
                    [
                      "Sinha Net Cafe",
                      21.1636002,
                      79.1678862
                    ],
                    [
                      "Tea Toast Cafe",
                      21.1391619,
                      79.1316834
                    ],
                    [
                      "Cafe Tinu",
                      21.1865754,
                      79.1572525
                    ],
                    [
                      "Ajay Amlet Nasta Center",
                      21.1722809,
                      79.1199247
                    ],
                    [
                      "Sai Dabeli Point",
                      21.1439349,
                      79.1573551
                    ],
                    [
                      "Shivansh Chivada Center",
                      21.1838537,
                      79.1327371
                    ],
                    [
                      "Mane Bhaji Senter",
                      21.1724434,
                      79.1202864
                    ],
                    [
                      "Swigi Diler",
                      21.1838043,
                      79.1316498
                    ],
                    [
                      "Vilas Chat Center",
                      21.1785397,
                      79.1319495
                    ],
                    [
                      "Anda Rool Center",
                      21.1722809,
                      79.1199247
                    ],
                    [
                      "Devchan Nasta Point",
                      21.1742848,
                      79.1277469
                    ],
                    [
                      "Cafe Junction",
                      21.1032187,
                      79.0874147
                    ],
                    [
                      "The Frypan Restaurant",
                      21.1742344,
                      79.0596732
                    ],
                    [
                      "The Egg Cafe",
                      21.1823363,
                      79.0665442
                    ],
                    [
                      "Cafe Prabhan",
                      21.1390462,
                      79.0641675
                    ],
                    [
                      "Preet Cafe",
                      21.1374161,
                      79.1271615
                    ],
                    [
                      "The cafe",
                      21.1629554,
                      79.0734564
                    ],
                    [
                      "Basundi Chai Cafe",
                      21.0938555,
                      79.0750191
                    ],
                    [
                      "Fusion Cafe",
                      21.1065711,
                      79.0823971
                    ],
                    [
                      "Abha",
                      21.176064,
                      79.1465965
                    ],
                    [
                      "Mahendra Tea Stol",
                      21.1615555,
                      79.1466635
                    ],
                    [
                      "rakesh services",
                      21.1582508,
                      79.1173087
                    ],
                    [
                      "Night Vision Cafe",
                      21.1154958,
                      79.0475779
                    ],
                    [
                      "South Indian Restaurant",
                      21.1312905,
                      79.0472645
                    ],
                    [
                      "Mahakal Pani Puri Center",
                      21.1797251,
                      79.1536583
                    ],
                    [
                      "AASWAD CAFE AND ICE CREAM PARLOR",
                      21.1201962,
                      79.030973
                    ],
                    [
                      "Shree Chainese Center",
                      21.1467976,
                      79.1603543
                    ],
                    [
                      "Gauri Laxmi Pan Shop",
                      21.1348424,
                      79.1400064
                    ],
                    [
                      "Bisen Chat Center",
                      21.1499253,
                      79.1580839
                    ],
                    [
                      "New Chai Sutta",
                      21.1437986,
                      79.1356571
                    ],
                    [
                      "Anuradha Gharghuti Mess",
                      21.1466741,
                      79.1355469
                    ],
                    [
                      "Avani Shravani Mess",
                      21.1476648,
                      79.1674855
                    ],
                    [
                      "Badal Pan Palace",
                      21.1401145,
                      79.1471413
                    ],
                    [
                      "Ma Vaishno Chat & Dabeli",
                      21.1740024,
                      79.1340568
                    ],
                    [
                      "BOMBAY CAFE",
                      21.1230523,
                      79.1220675
                    ],
                    [
                      "Vijay Shahu Nasta Point",
                      21.1847056,
                      79.1698442
                    ],
                    [
                      "Shivanand Food Senter",
                      21.1446557,
                      79.1528762
                    ],
                    [
                      "Hafij Gupchup Chat Point",
                      21.1851002,
                      79.1363231
                    ],
                    [
                      "Radhe Radhe Restaurant",
                      21.095591,
                      79.0777951
                    ],
                    [
                      "Smarty Cafe",
                      21.1640157,
                      79.0450202
                    ],
                    [
                      "Nayan Jain",
                      21.1348134,
                      79.140039
                    ],
                    [
                      "General Store",
                      21.1372866,
                      79.1455327
                    ],
                    [
                      "Cafe Te Amo",
                      21.1764007,
                      79.0500235
                    ],
                    [
                      "Knowhere hukkah cafe",
                      21.1177946,
                      79.0344151
                    ],
                    [
                      "Palak Mahatat Center",
                      21.1323075,
                      79.149567
                    ],
                    [
                      "Suswagatam Panipuri",
                      21.1562565,
                      79.1661239
                    ],
                    [
                      "As Enterprise's",
                      21.1246595,
                      79.1374558
                    ],
                    [
                      "Shakil Bhai ghar",
                      21.172476,
                      79.1313067
                    ],
                    [
                      "Nosh Cafe",
                      21.1224003,
                      79.0569804
                    ],
                    [
                      "AL Mizan Cool Drink",
                      21.1152524,
                      79.1282897
                    ],
                    [
                      "Sangitkar Chai Wala",
                      21.1195381,
                      79.1244472
                    ],
                    [
                      "ANNAPURNA CHATURVEDI Restaurant",
                      21.1190578,
                      79.0716792
                    ],
                    [
                      "Jay Bhavani Panipuri Center",
                      21.1838537,
                      79.1327371
                    ],
                    [
                      "M N Dry Fruits",
                      21.1857385,
                      79.1343622
                    ],
                    [
                      "Honey Daily Needs And Icecream Parlour",
                      21.1777544,
                      79.1333329
                    ],
                    [
                      "Shaneshwar Pani Puri Center",
                      21.1837435,
                      79.1333604
                    ],
                    [
                      "Hotel Anand Family Restaurant",
                      21.0996206,
                      79.0685401
                    ],
                    [
                      "Chai sutta cafe",
                      21.1491124,
                      79.0549807
                    ],
                    [
                      "The Kitchen Art Of Food",
                      21.1435091,
                      79.1465024
                    ],
                    [
                      "GOLU RESTAURANT",
                      21.1595504,
                      78.9981769
                    ],
                    [
                      "Patle Tea Stall",
                      21.1414665,
                      79.1432878
                    ],
                    [
                      "Yana Chinese Centre",
                      21.1493239,
                      79.1607961
                    ],
                    [
                      "Harshit nasta point",
                      21.1523433,
                      79.1698442
                    ],
                    [
                      "Durga Dairy",
                      21.1543459,
                      79.1666926
                    ],
                    [
                      "Tidke Gupchup Center",
                      21.1653583,
                      79.1711906
                    ],
                    [
                      "Jaya Enterprises",
                      21.202823,
                      79.0666893
                    ],
                    [
                      "Harsh Chai & Nashta Cente",
                      21.1937322,
                      79.1268125
                    ],
                    [
                      "Marathi Manus Omelette Chaska",
                      21.1928615,
                      79.1013079
                    ],
                    [
                      "Lal PathLabs",
                      21.2026933,
                      79.0892544
                    ],
                    [
                      "A.K. CHICKEN SHOP",
                      21.1934422,
                      79.1001306
                    ],
                    [
                      "Vaseem Vegitables",
                      21.1978328,
                      79.0886889
                    ],
                    [
                      "El aroma cafe",
                      21.1527414,
                      79.1118903
                    ],
                    [
                      "NIKHIL CHINESE CENTER",
                      21.2035088,
                      79.10126
                    ],
                    [
                      "Kolkata Puchka",
                      21.2127424,
                      79.1036288
                    ],
                    [
                      "Sahil Cafe",
                      21.1590506,
                      79.1001137
                    ],
                    [
                      "MOONG PAKODEWALA",
                      21.2020722,
                      79.0999863
                    ],
                    [
                      "Momos Corner",
                      21.1949116,
                      79.0877981
                    ],
                    [
                      "Snack's Point",
                      21.1916337,
                      79.096188
                    ],
                    [
                      "Shri Sai Darbar Cafe And Maltiservices",
                      21.1870299,
                      79.1313984
                    ],
                    [
                      "Sanjay Futana",
                      21.1924202,
                      79.1029636
                    ],
                    [
                      "Cafe Creme",
                      21.1241166,
                      79.0918066
                    ],
                    [
                      "BOMBAY CHAWPATI ( SEV-PURI AND BHEL-PURI)",
                      21.1692625,
                      79.1080469
                    ],
                    [
                      "Raasta Stories Cafe",
                      21.1215886,
                      79.1140508
                    ],
                    [
                      "Ashish Chat Center",
                      21.1929085,
                      79.1105903
                    ],
                    [
                      "Mr.AJ Musical Cafe",
                      21.1428988,
                      79.0958636
                    ],
                    [
                      "Lakade Kirana",
                      21.1929767,
                      79.1271591
                    ],
                    [
                      "Punjabi Restaurant",
                      21.1157258,
                      79.0447283
                    ],
                    [
                      "Sai Internet Cafe",
                      21.1919921,
                      79.0768337
                    ],
                    [
                      "Goo Gobar And Chai. Cafe",
                      21.1661256,
                      79.1016325
                    ],
                    [
                      "Sam Cafe Shopees",
                      21.1428862,
                      79.0958609
                    ],
                    [
                      "Dumplings",
                      21.1056582,
                      79.0419525
                    ],
                    [
                      "Baradan Restaurant",
                      21.1785147,
                      79.1085509
                    ],
                    [
                      "Jayesh Chicken And Matan Centre",
                      21.2047514,
                      79.0663616
                    ],
                    [
                      "Sovam Nashta Point",
                      21.1678717,
                      79.0214499
                    ],
                    [
                      "নতুন শম্ভু নগর মহাজন এর চা",
                      21.1982354,
                      79.0828688
                    ],
                    [
                      "Paliwal Mess",
                      21.1744617,
                      79.0593888
                    ],
                    [
                      "Saoji Food",
                      21.1418451,
                      79.0842765
                    ],
                    [
                      "New Day Cafe",
                      21.1731308,
                      79.0896089
                    ],
                    [
                      "Cafe 75",
                      21.1555905,
                      79.0859341
                    ],
                    [
                      "Indora Restaurant",
                      21.1722745,
                      79.0999257
                    ],
                    [
                      "Shashi's",
                      21.1786041,
                      79.0449126
                    ],
                    [
                      "Parmatma Ek Restaurant",
                      21.1874672,
                      79.0790272
                    ],
                    [
                      "Shree Balaji restaurant",
                      21.1876234,
                      79.0839896
                    ],
                    [
                      "Spice World Restaurant",
                      21.1458004,
                      79.0881546
                    ],
                    [
                      "Whatsapp Cafe",
                      21.1446926,
                      79.0903969
                    ],
                    [
                      "Yahi Cafe & Restro",
                      21.1571773,
                      79.0772651
                    ],
                    [
                      "Dinesh Fruits",
                      21.1914226,
                      79.0743639
                    ],
                    [
                      "A.R. Restaurant",
                      21.1359884,
                      79.0676833
                    ],
                    [
                      "Dishat dhok cafe",
                      21.11601,
                      79.0989217
                    ],
                    [
                      "Janta Restaurant",
                      21.1382248,
                      79.0953183
                    ],
                    [
                      "Shivam Tea Center And Nashta",
                      21.1838519,
                      79.1327371
                    ],
                    [
                      "Jaanvi Event Management",
                      21.1619603,
                      79.0120579
                    ],
                    [
                      "Jay Gajanan Panipuri Center",
                      21.1838537,
                      79.1327371
                    ],
                    [
                      "Sachin Tea & Nashta Point",
                      21.133286,
                      79.049653
                    ],
                    [
                      "KAMLA PALACE FAMILY RESTAURENT",
                      21.1532615,
                      79.0173769
                    ],
                    [
                      "Vibrations Sportz Cafe",
                      21.1168467,
                      79.0465452
                    ],
                    [
                      "Mate’s Cafe & Chinese",
                      21.1458004,
                      79.0881546
                    ],
                    [
                      "Online cafe",
                      21.1400043,
                      79.0601802
                    ],
                    [
                      "Tanvir Net Cafe",
                      21.1737614,
                      79.0592521
                    ],
                    [
                      "Sandwich Centre",
                      21.1198853,
                      79.0569574
                    ],
                    [
                      "Cafe",
                      21.1527122,
                      79.0747337
                    ],
                    [
                      "Cafe Blue",
                      21.207746,
                      79.0775242
                    ],
                    [
                      "CHAI VILLA",
                      21.1893203,
                      79.0640278
                    ],
                    [
                      "Rakesh",
                      21.0845123,
                      79.0637467
                    ],
                    [
                      "Mannat Chat Center",
                      21.1771185,
                      79.1377555
                    ],
                    [
                      "Jawai Pan Maandir",
                      21.1877627,
                      79.057702
                    ],
                    [
                      "Panipuri Chat Center",
                      21.1652104,
                      78.997704
                    ],
                    [
                      "Manda's cafe",
                      21.1916196,
                      79.0739813
                    ],
                    [
                      "Veer Savaji And Famili Restaurant",
                      21.1134125,
                      79.0292985
                    ],
                    [
                      "Kha Pk Jana",
                      21.2055595,
                      79.0661415
                    ],
                    [
                      "THE MOBILE CAFE",
                      21.2010308,
                      79.0679034
                    ],
                    [
                      "Cafe Chilli Flakes",
                      21.0977113,
                      79.0706354
                    ],
                    [
                      "Saoji Bhojanalaya And Restaurant",
                      21.1149223,
                      79.0272889
                    ],
                    [
                      "Akshay Pan Wala",
                      21.1079977,
                      79.0804049
                    ],
                    [
                      "Aditya Cafe",
                      21.1085219,
                      79.1139077
                    ],
                    [
                      "Hatkar Kirana Shop",
                      21.1839275,
                      79.1319089
                    ],
                    [
                      "Magnum Cafe And Restro",
                      21.1404927,
                      79.1050034
                    ],
                    [
                      "Internet Cafe & Xerox Center",
                      21.1197205,
                      79.0954788
                    ],
                    [
                      "Ali Transport",
                      21.1782501,
                      79.1320338
                    ],
                    [
                      "Mauli Tea & Nashta Center",
                      21.1838519,
                      79.1327371
                    ],
                    [
                      "Shri Akola Panipuri Center",
                      21.1838572,
                      79.1327371
                    ],
                    [
                      "Sahil Vegetables",
                      21.1819703,
                      79.128101
                    ],
                    [
                      "New Jalaram UPHAR GRUH",
                      21.1856816,
                      79.1304247
                    ],
                    [
                      "Refresh Point",
                      21.1838519,
                      79.1327371
                    ],
                    [
                      "Abhishekh",
                      21.1738653,
                      79.1324531
                    ],
                    [
                      "Jibalaji Daily Neds",
                      21.1848976,
                      79.1318944
                    ],
                    [
                      "Shri Vadawale",
                      21.1840674,
                      79.132159
                    ],
                    [
                      "Suvpriya Cafe",
                      21.106876,
                      79.119999
                    ],
                    [
                      "SHRI SAI RESTAURANT & FAST FOOD",
                      21.1525896,
                      79.0203949
                    ],
                    [
                      "Deepak Cafe",
                      21.1706626,
                      79.112975
                    ],
                    [
                      "Subhash Shop",
                      21.1243481,
                      79.0441925
                    ],
                    [
                      "The Street food Cafe",
                      21.1912743,
                      79.1098336
                    ],
                    [
                      "Foods Garage",
                      21.1584683,
                      79.0496943
                    ],
                    [
                      "Sapphire's Cafe",
                      21.1796325,
                      79.119678
                    ],
                    [
                      "Shivam Nashta Point",
                      21.1476625,
                      79.0423625
                    ],
                    [
                      "Coffeemates Cafe",
                      21.1231546,
                      79.108755
                    ],
                    [
                      "Tiwari’s Aashraya",
                      21.2033462,
                      79.0658603
                    ],
                    [
                      "Navin Amratulya Chaha",
                      21.1817338,
                      79.0637132
                    ],
                    [
                      "DOSA HOUSE",
                      21.2012839,
                      79.0633072
                    ],
                    [
                      "Dheeraj momos corner",
                      21.1620605,
                      79.0080873
                    ],
                    [
                      "Nasta point",
                      21.1899972,
                      79.1263122
                    ],
                    [
                      "Bharat Maya chowk",
                      21.1567317,
                      79.1065532
                    ],
                    [
                      "T-10 sweets and restaurant",
                      21.1075627,
                      79.0604509
                    ],
                    [
                      "Colaba cafe",
                      21.1685879,
                      79.078185
                    ],
                    [
                      "Healthy Chaat",
                      21.1618075,
                      79.0127496
                    ],
                    [
                      "all day cafe time to relax",
                      21.1458004,
                      79.0881546
                    ],
                    [
                      "Orange delight restaurant",
                      21.1176163,
                      79.0151696
                    ],
                    [
                      "Golu Cafe",
                      21.1444812,
                      79.0846602
                    ],
                    [
                      "Espresso Cafe",
                      21.1451718,
                      79.0843572
                    ],
                    [
                      "Fion's cafe & daily needs",
                      21.1663056,
                      79.0981493
                    ],
                    [
                      "Cafe culture",
                      21.1458004,
                      79.0881546
                    ],
                    [
                      "JV's Cafe",
                      21.1521847,
                      79.124163
                    ],
                    [
                      "ChongQing Cafe & Restro",
                      21.1627182,
                      79.1133757
                    ],
                    [
                      "KKR Coffee Cafe",
                      21.123101,
                      79.1099425
                    ],
                    [
                      "Simran Khalsa Cafe",
                      21.1698568,
                      79.0928757
                    ],
                    [
                      "Seasons food cafe",
                      21.148569,
                      79.124885
                    ],
                    [
                      "Shreya's cafe | Best Cafe In Nagpur",
                      21.1049757,
                      79.1263655
                    ],
                    [
                      "The Orange Square Cafe",
                      21.1514123,
                      79.0805552
                    ],
                    [
                      "Lallan's food & cafe",
                      21.1647446,
                      79.0816775
                    ],
                    [
                      "FAMILIES TEA & COFFEE SHOP",
                      21.18758,
                      79.108555
                    ],
                    [
                      "Hide & Seek Caffe",
                      21.1838522,
                      79.1327371
                    ],
                    [
                      "Crazy Cheesy Cafe",
                      21.1142465,
                      79.1139374
                    ],
                    [
                      "Yogesh Hotel",
                      21.1970135,
                      79.1179816
                    ],
                    [
                      "Rohit Cafe",
                      21.1592305,
                      79.1616884
                    ],
                    [
                      "Chotu Pani Puri",
                      21.1746868,
                      79.1385428
                    ],
                    [
                      "Young Life Fast Food Corner",
                      21.1566811,
                      79.1483748
                    ],
                    [
                      "Young Life Fast Food Corner",
                      21.156611,
                      79.1483763
                    ],
                    [
                      "Friends Fast Food Hub",
                      21.1654699,
                      79.1680806
                    ],
                    [
                      "Ram Enterprise",
                      21.1764298,
                      79.1544892
                    ],
                    [
                      "Nasta point",
                      21.162796,
                      79.1437409
                    ],
                    [
                      "Thiyya The Baithak Cafe",
                      21.1513385,
                      79.1608582
                    ],
                    [
                      "Kamran chal wala",
                      21.1921023,
                      79.1166151
                    ],
                    [
                      "Cookies N Company",
                      21.1063154,
                      79.0561614
                    ],
                    [
                      "Biryani Dhaba",
                      21.1619688,
                      79.0149297
                    ],
                    [
                      "Shekh Javed",
                      21.183848,
                      79.1327371
                    ],
                    [
                      "Ashtlaxmi Shop",
                      21.1861225,
                      79.1119494
                    ],
                    [
                      "Aaush Dudh Dairy",
                      21.1838921,
                      79.1325603
                    ],
                    [
                      "Mini saplings cafe",
                      21.1310697,
                      79.0518128
                    ],
                    [
                      "WrapNGrab",
                      21.166905,
                      79.0202438
                    ],
                    [
                      "Saurabh manjre",
                      21.1846735,
                      79.1007088
                    ],
                    [
                      "Rafiq Services",
                      21.1891281,
                      79.1409799
                    ],
                    [
                      "Durga Pan",
                      21.1956872,
                      79.1099005
                    ],
                    [
                      "Life Tea & Cafe Point",
                      21.1556201,
                      79.1131026
                    ],
                    [
                      "Cafe 69",
                      21.1763672,
                      79.0800988
                    ],
                    [
                      "Sarkar Nasta Point",
                      21.2081351,
                      79.0654311
                    ],
                    [
                      "Morya Garden And restaurant",
                      21.0985173,
                      79.067254
                    ],
                    [
                      "Hotel Maratha Restaurant",
                      21.115907,
                      79.0686757
                    ],
                    [
                      "Food Cafe",
                      21.1871056,
                      79.1322578
                    ],
                    [
                      "Mann Sangole",
                      21.1896599,
                      79.0945076
                    ],
                    [
                      "Nitin Subji Wala",
                      21.1986256,
                      79.0682048
                    ],
                    [
                      "Khushbu bhel",
                      21.208147,
                      79.0654272
                    ],
                    [
                      "Yaraana Family Garden Restaurant",
                      21.1756101,
                      79.0285091
                    ],
                    [
                      "Sagar Shop",
                      21.1850082,
                      79.1006901
                    ],
                    [
                      "Chat Bhandar Anil",
                      21.1579556,
                      79.0094611
                    ],
                    [
                      "Meet & Eat Cafe 2",
                      21.1833635,
                      79.0910339
                    ],
                    [
                      "Rudra Internet Cafe",
                      21.1815105,
                      79.0910378
                    ],
                    [
                      "Zaika rayyan kitchen",
                      21.1882818,
                      79.0694155
                    ],
                    [
                      "Chetana South Indian Point",
                      21.1593912,
                      79.0007249
                    ],
                    [
                      "Vhanjan South Indian restaurant",
                      21.2034084,
                      79.0668916
                    ],
                    [
                      "Ketli Amrutulya - Tea cafe",
                      21.1794843,
                      79.0905587
                    ],
                    [
                      "Anil Ranya Rotya",
                      21.1780042,
                      79.1003371
                    ],
                    [
                      "Maitri Mahila Gat",
                      21.1886187,
                      79.0706774
                    ],
                    [
                      "Ektha Bachat Gat",
                      21.1912051,
                      79.0711302
                    ],
                    [
                      "Monu Pan Shop",
                      21.1842073,
                      79.0610075
                    ],
                    [
                      "Kattapa a family Restaurant",
                      21.1178887,
                      79.0347538
                    ],
                    [
                      "Insta Cafe",
                      21.1972752,
                      79.1348596
                    ],
                    [
                      "Ankita Restaurant",
                      21.1122759,
                      79.063339
                    ],
                    [
                      "Netizens Internet Cafe",
                      21.1777792,
                      79.0346624
                    ],
                    [
                      "Dilip Cafe",
                      21.1777506,
                      79.1333329
                    ],
                    [
                      "S N Cafe And Chaat",
                      21.1211096,
                      79.1140312
                    ],
                    [
                      "Lake view Cafe",
                      21.1211069,
                      79.1140264
                    ],
                    [
                      "K V Cafe",
                      21.1687542,
                      79.03634
                    ],
                    [
                      "No.1 Chai (SS Cafe)",
                      21.1862411,
                      79.0659179
                    ],
                    [
                      "Ultra Legends cafe",
                      21.1219808,
                      79.1287701
                    ],
                    [
                      "N7 Cafe",
                      21.1351764,
                      79.1247247
                    ],
                    [
                      "EXCELL Kitchen Family Restaurant",
                      21.1514532,
                      79.0267196
                    ],
                    [
                      "MR. A.J. MUSICAL CAFE",
                      21.1067023,
                      79.1201506
                    ],
                    [
                      "Pawan Service",
                      21.1822198,
                      79.036478
                    ],
                    [
                      "Fresh Chicken Store",
                      21.1682306,
                      79.0078337
                    ],
                    [
                      "B.B's chiken house",
                      21.1569463,
                      79.0084949
                    ],
                    [
                      "didis kitchen",
                      21.1607091,
                      79.0109826
                    ],
                    [
                      "DD Chinese",
                      21.1615416,
                      79.0152953
                    ],
                    [
                      "Hello Goodies",
                      21.1666389,
                      79.015367
                    ],
                    [
                      "PRYSTALS",
                      21.1616677,
                      79.0146906
                    ],
                    [
                      "Paradise FOOD Cafe",
                      21.10883,
                      79.1369714
                    ],
                    [
                      "Sip ‘N’ कश Cafe'",
                      21.1390664,
                      79.1312022
                    ],
                    [
                      "Sunidya Panipuri Centre",
                      21.1051282,
                      79.011508
                    ],
                    [
                      "Yadav Tea Stall",
                      21.2107848,
                      79.1040432
                    ],
                    [
                      "Hari Sawji",
                      21.1763409,
                      79.1170097
                    ],
                    [
                      "Janvi Farshan Restaurant",
                      21.1987621,
                      79.0786963
                    ],
                    [
                      "Meet Shop",
                      21.1843089,
                      79.133727
                    ],
                    [
                      "Mes Gharpouch Seva",
                      21.175865,
                      79.1012091
                    ],
                    [
                      "UTTAM RESTAURANT & BAR",
                      21.154345,
                      79.1060888
                    ],
                    [
                      "Shree Ram Restaurant",
                      21.1786758,
                      79.1082623
                    ],
                    [
                      "Rangila Restaurant",
                      21.178606,
                      79.1055419
                    ],
                    [
                      "UTTAM SAOJI Restaurant",
                      21.1738583,
                      79.1171894
                    ],
                    [
                      "Aashish Kitchen & Saoji Restaurant",
                      21.1707998,
                      79.1166519
                    ],
                    [
                      "Nathu's restaurant",
                      21.1838791,
                      79.11638
                    ],
                    [
                      "Pandu Saoji Family Restaurant With Cafe",
                      21.1693794,
                      79.1161153
                    ],
                    [
                      "S S chinese",
                      21.2020722,
                      79.0999861
                    ],
                    [
                      "Al-BAIG restaurant",
                      21.1823581,
                      79.1248524
                    ],
                    [
                      "PATIALA FOODS & FAMILY RESTAURANT",
                      21.1942231,
                      79.1099408
                    ],
                    [
                      "Joti Restaurant",
                      21.1764348,
                      79.1299314
                    ],
                    [
                      "Hotel gangadhar savoji restaurant",
                      21.145402,
                      79.1189348
                    ],
                    [
                      "Ganesh restaurant",
                      21.145475,
                      79.1200614
                    ],
                    [
                      "Rokit Delax RESTAURANT",
                      21.1730641,
                      79.1169834
                    ],
                    [
                      "Gour Restaurent",
                      21.1532569,
                      79.0929248
                    ],
                    [
                      "Shaikh Anis Shop",
                      21.1838522,
                      79.1327371
                    ],
                    [
                      "Vindavasni restaurant",
                      21.1176623,
                      79.1110656
                    ],
                    [
                      "JAI MATA DI RESTAURANT",
                      21.1259845,
                      79.1154999
                    ],
                    [
                      "SWAGAT RESTAURANT",
                      21.1071654,
                      79.1194106
                    ],
                    [
                      "MG Cafe and Restaurant",
                      21.1475056,
                      79.1077135
                    ],
                    [
                      "New Mahesh Dhaba and Restaurent",
                      21.1458004,
                      79.0881546
                    ],
                    [
                      "Central Point Foods",
                      21.1348185,
                      79.0763074
                    ],
                    [
                      "Yogiraj Varhadi Saoji Family Restaurant",
                      21.1051435,
                      79.0945419
                    ],
                    [
                      "B F Chinese",
                      21.1834743,
                      79.0900168
                    ],
                    [
                      "Restaurant",
                      21.1769485,
                      79.0901523
                    ],
                    [
                      "Agrawal Restaurant",
                      21.1509,
                      79.09668
                    ],
                    [
                      "Xtgsd",
                      21.1570552,
                      79.0771718
                    ],
                    [
                      "Navrang Restaurant",
                      21.1252256,
                      79.0840896
                    ],
                    [
                      "MUSAFIR FOOD HOUSE & FAMILY RESTAURENT",
                      21.1041823,
                      79.0773566
                    ],
                    [
                      "Restaurant",
                      21.0938555,
                      79.0750191
                    ],
                    [
                      "K4T Hotel And Restaurant",
                      21.1068861,
                      79.08594
                    ],
                    [
                      "CHANDAN PANIPURI CENTER",
                      21.2028746,
                      79.0863839
                    ],
                    [
                      "JKM Fast Food Cafe & Restaurant",
                      21.1340184,
                      79.1191963
                    ],
                    [
                      "Sathnaam Reastaurent Sweet And Namkin",
                      21.1952499,
                      79.0648807
                    ],
                    [
                      "ARYAN CHINESE CENTER",
                      21.1652585,
                      79.0432071
                    ],
                    [
                      "Track Four Restaurant",
                      21.1500031,
                      79.1264249
                    ],
                    [
                      "HINDUSTANI ZAIKA RESTAURANT",
                      21.1255048,
                      79.1393335
                    ],
                    [
                      "Gajanan Restaurant And Pan Shop",
                      21.153521,
                      79.1286699
                    ],
                    [
                      "Sadi Balık Restaurant",
                      21.1489509,
                      79.1163139
                    ],
                    [
                      "VINAYAK RESTAURANT",
                      21.1266116,
                      79.1360434
                    ],
                    [
                      "Ajay Dabeli",
                      21.1616667,
                      79.0416715
                    ],
                    [
                      "MILIND FAMILY RESTAURANTS",
                      21.1726878,
                      79.1194117
                    ],
                    [
                      "Sai saoji family garden restaurant",
                      21.1701046,
                      79.1050664
                    ],
                    [
                      "R C Fast Food",
                      21.1917273,
                      79.0759124
                    ],
                    [
                      "Chicken Biryani",
                      21.1993498,
                      79.0793912
                    ],
                    [
                      "Babu Biriyani",
                      21.1873085,
                      79.0788097
                    ],
                    [
                      "Ganesh Cafe",
                      21.1899438,
                      79.0918341
                    ],
                    [
                      "JAI MATA DI RESTAURANT",
                      21.1259845,
                      79.1154999
                    ],
                    [
                      "Vijay Kumar South Indian Restaurent",
                      21.1461801,
                      79.1104436
                    ],
                    [
                      "Sanskruti Catering Service, Veg, Non Veg, Kitty Party, Birthday, Marriage and Your Choice",
                      21.1894551,
                      79.1065159
                    ],
                    [
                      "Sonu Chinese",
                      21.1986775,
                      79.1022167
                    ],
                    [
                      "Ban Chanis",
                      21.2008891,
                      79.1022076
                    ],
                    [
                      "Anshul Chinese point",
                      21.1973964,
                      79.0891409
                    ],
                    [
                      "Ashwin Chinese point",
                      21.1973117,
                      79.0891783
                    ],
                    [
                      "pop corn shop",
                      21.1876448,
                      79.1224525
                    ],
                    [
                      "Govind Chinese Center",
                      21.1739384,
                      79.0351056
                    ],
                    [
                      "Dadu Chainess & Roll Centre..",
                      21.1157774,
                      79.0317857
                    ],
                    [
                      "Santosh Nasta Center",
                      21.1712552,
                      79.0360182
                    ],
                    [
                      "Goovindam South Indian Restaurant",
                      21.1296273,
                      79.1192829
                    ],
                    [
                      "Kiosk restaurant",
                      21.1387666,
                      79.1205566
                    ],
                    [
                      "V2",
                      21.2110998,
                      79.0782135
                    ],
                    [
                      "Kaashi Mistan",
                      21.2045624,
                      79.06673
                    ],
                    [
                      "Abhi veg-chinese",
                      21.2078703,
                      79.0768554
                    ],
                    [
                      "Prins Dongre",
                      21.2107798,
                      79.1040432
                    ],
                    [
                      "Shirish Dryfrouts,Sweets And Namkeen",
                      21.2106232,
                      79.1044207
                    ],
                    [
                      "INDIAN SPICE KITCHEN NAGPUR",
                      21.1907818,
                      79.0715153
                    ],
                    [
                      "Anna Best Combination",
                      21.2020932,
                      79.0675924
                    ],
                    [
                      "Tandoori tadka & spices restaurant",
                      21.1505998,
                      79.1514884
                    ],
                    [
                      "Ayansh Nashta Point",
                      21.1989983,
                      79.0515287
                    ],
                    [
                      "Darshana's kitchen",
                      21.1716025,
                      79.0451532
                    ],
                    [
                      "Richa Tiffin Services",
                      21.196163,
                      79.0541765
                    ],
                    [
                      "Tandoori Tadka Restaurant",
                      21.1285916,
                      79.0611099
                    ],
                    [
                      "Sizzler Kitchen & Saoji",
                      21.1867437,
                      79.049613
                    ],
                    [
                      "Orodiya Fast Food Corner",
                      21.1861866,
                      79.0505356
                    ],
                    [
                      "Gupta Fast Food",
                      21.1922039,
                      79.0551087
                    ],
                    [
                      "B3 FOOD CORNER",
                      21.1869524,
                      79.046376
                    ],
                    [
                      "Junxion Restaurant",
                      21.1185565,
                      79.0724079
                    ],
                    [
                      "Fish At Door",
                      21.1977511,
                      79.0507651
                    ],
                    [
                      "Balaji Restaurant",
                      21.1208492,
                      79.0558661
                    ],
                    [
                      "Kesula Family Restaurant",
                      21.1159063,
                      79.0686749
                    ],
                    [
                      "Hotel Ashoka Restaurant",
                      21.1159063,
                      79.0686749
                    ],
                    [
                      "Shree Sai Restaurant",
                      21.1047878,
                      79.0948862
                    ],
                    [
                      "asif chicken",
                      21.1772154,
                      79.0454718
                    ],
                    [
                      "Shazil Kitchen",
                      21.1782138,
                      79.0430287
                    ],
                    [
                      "Chinese Adda",
                      21.1639107,
                      79.0438021
                    ],
                    [
                      "Daddy´s Kitchen Restaurant",
                      21.1769209,
                      79.0913377
                    ],
                    [
                      "Dosti restaurant",
                      21.1378411,
                      79.0604865
                    ],
                    [
                      "Al Imran family Restaurant",
                      21.203737,
                      79.0670733
                    ],
                    [
                      "Desilicious pure veg restaurant",
                      21.1884456,
                      79.0637772
                    ],
                    [
                      "Sai Darbar Restaurant",
                      21.1690822,
                      79.0791934
                    ],
                    [
                      "Jay Saoji",
                      21.1815142,
                      79.0527156
                    ],
                    [
                      "Kamla farsan bhandar",
                      21.1861776,
                      79.0504673
                    ],
                    [
                      "Tirupati Ji Nashta Point",
                      21.1770122,
                      79.0483874
                    ],
                    [
                      "Katol Road Restaurant",
                      21.1743303,
                      79.0577007
                    ],
                    [
                      "Thakare Family Restaurant",
                      21.2172689,
                      79.0802908
                    ],
                    [
                      "Anand bhavan restaurant",
                      21.1142404,
                      79.0542747
                    ],
                    [
                      "Rahul Restaurant",
                      21.2072233,
                      79.0770231
                    ],
                    [
                      "Kunal Canteen & Restaurent",
                      21.1835965,
                      79.0791999
                    ],
                    [
                      "Courtyard Multicusine Restaurant",
                      21.144896,
                      79.0609597
                    ],
                    [
                      "Shree Garden Restaurant",
                      21.0986365,
                      79.095955
                    ],
                    [
                      "Kunal Bar And Restaurant",
                      21.1167675,
                      79.068919
                    ],
                    [
                      "Chinese food corner",
                      21.1955109,
                      79.0698933
                    ],
                    [
                      "THE BEST KITCHEN AND RESTAURANT",
                      21.189119,
                      79.0946827
                    ],
                    [
                      "Foodistan RESTAURANT",
                      21.163884,
                      79.0797764
                    ],
                    [
                      "Shree Sai Ram Restaurant",
                      21.1539701,
                      79.0866271
                    ],
                    [
                      "Taj Restaurant",
                      21.1491146,
                      79.0876258
                    ],
                    [
                      "Maurya Restaurant",
                      21.13991,
                      79.06018
                    ],
                    [
                      "Chinese Fast Food",
                      21.1831594,
                      79.0787252
                    ],
                    [
                      "VIGHNAHARTA RESTAURANT",
                      21.1785896,
                      79.0919587
                    ],
                    [
                      "व्यंजन साउथ इंडियन डोसा इडली",
                      21.2033021,
                      79.0666693
                    ],
                    [
                      "Vishwajeet Restaurant",
                      21.1159039,
                      79.0686721
                    ],
                    [
                      "Ganesh Momos",
                      21.1893235,
                      79.0640277
                    ],
                    [
                      "Patel South Indian restaurant",
                      21.12986,
                      79.0619726
                    ],
                    [
                      "SK Chinese",
                      21.1829665,
                      79.0695165
                    ],
                    [
                      "Fresh Vegetables",
                      21.2058656,
                      79.0675591
                    ],
                    [
                      "Shrinath Pavbhaji",
                      21.19793,
                      79.0686575
                    ],
                    [
                      "BAWARCHI KHANA",
                      21.185401,
                      79.070887
                    ],
                    [
                      "Anand Bakery And Restaurant",
                      21.1407104,
                      79.0804964
                    ],
                    [
                      "SWEET & VEG RESTAURENT",
                      21.1383977,
                      79.0790722
                    ],
                    [
                      "Vijaylaxmi Restaurant",
                      21.1433686,
                      79.0839991
                    ],
                    [
                      "Lai bhari saoji restaurant",
                      21.1637655,
                      79.0857276
                    ],
                    [
                      "Orange City Restaurant",
                      21.1522139,
                      79.0871339
                    ],
                    [
                      "Satyam Restaurant",
                      21.1784125,
                      79.0901852
                    ],
                    [
                      "Lalaji Restaurant",
                      21.1256635,
                      79.0622546
                    ],
                    [
                      "Sharma dhaba (sonu sharma)",
                      21.0619875,
                      79.0584326
                    ],
                    [
                      "Pravin Raut",
                      21.0679057,
                      79.0587363
                    ],
                    [
                      "Shree Datta Krupa Ata Chakki",
                      21.0669324,
                      79.0600919
                    ],
                    [
                      "Devi South indian Dosha",
                      21.090434,
                      79.0649671
                    ],
                    [
                      "Mahakaal Anda Rice",
                      21.0924836,
                      79.0732411
                    ],
                    [
                      "Celebration Family Restaurant & Bat",
                      21.0938555,
                      79.0750191
                    ],
                    [
                      "Raju",
                      21.0972605,
                      79.0747324
                    ],
                    [
                      "Sarang Nasta Centre",
                      21.091875,
                      79.07449
                    ],
                    [
                      "Freedom Restaurant",
                      21.0993049,
                      79.0994908
                    ],
                    [
                      "Food Palace, chinese restaurant",
                      21.1041469,
                      79.0764028
                    ],
                    [
                      "China Town Chinese Center",
                      21.1845362,
                      79.1318218
                    ],
                    [
                      "Gupta Chat Center",
                      21.1419713,
                      79.1588486
                    ],
                    [
                      "Dhannjay Burde Hotel",
                      21.1974662,
                      79.1355361
                    ],
                    [
                      "Vrudavan Veg Restaurant",
                      21.1777544,
                      79.1333329
                    ],
                    [
                      "Akash Samosa Center",
                      21.1875073,
                      79.1335093
                    ],
                    [
                      "Lucky Chat Center",
                      21.1797999,
                      79.1395451
                    ],
                    [
                      "Sabir Muneer Khan Chat Center",
                      21.1885241,
                      79.1353731
                    ],
                    [
                      "New Paunikar Saoji Family Restaurant",
                      21.1254742,
                      79.139429
                    ],
                    [
                      "Ma Jagadmba Nasta Center",
                      21.1116356,
                      79.1353033
                    ],
                    [
                      "Alfa chicken biryani",
                      21.1752396,
                      79.1085292
                    ],
                    [
                      "Jai Ambe Pani Puri Center",
                      21.135193,
                      79.1481183
                    ],
                    [
                      "JALSA RESTAURENT",
                      21.1838537,
                      79.1327371
                    ],
                    [
                      "Shree Jee Roll Icecream And Kulfi Centre",
                      21.176124,
                      79.1381093
                    ],
                    [
                      "Al Kareem Restaurant By Salman Traders(AN)",
                      21.1820988,
                      79.127953
                    ],
                    [
                      "Mumbai Wadapav",
                      21.1244967,
                      79.1378483
                    ],
                    [
                      "HOTEL AL HAMDUULILLAH",
                      21.1307241,
                      79.1268569
                    ],
                    [
                      "मोरेश्वर चाट कॉर्नर",
                      21.1866875,
                      79.1004375
                    ],
                    [
                      "Green Park Daily Needs",
                      21.1842405,
                      79.132259
                    ],
                    [
                      "OM SAOVI AND RESTAURANT",
                      21.153601,
                      79.149939
                    ],
                    [
                      "Dev Nasta Point",
                      21.2020722,
                      79.0999854
                    ],
                    [
                      "R.K Chat Centre",
                      21.1878423,
                      79.1238694
                    ],
                    [
                      "Dabeli Hub",
                      21.1724199,
                      79.125086
                    ],
                    [
                      "Saoji Chana Poha Nashta & Chaha Center",
                      21.1391203,
                      79.1427882
                    ],
                    [
                      "Chetan's Kirana Service",
                      21.1721732,
                      79.1378253
                    ],
                    [
                      "Gupta Ji Panipuri Shop",
                      21.1789934,
                      79.1497383
                    ],
                    [
                      "Haroon Pani Puri Center",
                      21.1966701,
                      79.1343675
                    ],
                    [
                      "Dokeji Hotel",
                      21.1766795,
                      79.0293073
                    ],
                    [
                      "Akash Motghare Vegetable",
                      21.1708289,
                      79.1261496
                    ],
                    [
                      "Parmeshwar Chat Center",
                      21.1878633,
                      79.1065467
                    ],
                    [
                      "Shri Sai Bhel Center",
                      21.171582,
                      79.1276295
                    ],
                    [
                      "Joyti Cateres",
                      21.1866413,
                      79.133107
                    ],
                    [
                      "आईची शिदोरी 24×7",
                      21.1453081,
                      79.1144196
                    ],
                    [
                      "Raj Cakes And Cafe Corner",
                      21.1919422,
                      79.1294588
                    ],
                    [
                      "Krisha Tijare",
                      21.1881078,
                      79.1257466
                    ],
                    [
                      "Shree Krishna Fast Food Centre",
                      21.1971085,
                      79.134948
                    ],
                    [
                      "Hot Grill Restaurant And Sweets Center",
                      21.1681343,
                      79.1555377
                    ],
                    [
                      "Jagdamba Tea And Nasta Center",
                      21.1757536,
                      79.137208
                    ],
                    [
                      "Manoj Samosa Center",
                      21.1713175,
                      79.127112
                    ],
                    [
                      "mohit chainse and watch center",
                      21.1722813,
                      79.1199068
                    ],
                    [
                      "Laxmi Gupta Chat Center",
                      21.1715832,
                      79.1317451
                    ],
                    [
                      "Quality chinese",
                      21.1838566,
                      79.1327371
                    ],
                    [
                      "Amisha Yun Naate",
                      21.1445721,
                      79.1603312
                    ],
                    [
                      "BOMBAY CHAT CENTER",
                      21.1877146,
                      79.1362789
                    ],
                    [
                      "Massag services",
                      21.1291808,
                      79.1301005
                    ],
                    [
                      "Dakshjeet Dhaba & Restaurant",
                      21.1333623,
                      79.1432082
                    ],
                    [
                      "Krishna Pani Puri Center. ....... Prakash Prajapati",
                      21.1887951,
                      79.1130336
                    ],
                    [
                      "Chandu Chinese Center",
                      21.1740192,
                      79.1247905
                    ],
                    [
                      "ANKIT RESTAURANT",
                      21.1815756,
                      79.1552726
                    ],
                    [
                      "Shahu Futana",
                      21.1798156,
                      79.1286853
                    ],
                    [
                      "Zillah biryani centre",
                      21.1821918,
                      79.1229866
                    ],
                    [
                      "Singh Sabb Restaurant",
                      21.1919419,
                      79.1294588
                    ],
                    [
                      "Hariom Hotel",
                      21.1867837,
                      79.1322335
                    ],
                    [
                      "Shri Krishna Namkin",
                      21.1870058,
                      79.1311619
                    ]
                  ],
                  "hovertemplate": "reviewsCount=%{marker.size}<br>Latitude=%{customdata[1]}<br>Longitude=%{customdata[2]}<br>Restaurant=%{customdata[0]}<br>cluster=%{marker.color}<extra></extra>",
                  "lat": [
                    21.1367356,
                    21.1635421,
                    21.1526584,
                    21.1422,
                    21.1332186,
                    21.1413035,
                    21.1578596,
                    21.1588564,
                    21.1313664,
                    21.1429634,
                    21.1700156,
                    21.122056,
                    21.1185025,
                    21.1343815,
                    21.137782,
                    21.1749293,
                    21.1592229,
                    21.1440921,
                    21.131145,
                    21.1421707,
                    21.1381306,
                    21.1185188,
                    21.0985173,
                    21.1595197,
                    21.11571,
                    21.1134565,
                    21.1494038,
                    21.1428103,
                    21.1604022,
                    21.1232894,
                    21.1493225,
                    21.1344121,
                    21.0583921,
                    21.1285641,
                    21.1229932,
                    21.1596407,
                    21.136187,
                    21.1762505,
                    21.0671275,
                    21.1494952,
                    21.1105806,
                    21.1458083,
                    21.156185,
                    21.1587063,
                    21.1140089,
                    21.1613118,
                    21.1583238,
                    21.1123324,
                    21.1599495,
                    21.166829,
                    21.118559,
                    21.143276,
                    21.1369982,
                    21.1327123,
                    21.1307314,
                    21.1448573,
                    21.1112904,
                    21.0597118,
                    21.1301177,
                    21.0886162,
                    21.1447485,
                    21.1839538,
                    21.1698893,
                    21.1259939,
                    21.1222221,
                    21.1887662,
                    21.1579349,
                    21.1132107,
                    21.1356017,
                    21.1700175,
                    21.1349809,
                    21.130387,
                    21.101415,
                    21.1825717,
                    21.0579458,
                    21.1123945,
                    21.208216,
                    21.1256567,
                    21.1178619,
                    21.1294197,
                    21.1209606,
                    21.152581,
                    21.17135,
                    21.1542598,
                    21.1219173,
                    21.1298465,
                    21.1344671,
                    21.1527249,
                    21.1785225,
                    21.1134113,
                    21.1221255,
                    21.1185483,
                    21.1302264,
                    21.1391529,
                    21.1874071,
                    21.1724472,
                    21.1226156,
                    21.1267214,
                    21.1570552,
                    21.2033826,
                    21.1198823,
                    21.1378654,
                    21.1410742,
                    21.1083907,
                    21.0978217,
                    21.134956,
                    21.1824172,
                    21.1283007,
                    21.1125862,
                    21.126331,
                    21.1180814,
                    21.1714272,
                    21.1639698,
                    21.1466395,
                    21.0966221,
                    21.1335568,
                    21.1703871,
                    21.1411702,
                    21.1432884,
                    21.1053688,
                    21.1348539,
                    21.1833187,
                    21.1534481,
                    21.1777267,
                    21.152561,
                    21.1230538,
                    21.1501041,
                    21.1088681,
                    21.12301,
                    21.1335963,
                    21.1113691,
                    21.1590546,
                    21.1585806,
                    21.1291045,
                    21.1174721,
                    21.1401968,
                    21.1474502,
                    21.120119,
                    21.168263,
                    21.1916437,
                    21.0907891,
                    21.1482445,
                    21.1255531,
                    21.1267348,
                    21.1591583,
                    21.116882,
                    21.1182229,
                    21.1286861,
                    21.1337441,
                    21.1435184,
                    21.1198127,
                    21.1825383,
                    21.1600217,
                    21.0897252,
                    21.1533158,
                    21.13956,
                    21.1228935,
                    21.1213764,
                    21.2108873,
                    21.1543326,
                    21.1206402,
                    21.0852489,
                    21.1888171,
                    21.1469762,
                    21.1288627,
                    21.2179993,
                    21.1124339,
                    21.2122741,
                    21.1593584,
                    21.1350502,
                    21.1652741,
                    21.1379033,
                    21.1395852,
                    21.1495973,
                    21.1600327,
                    21.148305,
                    21.1108761,
                    21.0993692,
                    21.0597108,
                    21.1474603,
                    21.1469077,
                    21.1728679,
                    21.1189138,
                    21.0958136,
                    21.1587041,
                    21.1579056,
                    21.1359881,
                    21.1137937,
                    21.1017098,
                    21.1865547,
                    21.1072283,
                    21.1360061,
                    21.1146585,
                    21.1702876,
                    21.1518907,
                    21.1715641,
                    21.1539999,
                    21.12632,
                    21.1170534,
                    21.1823966,
                    21.1673513,
                    21.117875,
                    21.1445581,
                    21.120959,
                    21.1358943,
                    21.1214141,
                    21.1469156,
                    21.1512277,
                    21.1793747,
                    21.1169165,
                    21.2030527,
                    21.1564541,
                    21.1593426,
                    21.1349689,
                    21.1850443,
                    21.2071571,
                    21.2059392,
                    21.1180535,
                    21.1372935,
                    21.164832,
                    21.2148,
                    21.1763786,
                    21.1545496,
                    21.1518994,
                    21.144032,
                    21.1404711,
                    21.1579061,
                    21.1137352,
                    21.1545633,
                    21.106216,
                    21.1825856,
                    21.1780566,
                    21.1211416,
                    21.1366209,
                    21.147055,
                    21.1317977,
                    21.1483251,
                    21.1331969,
                    21.1229757,
                    21.1052698,
                    21.1468821,
                    21.1308323,
                    21.10326,
                    21.1187296,
                    21.1326079,
                    21.1229813,
                    21.1055549,
                    21.1189049,
                    21.146822,
                    21.1577474,
                    21.1313561,
                    21.1467147,
                    21.1403438,
                    21.123303,
                    21.1288667,
                    21.1049975,
                    21.1575407,
                    21.1189094,
                    21.1313167,
                    21.1812818,
                    21.134298,
                    21.1436422,
                    21.1387264,
                    21.163834,
                    21.113656,
                    21.1055316,
                    21.1305018,
                    21.1232758,
                    21.0970175,
                    21.1575038,
                    21.1416756,
                    21.0950918,
                    21.1742385,
                    21.1441597,
                    21.1215884,
                    21.1187374,
                    21.0668622,
                    21.1870473,
                    21.1451085,
                    21.113444,
                    21.1564643,
                    21.1338326,
                    21.1475004,
                    21.165627,
                    21.1797508,
                    21.1055319,
                    21.1328391,
                    21.1191311,
                    21.1531702,
                    21.1293672,
                    21.1584896,
                    21.1126707,
                    21.1470468,
                    21.1365799,
                    21.14518,
                    21.1814834,
                    21.1771001,
                    21.0728047,
                    21.1835171,
                    21.1699717,
                    21.1390163,
                    21.130915,
                    21.1143773,
                    21.1410626,
                    21.2002459,
                    21.120017,
                    21.1743795,
                    21.142818,
                    21.1529871,
                    21.122408,
                    21.1521754,
                    21.1396255,
                    21.1839005,
                    21.1679762,
                    21.179177,
                    21.1178586,
                    21.1885883,
                    21.1826646,
                    21.1609894,
                    21.1823923,
                    21.1388803,
                    21.1411111,
                    21.1279244,
                    21.1600945,
                    21.1645447,
                    21.1285459,
                    21.1051762,
                    21.1440757,
                    21.1894261,
                    21.091575,
                    21.1250435,
                    21.134272,
                    21.1531278,
                    21.1142203,
                    21.1023819,
                    21.1321988,
                    21.1339025,
                    21.1407176,
                    21.1147245,
                    21.1156544,
                    21.1196305,
                    21.1886657,
                    21.182806,
                    21.1539964,
                    21.143228,
                    21.1654968,
                    21.1481213,
                    21.127788,
                    21.1518189,
                    21.17632,
                    21.215064,
                    21.1625718,
                    21.1242008,
                    21.1400281,
                    21.1080555,
                    21.1080555,
                    21.129866,
                    21.1382662,
                    21.122768,
                    21.0961098,
                    21.1466686,
                    21.1694071,
                    21.1536244,
                    21.1321092,
                    21.1307079,
                    21.1255357,
                    21.1679985,
                    21.14699,
                    21.1179324,
                    21.1056296,
                    21.1329107,
                    21.1054231,
                    21.1330495,
                    21.1210532,
                    21.2085991,
                    21.1068667,
                    21.1237034,
                    21.1688072,
                    21.1621335,
                    21.1078459,
                    21.1567377,
                    21.1413411,
                    21.1388531,
                    21.13147,
                    21.1562986,
                    21.1319313,
                    21.1478386,
                    21.105475,
                    21.1239796,
                    21.1209242,
                    21.1389772,
                    21.1223336,
                    21.1286408,
                    21.1575272,
                    21.0877954,
                    21.1907266,
                    21.1329598,
                    21.0844675,
                    21.149102,
                    21.207652,
                    21.1110651,
                    21.1094821,
                    21.186374,
                    21.1545274,
                    21.1070844,
                    21.1579714,
                    21.143558,
                    21.1062494,
                    21.163947,
                    21.1339387,
                    21.1488013,
                    21.118387,
                    21.1231482,
                    21.1594731,
                    21.1282451,
                    21.1339116,
                    21.1536329,
                    21.1383917,
                    21.1277653,
                    21.0929345,
                    21.1258511,
                    21.1742492,
                    21.17576,
                    21.1086111,
                    21.1236059,
                    21.1423293,
                    21.1768057,
                    21.1297575,
                    21.1727827,
                    21.1289579,
                    21.0978221,
                    21.1612617,
                    21.1486407,
                    21.1421211,
                    21.1489082,
                    21.1905611,
                    21.1404572,
                    21.137334,
                    21.1513451,
                    21.189135,
                    21.1471024,
                    21.1087504,
                    21.1065825,
                    21.1498338,
                    21.1455319,
                    21.123843,
                    21.1300622,
                    21.1091595,
                    21.1541245,
                    21.143275,
                    21.188636,
                    21.0912605,
                    21.1188132,
                    21.1275489,
                    21.1798969,
                    21.1384361,
                    21.1450329,
                    21.1057846,
                    21.1729472,
                    21.1312582,
                    21.0949856,
                    21.1713271,
                    21.1048699,
                    21.1035423,
                    21.1054648,
                    21.1423983,
                    21.1384253,
                    21.171271,
                    21.1954231,
                    21.0863193,
                    21.1407641,
                    21.1271357,
                    21.1532928,
                    21.1833511,
                    21.1493567,
                    21.1309062,
                    21.1126738,
                    21.1874622,
                    21.1407643,
                    21.1294727,
                    21.1168525,
                    21.1126599,
                    21.1339883,
                    21.1421978,
                    21.1202271,
                    21.179641,
                    21.1053849,
                    21.1462311,
                    21.1505885,
                    21.0912604,
                    21.1661166,
                    21.1288746,
                    21.0870753,
                    21.1489512,
                    21.1322409,
                    21.134366,
                    21.1430113,
                    21.1103482,
                    21.1244323,
                    21.1100855,
                    21.1437057,
                    21.1729626,
                    21.1472986,
                    21.1878081,
                    21.1489716,
                    21.1189724,
                    21.1438436,
                    21.1333539,
                    21.1483526,
                    21.1472187,
                    21.1205537,
                    21.1460428,
                    21.1276108,
                    21.1236063,
                    21.0904888,
                    21.1173354,
                    21.1872137,
                    21.1176545,
                    21.0915746,
                    21.1801592,
                    21.1330216,
                    21.120805,
                    21.1290301,
                    21.1316885,
                    21.1194767,
                    21.175091,
                    21.0854583,
                    21.1425953,
                    21.2083128,
                    21.122171,
                    21.1208321,
                    21.1746881,
                    21.1437592,
                    21.1630475,
                    21.128845,
                    21.1336299,
                    21.1375349,
                    21.1197581,
                    21.1683707,
                    21.1241505,
                    21.1425551,
                    21.1143511,
                    21.116751,
                    21.0582723,
                    21.1294334,
                    21.1443495,
                    21.1402959,
                    21.1128717,
                    21.1212111,
                    21.0955058,
                    21.1260399,
                    21.1512,
                    21.1731389,
                    21.1823818,
                    21.1072379,
                    21.1265045,
                    21.1390103,
                    21.1096014,
                    21.1056554,
                    21.1305971,
                    21.1290481,
                    21.1177562,
                    21.1572898,
                    21.1863506,
                    21.1793072,
                    21.1795985,
                    21.113891,
                    21.1151228,
                    21.1164463,
                    21.1148435,
                    21.1521894,
                    21.1388896,
                    21.1396065,
                    21.1178427,
                    21.1319463,
                    21.1481744,
                    21.1815447,
                    21.1473001,
                    21.0946007,
                    21.1065583,
                    21.1585127,
                    21.1051999,
                    21.113131,
                    21.1477005,
                    21.1304627,
                    21.1309565,
                    21.1211014,
                    21.0953028,
                    21.127516,
                    21.1322215,
                    21.1171953,
                    21.1484327,
                    21.1482355,
                    21.1439127,
                    21.1318327,
                    21.0951574,
                    21.1395703,
                    21.1453877,
                    21.1485636,
                    21.1696131,
                    21.158386,
                    21.128185,
                    21.1221175,
                    21.2033843,
                    21.1423906,
                    21.1405564,
                    21.1779927,
                    21.1861249,
                    21.1406841,
                    21.1583658,
                    21.1823481,
                    21.1802672,
                    21.1629004,
                    21.1053076,
                    21.1297455,
                    21.1399235,
                    21.1395355,
                    21.1395355,
                    21.1650395,
                    21.1736148,
                    21.1155858,
                    21.1481085,
                    21.2082191,
                    21.0869846,
                    21.168372,
                    21.1827001,
                    21.1033195,
                    21.1177129,
                    21.1199125,
                    21.1303466,
                    21.1290069,
                    21.1822754,
                    21.1874949,
                    21.1595689,
                    21.1210452,
                    21.1839056,
                    21.1284746,
                    21.1757316,
                    21.1693538,
                    21.1539924,
                    21.1628915,
                    21.1771875,
                    21.0912005,
                    21.1811153,
                    21.1003586,
                    21.1620123,
                    21.0887671,
                    21.1318381,
                    21.1196034,
                    21.0911554,
                    21.115067,
                    21.1741545,
                    21.1364286,
                    21.1491213,
                    21.1823284,
                    21.1180898,
                    21.1340283,
                    21.1412548,
                    21.1496101,
                    21.1407096,
                    21.1424668,
                    21.1680458,
                    21.066867,
                    21.1483201,
                    21.1050872,
                    21.0993351,
                    21.1281006,
                    21.1350868,
                    21.1694379,
                    21.1191748,
                    21.1241284,
                    21.1939504,
                    21.1235566,
                    21.1091743,
                    21.1424974,
                    21.1807276,
                    21.1339218,
                    21.2080092,
                    21.1918252,
                    21.179835,
                    21.1873819,
                    21.1483718,
                    21.1406897,
                    21.17651,
                    21.1769449,
                    21.1300556,
                    21.1307945,
                    21.1045511,
                    21.169267,
                    21.1211217,
                    21.149707,
                    21.094734,
                    21.1493995,
                    21.1638034,
                    21.0668382,
                    21.1337322,
                    21.1570552,
                    21.1198853,
                    21.152623,
                    21.115951,
                    21.125891,
                    21.1834522,
                    21.1626073,
                    21.203955,
                    21.1132011,
                    21.1408584,
                    21.147069,
                    21.1485615,
                    21.1088656,
                    21.1058477,
                    21.16385,
                    21.163472,
                    21.1496381,
                    21.1290951,
                    21.1668809,
                    21.1095926,
                    21.1310441,
                    21.1811328,
                    21.1375452,
                    21.114477,
                    21.1339634,
                    21.1577937,
                    21.1553254,
                    21.1054325,
                    21.1414523,
                    21.1587757,
                    21.1794462,
                    21.1442283,
                    21.1078328,
                    21.1883373,
                    21.1838794,
                    21.1260862,
                    21.1257596,
                    21.1419184,
                    21.1290025,
                    21.1290025,
                    21.1502425,
                    21.1318049,
                    21.1834776,
                    21.1397809,
                    21.1495759,
                    21.1363045,
                    21.0922256,
                    21.1178862,
                    21.1504087,
                    21.1532425,
                    21.1542951,
                    21.1626597,
                    21.1165252,
                    21.138875,
                    21.1773392,
                    21.094561,
                    21.1630141,
                    21.1079734,
                    21.1457935,
                    21.170583,
                    21.1568134,
                    21.184828,
                    21.1235812,
                    21.1787383,
                    21.192184,
                    21.1415457,
                    21.1620667,
                    21.1704372,
                    21.1597724,
                    21.1288882,
                    21.1123794,
                    21.1434772,
                    21.1125543,
                    21.1794929,
                    21.1576136,
                    21.1405555,
                    21.1187244,
                    21.1593734,
                    21.132954,
                    21.1615238,
                    21.17775,
                    21.1212739,
                    21.1104512,
                    21.1475425,
                    21.1179755,
                    21.1029426,
                    21.109165,
                    21.1155658,
                    21.1535896,
                    21.1583739,
                    21.1180746,
                    21.1804138,
                    21.1473529,
                    21.1189302,
                    21.1220625,
                    21.1055549,
                    21.1742591,
                    21.084963,
                    21.163264,
                    21.1348602,
                    21.1419724,
                    21.141326,
                    21.178009,
                    21.1217847,
                    21.1809872,
                    21.1196372,
                    21.1275339,
                    21.188527,
                    21.1144792,
                    21.1750015,
                    21.1449912,
                    21.1277747,
                    21.1478946,
                    21.1933061,
                    21.1147006,
                    21.1172972,
                    21.0941212,
                    21.1034908,
                    21.0942534,
                    21.1352637,
                    21.1243705,
                    21.1039818,
                    21.1385661,
                    21.0907124,
                    21.1419892,
                    21.1217218,
                    21.1245125,
                    21.1255811,
                    21.1463483,
                    21.175325,
                    21.1506489,
                    21.1393212,
                    21.1844536,
                    21.153582,
                    21.1442282,
                    21.126391,
                    21.1309179,
                    21.119851,
                    21.2032751,
                    21.1363916,
                    21.1413911,
                    21.1834236,
                    21.1729303,
                    21.1253912,
                    21.2071601,
                    21.1401066,
                    21.1220687,
                    21.1065886,
                    21.1065886,
                    21.1479784,
                    21.1260024,
                    21.1143083,
                    21.180947,
                    21.1413379,
                    21.1313596,
                    21.1209586,
                    21.1296853,
                    21.1210354,
                    21.1307171,
                    21.1469466,
                    21.1413186,
                    21.1057774,
                    21.1388555,
                    21.104987,
                    21.1952976,
                    21.10623,
                    21.1439348,
                    21.1860751,
                    21.1334704,
                    21.1441684,
                    21.1159726,
                    21.1161527,
                    21.1107329,
                    21.1217229,
                    21.1495595,
                    21.1179877,
                    21.1632668,
                    21.105409,
                    21.1843667,
                    21.1296562,
                    21.0913197,
                    21.182101,
                    21.1767876,
                    21.1515993,
                    21.1486154,
                    21.1809464,
                    21.1309629,
                    21.1208589,
                    21.1390718,
                    21.1408584,
                    21.1063221,
                    21.1481454,
                    21.1730794,
                    21.1978661,
                    21.1262761,
                    21.1997765,
                    21.1362921,
                    21.1694582,
                    21.1403942,
                    21.1609196,
                    21.108716,
                    21.108716,
                    21.0983988,
                    21.1223468,
                    21.0942823,
                    21.1259135,
                    21.1137089,
                    21.0938555,
                    21.1620461,
                    21.1648489,
                    21.1388451,
                    21.1093165,
                    21.1431321,
                    21.1731008,
                    21.1574741,
                    21.133715,
                    21.1522634,
                    21.1043808,
                    21.1487988,
                    21.1124763,
                    21.1300567,
                    21.1907512,
                    21.1363564,
                    21.1252784,
                    21.2015536,
                    21.1061659,
                    21.1888767,
                    21.1001254,
                    21.1238989,
                    21.1786278,
                    21.1514532,
                    21.1378921,
                    21.1684233,
                    21.1975197,
                    21.1475938,
                    21.0955871,
                    21.1058961,
                    21.1184726,
                    21.0970321,
                    21.1408393,
                    21.128018,
                    21.1478402,
                    21.1225371,
                    21.175707,
                    21.1569975,
                    21.1133946,
                    21.1132454,
                    21.1194956,
                    21.1102613,
                    21.1740534,
                    21.1140387,
                    21.1465773,
                    21.098547,
                    21.1803798,
                    21.1407642,
                    21.1217938,
                    21.1907046,
                    21.2047748,
                    21.1128795,
                    21.1479402,
                    21.1871698,
                    21.11094,
                    21.1513502,
                    21.159084,
                    21.119055,
                    21.1521097,
                    21.1382679,
                    21.1066444,
                    21.1085335,
                    21.1443432,
                    21.1085335,
                    21.1189139,
                    21.148168,
                    21.130993,
                    21.1205096,
                    21.180315,
                    21.1747036,
                    21.1227949,
                    21.1696318,
                    21.1088488,
                    21.2012114,
                    21.1479415,
                    21.1236073,
                    21.1088488,
                    21.1391001,
                    21.1210942,
                    21.1858125,
                    21.1721481,
                    21.1272075,
                    21.2033977,
                    21.1438411,
                    21.1121712,
                    21.1214168,
                    21.1823284,
                    21.164697,
                    21.1641283,
                    21.1873667,
                    21.1484159,
                    21.1380389,
                    21.1302463,
                    21.117859,
                    21.1187861,
                    21.1427245,
                    21.1835666,
                    21.1295653,
                    21.1577151,
                    21.1044638,
                    21.1831803,
                    21.1576572,
                    21.0681244,
                    21.1778179,
                    21.1342593,
                    21.1608478,
                    21.1756451,
                    21.1744794,
                    21.1766545,
                    21.1716088,
                    21.1590864,
                    21.1777742,
                    21.1769217,
                    21.1107038,
                    21.1679254,
                    21.186301,
                    21.091049,
                    21.1240617,
                    21.117265,
                    21.152317,
                    21.1961083,
                    21.1224564,
                    21.1188052,
                    21.1815054,
                    21.0910018,
                    21.1586925,
                    21.1226503,
                    21.122605,
                    21.1060391,
                    21.1729108,
                    21.1831863,
                    21.1353571,
                    21.1449071,
                    21.1469997,
                    21.1071205,
                    21.1945407,
                    21.1501045,
                    21.1702235,
                    21.1295366,
                    21.1387217,
                    21.1049931,
                    21.0873383,
                    21.1056682,
                    21.1575381,
                    21.120959,
                    21.1010723,
                    21.1921679,
                    21.1441047,
                    21.1956442,
                    21.1344028,
                    21.167948,
                    21.1403638,
                    21.1582271,
                    21.1594496,
                    21.1354227,
                    21.1505576,
                    21.1420837,
                    21.120466,
                    21.0959996,
                    21.1318903,
                    21.1661337,
                    21.1579094,
                    21.1257901,
                    21.1658973,
                    21.164962,
                    21.1127444,
                    21.140304,
                    21.1642389,
                    21.1518017,
                    21.1700619,
                    21.1936215,
                    21.1097457,
                    21.159492,
                    21.136878,
                    21.1327175,
                    21.1438525,
                    21.1485574,
                    21.1158966,
                    21.1021782,
                    21.15363,
                    21.1206532,
                    21.186548,
                    21.1525904,
                    21.1178809,
                    21.1480063,
                    21.1174541,
                    21.1206308,
                    21.0684195,
                    21.2014157,
                    21.1439838,
                    21.1638325,
                    21.1701285,
                    21.18716,
                    21.1160282,
                    21.1260171,
                    21.1479288,
                    21.1824127,
                    21.1119222,
                    21.0972044,
                    21.1084491,
                    21.1604318,
                    21.1752288,
                    21.1499202,
                    21.1687831,
                    21.1308818,
                    21.1119222,
                    21.1405557,
                    21.1368991,
                    21.1651014,
                    21.1261212,
                    21.1084179,
                    21.1657166,
                    21.190258,
                    21.1656334,
                    21.1402338,
                    21.144293,
                    21.1439111,
                    21.1585644,
                    21.1909125,
                    21.1403915,
                    21.116851,
                    21.1100334,
                    21.1905865,
                    21.1635668,
                    21.1533086,
                    21.1390737,
                    21.1198853,
                    21.1635787,
                    21.1281429,
                    21.1757294,
                    21.1724345,
                    21.1131397,
                    21.1505885,
                    21.118583,
                    21.1074,
                    21.1225435,
                    21.1706265,
                    21.1167863,
                    21.1415639,
                    21.1363373,
                    21.105365,
                    21.1492663,
                    21.2010964,
                    21.1875229,
                    21.1798844,
                    21.1744633,
                    21.1637012,
                    21.1457655,
                    21.1597123,
                    21.1877367,
                    21.155599,
                    21.1046055,
                    21.1162175,
                    21.1344132,
                    21.1162175,
                    21.1968371,
                    21.138802,
                    21.1978645,
                    21.1916321,
                    21.1823332,
                    21.2072853,
                    21.1447383,
                    21.1699614,
                    21.1875659,
                    21.1947694,
                    21.0904303,
                    21.116988,
                    21.1514408,
                    21.1309508,
                    21.1648772,
                    21.1973464,
                    21.1305375,
                    21.1308087,
                    21.1744006,
                    21.192831,
                    21.1586256,
                    21.065853,
                    21.1636549,
                    21.1664201,
                    21.1360103,
                    21.1348298,
                    21.1892335,
                    21.1807492,
                    21.1977475,
                    21.1366625,
                    21.1335468,
                    21.1771369,
                    21.108865,
                    21.0976569,
                    21.1406844,
                    21.1952533,
                    21.1826914,
                    21.1836027,
                    21.1796458,
                    21.1644556,
                    21.1121266,
                    21.1157415,
                    21.1176839,
                    21.0967362,
                    21.1088892,
                    21.1627773,
                    21.1479531,
                    21.1425125,
                    21.1655687,
                    21.1526738,
                    21.1130367,
                    21.1759376,
                    21.1832387,
                    21.1527169,
                    21.1395595,
                    21.1576041,
                    21.1333357,
                    21.1162265,
                    21.1382435,
                    21.1593974,
                    21.1765001,
                    21.11295,
                    21.1596424,
                    21.1591563,
                    21.1478924,
                    21.1736306,
                    21.1190401,
                    21.1359485,
                    21.1341327,
                    21.1644256,
                    21.1158889,
                    21.1565492,
                    21.1439564,
                    21.0973008,
                    21.1758315,
                    21.1778053,
                    21.191523,
                    21.1106272,
                    21.1443589,
                    21.1488946,
                    21.1730782,
                    21.1644681,
                    21.1393827,
                    21.199672,
                    21.1397107,
                    21.1426825,
                    21.1908768,
                    21.1133726,
                    21.1147647,
                    21.1103172,
                    21.1436703,
                    21.1678672,
                    21.0938949,
                    21.1550757,
                    21.1871525,
                    21.1542111,
                    21.0910409,
                    21.1652606,
                    21.1290221,
                    21.114014,
                    21.1738198,
                    21.0865047,
                    21.1838409,
                    21.1060743,
                    21.1677898,
                    21.1834397,
                    21.1733688,
                    21.1437489,
                    21.1602083,
                    21.1822888,
                    21.1691931,
                    21.1768684,
                    21.1464475,
                    21.1137615,
                    21.1038467,
                    21.1133367,
                    21.135409,
                    21.1615209,
                    21.1517293,
                    21.207188,
                    21.1658779,
                    21.1257691,
                    21.1281919,
                    21.1810177,
                    21.1838209,
                    21.114659,
                    21.1748931,
                    21.1543712,
                    21.1502974,
                    21.1308038,
                    21.1880478,
                    21.1762461,
                    21.12976,
                    21.2000312,
                    21.1384699,
                    21.1672511,
                    21.1347963,
                    21.1316313,
                    21.1487511,
                    21.1911253,
                    21.1631604,
                    21.1729511,
                    21.1892326,
                    21.1252004,
                    21.1328372,
                    21.1401782,
                    21.123616,
                    21.1906587,
                    21.1411515,
                    21.1615672,
                    21.1609679,
                    21.1998667,
                    21.171995,
                    21.0911909,
                    21.1457191,
                    21.1810807,
                    21.1884209,
                    21.125064,
                    21.1536422,
                    21.1975415,
                    21.1916234,
                    21.1313581,
                    21.1881338,
                    21.1331879,
                    21.1978689,
                    21.1764579,
                    21.104043,
                    21.1797501,
                    21.161136,
                    21.1671955,
                    21.16722,
                    21.1799231,
                    21.1636437,
                    21.1754365,
                    21.1138964,
                    21.0908973,
                    21.146957,
                    21.1594099,
                    21.2075959,
                    21.1306994,
                    21.120016,
                    21.0972713,
                    21.205756,
                    21.1663361,
                    21.1056166,
                    21.1120742,
                    21.2062169,
                    21.1404158,
                    21.1967244,
                    21.1311,
                    21.0896451,
                    21.1508057,
                    21.171125,
                    21.1520527,
                    21.193605,
                    21.1402824,
                    21.1452035,
                    21.1489581,
                    21.191771,
                    21.1000464,
                    21.138264,
                    21.1487989,
                    21.1508086,
                    21.096026,
                    21.1284564,
                    21.1877855,
                    21.11906,
                    21.155547,
                    21.1211578,
                    21.1141912,
                    21.1491795,
                    21.1752656,
                    21.1837305,
                    21.1121298,
                    21.1470373,
                    21.1623264,
                    21.1324015,
                    21.1453478,
                    21.1408593,
                    21.1605267,
                    21.144853,
                    21.0676974,
                    21.0906076,
                    21.102919,
                    21.1874475,
                    21.2029519,
                    21.1867442,
                    21.1750686,
                    21.163745,
                    21.1569313,
                    21.2068283,
                    21.1086705,
                    21.1661594,
                    21.129727,
                    21.2009909,
                    21.1144169,
                    21.1241835,
                    21.165067,
                    21.1519912,
                    21.123276,
                    21.1450875,
                    21.10995,
                    21.1056426,
                    21.1979629,
                    21.1913196,
                    21.1310746,
                    21.1358194,
                    21.1235932,
                    21.1929423,
                    21.1119047,
                    21.1130969,
                    21.1904355,
                    21.1235903,
                    21.1837137,
                    21.1528464,
                    21.1578074,
                    21.1579118,
                    21.1809807,
                    21.1789502,
                    21.140468,
                    21.1874949,
                    21.1898592,
                    21.1922325,
                    21.1730136,
                    21.159226,
                    21.145256,
                    21.1630141,
                    21.1604142,
                    21.1982755,
                    21.1584249,
                    21.1641371,
                    21.175548,
                    21.1569066,
                    21.1504381,
                    21.1746666,
                    21.1997714,
                    21.2072689,
                    21.1746693,
                    21.0980031,
                    21.1822663,
                    21.1186842,
                    21.2107848,
                    21.1514731,
                    21.1927541,
                    21.096026,
                    21.0897564,
                    21.1740775,
                    21.1345899,
                    21.1700037,
                    21.1099561,
                    21.1713771,
                    21.0925549,
                    21.1741626,
                    21.1830062,
                    21.1210277,
                    21.1210538,
                    21.1693697,
                    21.1722765,
                    21.1504545,
                    21.1236446,
                    21.1491838,
                    21.0886024,
                    21.1647802,
                    21.1682143,
                    21.1876969,
                    21.1651173,
                    21.1720597,
                    21.1438823,
                    21.1347689,
                    21.1523572,
                    21.1829965,
                    21.2063596,
                    21.2027687,
                    21.1350628,
                    21.176466,
                    21.1874438,
                    21.1706324,
                    21.1234507,
                    21.1455395,
                    21.1458004,
                    21.1720127,
                    21.1349423,
                    21.1161034,
                    21.1323769,
                    21.1099561,
                    21.2035663,
                    21.1542794,
                    21.1142154,
                    21.1542431,
                    21.1744632,
                    21.2026319,
                    21.2134461,
                    21.197552,
                    21.1912114,
                    21.188395,
                    21.1363913,
                    21.1981145,
                    21.1569907,
                    21.1803933,
                    21.127714,
                    21.1625218,
                    21.1040102,
                    21.1735395,
                    21.1807571,
                    21.1699552,
                    21.1270119,
                    21.1763156,
                    21.1566514,
                    21.1242345,
                    21.174218,
                    21.1603077,
                    21.1790865,
                    21.1541964,
                    21.1563425,
                    21.1709704,
                    21.1141004,
                    21.1805062,
                    21.17346,
                    21.1728497,
                    21.1106635,
                    21.1586006,
                    21.1324467,
                    21.121231,
                    21.1823682,
                    21.1735439,
                    21.1735216,
                    21.1224175,
                    21.1718727,
                    21.1599026,
                    21.1479531,
                    21.1629858,
                    21.1817407,
                    21.1880078,
                    21.1622212,
                    21.1736013,
                    21.1588561,
                    21.1632693,
                    21.1435096,
                    21.1507573,
                    21.0912639,
                    21.1584856,
                    21.1529591,
                    21.1446935,
                    21.1499231,
                    21.1406763,
                    21.1768972,
                    21.1146141,
                    21.1497315,
                    21.1500069,
                    21.1338631,
                    21.1824786,
                    21.130501,
                    21.1162784,
                    21.1845921,
                    21.1694594,
                    21.1573466,
                    21.125908,
                    21.1679859,
                    21.1636002,
                    21.1391619,
                    21.1865754,
                    21.1722809,
                    21.1439349,
                    21.1838537,
                    21.1724434,
                    21.1838043,
                    21.1785397,
                    21.1722809,
                    21.1742848,
                    21.1032187,
                    21.1742344,
                    21.1823363,
                    21.1390462,
                    21.1374161,
                    21.1629554,
                    21.0938555,
                    21.1065711,
                    21.176064,
                    21.1615555,
                    21.1582508,
                    21.1154958,
                    21.1312905,
                    21.1797251,
                    21.1201962,
                    21.1467976,
                    21.1348424,
                    21.1499253,
                    21.1437986,
                    21.1466741,
                    21.1476648,
                    21.1401145,
                    21.1740024,
                    21.1230523,
                    21.1847056,
                    21.1446557,
                    21.1851002,
                    21.095591,
                    21.1640157,
                    21.1348134,
                    21.1372866,
                    21.1764007,
                    21.1177946,
                    21.1323075,
                    21.1562565,
                    21.1246595,
                    21.172476,
                    21.1224003,
                    21.1152524,
                    21.1195381,
                    21.1190578,
                    21.1838537,
                    21.1857385,
                    21.1777544,
                    21.1837435,
                    21.0996206,
                    21.1491124,
                    21.1435091,
                    21.1595504,
                    21.1414665,
                    21.1493239,
                    21.1523433,
                    21.1543459,
                    21.1653583,
                    21.202823,
                    21.1937322,
                    21.1928615,
                    21.2026933,
                    21.1934422,
                    21.1978328,
                    21.1527414,
                    21.2035088,
                    21.2127424,
                    21.1590506,
                    21.2020722,
                    21.1949116,
                    21.1916337,
                    21.1870299,
                    21.1924202,
                    21.1241166,
                    21.1692625,
                    21.1215886,
                    21.1929085,
                    21.1428988,
                    21.1929767,
                    21.1157258,
                    21.1919921,
                    21.1661256,
                    21.1428862,
                    21.1056582,
                    21.1785147,
                    21.2047514,
                    21.1678717,
                    21.1982354,
                    21.1744617,
                    21.1418451,
                    21.1731308,
                    21.1555905,
                    21.1722745,
                    21.1786041,
                    21.1874672,
                    21.1876234,
                    21.1458004,
                    21.1446926,
                    21.1571773,
                    21.1914226,
                    21.1359884,
                    21.11601,
                    21.1382248,
                    21.1838519,
                    21.1619603,
                    21.1838537,
                    21.133286,
                    21.1532615,
                    21.1168467,
                    21.1458004,
                    21.1400043,
                    21.1737614,
                    21.1198853,
                    21.1527122,
                    21.207746,
                    21.1893203,
                    21.0845123,
                    21.1771185,
                    21.1877627,
                    21.1652104,
                    21.1916196,
                    21.1134125,
                    21.2055595,
                    21.2010308,
                    21.0977113,
                    21.1149223,
                    21.1079977,
                    21.1085219,
                    21.1839275,
                    21.1404927,
                    21.1197205,
                    21.1782501,
                    21.1838519,
                    21.1838572,
                    21.1819703,
                    21.1856816,
                    21.1838519,
                    21.1738653,
                    21.1848976,
                    21.1840674,
                    21.106876,
                    21.1525896,
                    21.1706626,
                    21.1243481,
                    21.1912743,
                    21.1584683,
                    21.1796325,
                    21.1476625,
                    21.1231546,
                    21.2033462,
                    21.1817338,
                    21.2012839,
                    21.1620605,
                    21.1899972,
                    21.1567317,
                    21.1075627,
                    21.1685879,
                    21.1618075,
                    21.1458004,
                    21.1176163,
                    21.1444812,
                    21.1451718,
                    21.1663056,
                    21.1458004,
                    21.1521847,
                    21.1627182,
                    21.123101,
                    21.1698568,
                    21.148569,
                    21.1049757,
                    21.1514123,
                    21.1647446,
                    21.18758,
                    21.1838522,
                    21.1142465,
                    21.1970135,
                    21.1592305,
                    21.1746868,
                    21.1566811,
                    21.156611,
                    21.1654699,
                    21.1764298,
                    21.162796,
                    21.1513385,
                    21.1921023,
                    21.1063154,
                    21.1619688,
                    21.183848,
                    21.1861225,
                    21.1838921,
                    21.1310697,
                    21.166905,
                    21.1846735,
                    21.1891281,
                    21.1956872,
                    21.1556201,
                    21.1763672,
                    21.2081351,
                    21.0985173,
                    21.115907,
                    21.1871056,
                    21.1896599,
                    21.1986256,
                    21.208147,
                    21.1756101,
                    21.1850082,
                    21.1579556,
                    21.1833635,
                    21.1815105,
                    21.1882818,
                    21.1593912,
                    21.2034084,
                    21.1794843,
                    21.1780042,
                    21.1886187,
                    21.1912051,
                    21.1842073,
                    21.1178887,
                    21.1972752,
                    21.1122759,
                    21.1777792,
                    21.1777506,
                    21.1211096,
                    21.1211069,
                    21.1687542,
                    21.1862411,
                    21.1219808,
                    21.1351764,
                    21.1514532,
                    21.1067023,
                    21.1822198,
                    21.1682306,
                    21.1569463,
                    21.1607091,
                    21.1615416,
                    21.1666389,
                    21.1616677,
                    21.10883,
                    21.1390664,
                    21.1051282,
                    21.2107848,
                    21.1763409,
                    21.1987621,
                    21.1843089,
                    21.175865,
                    21.154345,
                    21.1786758,
                    21.178606,
                    21.1738583,
                    21.1707998,
                    21.1838791,
                    21.1693794,
                    21.2020722,
                    21.1823581,
                    21.1942231,
                    21.1764348,
                    21.145402,
                    21.145475,
                    21.1730641,
                    21.1532569,
                    21.1838522,
                    21.1176623,
                    21.1259845,
                    21.1071654,
                    21.1475056,
                    21.1458004,
                    21.1348185,
                    21.1051435,
                    21.1834743,
                    21.1769485,
                    21.1509,
                    21.1570552,
                    21.1252256,
                    21.1041823,
                    21.0938555,
                    21.1068861,
                    21.2028746,
                    21.1340184,
                    21.1952499,
                    21.1652585,
                    21.1500031,
                    21.1255048,
                    21.153521,
                    21.1489509,
                    21.1266116,
                    21.1616667,
                    21.1726878,
                    21.1701046,
                    21.1917273,
                    21.1993498,
                    21.1873085,
                    21.1899438,
                    21.1259845,
                    21.1461801,
                    21.1894551,
                    21.1986775,
                    21.2008891,
                    21.1973964,
                    21.1973117,
                    21.1876448,
                    21.1739384,
                    21.1157774,
                    21.1712552,
                    21.1296273,
                    21.1387666,
                    21.2110998,
                    21.2045624,
                    21.2078703,
                    21.2107798,
                    21.2106232,
                    21.1907818,
                    21.2020932,
                    21.1505998,
                    21.1989983,
                    21.1716025,
                    21.196163,
                    21.1285916,
                    21.1867437,
                    21.1861866,
                    21.1922039,
                    21.1869524,
                    21.1185565,
                    21.1977511,
                    21.1208492,
                    21.1159063,
                    21.1159063,
                    21.1047878,
                    21.1772154,
                    21.1782138,
                    21.1639107,
                    21.1769209,
                    21.1378411,
                    21.203737,
                    21.1884456,
                    21.1690822,
                    21.1815142,
                    21.1861776,
                    21.1770122,
                    21.1743303,
                    21.2172689,
                    21.1142404,
                    21.2072233,
                    21.1835965,
                    21.144896,
                    21.0986365,
                    21.1167675,
                    21.1955109,
                    21.189119,
                    21.163884,
                    21.1539701,
                    21.1491146,
                    21.13991,
                    21.1831594,
                    21.1785896,
                    21.2033021,
                    21.1159039,
                    21.1893235,
                    21.12986,
                    21.1829665,
                    21.2058656,
                    21.19793,
                    21.185401,
                    21.1407104,
                    21.1383977,
                    21.1433686,
                    21.1637655,
                    21.1522139,
                    21.1784125,
                    21.1256635,
                    21.0619875,
                    21.0679057,
                    21.0669324,
                    21.090434,
                    21.0924836,
                    21.0938555,
                    21.0972605,
                    21.091875,
                    21.0993049,
                    21.1041469,
                    21.1845362,
                    21.1419713,
                    21.1974662,
                    21.1777544,
                    21.1875073,
                    21.1797999,
                    21.1885241,
                    21.1254742,
                    21.1116356,
                    21.1752396,
                    21.135193,
                    21.1838537,
                    21.176124,
                    21.1820988,
                    21.1244967,
                    21.1307241,
                    21.1866875,
                    21.1842405,
                    21.153601,
                    21.2020722,
                    21.1878423,
                    21.1724199,
                    21.1391203,
                    21.1721732,
                    21.1789934,
                    21.1966701,
                    21.1766795,
                    21.1708289,
                    21.1878633,
                    21.171582,
                    21.1866413,
                    21.1453081,
                    21.1919422,
                    21.1881078,
                    21.1971085,
                    21.1681343,
                    21.1757536,
                    21.1713175,
                    21.1722813,
                    21.1715832,
                    21.1838566,
                    21.1445721,
                    21.1877146,
                    21.1291808,
                    21.1333623,
                    21.1887951,
                    21.1740192,
                    21.1815756,
                    21.1798156,
                    21.1821918,
                    21.1919419,
                    21.1867837,
                    21.1870058
                  ],
                  "legendgroup": "",
                  "lon": [
                    79.0605046,
                    79.08017,
                    79.1085892,
                    79.061052,
                    79.0718678,
                    79.0617635,
                    79.0766613,
                    79.0798939,
                    79.065387,
                    79.0804153,
                    79.0797083,
                    79.1364595,
                    79.056843,
                    79.0614434,
                    79.0587487,
                    79.0777007,
                    79.0798178,
                    79.0987489,
                    79.064159,
                    79.061653,
                    79.0813516,
                    79.018471,
                    79.067254,
                    79.0786802,
                    79.0565979,
                    79.0705837,
                    79.0739943,
                    79.0815081,
                    79.079909,
                    79.0386039,
                    79.1139831,
                    79.0583702,
                    79.0547982,
                    79.1229379,
                    79.0576604,
                    79.0773846,
                    79.061045,
                    79.0500524,
                    79.0581178,
                    79.066155,
                    79.1035472,
                    79.0632957,
                    79.0966833,
                    79.0810516,
                    79.0439309,
                    79.0797481,
                    79.0493448,
                    79.0631682,
                    79.0770206,
                    79.0833288,
                    79.018461,
                    79.0612804,
                    79.0650637,
                    79.0699562,
                    79.0633641,
                    79.0576971,
                    79.0395355,
                    79.055506,
                    79.1191731,
                    79.0646019,
                    79.0861686,
                    79.0692493,
                    79.077066,
                    79.0637081,
                    79.0566365,
                    79.0967143,
                    79.0631928,
                    79.0469832,
                    79.0592052,
                    79.1005936,
                    79.0758774,
                    79.120274,
                    79.101619,
                    79.0336516,
                    79.0547897,
                    79.0701557,
                    79.0778471,
                    79.0584942,
                    79.0468829,
                    79.0604787,
                    79.0311172,
                    79.0199827,
                    79.079453,
                    79.1110159,
                    79.0328722,
                    79.0618234,
                    79.1196434,
                    79.0197641,
                    79.1318024,
                    79.058013,
                    79.0424099,
                    79.0325037,
                    79.0466529,
                    79.0793552,
                    79.0560222,
                    79.1000483,
                    79.057234,
                    79.0575023,
                    79.0771718,
                    79.077338,
                    79.113626,
                    79.0824675,
                    79.081062,
                    79.0183252,
                    79.0683323,
                    79.078696,
                    79.0668198,
                    79.0577193,
                    79.0518238,
                    79.0581125,
                    79.0343393,
                    79.0792861,
                    79.0797645,
                    79.1354029,
                    79.0753007,
                    79.073926,
                    79.1004696,
                    79.0857948,
                    79.0804437,
                    79.1003256,
                    79.0763167,
                    79.0786515,
                    79.0678487,
                    79.0469541,
                    79.0199813,
                    79.1098224,
                    79.108042,
                    79.0692563,
                    79.0575,
                    79.0604003,
                    79.0687735,
                    79.0800991,
                    79.0808723,
                    79.0461792,
                    79.0470785,
                    79.080211,
                    79.1374249,
                    79.0315548,
                    79.090504,
                    79.0779567,
                    79.0544696,
                    79.070747,
                    79.0636545,
                    79.058048,
                    79.0807258,
                    79.017193,
                    79.0469924,
                    79.0579338,
                    79.073017,
                    79.0562983,
                    79.022038,
                    79.0674177,
                    79.0797333,
                    79.0544052,
                    79.0164651,
                    79.065752,
                    79.0364181,
                    79.0265138,
                    79.0758273,
                    79.1176641,
                    79.0645543,
                    79.0638962,
                    79.0995397,
                    79.0580923,
                    79.058637,
                    79.0799172,
                    79.0629411,
                    79.0778672,
                    79.0792568,
                    79.0694412,
                    79.081731,
                    79.0656236,
                    79.0657022,
                    79.0747941,
                    79.0772671,
                    79.133458,
                    79.1355511,
                    79.1013087,
                    79.0554951,
                    79.1364221,
                    79.1073014,
                    79.079278,
                    79.0328943,
                    79.070413,
                    79.0803609,
                    79.0760453,
                    79.1085428,
                    79.0560059,
                    79.0673658,
                    79.1008037,
                    79.1195077,
                    79.1197331,
                    79.0419719,
                    79.0798356,
                    79.0877105,
                    79.1000601,
                    79.0967093,
                    79.119066,
                    79.0649243,
                    79.0679261,
                    79.0902141,
                    79.015965,
                    79.0817789,
                    79.055607,
                    79.0968839,
                    79.0482647,
                    79.10389,
                    79.0688261,
                    79.117884,
                    79.0702292,
                    79.0773261,
                    79.1482239,
                    79.0431123,
                    79.1196403,
                    79.0961017,
                    79.0769828,
                    79.0776225,
                    79.0343895,
                    79.1080907,
                    79.079791,
                    79.0789,
                    79.1054126,
                    79.1042209,
                    79.0883185,
                    79.055796,
                    79.065874,
                    79.0767399,
                    79.0590274,
                    79.0609718,
                    79.0840598,
                    79.0677453,
                    79.1079296,
                    79.0527116,
                    79.059219,
                    79.0580185,
                    79.0984605,
                    79.0703482,
                    79.0719156,
                    79.0429775,
                    79.0696965,
                    79.0424042,
                    79.1195939,
                    79.101258,
                    79.0724652,
                    79.1153674,
                    79.0571152,
                    79.0689949,
                    79.0329112,
                    79.136002,
                    79.0760722,
                    79.1195916,
                    79.1356171,
                    79.1457378,
                    79.0643351,
                    79.058652,
                    79.0692248,
                    79.077373,
                    79.0204466,
                    79.0534762,
                    79.0389671,
                    79.074861,
                    79.081743,
                    79.0833247,
                    79.0798748,
                    79.045134,
                    79.0689483,
                    79.1192577,
                    79.0419764,
                    79.0707621,
                    79.0776261,
                    79.080615,
                    79.0658478,
                    79.1063999,
                    79.0893591,
                    79.0564619,
                    79.0331403,
                    79.0581,
                    79.0759357,
                    79.1340491,
                    79.0575056,
                    79.0812321,
                    79.0729393,
                    79.1363003,
                    79.082268,
                    79.089943,
                    79.1032813,
                    79.0967158,
                    79.0470736,
                    79.1088751,
                    79.0602964,
                    79.0497757,
                    79.0468519,
                    79.0580883,
                    79.0833456,
                    79.0894224,
                    79.1089741,
                    79.0481557,
                    79.0596803,
                    79.1157128,
                    79.0789146,
                    79.0659767,
                    79.0488799,
                    79.0310858,
                    79.0627447,
                    79.0678276,
                    79.0400802,
                    79.1107352,
                    79.0815043,
                    79.0942161,
                    79.0337737,
                    79.0228072,
                    79.066158,
                    79.0564081,
                    79.0791137,
                    79.055638,
                    79.0348812,
                    79.094602,
                    79.1240524,
                    79.079679,
                    79.0666749,
                    79.0800181,
                    79.060738,
                    79.1195647,
                    79.1205997,
                    79.0443899,
                    79.1409393,
                    79.1060065,
                    79.0608554,
                    79.1002253,
                    79.0767033,
                    79.1185421,
                    79.1197268,
                    79.0175782,
                    79.0437112,
                    79.0731551,
                    79.0621576,
                    79.1197302,
                    79.0623387,
                    79.0621421,
                    79.0409716,
                    79.0210604,
                    79.0952055,
                    79.1154695,
                    79.0965853,
                    79.0803772,
                    79.0820662,
                    79.0924235,
                    79.0632735,
                    79.121604,
                    79.044546,
                    79.0789485,
                    79.0734208,
                    79.058126,
                    79.0560016,
                    79.1217341,
                    79.1217341,
                    79.0620234,
                    79.1029928,
                    79.0570095,
                    79.0769602,
                    79.1354284,
                    79.0773947,
                    79.0140391,
                    79.0621933,
                    79.063736,
                    79.06387,
                    79.0786722,
                    79.0580179,
                    79.0157881,
                    79.1059038,
                    79.1076963,
                    79.0916999,
                    79.1196252,
                    79.0531134,
                    79.0650113,
                    79.0686588,
                    79.1144136,
                    79.0778984,
                    79.0152497,
                    79.0679034,
                    79.0835568,
                    79.0663671,
                    79.1237493,
                    79.1196164,
                    79.0964636,
                    79.11667,
                    79.1454612,
                    79.058836,
                    79.1285693,
                    79.0557405,
                    79.0834033,
                    79.1051301,
                    79.1195691,
                    79.0963241,
                    79.0644116,
                    79.0714415,
                    79.1196242,
                    79.0639186,
                    79.1482338,
                    79.0774882,
                    79.0604385,
                    79.0693685,
                    79.071108,
                    79.0719476,
                    79.1194391,
                    79.0767276,
                    79.0567781,
                    79.088469,
                    79.0797787,
                    79.0557642,
                    79.041253,
                    79.019345,
                    79.1098977,
                    79.078937,
                    79.1234882,
                    79.119693,
                    79.0137973,
                    79.1181391,
                    79.0579707,
                    79.068961,
                    79.1028133,
                    79.109501,
                    79.0513239,
                    79.1221909,
                    79.1132185,
                    79.0819435,
                    79.0902938,
                    79.1151761,
                    79.1165514,
                    79.0628094,
                    79.0683378,
                    79.0799693,
                    79.0436053,
                    79.0611867,
                    79.1140477,
                    79.0918781,
                    79.0614709,
                    79.0657793,
                    79.1472568,
                    79.0785159,
                    79.0570056,
                    79.0412651,
                    79.1147973,
                    79.110617,
                    79.1200272,
                    79.0448138,
                    79.1192719,
                    79.0447976,
                    79.1174653,
                    79.080347,
                    79.078695,
                    79.07554,
                    79.0319283,
                    79.0605129,
                    79.0422023,
                    79.1215478,
                    79.0880709,
                    79.0696649,
                    79.1293153,
                    79.1164,
                    79.0698329,
                    79.0387473,
                    79.0624613,
                    79.0641446,
                    79.0960917,
                    79.0612415,
                    79.0833463,
                    79.079411,
                    79.0998382,
                    79.0671352,
                    79.0643145,
                    79.101831,
                    79.1547588,
                    79.0865865,
                    79.0409552,
                    79.0992617,
                    79.0619756,
                    79.0790271,
                    79.0644107,
                    79.0606187,
                    79.0695329,
                    79.0522062,
                    79.1248918,
                    79.063458,
                    79.0309761,
                    79.0908251,
                    79.0963228,
                    79.0619125,
                    79.074899,
                    79.0773364,
                    79.0163067,
                    79.058654,
                    79.0644917,
                    79.1183511,
                    79.0809111,
                    79.1159905,
                    79.0898395,
                    79.0440517,
                    79.1133116,
                    79.0467891,
                    79.0567736,
                    79.10038,
                    79.1019176,
                    79.1006334,
                    79.118083,
                    79.0206555,
                    79.0798818,
                    79.1000686,
                    79.1235874,
                    79.1369226,
                    79.0252697,
                    79.0565064,
                    79.0606473,
                    79.1174883,
                    79.054266,
                    79.0429434,
                    79.0788435,
                    79.0471316,
                    79.0741788,
                    79.0583884,
                    79.1224437,
                    79.0248495,
                    79.122832,
                    79.113261,
                    79.0216432,
                    79.039446,
                    79.0639238,
                    79.082001,
                    79.0767515,
                    79.0323164,
                    79.0472946,
                    79.1452667,
                    79.1199101,
                    79.0733809,
                    79.0586516,
                    79.0730875,
                    79.0657148,
                    79.1045425,
                    79.0916061,
                    79.1381457,
                    79.0592287,
                    79.0713904,
                    79.065008,
                    79.054821,
                    79.060509,
                    79.0778999,
                    79.05618,
                    79.0527929,
                    79.1362459,
                    79.1083625,
                    79.058624,
                    79.152773,
                    79.1165101,
                    79.0667268,
                    79.0476848,
                    79.1348654,
                    79.0595712,
                    79.0631671,
                    79.0710836,
                    79.1188564,
                    79.1228157,
                    79.0471554,
                    79.0819708,
                    79.0711078,
                    79.0908393,
                    79.0891395,
                    79.040693,
                    79.0300396,
                    79.0670778,
                    79.0401569,
                    79.023148,
                    79.1324245,
                    79.0661268,
                    79.0160188,
                    79.0955275,
                    79.1464478,
                    79.0643898,
                    79.1370813,
                    79.0697284,
                    79.1346683,
                    79.081643,
                    79.0948238,
                    79.041518,
                    79.1184536,
                    79.1192862,
                    79.0492623,
                    79.0561576,
                    79.0784295,
                    79.0927199,
                    79.1166898,
                    79.0925324,
                    79.1317231,
                    79.1332149,
                    79.0796096,
                    79.1145054,
                    79.0791365,
                    79.094999,
                    79.0898483,
                    79.1246095,
                    79.0798798,
                    79.0571028,
                    79.082775,
                    79.0321277,
                    79.0773204,
                    79.0613311,
                    79.057646,
                    79.1504843,
                    79.0505389,
                    79.0608687,
                    79.0495022,
                    79.0665787,
                    79.0942988,
                    79.0760619,
                    79.1069575,
                    79.0464473,
                    79.0951024,
                    79.0955636,
                    79.0955636,
                    79.0812623,
                    79.0598166,
                    79.1338566,
                    79.0520008,
                    79.077046,
                    79.064577,
                    79.133733,
                    79.0679811,
                    79.0872139,
                    79.104979,
                    79.1108043,
                    79.0464371,
                    79.0585781,
                    79.1170797,
                    79.1096218,
                    79.0785613,
                    79.0536217,
                    79.0696337,
                    79.0826988,
                    79.0525582,
                    79.11391,
                    79.1628601,
                    79.0786168,
                    79.0889375,
                    79.078283,
                    79.0619337,
                    79.1016311,
                    79.0877407,
                    79.0647645,
                    79.1137872,
                    79.0564855,
                    79.0786948,
                    79.0678505,
                    79.0727529,
                    79.0822809,
                    79.124773,
                    79.0665157,
                    79.0333974,
                    79.1193319,
                    79.0623163,
                    79.0747652,
                    79.0597157,
                    79.0847309,
                    79.1024322,
                    79.058561,
                    79.1350005,
                    79.0532515,
                    79.0669223,
                    79.0827644,
                    79.1196499,
                    79.0892895,
                    79.1111121,
                    79.1385331,
                    79.1099852,
                    79.1117025,
                    79.0514184,
                    79.0584249,
                    79.0583045,
                    79.1198354,
                    79.0770031,
                    79.0782542,
                    79.0640206,
                    79.0916125,
                    79.0500844,
                    79.0595878,
                    79.0474939,
                    79.0958469,
                    79.1192589,
                    79.0640548,
                    79.1017597,
                    79.079268,
                    79.0267745,
                    79.147968,
                    79.0662777,
                    79.159906,
                    79.1254798,
                    79.0580768,
                    79.1208936,
                    79.0771718,
                    79.0317103,
                    79.0952656,
                    79.101842,
                    79.058644,
                    79.0900409,
                    79.114569,
                    79.0669804,
                    79.0453707,
                    79.0662842,
                    79.057176,
                    79.127238,
                    79.0499276,
                    79.0589222,
                    79.0816153,
                    79.1255951,
                    79.074643,
                    79.1047463,
                    79.1021682,
                    79.0633162,
                    79.0826593,
                    79.0619101,
                    79.0665232,
                    79.043036,
                    79.1193182,
                    79.0441048,
                    79.1042443,
                    79.0916657,
                    79.0962236,
                    79.0797672,
                    79.1536762,
                    79.0857543,
                    79.139502,
                    79.1033567,
                    79.0663404,
                    79.0567373,
                    79.0622462,
                    79.0836366,
                    79.0628331,
                    79.0628331,
                    79.0450564,
                    79.1138227,
                    79.0935979,
                    79.095656,
                    79.0447838,
                    79.1162073,
                    79.0655041,
                    79.0420691,
                    79.0747216,
                    79.1120297,
                    79.0976624,
                    79.1134203,
                    79.1161261,
                    79.079124,
                    79.0347215,
                    79.0817794,
                    79.0733854,
                    79.1391315,
                    79.0633853,
                    79.0798732,
                    79.1085034,
                    79.100292,
                    79.1157975,
                    79.1182544,
                    79.0997996,
                    79.096245,
                    79.0080748,
                    79.095369,
                    79.0795207,
                    79.1195799,
                    79.0631407,
                    79.0810993,
                    79.0408097,
                    79.1309082,
                    79.1067839,
                    79.0576765,
                    79.0419761,
                    79.079181,
                    79.1048486,
                    79.015536,
                    79.0626829,
                    79.0526616,
                    79.063294,
                    79.1364422,
                    79.0335121,
                    79.0901824,
                    79.0396514,
                    79.0711124,
                    79.0131076,
                    79.0494907,
                    79.0185836,
                    79.1505038,
                    79.1372119,
                    79.0356607,
                    79.1374375,
                    79.0689949,
                    79.0562976,
                    79.0638416,
                    79.0794537,
                    79.075887,
                    79.0863653,
                    79.082538,
                    79.1075791,
                    79.1047882,
                    79.0898845,
                    79.0210607,
                    79.0632849,
                    79.1012795,
                    79.0427045,
                    79.1135176,
                    79.1196013,
                    79.0632582,
                    79.0934863,
                    79.0777355,
                    79.0418465,
                    79.0468662,
                    79.0654576,
                    79.0871399,
                    79.0654324,
                    79.0786119,
                    79.1375792,
                    79.0635318,
                    79.128152,
                    79.0545377,
                    79.0836483,
                    79.0966406,
                    79.0587551,
                    79.060448,
                    79.1335723,
                    79.05108,
                    79.0749044,
                    79.0949295,
                    79.0989955,
                    79.0132915,
                    79.0619178,
                    79.1288868,
                    79.064181,
                    79.0316146,
                    79.0564541,
                    79.0822734,
                    79.0672029,
                    79.0911201,
                    79.1000266,
                    79.0585935,
                    79.0774539,
                    79.06029,
                    79.0569158,
                    79.1144492,
                    79.1144492,
                    79.0544264,
                    79.1025854,
                    79.1040645,
                    79.108995,
                    79.0663725,
                    79.0630084,
                    79.0533999,
                    79.104967,
                    79.0418481,
                    79.1198487,
                    79.1031887,
                    79.0857786,
                    79.1100478,
                    79.1271432,
                    79.054829,
                    79.0697139,
                    79.11295,
                    79.0799563,
                    79.0606961,
                    79.0516681,
                    79.0830586,
                    79.0671823,
                    79.0463937,
                    79.0710986,
                    79.0294015,
                    79.0875963,
                    79.0649206,
                    79.0794762,
                    79.098144,
                    79.1005667,
                    79.1414805,
                    79.0769604,
                    79.1280241,
                    79.090728,
                    79.1007601,
                    79.0475178,
                    79.0915577,
                    79.0491215,
                    79.030507,
                    79.1312935,
                    79.0662842,
                    79.0474175,
                    79.1378038,
                    79.0478903,
                    79.068769,
                    79.0635629,
                    79.1022428,
                    79.1161767,
                    79.0893101,
                    79.1457467,
                    79.071828,
                    79.122114,
                    79.122114,
                    79.0669241,
                    79.0437787,
                    79.0695872,
                    79.1032244,
                    79.0293308,
                    79.0750191,
                    79.0052257,
                    79.0820562,
                    79.1247561,
                    79.0511314,
                    79.0612483,
                    79.1004826,
                    79.1659449,
                    79.1429935,
                    79.1493387,
                    79.08476,
                    79.124268,
                    79.0643042,
                    79.1208293,
                    79.0914329,
                    79.0485469,
                    79.161185,
                    79.0701653,
                    79.1227,
                    79.1005965,
                    79.0704938,
                    79.1391118,
                    79.0593788,
                    79.0906692,
                    79.0829979,
                    79.1337359,
                    79.1356507,
                    79.1366124,
                    79.0777809,
                    79.0874592,
                    79.0172589,
                    79.0707633,
                    79.0661616,
                    79.1504676,
                    79.0930706,
                    79.0436379,
                    79.1144044,
                    79.1065776,
                    79.056535,
                    79.1040791,
                    79.0278436,
                    79.1037985,
                    79.0575501,
                    79.1218945,
                    79.1193225,
                    79.091817,
                    79.0912437,
                    79.06434,
                    79.0298915,
                    79.0712582,
                    79.0666352,
                    79.0414663,
                    79.1475421,
                    79.0470426,
                    79.0367885,
                    79.1480028,
                    79.0796093,
                    79.0325487,
                    79.1448986,
                    79.0802382,
                    79.1165849,
                    79.1192081,
                    79.103679,
                    79.1192081,
                    79.028278,
                    79.092302,
                    79.064792,
                    79.0313476,
                    79.0916815,
                    79.0479386,
                    79.0570334,
                    79.113409,
                    79.1333916,
                    79.0774405,
                    79.1323199,
                    79.1099624,
                    79.1333916,
                    79.1328002,
                    79.0528318,
                    79.0779375,
                    79.0356807,
                    79.0704733,
                    79.0772724,
                    79.0825715,
                    79.1338509,
                    79.0283604,
                    79.0665157,
                    79.0815012,
                    79.0818583,
                    79.0784049,
                    79.1338635,
                    79.0819735,
                    79.1245283,
                    79.01828,
                    79.0321696,
                    79.1120988,
                    79.0916744,
                    79.1414662,
                    79.0767554,
                    79.0316722,
                    79.0935426,
                    79.0773002,
                    79.0589982,
                    79.107953,
                    79.1432874,
                    79.1581896,
                    79.1083671,
                    79.0509319,
                    79.0891499,
                    79.1242059,
                    79.0573769,
                    79.1085373,
                    79.038265,
                    79.0268308,
                    79.1323112,
                    79.11299,
                    79.0790045,
                    79.0444602,
                    79.104077,
                    79.087526,
                    79.0509046,
                    79.0339697,
                    79.0321639,
                    79.117428,
                    79.0544917,
                    79.1457314,
                    79.0997747,
                    79.0431735,
                    79.0853552,
                    79.0734016,
                    79.1008407,
                    79.1435789,
                    79.0897886,
                    79.103195,
                    79.0454059,
                    79.103269,
                    79.041986,
                    79.0888435,
                    79.1148469,
                    79.1328347,
                    79.0548066,
                    79.0732814,
                    79.0750145,
                    79.0443182,
                    79.055607,
                    79.0868691,
                    79.1034363,
                    79.0786963,
                    79.0508203,
                    79.1196466,
                    79.0787667,
                    79.058068,
                    79.1500335,
                    79.0790391,
                    79.0780004,
                    79.1061723,
                    79.0610629,
                    79.0261851,
                    79.0667535,
                    79.1162503,
                    79.1016273,
                    79.1067962,
                    79.1166801,
                    79.1025227,
                    79.0813186,
                    79.0903287,
                    79.0851853,
                    79.0806,
                    79.1216982,
                    79.0784041,
                    79.0905939,
                    79.0804888,
                    79.078845,
                    79.1446197,
                    79.0623027,
                    79.1416287,
                    79.1157247,
                    79.0388539,
                    79.1020422,
                    79.0136424,
                    79.030726,
                    79.092325,
                    79.0869714,
                    79.0169153,
                    79.1345172,
                    79.0577364,
                    79.0283815,
                    79.0591142,
                    79.0677962,
                    79.1125031,
                    79.0816206,
                    78.9983793,
                    79.0494659,
                    79.0308244,
                    79.1189214,
                    79.1385538,
                    79.0679219,
                    79.0664888,
                    79.073971,
                    79.1231734,
                    79.1195473,
                    79.0541644,
                    79.0431028,
                    79.1071576,
                    79.0487194,
                    79.0664888,
                    79.0658929,
                    79.078619,
                    79.0574436,
                    79.055798,
                    79.0889385,
                    79.0903845,
                    79.078215,
                    79.1083206,
                    79.0944069,
                    79.07822,
                    79.0796171,
                    79.1010958,
                    79.1611853,
                    79.1304889,
                    79.1340348,
                    79.0703093,
                    79.0786814,
                    79.079293,
                    79.0966312,
                    79.1312011,
                    79.0317103,
                    79.0792962,
                    79.125615,
                    79.1472833,
                    79.049359,
                    79.047596,
                    79.074899,
                    79.0184663,
                    79.0443014,
                    79.0344691,
                    79.0464394,
                    79.1167987,
                    79.1208893,
                    79.1022793,
                    79.0562114,
                    79.1594747,
                    79.0677027,
                    79.0563041,
                    79.109938,
                    79.0562003,
                    79.0797781,
                    79.1211074,
                    79.1185182,
                    79.0673209,
                    79.100861,
                    79.0943862,
                    79.1211947,
                    79.1196618,
                    79.1211947,
                    79.0509874,
                    79.1218805,
                    79.0687647,
                    79.0746441,
                    79.0664983,
                    79.0770088,
                    79.0846549,
                    79.0792891,
                    79.0840457,
                    79.0701709,
                    79.064967,
                    79.0436495,
                    79.1039929,
                    79.0645358,
                    79.1434314,
                    79.0510224,
                    79.1004727,
                    79.0625728,
                    79.0509177,
                    79.0465162,
                    79.1174766,
                    79.0581805,
                    79.0432198,
                    79.1660555,
                    79.119792,
                    79.1399446,
                    79.1353308,
                    79.0852951,
                    79.068591,
                    79.0532418,
                    79.1433276,
                    79.0293853,
                    79.069238,
                    79.0676701,
                    79.1192665,
                    79.0610504,
                    79.0688717,
                    79.0909084,
                    79.0908081,
                    79.1153109,
                    79.0303207,
                    79.0684952,
                    79.0471586,
                    79.0918935,
                    79.0842016,
                    79.0156467,
                    79.1378789,
                    79.0584271,
                    79.0827166,
                    79.1084753,
                    79.0524049,
                    79.096013,
                    79.0791072,
                    79.0770849,
                    79.065709,
                    79.0756946,
                    79.0464153,
                    79.0681303,
                    79.1193789,
                    79.079081,
                    79.089608,
                    79.098826,
                    79.1164027,
                    79.0040698,
                    79.0929097,
                    79.0597402,
                    79.0718292,
                    79.1344092,
                    79.1286151,
                    79.1529599,
                    79.0424597,
                    79.1576321,
                    79.1082672,
                    79.0999025,
                    79.0449771,
                    79.0418469,
                    79.0721806,
                    79.1167941,
                    79.1124086,
                    79.1242911,
                    79.0835793,
                    79.0215242,
                    79.0946655,
                    79.074283,
                    79.0631364,
                    79.065722,
                    79.1101857,
                    79.0584095,
                    79.0437378,
                    79.0715509,
                    79.1121777,
                    79.1161547,
                    79.098181,
                    79.117042,
                    79.0613505,
                    79.0457094,
                    79.0770786,
                    79.0815194,
                    79.1428926,
                    79.1043849,
                    79.165503,
                    79.0727401,
                    79.1328873,
                    79.1212918,
                    79.1025988,
                    79.0913536,
                    79.1080409,
                    79.0677444,
                    79.011065,
                    79.0729793,
                    79.0809475,
                    79.0618787,
                    79.0560897,
                    79.0418093,
                    79.0678484,
                    79.0468083,
                    79.1209479,
                    79.1473196,
                    79.0455145,
                    79.0772516,
                    79.1465679,
                    79.1590943,
                    79.1503388,
                    79.1175286,
                    79.109536,
                    79.0419947,
                    79.0509632,
                    79.1443093,
                    79.1582966,
                    79.1196097,
                    79.051709,
                    79.050038,
                    79.1217196,
                    79.0601471,
                    79.1237432,
                    79.1113643,
                    79.0763367,
                    79.1157165,
                    79.0918325,
                    79.1098374,
                    79.1136915,
                    79.1179079,
                    79.135215,
                    79.1614702,
                    79.1192846,
                    79.1474302,
                    79.12895,
                    79.0541997,
                    79.0543455,
                    79.0046623,
                    79.1450317,
                    79.0686299,
                    79.0362617,
                    79.0730154,
                    79.0703544,
                    79.0606847,
                    79.1000199,
                    79.0642184,
                    79.1108755,
                    79.1357029,
                    79.0787651,
                    79.1456063,
                    79.1068967,
                    79.0716834,
                    79.0687719,
                    79.0290808,
                    79.066823,
                    79.039621,
                    79.1294162,
                    79.1478566,
                    79.006783,
                    79.1538666,
                    79.0434514,
                    79.0461748,
                    79.0578187,
                    79.0555625,
                    79.1562163,
                    79.0794628,
                    79.0774732,
                    79.0818004,
                    79.022948,
                    79.0724983,
                    79.0662747,
                    79.0119679,
                    79.1200586,
                    79.0651653,
                    79.0658911,
                    79.0599085,
                    79.078154,
                    79.1164709,
                    79.0712674,
                    79.1187246,
                    79.0810263,
                    79.0906451,
                    79.0701646,
                    79.095556,
                    79.0841829,
                    79.031611,
                    79.1274128,
                    79.0704831,
                    79.161945,
                    79.1287044,
                    79.1535454,
                    79.0515458,
                    79.1192391,
                    79.0558761,
                    79.032634,
                    79.159581,
                    79.0264702,
                    79.0435388,
                    79.0412068,
                    79.0510514,
                    79.1324947,
                    79.0640669,
                    79.0573209,
                    79.062021,
                    79.0705355,
                    79.0817211,
                    79.0804084,
                    79.0831541,
                    79.0804231,
                    79.0588091,
                    79.0650062,
                    79.0872948,
                    79.0478837,
                    79.0673536,
                    79.0496232,
                    79.0583825,
                    79.043495,
                    79.0752159,
                    79.0659589,
                    79.1241276,
                    79.1026986,
                    79.1232341,
                    79.067902,
                    79.1305984,
                    79.1384362,
                    79.1067105,
                    79.1046021,
                    79.1098306,
                    79.0856248,
                    79.072498,
                    79.0945697,
                    79.0685968,
                    79.0724169,
                    79.1183698,
                    79.1371524,
                    79.1124645,
                    79.1102213,
                    79.0753284,
                    79.094378,
                    79.1186938,
                    79.1162436,
                    79.1325001,
                    79.1651083,
                    79.1173671,
                    79.1497202,
                    79.1486698,
                    79.131217,
                    79.139316,
                    79.1096218,
                    79.1096356,
                    79.1146501,
                    79.1016792,
                    79.0961621,
                    79.104002,
                    79.0733854,
                    79.0100552,
                    79.0507901,
                    79.0496906,
                    79.1033447,
                    79.138688,
                    79.1568056,
                    79.1366617,
                    79.060722,
                    79.0701001,
                    79.0659189,
                    79.0607222,
                    79.0668656,
                    79.0667094,
                    79.0330873,
                    79.1040432,
                    79.0636951,
                    79.078157,
                    79.0515458,
                    79.0757827,
                    79.0350179,
                    79.0710926,
                    79.0501603,
                    79.0235386,
                    79.0858293,
                    79.0307408,
                    79.0568066,
                    79.0793528,
                    79.0310948,
                    79.0561221,
                    79.047427,
                    79.1199232,
                    79.0915827,
                    79.0644655,
                    79.089343,
                    79.0589984,
                    79.0499199,
                    79.1081253,
                    79.0468755,
                    79.102626,
                    79.043179,
                    79.0796695,
                    79.1434008,
                    79.1177612,
                    79.0702637,
                    79.0787693,
                    79.0892313,
                    79.0774721,
                    79.0604473,
                    79.1096577,
                    79.1308485,
                    79.122238,
                    79.0899393,
                    79.0881546,
                    79.1211416,
                    79.1082496,
                    79.1041588,
                    79.1129299,
                    79.0235386,
                    79.1013774,
                    79.1110359,
                    79.0409554,
                    79.1214338,
                    79.0562004,
                    79.0615194,
                    79.0783486,
                    79.069233,
                    79.0710173,
                    79.0773372,
                    79.1443102,
                    79.0841229,
                    79.0078974,
                    79.1537924,
                    79.0826422,
                    79.1134923,
                    79.0170956,
                    79.1515424,
                    79.1330806,
                    79.0219488,
                    79.1525218,
                    79.1392844,
                    79.1660995,
                    79.1384959,
                    79.144757,
                    79.1567142,
                    79.1511492,
                    79.117774,
                    79.1659607,
                    79.1205574,
                    79.0567116,
                    79.1391797,
                    79.1437409,
                    79.1167948,
                    79.0235994,
                    79.1662872,
                    79.1430457,
                    79.0310118,
                    79.1216667,
                    79.1170689,
                    79.1166684,
                    79.0336975,
                    79.1166385,
                    79.1547604,
                    79.1378789,
                    79.1629519,
                    79.1258043,
                    79.1008504,
                    79.1627667,
                    79.1168095,
                    79.1663023,
                    79.0744726,
                    79.1247133,
                    79.1481508,
                    79.0753822,
                    79.1451521,
                    79.1498851,
                    79.1311168,
                    79.1580785,
                    79.0609111,
                    79.148696,
                    79.0422008,
                    79.1578843,
                    79.1628661,
                    79.0536181,
                    79.1405694,
                    79.0469205,
                    79.025134,
                    79.132172,
                    79.1360695,
                    79.1491244,
                    79.0582381,
                    79.0630522,
                    79.1678862,
                    79.1316834,
                    79.1572525,
                    79.1199247,
                    79.1573551,
                    79.1327371,
                    79.1202864,
                    79.1316498,
                    79.1319495,
                    79.1199247,
                    79.1277469,
                    79.0874147,
                    79.0596732,
                    79.0665442,
                    79.0641675,
                    79.1271615,
                    79.0734564,
                    79.0750191,
                    79.0823971,
                    79.1465965,
                    79.1466635,
                    79.1173087,
                    79.0475779,
                    79.0472645,
                    79.1536583,
                    79.030973,
                    79.1603543,
                    79.1400064,
                    79.1580839,
                    79.1356571,
                    79.1355469,
                    79.1674855,
                    79.1471413,
                    79.1340568,
                    79.1220675,
                    79.1698442,
                    79.1528762,
                    79.1363231,
                    79.0777951,
                    79.0450202,
                    79.140039,
                    79.1455327,
                    79.0500235,
                    79.0344151,
                    79.149567,
                    79.1661239,
                    79.1374558,
                    79.1313067,
                    79.0569804,
                    79.1282897,
                    79.1244472,
                    79.0716792,
                    79.1327371,
                    79.1343622,
                    79.1333329,
                    79.1333604,
                    79.0685401,
                    79.0549807,
                    79.1465024,
                    78.9981769,
                    79.1432878,
                    79.1607961,
                    79.1698442,
                    79.1666926,
                    79.1711906,
                    79.0666893,
                    79.1268125,
                    79.1013079,
                    79.0892544,
                    79.1001306,
                    79.0886889,
                    79.1118903,
                    79.10126,
                    79.1036288,
                    79.1001137,
                    79.0999863,
                    79.0877981,
                    79.096188,
                    79.1313984,
                    79.1029636,
                    79.0918066,
                    79.1080469,
                    79.1140508,
                    79.1105903,
                    79.0958636,
                    79.1271591,
                    79.0447283,
                    79.0768337,
                    79.1016325,
                    79.0958609,
                    79.0419525,
                    79.1085509,
                    79.0663616,
                    79.0214499,
                    79.0828688,
                    79.0593888,
                    79.0842765,
                    79.0896089,
                    79.0859341,
                    79.0999257,
                    79.0449126,
                    79.0790272,
                    79.0839896,
                    79.0881546,
                    79.0903969,
                    79.0772651,
                    79.0743639,
                    79.0676833,
                    79.0989217,
                    79.0953183,
                    79.1327371,
                    79.0120579,
                    79.1327371,
                    79.049653,
                    79.0173769,
                    79.0465452,
                    79.0881546,
                    79.0601802,
                    79.0592521,
                    79.0569574,
                    79.0747337,
                    79.0775242,
                    79.0640278,
                    79.0637467,
                    79.1377555,
                    79.057702,
                    78.997704,
                    79.0739813,
                    79.0292985,
                    79.0661415,
                    79.0679034,
                    79.0706354,
                    79.0272889,
                    79.0804049,
                    79.1139077,
                    79.1319089,
                    79.1050034,
                    79.0954788,
                    79.1320338,
                    79.1327371,
                    79.1327371,
                    79.128101,
                    79.1304247,
                    79.1327371,
                    79.1324531,
                    79.1318944,
                    79.132159,
                    79.119999,
                    79.0203949,
                    79.112975,
                    79.0441925,
                    79.1098336,
                    79.0496943,
                    79.119678,
                    79.0423625,
                    79.108755,
                    79.0658603,
                    79.0637132,
                    79.0633072,
                    79.0080873,
                    79.1263122,
                    79.1065532,
                    79.0604509,
                    79.078185,
                    79.0127496,
                    79.0881546,
                    79.0151696,
                    79.0846602,
                    79.0843572,
                    79.0981493,
                    79.0881546,
                    79.124163,
                    79.1133757,
                    79.1099425,
                    79.0928757,
                    79.124885,
                    79.1263655,
                    79.0805552,
                    79.0816775,
                    79.108555,
                    79.1327371,
                    79.1139374,
                    79.1179816,
                    79.1616884,
                    79.1385428,
                    79.1483748,
                    79.1483763,
                    79.1680806,
                    79.1544892,
                    79.1437409,
                    79.1608582,
                    79.1166151,
                    79.0561614,
                    79.0149297,
                    79.1327371,
                    79.1119494,
                    79.1325603,
                    79.0518128,
                    79.0202438,
                    79.1007088,
                    79.1409799,
                    79.1099005,
                    79.1131026,
                    79.0800988,
                    79.0654311,
                    79.067254,
                    79.0686757,
                    79.1322578,
                    79.0945076,
                    79.0682048,
                    79.0654272,
                    79.0285091,
                    79.1006901,
                    79.0094611,
                    79.0910339,
                    79.0910378,
                    79.0694155,
                    79.0007249,
                    79.0668916,
                    79.0905587,
                    79.1003371,
                    79.0706774,
                    79.0711302,
                    79.0610075,
                    79.0347538,
                    79.1348596,
                    79.063339,
                    79.0346624,
                    79.1333329,
                    79.1140312,
                    79.1140264,
                    79.03634,
                    79.0659179,
                    79.1287701,
                    79.1247247,
                    79.0267196,
                    79.1201506,
                    79.036478,
                    79.0078337,
                    79.0084949,
                    79.0109826,
                    79.0152953,
                    79.015367,
                    79.0146906,
                    79.1369714,
                    79.1312022,
                    79.011508,
                    79.1040432,
                    79.1170097,
                    79.0786963,
                    79.133727,
                    79.1012091,
                    79.1060888,
                    79.1082623,
                    79.1055419,
                    79.1171894,
                    79.1166519,
                    79.11638,
                    79.1161153,
                    79.0999861,
                    79.1248524,
                    79.1099408,
                    79.1299314,
                    79.1189348,
                    79.1200614,
                    79.1169834,
                    79.0929248,
                    79.1327371,
                    79.1110656,
                    79.1154999,
                    79.1194106,
                    79.1077135,
                    79.0881546,
                    79.0763074,
                    79.0945419,
                    79.0900168,
                    79.0901523,
                    79.09668,
                    79.0771718,
                    79.0840896,
                    79.0773566,
                    79.0750191,
                    79.08594,
                    79.0863839,
                    79.1191963,
                    79.0648807,
                    79.0432071,
                    79.1264249,
                    79.1393335,
                    79.1286699,
                    79.1163139,
                    79.1360434,
                    79.0416715,
                    79.1194117,
                    79.1050664,
                    79.0759124,
                    79.0793912,
                    79.0788097,
                    79.0918341,
                    79.1154999,
                    79.1104436,
                    79.1065159,
                    79.1022167,
                    79.1022076,
                    79.0891409,
                    79.0891783,
                    79.1224525,
                    79.0351056,
                    79.0317857,
                    79.0360182,
                    79.1192829,
                    79.1205566,
                    79.0782135,
                    79.06673,
                    79.0768554,
                    79.1040432,
                    79.1044207,
                    79.0715153,
                    79.0675924,
                    79.1514884,
                    79.0515287,
                    79.0451532,
                    79.0541765,
                    79.0611099,
                    79.049613,
                    79.0505356,
                    79.0551087,
                    79.046376,
                    79.0724079,
                    79.0507651,
                    79.0558661,
                    79.0686749,
                    79.0686749,
                    79.0948862,
                    79.0454718,
                    79.0430287,
                    79.0438021,
                    79.0913377,
                    79.0604865,
                    79.0670733,
                    79.0637772,
                    79.0791934,
                    79.0527156,
                    79.0504673,
                    79.0483874,
                    79.0577007,
                    79.0802908,
                    79.0542747,
                    79.0770231,
                    79.0791999,
                    79.0609597,
                    79.095955,
                    79.068919,
                    79.0698933,
                    79.0946827,
                    79.0797764,
                    79.0866271,
                    79.0876258,
                    79.06018,
                    79.0787252,
                    79.0919587,
                    79.0666693,
                    79.0686721,
                    79.0640277,
                    79.0619726,
                    79.0695165,
                    79.0675591,
                    79.0686575,
                    79.070887,
                    79.0804964,
                    79.0790722,
                    79.0839991,
                    79.0857276,
                    79.0871339,
                    79.0901852,
                    79.0622546,
                    79.0584326,
                    79.0587363,
                    79.0600919,
                    79.0649671,
                    79.0732411,
                    79.0750191,
                    79.0747324,
                    79.07449,
                    79.0994908,
                    79.0764028,
                    79.1318218,
                    79.1588486,
                    79.1355361,
                    79.1333329,
                    79.1335093,
                    79.1395451,
                    79.1353731,
                    79.139429,
                    79.1353033,
                    79.1085292,
                    79.1481183,
                    79.1327371,
                    79.1381093,
                    79.127953,
                    79.1378483,
                    79.1268569,
                    79.1004375,
                    79.132259,
                    79.149939,
                    79.0999854,
                    79.1238694,
                    79.125086,
                    79.1427882,
                    79.1378253,
                    79.1497383,
                    79.1343675,
                    79.0293073,
                    79.1261496,
                    79.1065467,
                    79.1276295,
                    79.133107,
                    79.1144196,
                    79.1294588,
                    79.1257466,
                    79.134948,
                    79.1555377,
                    79.137208,
                    79.127112,
                    79.1199068,
                    79.1317451,
                    79.1327371,
                    79.1603312,
                    79.1362789,
                    79.1301005,
                    79.1432082,
                    79.1130336,
                    79.1247905,
                    79.1552726,
                    79.1286853,
                    79.1229866,
                    79.1294588,
                    79.1322335,
                    79.1311619
                  ],
                  "marker": {
                    "color": [
                      2,
                      2,
                      0,
                      2,
                      2,
                      2,
                      2,
                      2,
                      2,
                      2,
                      6,
                      0,
                      3,
                      2,
                      2,
                      6,
                      2,
                      2,
                      2,
                      2,
                      2,
                      3,
                      4,
                      2,
                      3,
                      4,
                      2,
                      2,
                      2,
                      3,
                      0,
                      3,
                      4,
                      0,
                      3,
                      2,
                      2,
                      1,
                      4,
                      2,
                      0,
                      2,
                      2,
                      2,
                      3,
                      2,
                      1,
                      4,
                      2,
                      2,
                      3,
                      2,
                      2,
                      2,
                      2,
                      2,
                      3,
                      4,
                      0,
                      4,
                      2,
                      6,
                      6,
                      3,
                      3,
                      6,
                      2,
                      3,
                      2,
                      6,
                      2,
                      0,
                      4,
                      1,
                      4,
                      4,
                      6,
                      3,
                      3,
                      3,
                      3,
                      1,
                      6,
                      0,
                      3,
                      3,
                      0,
                      1,
                      5,
                      3,
                      3,
                      3,
                      3,
                      2,
                      1,
                      6,
                      3,
                      3,
                      2,
                      6,
                      0,
                      2,
                      2,
                      3,
                      4,
                      2,
                      6,
                      3,
                      3,
                      3,
                      3,
                      6,
                      2,
                      0,
                      4,
                      2,
                      6,
                      2,
                      2,
                      4,
                      2,
                      6,
                      2,
                      1,
                      1,
                      0,
                      0,
                      4,
                      3,
                      3,
                      4,
                      2,
                      2,
                      3,
                      3,
                      2,
                      0,
                      3,
                      6,
                      6,
                      4,
                      2,
                      3,
                      3,
                      2,
                      3,
                      3,
                      3,
                      2,
                      2,
                      3,
                      6,
                      2,
                      4,
                      1,
                      2,
                      3,
                      3,
                      6,
                      0,
                      3,
                      4,
                      6,
                      2,
                      3,
                      6,
                      4,
                      6,
                      2,
                      2,
                      2,
                      2,
                      2,
                      2,
                      2,
                      0,
                      0,
                      4,
                      4,
                      0,
                      0,
                      6,
                      3,
                      4,
                      2,
                      2,
                      0,
                      3,
                      4,
                      6,
                      0,
                      0,
                      3,
                      6,
                      2,
                      6,
                      2,
                      0,
                      4,
                      6,
                      6,
                      3,
                      2,
                      3,
                      2,
                      3,
                      0,
                      2,
                      5,
                      4,
                      6,
                      5,
                      1,
                      0,
                      6,
                      6,
                      6,
                      3,
                      0,
                      2,
                      6,
                      6,
                      2,
                      2,
                      2,
                      2,
                      2,
                      3,
                      2,
                      4,
                      6,
                      6,
                      3,
                      2,
                      2,
                      0,
                      2,
                      2,
                      3,
                      4,
                      1,
                      0,
                      4,
                      4,
                      0,
                      3,
                      4,
                      3,
                      0,
                      2,
                      0,
                      0,
                      0,
                      3,
                      3,
                      4,
                      2,
                      3,
                      3,
                      1,
                      2,
                      2,
                      2,
                      2,
                      3,
                      4,
                      0,
                      3,
                      4,
                      2,
                      2,
                      4,
                      6,
                      2,
                      3,
                      3,
                      4,
                      6,
                      0,
                      3,
                      2,
                      2,
                      0,
                      2,
                      6,
                      4,
                      2,
                      3,
                      0,
                      3,
                      1,
                      3,
                      2,
                      2,
                      2,
                      6,
                      1,
                      4,
                      5,
                      6,
                      2,
                      3,
                      3,
                      2,
                      6,
                      3,
                      5,
                      2,
                      2,
                      3,
                      1,
                      2,
                      1,
                      2,
                      1,
                      3,
                      6,
                      5,
                      2,
                      6,
                      2,
                      2,
                      0,
                      5,
                      1,
                      0,
                      0,
                      2,
                      6,
                      4,
                      0,
                      0,
                      1,
                      3,
                      4,
                      2,
                      0,
                      2,
                      3,
                      3,
                      3,
                      6,
                      5,
                      2,
                      2,
                      2,
                      2,
                      3,
                      0,
                      1,
                      6,
                      2,
                      3,
                      2,
                      0,
                      0,
                      3,
                      0,
                      3,
                      4,
                      0,
                      6,
                      1,
                      2,
                      2,
                      3,
                      2,
                      2,
                      3,
                      0,
                      0,
                      4,
                      0,
                      3,
                      6,
                      4,
                      0,
                      6,
                      1,
                      4,
                      2,
                      2,
                      0,
                      0,
                      2,
                      0,
                      5,
                      4,
                      0,
                      3,
                      2,
                      0,
                      0,
                      2,
                      4,
                      6,
                      0,
                      4,
                      5,
                      6,
                      4,
                      4,
                      6,
                      2,
                      0,
                      2,
                      2,
                      4,
                      2,
                      3,
                      1,
                      3,
                      0,
                      2,
                      0,
                      0,
                      1,
                      0,
                      3,
                      4,
                      0,
                      5,
                      1,
                      0,
                      0,
                      2,
                      6,
                      0,
                      5,
                      3,
                      4,
                      2,
                      1,
                      2,
                      0,
                      6,
                      2,
                      2,
                      5,
                      6,
                      2,
                      3,
                      0,
                      0,
                      0,
                      3,
                      0,
                      3,
                      0,
                      2,
                      6,
                      4,
                      3,
                      3,
                      1,
                      0,
                      2,
                      4,
                      5,
                      0,
                      4,
                      1,
                      4,
                      4,
                      4,
                      2,
                      2,
                      6,
                      6,
                      4,
                      2,
                      0,
                      5,
                      6,
                      1,
                      0,
                      4,
                      6,
                      2,
                      3,
                      4,
                      3,
                      0,
                      2,
                      3,
                      6,
                      4,
                      2,
                      2,
                      4,
                      1,
                      3,
                      4,
                      0,
                      2,
                      0,
                      2,
                      3,
                      0,
                      3,
                      2,
                      6,
                      2,
                      6,
                      0,
                      3,
                      2,
                      0,
                      0,
                      0,
                      3,
                      2,
                      3,
                      0,
                      4,
                      3,
                      6,
                      3,
                      4,
                      1,
                      0,
                      3,
                      0,
                      0,
                      3,
                      1,
                      4,
                      2,
                      6,
                      3,
                      3,
                      5,
                      0,
                      2,
                      3,
                      2,
                      2,
                      0,
                      6,
                      0,
                      2,
                      4,
                      4,
                      4,
                      3,
                      2,
                      2,
                      3,
                      0,
                      4,
                      3,
                      5,
                      5,
                      6,
                      3,
                      0,
                      2,
                      4,
                      4,
                      0,
                      0,
                      3,
                      2,
                      6,
                      6,
                      6,
                      3,
                      3,
                      4,
                      3,
                      1,
                      0,
                      2,
                      3,
                      2,
                      5,
                      6,
                      0,
                      4,
                      0,
                      2,
                      4,
                      3,
                      0,
                      0,
                      3,
                      3,
                      4,
                      2,
                      0,
                      4,
                      0,
                      0,
                      2,
                      0,
                      4,
                      2,
                      2,
                      0,
                      6,
                      1,
                      2,
                      3,
                      6,
                      2,
                      2,
                      5,
                      1,
                      2,
                      1,
                      6,
                      6,
                      2,
                      0,
                      3,
                      2,
                      2,
                      2,
                      2,
                      1,
                      0,
                      2,
                      6,
                      4,
                      5,
                      6,
                      4,
                      0,
                      0,
                      3,
                      3,
                      5,
                      6,
                      2,
                      3,
                      6,
                      2,
                      1,
                      5,
                      5,
                      2,
                      6,
                      4,
                      6,
                      4,
                      2,
                      4,
                      0,
                      3,
                      4,
                      4,
                      6,
                      2,
                      0,
                      6,
                      3,
                      0,
                      2,
                      2,
                      2,
                      2,
                      6,
                      4,
                      0,
                      3,
                      4,
                      2,
                      0,
                      6,
                      0,
                      0,
                      6,
                      0,
                      3,
                      2,
                      1,
                      0,
                      6,
                      6,
                      6,
                      6,
                      1,
                      2,
                      1,
                      6,
                      0,
                      2,
                      4,
                      6,
                      3,
                      5,
                      4,
                      5,
                      5,
                      4,
                      0,
                      2,
                      3,
                      2,
                      0,
                      3,
                      6,
                      5,
                      6,
                      3,
                      2,
                      2,
                      0,
                      3,
                      4,
                      2,
                      5,
                      2,
                      0,
                      6,
                      4,
                      2,
                      6,
                      2,
                      3,
                      0,
                      1,
                      2,
                      4,
                      2,
                      2,
                      5,
                      2,
                      0,
                      6,
                      6,
                      3,
                      3,
                      2,
                      3,
                      3,
                      1,
                      0,
                      6,
                      2,
                      1,
                      0,
                      4,
                      3,
                      2,
                      0,
                      2,
                      5,
                      0,
                      2,
                      1,
                      4,
                      2,
                      0,
                      2,
                      6,
                      0,
                      6,
                      0,
                      5,
                      6,
                      2,
                      1,
                      6,
                      2,
                      0,
                      4,
                      2,
                      3,
                      5,
                      0,
                      2,
                      3,
                      2,
                      0,
                      1,
                      6,
                      3,
                      4,
                      0,
                      3,
                      4,
                      3,
                      4,
                      1,
                      1,
                      3,
                      5,
                      0,
                      3,
                      0,
                      4,
                      1,
                      4,
                      2,
                      2,
                      2,
                      2,
                      6,
                      0,
                      6,
                      3,
                      3,
                      6,
                      3,
                      5,
                      0,
                      3,
                      2,
                      6,
                      3,
                      3,
                      4,
                      4,
                      4,
                      2,
                      0,
                      4,
                      0,
                      4,
                      2,
                      0,
                      3,
                      3,
                      0,
                      1,
                      2,
                      2,
                      6,
                      1,
                      2,
                      0,
                      2,
                      3,
                      6,
                      2,
                      2,
                      6,
                      6,
                      3,
                      6,
                      2,
                      3,
                      0,
                      0,
                      2,
                      0,
                      0,
                      6,
                      2,
                      2,
                      3,
                      0,
                      3,
                      0,
                      0,
                      2,
                      0,
                      0,
                      3,
                      6,
                      0,
                      2,
                      6,
                      3,
                      2,
                      4,
                      3,
                      4,
                      3,
                      2,
                      3,
                      2,
                      4,
                      6,
                      0,
                      4,
                      5,
                      6,
                      2,
                      1,
                      6,
                      3,
                      3,
                      0,
                      2,
                      3,
                      0,
                      1,
                      6,
                      3,
                      6,
                      0,
                      6,
                      0,
                      2,
                      0,
                      0,
                      4,
                      3,
                      4,
                      0,
                      3,
                      4,
                      1,
                      2,
                      0,
                      3,
                      2,
                      6,
                      5,
                      0,
                      5,
                      4,
                      0,
                      4,
                      0,
                      6,
                      3,
                      0,
                      6,
                      0,
                      6,
                      4,
                      0,
                      1,
                      2,
                      2,
                      5,
                      5,
                      0,
                      4,
                      4,
                      3,
                      4,
                      2,
                      0,
                      2,
                      3,
                      5,
                      0,
                      3,
                      0,
                      3,
                      0,
                      1,
                      0,
                      0,
                      4,
                      6,
                      2,
                      3,
                      6,
                      6,
                      3,
                      5,
                      1,
                      3,
                      5,
                      2,
                      3,
                      5,
                      2,
                      0,
                      0,
                      0,
                      0,
                      3,
                      2,
                      2,
                      3,
                      6,
                      1,
                      3,
                      5,
                      0,
                      6,
                      0,
                      0,
                      0,
                      0,
                      3,
                      6,
                      1,
                      2,
                      6,
                      2,
                      0,
                      3,
                      6,
                      2,
                      2,
                      6,
                      0,
                      2,
                      0,
                      3,
                      3,
                      0,
                      6,
                      0,
                      2,
                      3,
                      6,
                      2,
                      4,
                      6,
                      0,
                      5,
                      6,
                      1,
                      6,
                      5,
                      1,
                      6,
                      1,
                      3,
                      5,
                      5,
                      4,
                      3,
                      0,
                      2,
                      1,
                      3,
                      3,
                      5,
                      4,
                      5,
                      0,
                      3,
                      4,
                      6,
                      6,
                      0,
                      2,
                      0,
                      3,
                      6,
                      1,
                      6,
                      0,
                      0,
                      3,
                      4,
                      4,
                      1,
                      3,
                      4,
                      6,
                      2,
                      1,
                      0,
                      2,
                      2,
                      5,
                      2,
                      2,
                      0,
                      2,
                      3,
                      4,
                      0,
                      6,
                      0,
                      0,
                      6,
                      2,
                      4,
                      2,
                      2,
                      0,
                      6,
                      6,
                      4,
                      2,
                      0,
                      2,
                      0,
                      0,
                      3,
                      4,
                      1,
                      3,
                      6,
                      2,
                      3,
                      0,
                      3,
                      3,
                      4,
                      6,
                      0,
                      2,
                      1,
                      1,
                      3,
                      0,
                      0,
                      6,
                      4,
                      4,
                      0,
                      5,
                      1,
                      1,
                      5,
                      3,
                      4,
                      2,
                      2,
                      1,
                      3,
                      4,
                      2,
                      6,
                      5,
                      2,
                      2,
                      2,
                      2,
                      5,
                      0,
                      0,
                      4,
                      6,
                      2,
                      2,
                      0,
                      3,
                      2,
                      0,
                      5,
                      1,
                      3,
                      2,
                      3,
                      3,
                      3,
                      1,
                      0,
                      0,
                      0,
                      4,
                      5,
                      6,
                      1,
                      6,
                      1,
                      2,
                      0,
                      5,
                      6,
                      2,
                      4,
                      0,
                      0,
                      0,
                      1,
                      0,
                      6,
                      6,
                      6,
                      6,
                      2,
                      6,
                      6,
                      6,
                      4,
                      3,
                      0,
                      2,
                      5,
                      1,
                      0,
                      3,
                      1,
                      1,
                      5,
                      4,
                      1,
                      5,
                      0,
                      0,
                      5,
                      6,
                      6,
                      3,
                      0,
                      1,
                      4,
                      4,
                      0,
                      6,
                      6,
                      6,
                      6,
                      5,
                      3,
                      4,
                      3,
                      4,
                      4,
                      1,
                      0,
                      2,
                      2,
                      0,
                      3,
                      6,
                      6,
                      2,
                      2,
                      2,
                      3,
                      4,
                      0,
                      2,
                      6,
                      4,
                      5,
                      1,
                      2,
                      1,
                      4,
                      0,
                      0,
                      5,
                      3,
                      5,
                      0,
                      4,
                      1,
                      1,
                      6,
                      0,
                      0,
                      0,
                      6,
                      1,
                      2,
                      6,
                      2,
                      2,
                      6,
                      3,
                      3,
                      4,
                      0,
                      5,
                      4,
                      0,
                      6,
                      1,
                      4,
                      2,
                      0,
                      0,
                      5,
                      4,
                      5,
                      0,
                      6,
                      6,
                      6,
                      2,
                      1,
                      6,
                      6,
                      1,
                      2,
                      3,
                      4,
                      3,
                      0,
                      5,
                      1,
                      6,
                      5,
                      0,
                      0,
                      5,
                      6,
                      3,
                      1,
                      5,
                      5,
                      0,
                      1,
                      1,
                      0,
                      6,
                      0,
                      5,
                      2,
                      0,
                      2,
                      6,
                      5,
                      5,
                      5,
                      0,
                      0,
                      0,
                      0,
                      1,
                      3,
                      1,
                      5,
                      6,
                      1,
                      4,
                      2,
                      1,
                      6,
                      3,
                      0,
                      5,
                      6,
                      0,
                      6,
                      2,
                      6,
                      1,
                      4,
                      1,
                      5,
                      5,
                      1,
                      5,
                      1,
                      1,
                      3,
                      4,
                      5,
                      2,
                      6,
                      2,
                      3,
                      4,
                      6,
                      1,
                      0,
                      4,
                      6,
                      2,
                      6,
                      0,
                      4,
                      0,
                      6,
                      2,
                      6,
                      2,
                      2,
                      1,
                      5,
                      4,
                      0,
                      0,
                      5,
                      4,
                      0,
                      1,
                      3,
                      5,
                      3,
                      3,
                      1,
                      1,
                      5,
                      4,
                      2,
                      2,
                      2,
                      2,
                      2,
                      2,
                      2,
                      4,
                      4,
                      4,
                      1,
                      6,
                      1,
                      1,
                      1,
                      2,
                      6,
                      0,
                      6,
                      0,
                      6,
                      0,
                      0,
                      5,
                      0,
                      0,
                      2,
                      4,
                      4,
                      6,
                      6,
                      0,
                      0,
                      0,
                      6,
                      4,
                      4,
                      5,
                      0,
                      5,
                      5,
                      5,
                      5,
                      5,
                      5,
                      0,
                      6,
                      6,
                      5,
                      6,
                      2,
                      0,
                      2,
                      1,
                      1,
                      1,
                      6,
                      5,
                      5,
                      5,
                      1,
                      6,
                      6,
                      1,
                      4,
                      6,
                      3,
                      6,
                      2,
                      6,
                      4,
                      4,
                      1,
                      2,
                      1,
                      3,
                      6,
                      3,
                      1,
                      6,
                      3,
                      3,
                      1,
                      5,
                      2,
                      3,
                      2,
                      4,
                      1,
                      5,
                      1,
                      6,
                      1,
                      2,
                      0,
                      0,
                      6,
                      6,
                      6,
                      2,
                      1,
                      6,
                      5,
                      0,
                      2,
                      2,
                      5,
                      0,
                      0,
                      0,
                      3,
                      6,
                      0,
                      3,
                      0,
                      1,
                      6,
                      6,
                      6,
                      6,
                      6,
                      0,
                      6,
                      1,
                      5,
                      2,
                      5,
                      3,
                      5,
                      5,
                      1,
                      0,
                      5,
                      5,
                      0,
                      5,
                      5,
                      5,
                      0,
                      5,
                      5,
                      3,
                      5,
                      5,
                      5,
                      3,
                      5,
                      0,
                      3,
                      5,
                      5,
                      5,
                      3,
                      5,
                      5,
                      0,
                      5,
                      5,
                      6,
                      5,
                      5,
                      5,
                      2,
                      0,
                      5,
                      4,
                      5,
                      5,
                      0,
                      5,
                      2,
                      5,
                      3,
                      5,
                      5,
                      3,
                      5,
                      3,
                      3,
                      5,
                      5,
                      5,
                      3,
                      1,
                      5,
                      0,
                      5,
                      5,
                      5,
                      5,
                      5,
                      5,
                      5,
                      5,
                      5,
                      4,
                      1,
                      6,
                      2,
                      0,
                      2,
                      4,
                      4,
                      5,
                      5,
                      5,
                      3,
                      3,
                      5,
                      3,
                      5,
                      0,
                      5,
                      0,
                      0,
                      5,
                      0,
                      5,
                      0,
                      5,
                      5,
                      5,
                      4,
                      1,
                      0,
                      0,
                      1,
                      3,
                      0,
                      5,
                      0,
                      5,
                      3,
                      0,
                      0,
                      4,
                      5,
                      5,
                      5,
                      5,
                      4,
                      2,
                      0,
                      1,
                      0,
                      5,
                      5,
                      5,
                      5,
                      6,
                      5,
                      6,
                      6,
                      6,
                      6,
                      0,
                      6,
                      6,
                      2,
                      6,
                      6,
                      6,
                      5,
                      6,
                      2,
                      5,
                      0,
                      6,
                      2,
                      5,
                      3,
                      6,
                      6,
                      2,
                      3,
                      6,
                      6,
                      1,
                      6,
                      1,
                      2,
                      6,
                      2,
                      6,
                      1,
                      6,
                      6,
                      2,
                      2,
                      2,
                      6,
                      2,
                      0,
                      2,
                      5,
                      1,
                      5,
                      3,
                      1,
                      3,
                      2,
                      2,
                      1,
                      3,
                      2,
                      6,
                      6,
                      4,
                      5,
                      1,
                      1,
                      6,
                      3,
                      6,
                      6,
                      4,
                      3,
                      4,
                      0,
                      5,
                      0,
                      0,
                      5,
                      5,
                      5,
                      5,
                      5,
                      5,
                      5,
                      5,
                      5,
                      0,
                      1,
                      5,
                      3,
                      6,
                      1,
                      5,
                      1,
                      0,
                      6,
                      6,
                      6,
                      1,
                      5,
                      0,
                      4,
                      6,
                      1,
                      2,
                      3,
                      2,
                      2,
                      6,
                      2,
                      0,
                      5,
                      0,
                      6,
                      0,
                      0,
                      2,
                      2,
                      6,
                      5,
                      0,
                      5,
                      5,
                      5,
                      5,
                      5,
                      5,
                      5,
                      5,
                      5,
                      5,
                      3,
                      1,
                      5,
                      6,
                      5,
                      3,
                      1,
                      6,
                      5,
                      6,
                      0,
                      6,
                      6,
                      4,
                      4,
                      5,
                      6,
                      6,
                      6,
                      1,
                      6,
                      1,
                      6,
                      6,
                      6,
                      1,
                      6,
                      6,
                      6,
                      6,
                      6,
                      6,
                      3,
                      5,
                      4,
                      1,
                      5,
                      0,
                      0,
                      1,
                      6,
                      0,
                      0,
                      1,
                      0,
                      1,
                      1,
                      1,
                      1,
                      1,
                      1,
                      1,
                      0,
                      0,
                      3,
                      6,
                      5,
                      6,
                      5,
                      6,
                      0,
                      6,
                      6,
                      5,
                      5,
                      5,
                      5,
                      6,
                      5,
                      6,
                      5,
                      0,
                      0,
                      5,
                      2,
                      5,
                      0,
                      0,
                      0,
                      0,
                      2,
                      2,
                      4,
                      6,
                      6,
                      2,
                      2,
                      2,
                      4,
                      4,
                      4,
                      6,
                      0,
                      6,
                      1,
                      0,
                      0,
                      5,
                      0,
                      0,
                      1,
                      5,
                      6,
                      6,
                      6,
                      6,
                      6,
                      0,
                      0,
                      6,
                      6,
                      6,
                      6,
                      6,
                      5,
                      1,
                      3,
                      1,
                      0,
                      0,
                      6,
                      6,
                      6,
                      6,
                      6,
                      6,
                      6,
                      5,
                      1,
                      1,
                      1,
                      3,
                      1,
                      1,
                      1,
                      1,
                      4,
                      1,
                      3,
                      4,
                      4,
                      4,
                      1,
                      1,
                      1,
                      6,
                      2,
                      6,
                      6,
                      6,
                      1,
                      1,
                      1,
                      1,
                      6,
                      3,
                      6,
                      6,
                      2,
                      4,
                      4,
                      6,
                      6,
                      2,
                      2,
                      2,
                      2,
                      6,
                      6,
                      6,
                      4,
                      6,
                      3,
                      6,
                      6,
                      6,
                      6,
                      2,
                      2,
                      2,
                      2,
                      2,
                      6,
                      3,
                      4,
                      4,
                      4,
                      4,
                      4,
                      4,
                      4,
                      4,
                      4,
                      4,
                      5,
                      5,
                      5,
                      5,
                      5,
                      5,
                      5,
                      0,
                      0,
                      6,
                      0,
                      5,
                      5,
                      5,
                      0,
                      0,
                      6,
                      5,
                      5,
                      6,
                      5,
                      5,
                      0,
                      5,
                      5,
                      5,
                      1,
                      5,
                      6,
                      5,
                      5,
                      0,
                      5,
                      5,
                      5,
                      5,
                      5,
                      5,
                      5,
                      5,
                      5,
                      5,
                      5,
                      0,
                      0,
                      6,
                      5,
                      5,
                      5,
                      5,
                      5,
                      5,
                      5
                    ],
                    "coloraxis": "coloraxis",
                    "size": [
                      12973,
                      12347,
                      6920,
                      6279,
                      6137,
                      6079,
                      5993,
                      5942,
                      5807,
                      5223,
                      5207,
                      4623,
                      4585,
                      4306,
                      4096,
                      3990,
                      3914,
                      3825,
                      3821,
                      3637,
                      3545,
                      3544,
                      3525,
                      3522,
                      3411,
                      3377,
                      3370,
                      3296,
                      3228,
                      3067,
                      3041,
                      2987,
                      2968,
                      2918,
                      2886,
                      2873,
                      2851,
                      2803,
                      2803,
                      2677,
                      2643,
                      2604,
                      2452,
                      2372,
                      2357,
                      2336,
                      2261,
                      2245,
                      2145,
                      2110,
                      2058,
                      2044,
                      2021,
                      2008,
                      1998,
                      1996,
                      1985,
                      1949,
                      1853,
                      1850,
                      1838,
                      1819,
                      1736,
                      1702,
                      1690,
                      1689,
                      1617,
                      1614,
                      1599,
                      1595,
                      1584,
                      1577,
                      1502,
                      1471,
                      1462,
                      1450,
                      1439,
                      1433,
                      1430,
                      1394,
                      1360,
                      1349,
                      1335,
                      1254,
                      1230,
                      1218,
                      1207,
                      1197,
                      1193,
                      1192,
                      1191,
                      1187,
                      1167,
                      1159,
                      1155,
                      1150,
                      1146,
                      1146,
                      1141,
                      1133,
                      1112,
                      1108,
                      1104,
                      1102,
                      1082,
                      1070,
                      1066,
                      1065,
                      1064,
                      1052,
                      1048,
                      1047,
                      1047,
                      1037,
                      1026,
                      1026,
                      1022,
                      1010,
                      991,
                      977,
                      962,
                      948,
                      944,
                      937,
                      910,
                      899,
                      899,
                      897,
                      891,
                      885,
                      878,
                      870,
                      867,
                      865,
                      860,
                      857,
                      845,
                      843,
                      841,
                      835,
                      831,
                      828,
                      825,
                      822,
                      817,
                      815,
                      811,
                      811,
                      808,
                      805,
                      793,
                      792,
                      789,
                      788,
                      779,
                      771,
                      765,
                      765,
                      757,
                      755,
                      754,
                      754,
                      750,
                      746,
                      743,
                      738,
                      730,
                      728,
                      726,
                      723,
                      722,
                      706,
                      693,
                      690,
                      662,
                      657,
                      653,
                      650,
                      635,
                      631,
                      615,
                      603,
                      602,
                      601,
                      597,
                      588,
                      584,
                      575,
                      570,
                      569,
                      563,
                      562,
                      560,
                      556,
                      554,
                      549,
                      543,
                      540,
                      535,
                      534,
                      534,
                      534,
                      529,
                      527,
                      525,
                      525,
                      521,
                      518,
                      511,
                      509,
                      509,
                      502,
                      501,
                      499,
                      498,
                      491,
                      489,
                      487,
                      485,
                      483,
                      483,
                      480,
                      478,
                      478,
                      477,
                      469,
                      463,
                      462,
                      458,
                      457,
                      454,
                      454,
                      450,
                      446,
                      446,
                      444,
                      443,
                      442,
                      438,
                      436,
                      424,
                      421,
                      419,
                      418,
                      413,
                      412,
                      411,
                      409,
                      400,
                      398,
                      394,
                      393,
                      390,
                      385,
                      377,
                      372,
                      371,
                      369,
                      369,
                      359,
                      358,
                      357,
                      350,
                      349,
                      349,
                      338,
                      335,
                      334,
                      333,
                      328,
                      326,
                      324,
                      321,
                      319,
                      316,
                      314,
                      313,
                      312,
                      311,
                      310,
                      304,
                      303,
                      303,
                      302,
                      301,
                      300,
                      295,
                      292,
                      291,
                      290,
                      290,
                      289,
                      288,
                      288,
                      279,
                      272,
                      271,
                      268,
                      268,
                      263,
                      262,
                      262,
                      256,
                      256,
                      253,
                      252,
                      252,
                      250,
                      245,
                      244,
                      242,
                      242,
                      240,
                      239,
                      237,
                      236,
                      234,
                      233,
                      229,
                      228,
                      225,
                      221,
                      220,
                      220,
                      219,
                      219,
                      218,
                      218,
                      215,
                      215,
                      214,
                      212,
                      210,
                      209,
                      207,
                      206,
                      205,
                      205,
                      204,
                      203,
                      200,
                      198,
                      198,
                      198,
                      197,
                      195,
                      194,
                      193,
                      193,
                      193,
                      192,
                      190,
                      188,
                      188,
                      186,
                      186,
                      184,
                      182,
                      181,
                      180,
                      180,
                      179,
                      179,
                      175,
                      174,
                      173,
                      172,
                      172,
                      172,
                      172,
                      171,
                      170,
                      169,
                      169,
                      169,
                      164,
                      164,
                      163,
                      163,
                      161,
                      161,
                      157,
                      154,
                      153,
                      153,
                      152,
                      152,
                      151,
                      151,
                      150,
                      148,
                      148,
                      146,
                      146,
                      146,
                      144,
                      143,
                      143,
                      143,
                      142,
                      140,
                      140,
                      140,
                      140,
                      139,
                      139,
                      138,
                      138,
                      138,
                      138,
                      136,
                      136,
                      136,
                      133,
                      133,
                      131,
                      130,
                      130,
                      128,
                      128,
                      128,
                      124,
                      124,
                      123,
                      123,
                      123,
                      122,
                      122,
                      122,
                      121,
                      121,
                      121,
                      121,
                      119,
                      119,
                      118,
                      118,
                      117,
                      117,
                      117,
                      116,
                      115,
                      115,
                      114,
                      114,
                      113,
                      112,
                      112,
                      112,
                      111,
                      111,
                      109,
                      108,
                      108,
                      107,
                      107,
                      107,
                      106,
                      106,
                      105,
                      105,
                      105,
                      105,
                      105,
                      105,
                      103,
                      102,
                      102,
                      102,
                      100,
                      100,
                      100,
                      99,
                      98,
                      97,
                      97,
                      94,
                      94,
                      93,
                      92,
                      90,
                      90,
                      90,
                      89,
                      89,
                      89,
                      88,
                      88,
                      87,
                      87,
                      87,
                      87,
                      87,
                      87,
                      86,
                      86,
                      86,
                      85,
                      85,
                      84,
                      84,
                      84,
                      84,
                      84,
                      83,
                      83,
                      83,
                      82,
                      82,
                      81,
                      80,
                      80,
                      79,
                      79,
                      79,
                      79,
                      79,
                      79,
                      78,
                      78,
                      78,
                      78,
                      78,
                      78,
                      76,
                      75,
                      75,
                      74,
                      74,
                      74,
                      73,
                      72,
                      72,
                      72,
                      71,
                      71,
                      70,
                      70,
                      70,
                      70,
                      69,
                      69,
                      69,
                      69,
                      68,
                      68,
                      68,
                      68,
                      68,
                      67,
                      67,
                      67,
                      66,
                      66,
                      65,
                      65,
                      65,
                      65,
                      64,
                      64,
                      63,
                      63,
                      63,
                      62,
                      62,
                      62,
                      62,
                      61,
                      60,
                      60,
                      60,
                      59,
                      59,
                      59,
                      59,
                      58,
                      58,
                      58,
                      58,
                      58,
                      56,
                      56,
                      56,
                      55,
                      54,
                      53,
                      53,
                      53,
                      53,
                      53,
                      53,
                      53,
                      53,
                      53,
                      52,
                      52,
                      52,
                      52,
                      51,
                      51,
                      51,
                      50,
                      50,
                      50,
                      50,
                      49,
                      49,
                      49,
                      49,
                      49,
                      49,
                      49,
                      49,
                      48,
                      48,
                      48,
                      48,
                      48,
                      47,
                      47,
                      47,
                      47,
                      47,
                      47,
                      47,
                      47,
                      46,
                      46,
                      45,
                      45,
                      45,
                      45,
                      45,
                      45,
                      44,
                      44,
                      44,
                      44,
                      44,
                      44,
                      43,
                      43,
                      42,
                      42,
                      42,
                      42,
                      42,
                      42,
                      42,
                      42,
                      42,
                      41,
                      41,
                      41,
                      41,
                      41,
                      40,
                      40,
                      40,
                      39,
                      39,
                      39,
                      39,
                      39,
                      39,
                      39,
                      38,
                      38,
                      38,
                      38,
                      38,
                      38,
                      38,
                      37,
                      37,
                      37,
                      37,
                      37,
                      37,
                      37,
                      36,
                      36,
                      36,
                      36,
                      36,
                      36,
                      36,
                      36,
                      36,
                      36,
                      36,
                      36,
                      36,
                      36,
                      36,
                      35,
                      35,
                      35,
                      35,
                      35,
                      35,
                      35,
                      35,
                      35,
                      34,
                      34,
                      34,
                      34,
                      34,
                      34,
                      34,
                      34,
                      34,
                      34,
                      34,
                      34,
                      34,
                      33,
                      33,
                      33,
                      33,
                      33,
                      33,
                      33,
                      33,
                      32,
                      32,
                      32,
                      32,
                      32,
                      32,
                      31,
                      31,
                      31,
                      31,
                      31,
                      31,
                      31,
                      31,
                      31,
                      31,
                      31,
                      31,
                      30,
                      30,
                      30,
                      30,
                      30,
                      30,
                      30,
                      30,
                      30,
                      30,
                      30,
                      29,
                      29,
                      29,
                      29,
                      28,
                      28,
                      28,
                      28,
                      28,
                      28,
                      28,
                      27,
                      27,
                      27,
                      27,
                      27,
                      27,
                      27,
                      27,
                      27,
                      27,
                      27,
                      27,
                      26,
                      26,
                      26,
                      26,
                      26,
                      26,
                      26,
                      25,
                      25,
                      25,
                      25,
                      25,
                      25,
                      25,
                      25,
                      25,
                      25,
                      25,
                      25,
                      25,
                      24,
                      24,
                      24,
                      24,
                      24,
                      24,
                      24,
                      24,
                      24,
                      24,
                      24,
                      24,
                      23,
                      23,
                      23,
                      23,
                      23,
                      23,
                      23,
                      23,
                      23,
                      23,
                      23,
                      22,
                      22,
                      22,
                      22,
                      22,
                      22,
                      22,
                      22,
                      22,
                      22,
                      22,
                      22,
                      22,
                      21,
                      21,
                      21,
                      21,
                      21,
                      21,
                      21,
                      21,
                      20,
                      20,
                      20,
                      20,
                      20,
                      20,
                      20,
                      20,
                      19,
                      19,
                      19,
                      19,
                      19,
                      19,
                      19,
                      19,
                      19,
                      19,
                      19,
                      19,
                      19,
                      19,
                      18,
                      18,
                      18,
                      18,
                      18,
                      18,
                      18,
                      18,
                      18,
                      18,
                      18,
                      18,
                      17,
                      17,
                      17,
                      17,
                      17,
                      17,
                      17,
                      17,
                      17,
                      17,
                      17,
                      17,
                      17,
                      16,
                      16,
                      16,
                      16,
                      16,
                      16,
                      16,
                      16,
                      16,
                      16,
                      15,
                      15,
                      15,
                      15,
                      15,
                      15,
                      15,
                      15,
                      15,
                      15,
                      15,
                      15,
                      15,
                      15,
                      15,
                      14,
                      14,
                      14,
                      14,
                      14,
                      14,
                      14,
                      14,
                      14,
                      14,
                      14,
                      14,
                      14,
                      14,
                      14,
                      14,
                      13,
                      13,
                      13,
                      13,
                      13,
                      13,
                      13,
                      13,
                      13,
                      13,
                      13,
                      13,
                      13,
                      13,
                      13,
                      13,
                      13,
                      13,
                      13,
                      13,
                      12,
                      12,
                      12,
                      12,
                      12,
                      12,
                      12,
                      12,
                      12,
                      12,
                      12,
                      12,
                      12,
                      12,
                      12,
                      12,
                      12,
                      12,
                      12,
                      12,
                      12,
                      12,
                      11,
                      11,
                      11,
                      11,
                      11,
                      11,
                      11,
                      11,
                      11,
                      11,
                      11,
                      11,
                      11,
                      11,
                      11,
                      11,
                      10,
                      10,
                      10,
                      10,
                      10,
                      10,
                      10,
                      10,
                      10,
                      10,
                      10,
                      10,
                      10,
                      10,
                      10,
                      10,
                      10,
                      10,
                      10,
                      10,
                      9,
                      9,
                      9,
                      9,
                      9,
                      9,
                      9,
                      9,
                      9,
                      9,
                      9,
                      9,
                      9,
                      9,
                      9,
                      9,
                      9,
                      9,
                      9,
                      9,
                      9,
                      9,
                      8,
                      8,
                      8,
                      8,
                      8,
                      8,
                      8,
                      8,
                      8,
                      8,
                      8,
                      8,
                      8,
                      8,
                      8,
                      8,
                      8,
                      8,
                      8,
                      8,
                      8,
                      8,
                      8,
                      8,
                      8,
                      8,
                      8,
                      8,
                      8,
                      8,
                      7,
                      7,
                      7,
                      7,
                      7,
                      7,
                      7,
                      7,
                      7,
                      7,
                      7,
                      7,
                      7,
                      7,
                      7,
                      7,
                      7,
                      7,
                      7,
                      7,
                      7,
                      7,
                      7,
                      7,
                      7,
                      7,
                      7,
                      7,
                      7,
                      6,
                      6,
                      6,
                      6,
                      6,
                      6,
                      6,
                      6,
                      6,
                      6,
                      6,
                      6,
                      6,
                      6,
                      6,
                      6,
                      6,
                      6,
                      6,
                      6,
                      6,
                      6,
                      6,
                      6,
                      6,
                      6,
                      6,
                      6,
                      6,
                      6,
                      6,
                      6,
                      6,
                      5,
                      5,
                      5,
                      5,
                      5,
                      5,
                      5,
                      5,
                      5,
                      5,
                      5,
                      5,
                      5,
                      5,
                      5,
                      5,
                      5,
                      5,
                      5,
                      5,
                      5,
                      5,
                      5,
                      5,
                      5,
                      5,
                      5,
                      5,
                      5,
                      5,
                      5,
                      5,
                      5,
                      5,
                      5,
                      5,
                      5,
                      5,
                      5,
                      5,
                      5,
                      5,
                      5,
                      5,
                      5,
                      5,
                      5,
                      5,
                      5,
                      5,
                      5,
                      5,
                      5,
                      5,
                      4,
                      4,
                      4,
                      4,
                      4,
                      4,
                      4,
                      4,
                      4,
                      4,
                      4,
                      4,
                      4,
                      4,
                      4,
                      4,
                      4,
                      4,
                      4,
                      4,
                      4,
                      4,
                      4,
                      4,
                      4,
                      4,
                      4,
                      4,
                      4,
                      4,
                      4,
                      4,
                      4,
                      4,
                      4,
                      4,
                      4,
                      4,
                      4,
                      4,
                      4,
                      4,
                      4,
                      4,
                      4,
                      4,
                      4,
                      4,
                      3,
                      3,
                      3,
                      3,
                      3,
                      3,
                      3,
                      3,
                      3,
                      3,
                      3,
                      3,
                      3,
                      3,
                      3,
                      3,
                      3,
                      3,
                      3,
                      3,
                      3,
                      3,
                      3,
                      3,
                      3,
                      3,
                      3,
                      3,
                      3,
                      3,
                      3,
                      3,
                      3,
                      3,
                      3,
                      3,
                      3,
                      3,
                      3,
                      3,
                      3,
                      3,
                      3,
                      3,
                      3,
                      3,
                      3,
                      3,
                      3,
                      3,
                      3,
                      3,
                      3,
                      3,
                      3,
                      3,
                      2,
                      2,
                      2,
                      2,
                      2,
                      2,
                      2,
                      2,
                      2,
                      2,
                      2,
                      2,
                      2,
                      2,
                      2,
                      2,
                      2,
                      2,
                      2,
                      2,
                      2,
                      2,
                      2,
                      2,
                      2,
                      2,
                      2,
                      2,
                      2,
                      2,
                      2,
                      2,
                      2,
                      2,
                      2,
                      2,
                      2,
                      2,
                      2,
                      2,
                      2,
                      2,
                      2,
                      2,
                      2,
                      2,
                      2,
                      2,
                      2,
                      2,
                      2,
                      2,
                      2,
                      2,
                      2,
                      2,
                      2,
                      2,
                      2,
                      2,
                      2,
                      2,
                      2,
                      2,
                      2,
                      2,
                      2,
                      2,
                      2,
                      2,
                      2,
                      2,
                      2,
                      2,
                      2,
                      2,
                      1,
                      1,
                      1,
                      1,
                      1,
                      1,
                      1,
                      1,
                      1,
                      1,
                      1,
                      1,
                      1,
                      1,
                      1,
                      1,
                      1,
                      1,
                      1,
                      1,
                      1,
                      1,
                      1,
                      1,
                      1,
                      1,
                      1,
                      1,
                      1,
                      1,
                      1,
                      1,
                      1,
                      1,
                      1,
                      1,
                      1,
                      1,
                      1,
                      1,
                      1,
                      1,
                      1,
                      1,
                      1,
                      1,
                      1,
                      1,
                      1,
                      1,
                      1,
                      1,
                      1,
                      1,
                      1,
                      1,
                      1,
                      1,
                      1,
                      1,
                      1,
                      1,
                      1,
                      1,
                      1,
                      1,
                      1,
                      1,
                      1,
                      1,
                      1,
                      1,
                      1,
                      1,
                      1,
                      1,
                      1,
                      1,
                      1,
                      1,
                      1,
                      1,
                      1,
                      1,
                      1,
                      1,
                      1,
                      1,
                      1,
                      1,
                      1,
                      1,
                      1,
                      1,
                      1,
                      1,
                      1,
                      1,
                      1,
                      1,
                      1,
                      1,
                      1,
                      1,
                      1,
                      1,
                      1,
                      1,
                      1,
                      1,
                      1,
                      1,
                      1,
                      1,
                      1,
                      1,
                      1,
                      1,
                      1,
                      1,
                      1,
                      1,
                      1,
                      1,
                      1,
                      1,
                      1,
                      1,
                      1,
                      1,
                      1,
                      1,
                      1,
                      1,
                      1,
                      1,
                      1,
                      1,
                      1,
                      1,
                      1,
                      1,
                      1,
                      1,
                      0,
                      0,
                      0,
                      0,
                      0,
                      0,
                      0,
                      0,
                      0,
                      0,
                      0,
                      0,
                      0,
                      0,
                      0,
                      0,
                      0,
                      0,
                      0,
                      0,
                      0,
                      0,
                      0,
                      0,
                      0,
                      0,
                      0,
                      0,
                      0,
                      0,
                      0,
                      0,
                      0,
                      0,
                      0,
                      0,
                      0,
                      0,
                      0,
                      0,
                      0,
                      0,
                      0,
                      0,
                      0,
                      0,
                      0,
                      0,
                      0,
                      0,
                      0,
                      0,
                      0,
                      0,
                      0,
                      0,
                      0,
                      0,
                      0,
                      0,
                      0,
                      0,
                      0,
                      0,
                      0,
                      0,
                      0,
                      0,
                      0,
                      0,
                      0,
                      0,
                      0,
                      0,
                      0,
                      0,
                      0,
                      0,
                      0,
                      0,
                      0,
                      0,
                      0,
                      0,
                      0,
                      0,
                      0,
                      0,
                      0,
                      0,
                      0,
                      0,
                      0,
                      0,
                      0,
                      0,
                      0,
                      0,
                      0,
                      0,
                      0,
                      0,
                      0,
                      0,
                      0,
                      0,
                      0,
                      0,
                      0,
                      0,
                      0,
                      0,
                      0,
                      0,
                      0,
                      0,
                      0,
                      0,
                      0,
                      0,
                      0,
                      0,
                      0,
                      0,
                      0,
                      0,
                      0,
                      0,
                      0,
                      0,
                      0,
                      0,
                      0,
                      0,
                      0,
                      0,
                      0,
                      0,
                      0,
                      0,
                      0,
                      0,
                      0,
                      0,
                      0,
                      0,
                      0,
                      0,
                      0,
                      0,
                      0,
                      0,
                      0,
                      0,
                      0,
                      0,
                      0,
                      0,
                      0,
                      0,
                      0,
                      0,
                      0,
                      0,
                      0,
                      0,
                      0,
                      0,
                      0,
                      0,
                      0,
                      0,
                      0,
                      0,
                      0,
                      0,
                      0,
                      0,
                      0,
                      0,
                      0,
                      0,
                      0,
                      0,
                      0,
                      0,
                      0,
                      0,
                      0,
                      0,
                      0,
                      0,
                      0,
                      0,
                      0,
                      0,
                      0,
                      0,
                      0,
                      0,
                      0,
                      0,
                      0,
                      0,
                      0,
                      0,
                      0,
                      0,
                      0,
                      0,
                      0,
                      0,
                      0,
                      0,
                      0,
                      0,
                      0,
                      0,
                      0,
                      0,
                      0,
                      0,
                      0,
                      0,
                      0,
                      0,
                      0,
                      0,
                      0,
                      0,
                      0,
                      0,
                      0,
                      0,
                      0,
                      0,
                      0,
                      0,
                      0,
                      0,
                      0,
                      0,
                      0,
                      0,
                      0,
                      0,
                      0,
                      0,
                      0,
                      0,
                      0,
                      0,
                      0,
                      0,
                      0,
                      0,
                      0,
                      0,
                      0,
                      0,
                      0,
                      0,
                      0,
                      0,
                      0,
                      0,
                      0,
                      0,
                      0,
                      0,
                      0,
                      0,
                      0,
                      0,
                      0,
                      0,
                      0,
                      0,
                      0,
                      0,
                      0,
                      0,
                      0,
                      0,
                      0,
                      0,
                      0,
                      0,
                      0,
                      0,
                      0,
                      0,
                      0,
                      0,
                      0,
                      0,
                      0,
                      0,
                      0,
                      0,
                      0,
                      0,
                      0,
                      0,
                      0,
                      0,
                      0,
                      0,
                      0,
                      0,
                      0,
                      0,
                      0,
                      0,
                      0,
                      0,
                      0,
                      0,
                      0,
                      0,
                      0,
                      0,
                      0,
                      0,
                      0,
                      0,
                      0,
                      0,
                      0,
                      0,
                      0,
                      0,
                      0,
                      0,
                      0,
                      0,
                      0,
                      0,
                      0,
                      0,
                      0,
                      0,
                      0,
                      0,
                      0,
                      0,
                      0,
                      0,
                      0,
                      0,
                      0,
                      0,
                      0,
                      0,
                      0,
                      0,
                      0,
                      0,
                      0,
                      0,
                      0,
                      0,
                      0,
                      0,
                      0,
                      0,
                      0,
                      0,
                      0,
                      0,
                      0,
                      0,
                      0,
                      0,
                      0,
                      0,
                      0,
                      0,
                      0,
                      0,
                      0,
                      0,
                      0,
                      0,
                      0,
                      0,
                      0,
                      0,
                      0,
                      0,
                      0,
                      0,
                      0,
                      0,
                      0,
                      0,
                      0,
                      0,
                      0,
                      0,
                      0,
                      0,
                      0,
                      0,
                      0,
                      0,
                      0,
                      0,
                      0,
                      0,
                      0,
                      0,
                      0,
                      0,
                      0,
                      0,
                      0,
                      0,
                      0,
                      0,
                      0,
                      0,
                      0,
                      0,
                      0,
                      0,
                      0,
                      0,
                      0,
                      0,
                      0,
                      0,
                      0,
                      0,
                      0,
                      0,
                      0,
                      0,
                      0,
                      0,
                      0,
                      0,
                      0,
                      0,
                      0,
                      0,
                      0,
                      0,
                      0,
                      0,
                      0,
                      0,
                      0,
                      0,
                      0,
                      0,
                      0,
                      0,
                      0,
                      0,
                      0,
                      0,
                      0,
                      0,
                      0,
                      0,
                      0,
                      0,
                      0,
                      0,
                      0,
                      0,
                      0,
                      0,
                      0,
                      0,
                      0,
                      0,
                      0,
                      0,
                      0,
                      0,
                      0,
                      0,
                      0,
                      0,
                      0,
                      0,
                      0,
                      0,
                      0,
                      0,
                      0,
                      0,
                      0,
                      0
                    ],
                    "sizemode": "area",
                    "sizeref": 32.4325
                  },
                  "mode": "markers",
                  "name": "",
                  "showlegend": false,
                  "subplot": "mapbox",
                  "type": "scattermapbox"
                }
              ],
              "layout": {
                "coloraxis": {
                  "colorbar": {
                    "title": {
                      "text": "cluster"
                    }
                  },
                  "colorscale": [
                    [
                      0,
                      "#0d0887"
                    ],
                    [
                      0.1111111111111111,
                      "#46039f"
                    ],
                    [
                      0.2222222222222222,
                      "#7201a8"
                    ],
                    [
                      0.3333333333333333,
                      "#9c179e"
                    ],
                    [
                      0.4444444444444444,
                      "#bd3786"
                    ],
                    [
                      0.5555555555555556,
                      "#d8576b"
                    ],
                    [
                      0.6666666666666666,
                      "#ed7953"
                    ],
                    [
                      0.7777777777777778,
                      "#fb9f3a"
                    ],
                    [
                      0.8888888888888888,
                      "#fdca26"
                    ],
                    [
                      1,
                      "#f0f921"
                    ]
                  ]
                },
                "height": 800,
                "legend": {
                  "itemsizing": "constant",
                  "tracegroupgap": 0
                },
                "mapbox": {
                  "center": {
                    "lat": 21.147863133984963,
                    "lon": 79.08572077072681
                  },
                  "domain": {
                    "x": [
                      0,
                      1
                    ],
                    "y": [
                      0,
                      1
                    ]
                  },
                  "zoom": 10
                },
                "margin": {
                  "t": 60
                },
                "template": {
                  "data": {
                    "bar": [
                      {
                        "error_x": {
                          "color": "#2a3f5f"
                        },
                        "error_y": {
                          "color": "#2a3f5f"
                        },
                        "marker": {
                          "line": {
                            "color": "#E5ECF6",
                            "width": 0.5
                          },
                          "pattern": {
                            "fillmode": "overlay",
                            "size": 10,
                            "solidity": 0.2
                          }
                        },
                        "type": "bar"
                      }
                    ],
                    "barpolar": [
                      {
                        "marker": {
                          "line": {
                            "color": "#E5ECF6",
                            "width": 0.5
                          },
                          "pattern": {
                            "fillmode": "overlay",
                            "size": 10,
                            "solidity": 0.2
                          }
                        },
                        "type": "barpolar"
                      }
                    ],
                    "carpet": [
                      {
                        "aaxis": {
                          "endlinecolor": "#2a3f5f",
                          "gridcolor": "white",
                          "linecolor": "white",
                          "minorgridcolor": "white",
                          "startlinecolor": "#2a3f5f"
                        },
                        "baxis": {
                          "endlinecolor": "#2a3f5f",
                          "gridcolor": "white",
                          "linecolor": "white",
                          "minorgridcolor": "white",
                          "startlinecolor": "#2a3f5f"
                        },
                        "type": "carpet"
                      }
                    ],
                    "choropleth": [
                      {
                        "colorbar": {
                          "outlinewidth": 0,
                          "ticks": ""
                        },
                        "type": "choropleth"
                      }
                    ],
                    "contour": [
                      {
                        "colorbar": {
                          "outlinewidth": 0,
                          "ticks": ""
                        },
                        "colorscale": [
                          [
                            0,
                            "#0d0887"
                          ],
                          [
                            0.1111111111111111,
                            "#46039f"
                          ],
                          [
                            0.2222222222222222,
                            "#7201a8"
                          ],
                          [
                            0.3333333333333333,
                            "#9c179e"
                          ],
                          [
                            0.4444444444444444,
                            "#bd3786"
                          ],
                          [
                            0.5555555555555556,
                            "#d8576b"
                          ],
                          [
                            0.6666666666666666,
                            "#ed7953"
                          ],
                          [
                            0.7777777777777778,
                            "#fb9f3a"
                          ],
                          [
                            0.8888888888888888,
                            "#fdca26"
                          ],
                          [
                            1,
                            "#f0f921"
                          ]
                        ],
                        "type": "contour"
                      }
                    ],
                    "contourcarpet": [
                      {
                        "colorbar": {
                          "outlinewidth": 0,
                          "ticks": ""
                        },
                        "type": "contourcarpet"
                      }
                    ],
                    "heatmap": [
                      {
                        "colorbar": {
                          "outlinewidth": 0,
                          "ticks": ""
                        },
                        "colorscale": [
                          [
                            0,
                            "#0d0887"
                          ],
                          [
                            0.1111111111111111,
                            "#46039f"
                          ],
                          [
                            0.2222222222222222,
                            "#7201a8"
                          ],
                          [
                            0.3333333333333333,
                            "#9c179e"
                          ],
                          [
                            0.4444444444444444,
                            "#bd3786"
                          ],
                          [
                            0.5555555555555556,
                            "#d8576b"
                          ],
                          [
                            0.6666666666666666,
                            "#ed7953"
                          ],
                          [
                            0.7777777777777778,
                            "#fb9f3a"
                          ],
                          [
                            0.8888888888888888,
                            "#fdca26"
                          ],
                          [
                            1,
                            "#f0f921"
                          ]
                        ],
                        "type": "heatmap"
                      }
                    ],
                    "heatmapgl": [
                      {
                        "colorbar": {
                          "outlinewidth": 0,
                          "ticks": ""
                        },
                        "colorscale": [
                          [
                            0,
                            "#0d0887"
                          ],
                          [
                            0.1111111111111111,
                            "#46039f"
                          ],
                          [
                            0.2222222222222222,
                            "#7201a8"
                          ],
                          [
                            0.3333333333333333,
                            "#9c179e"
                          ],
                          [
                            0.4444444444444444,
                            "#bd3786"
                          ],
                          [
                            0.5555555555555556,
                            "#d8576b"
                          ],
                          [
                            0.6666666666666666,
                            "#ed7953"
                          ],
                          [
                            0.7777777777777778,
                            "#fb9f3a"
                          ],
                          [
                            0.8888888888888888,
                            "#fdca26"
                          ],
                          [
                            1,
                            "#f0f921"
                          ]
                        ],
                        "type": "heatmapgl"
                      }
                    ],
                    "histogram": [
                      {
                        "marker": {
                          "pattern": {
                            "fillmode": "overlay",
                            "size": 10,
                            "solidity": 0.2
                          }
                        },
                        "type": "histogram"
                      }
                    ],
                    "histogram2d": [
                      {
                        "colorbar": {
                          "outlinewidth": 0,
                          "ticks": ""
                        },
                        "colorscale": [
                          [
                            0,
                            "#0d0887"
                          ],
                          [
                            0.1111111111111111,
                            "#46039f"
                          ],
                          [
                            0.2222222222222222,
                            "#7201a8"
                          ],
                          [
                            0.3333333333333333,
                            "#9c179e"
                          ],
                          [
                            0.4444444444444444,
                            "#bd3786"
                          ],
                          [
                            0.5555555555555556,
                            "#d8576b"
                          ],
                          [
                            0.6666666666666666,
                            "#ed7953"
                          ],
                          [
                            0.7777777777777778,
                            "#fb9f3a"
                          ],
                          [
                            0.8888888888888888,
                            "#fdca26"
                          ],
                          [
                            1,
                            "#f0f921"
                          ]
                        ],
                        "type": "histogram2d"
                      }
                    ],
                    "histogram2dcontour": [
                      {
                        "colorbar": {
                          "outlinewidth": 0,
                          "ticks": ""
                        },
                        "colorscale": [
                          [
                            0,
                            "#0d0887"
                          ],
                          [
                            0.1111111111111111,
                            "#46039f"
                          ],
                          [
                            0.2222222222222222,
                            "#7201a8"
                          ],
                          [
                            0.3333333333333333,
                            "#9c179e"
                          ],
                          [
                            0.4444444444444444,
                            "#bd3786"
                          ],
                          [
                            0.5555555555555556,
                            "#d8576b"
                          ],
                          [
                            0.6666666666666666,
                            "#ed7953"
                          ],
                          [
                            0.7777777777777778,
                            "#fb9f3a"
                          ],
                          [
                            0.8888888888888888,
                            "#fdca26"
                          ],
                          [
                            1,
                            "#f0f921"
                          ]
                        ],
                        "type": "histogram2dcontour"
                      }
                    ],
                    "mesh3d": [
                      {
                        "colorbar": {
                          "outlinewidth": 0,
                          "ticks": ""
                        },
                        "type": "mesh3d"
                      }
                    ],
                    "parcoords": [
                      {
                        "line": {
                          "colorbar": {
                            "outlinewidth": 0,
                            "ticks": ""
                          }
                        },
                        "type": "parcoords"
                      }
                    ],
                    "pie": [
                      {
                        "automargin": true,
                        "type": "pie"
                      }
                    ],
                    "scatter": [
                      {
                        "fillpattern": {
                          "fillmode": "overlay",
                          "size": 10,
                          "solidity": 0.2
                        },
                        "type": "scatter"
                      }
                    ],
                    "scatter3d": [
                      {
                        "line": {
                          "colorbar": {
                            "outlinewidth": 0,
                            "ticks": ""
                          }
                        },
                        "marker": {
                          "colorbar": {
                            "outlinewidth": 0,
                            "ticks": ""
                          }
                        },
                        "type": "scatter3d"
                      }
                    ],
                    "scattercarpet": [
                      {
                        "marker": {
                          "colorbar": {
                            "outlinewidth": 0,
                            "ticks": ""
                          }
                        },
                        "type": "scattercarpet"
                      }
                    ],
                    "scattergeo": [
                      {
                        "marker": {
                          "colorbar": {
                            "outlinewidth": 0,
                            "ticks": ""
                          }
                        },
                        "type": "scattergeo"
                      }
                    ],
                    "scattergl": [
                      {
                        "marker": {
                          "colorbar": {
                            "outlinewidth": 0,
                            "ticks": ""
                          }
                        },
                        "type": "scattergl"
                      }
                    ],
                    "scattermapbox": [
                      {
                        "marker": {
                          "colorbar": {
                            "outlinewidth": 0,
                            "ticks": ""
                          }
                        },
                        "type": "scattermapbox"
                      }
                    ],
                    "scatterpolar": [
                      {
                        "marker": {
                          "colorbar": {
                            "outlinewidth": 0,
                            "ticks": ""
                          }
                        },
                        "type": "scatterpolar"
                      }
                    ],
                    "scatterpolargl": [
                      {
                        "marker": {
                          "colorbar": {
                            "outlinewidth": 0,
                            "ticks": ""
                          }
                        },
                        "type": "scatterpolargl"
                      }
                    ],
                    "scatterternary": [
                      {
                        "marker": {
                          "colorbar": {
                            "outlinewidth": 0,
                            "ticks": ""
                          }
                        },
                        "type": "scatterternary"
                      }
                    ],
                    "surface": [
                      {
                        "colorbar": {
                          "outlinewidth": 0,
                          "ticks": ""
                        },
                        "colorscale": [
                          [
                            0,
                            "#0d0887"
                          ],
                          [
                            0.1111111111111111,
                            "#46039f"
                          ],
                          [
                            0.2222222222222222,
                            "#7201a8"
                          ],
                          [
                            0.3333333333333333,
                            "#9c179e"
                          ],
                          [
                            0.4444444444444444,
                            "#bd3786"
                          ],
                          [
                            0.5555555555555556,
                            "#d8576b"
                          ],
                          [
                            0.6666666666666666,
                            "#ed7953"
                          ],
                          [
                            0.7777777777777778,
                            "#fb9f3a"
                          ],
                          [
                            0.8888888888888888,
                            "#fdca26"
                          ],
                          [
                            1,
                            "#f0f921"
                          ]
                        ],
                        "type": "surface"
                      }
                    ],
                    "table": [
                      {
                        "cells": {
                          "fill": {
                            "color": "#EBF0F8"
                          },
                          "line": {
                            "color": "white"
                          }
                        },
                        "header": {
                          "fill": {
                            "color": "#C8D4E3"
                          },
                          "line": {
                            "color": "white"
                          }
                        },
                        "type": "table"
                      }
                    ]
                  },
                  "layout": {
                    "annotationdefaults": {
                      "arrowcolor": "#2a3f5f",
                      "arrowhead": 0,
                      "arrowwidth": 1
                    },
                    "autotypenumbers": "strict",
                    "coloraxis": {
                      "colorbar": {
                        "outlinewidth": 0,
                        "ticks": ""
                      }
                    },
                    "colorscale": {
                      "diverging": [
                        [
                          0,
                          "#8e0152"
                        ],
                        [
                          0.1,
                          "#c51b7d"
                        ],
                        [
                          0.2,
                          "#de77ae"
                        ],
                        [
                          0.3,
                          "#f1b6da"
                        ],
                        [
                          0.4,
                          "#fde0ef"
                        ],
                        [
                          0.5,
                          "#f7f7f7"
                        ],
                        [
                          0.6,
                          "#e6f5d0"
                        ],
                        [
                          0.7,
                          "#b8e186"
                        ],
                        [
                          0.8,
                          "#7fbc41"
                        ],
                        [
                          0.9,
                          "#4d9221"
                        ],
                        [
                          1,
                          "#276419"
                        ]
                      ],
                      "sequential": [
                        [
                          0,
                          "#0d0887"
                        ],
                        [
                          0.1111111111111111,
                          "#46039f"
                        ],
                        [
                          0.2222222222222222,
                          "#7201a8"
                        ],
                        [
                          0.3333333333333333,
                          "#9c179e"
                        ],
                        [
                          0.4444444444444444,
                          "#bd3786"
                        ],
                        [
                          0.5555555555555556,
                          "#d8576b"
                        ],
                        [
                          0.6666666666666666,
                          "#ed7953"
                        ],
                        [
                          0.7777777777777778,
                          "#fb9f3a"
                        ],
                        [
                          0.8888888888888888,
                          "#fdca26"
                        ],
                        [
                          1,
                          "#f0f921"
                        ]
                      ],
                      "sequentialminus": [
                        [
                          0,
                          "#0d0887"
                        ],
                        [
                          0.1111111111111111,
                          "#46039f"
                        ],
                        [
                          0.2222222222222222,
                          "#7201a8"
                        ],
                        [
                          0.3333333333333333,
                          "#9c179e"
                        ],
                        [
                          0.4444444444444444,
                          "#bd3786"
                        ],
                        [
                          0.5555555555555556,
                          "#d8576b"
                        ],
                        [
                          0.6666666666666666,
                          "#ed7953"
                        ],
                        [
                          0.7777777777777778,
                          "#fb9f3a"
                        ],
                        [
                          0.8888888888888888,
                          "#fdca26"
                        ],
                        [
                          1,
                          "#f0f921"
                        ]
                      ]
                    },
                    "colorway": [
                      "#636efa",
                      "#EF553B",
                      "#00cc96",
                      "#ab63fa",
                      "#FFA15A",
                      "#19d3f3",
                      "#FF6692",
                      "#B6E880",
                      "#FF97FF",
                      "#FECB52"
                    ],
                    "font": {
                      "color": "#2a3f5f"
                    },
                    "geo": {
                      "bgcolor": "white",
                      "lakecolor": "white",
                      "landcolor": "#E5ECF6",
                      "showlakes": true,
                      "showland": true,
                      "subunitcolor": "white"
                    },
                    "hoverlabel": {
                      "align": "left"
                    },
                    "hovermode": "closest",
                    "mapbox": {
                      "style": "light"
                    },
                    "paper_bgcolor": "white",
                    "plot_bgcolor": "#E5ECF6",
                    "polar": {
                      "angularaxis": {
                        "gridcolor": "white",
                        "linecolor": "white",
                        "ticks": ""
                      },
                      "bgcolor": "#E5ECF6",
                      "radialaxis": {
                        "gridcolor": "white",
                        "linecolor": "white",
                        "ticks": ""
                      }
                    },
                    "scene": {
                      "xaxis": {
                        "backgroundcolor": "#E5ECF6",
                        "gridcolor": "white",
                        "gridwidth": 2,
                        "linecolor": "white",
                        "showbackground": true,
                        "ticks": "",
                        "zerolinecolor": "white"
                      },
                      "yaxis": {
                        "backgroundcolor": "#E5ECF6",
                        "gridcolor": "white",
                        "gridwidth": 2,
                        "linecolor": "white",
                        "showbackground": true,
                        "ticks": "",
                        "zerolinecolor": "white"
                      },
                      "zaxis": {
                        "backgroundcolor": "#E5ECF6",
                        "gridcolor": "white",
                        "gridwidth": 2,
                        "linecolor": "white",
                        "showbackground": true,
                        "ticks": "",
                        "zerolinecolor": "white"
                      }
                    },
                    "shapedefaults": {
                      "line": {
                        "color": "#2a3f5f"
                      }
                    },
                    "ternary": {
                      "aaxis": {
                        "gridcolor": "white",
                        "linecolor": "white",
                        "ticks": ""
                      },
                      "baxis": {
                        "gridcolor": "white",
                        "linecolor": "white",
                        "ticks": ""
                      },
                      "bgcolor": "#E5ECF6",
                      "caxis": {
                        "gridcolor": "white",
                        "linecolor": "white",
                        "ticks": ""
                      }
                    },
                    "title": {
                      "x": 0.05
                    },
                    "xaxis": {
                      "automargin": true,
                      "gridcolor": "white",
                      "linecolor": "white",
                      "ticks": "",
                      "title": {
                        "standoff": 15
                      },
                      "zerolinecolor": "white",
                      "zerolinewidth": 2
                    },
                    "yaxis": {
                      "automargin": true,
                      "gridcolor": "white",
                      "linecolor": "white",
                      "ticks": "",
                      "title": {
                        "standoff": 15
                      },
                      "zerolinecolor": "white",
                      "zerolinewidth": 2
                    }
                  }
                },
                "width": 1200
              }
            }
          },
          "metadata": {},
          "output_type": "display_data"
        }
      ],
      "source": [
        "px.scatter_mapbox(df,lat=\"Latitude\", lon=\"Longitude\", color=\"cluster\", size='reviewsCount' ,\n",
        "                  hover_data=['Restaurant','Latitude','Longitude'], zoom=10, width=1200, height=800)"
      ]
    },
    {
      "cell_type": "markdown",
      "metadata": {
        "id": "qFeNjs4JiNBl"
      },
      "source": [
        "# Location-Based Recommendation"
      ]
    },
    {
      "cell_type": "code",
      "execution_count": 446,
      "metadata": {
        "id": "ymvrttKthOrE"
      },
      "outputs": [],
      "source": [
        "top_restaurnant_nagpur = df.sort_values(by=['reviewsCount','Rating'], ascending=False)\n"
      ]
    },
    {
      "cell_type": "code",
      "execution_count": 447,
      "metadata": {
        "colab": {
          "base_uri": "https://localhost:8080/"
        },
        "id": "8M6UNVt2kAx6",
        "outputId": "23d8bd0c-d58b-4dee-fbfe-9a6486812cf6"
      },
      "outputs": [
        {
          "data": {
            "text/plain": [
              "Index(['Restaurant', 'Rating', 'reviewsCount', 'street', 'phone',\n",
              "       'categoryName', 'url', 'Latitude', 'Longitude', 'Restroom',\n",
              "       'Wifi Availabilty', 'Cost of 2 person', 'Payment Method', 'cluster'],\n",
              "      dtype='object')"
            ]
          },
          "execution_count": 447,
          "metadata": {},
          "output_type": "execute_result"
        }
      ],
      "source": [
        "df.columns"
      ]
    },
    {
      "cell_type": "code",
      "execution_count": 448,
      "metadata": {
        "id": "ZQ5PG9SDjEb7"
      },
      "outputs": [],
      "source": [
        "\n",
        "# def recommend_restaurants(latitude, longitude):\n",
        "#     user_location = np.array([latitude,longitude]).reshape(1, -1)\n",
        "#     cluster = kmeans.predict(user_location)[0]\n",
        "#     cluster_restaurants = df[df['cluster'] == cluster]\n",
        "#     return df[df[\"cluster\"]==cluster].iloc[0:100][['Restaurant', 'Latitude', 'Longitude','Rating','categoryName','url']];\n",
        "   "
      ]
    },
    {
      "cell_type": "code",
      "execution_count": 449,
      "metadata": {
        "id": "pi3EHwLvWckV"
      },
      "outputs": [],
      "source": [
        "# import math\n",
        "\n",
        "# def calculate_distance(lat1, lon1, lat2, lon2):\n",
        "#     # Convert latitude and longitude from degrees to radians\n",
        "#     lat1_rad = math.radians(lat1)\n",
        "#     lon1_rad = math.radians(lon1)\n",
        "#     lat2_rad = math.radians(lat2)\n",
        "#     lon2_rad = math.radians(lon2)\n",
        "\n",
        "\n",
        "#     # Difference between the latitudes and longitudes\n",
        "#     d_lat = lat2_rad - lat1_rad\n",
        "#     d_lon = lon2_rad - lon1_rad\n",
        "\n",
        "\n",
        "#     # Haversine formula\n",
        "#     a = math.sin(d_lat/2)**2 + math.cos(lat1_rad) * math.cos(lat2_rad) * math.sin(d_lon/2)**2\n",
        "#     c = 2 * math.atan2(math.sqrt(a), math.sqrt(1-a))\n",
        "\n",
        "#     # Radius of the Earth (in kilometers)\n",
        "#     radius = 6371\n",
        "\n",
        "#     # Calculate the distance\n",
        "#     distance = radius * c\n",
        "#     return distance\n"
      ]
    },
    {
      "cell_type": "code",
      "execution_count": 450,
      "metadata": {
        "id": "YY4O7mXngnwC"
      },
      "outputs": [],
      "source": [
        "category = [\n",
        "    'Fast food restaurant',\n",
        "    'Family restaurant',\n",
        "    'South Indian restaurant',\n",
        "    'Food court',\n",
        "    'Marathi restaurant',\n",
        "    'Barbecue restaurant',\n",
        "    'Bakery',\n",
        "    'North Indian restaurant',\n",
        "    'Indian restaurant',\n",
        "    'Bar & grill',\n",
        "    'Mughlai restaurant',\n",
        "    'Non vegetarian restaurant',\n",
        "    'Pizza restaurant',\n",
        "    'Vegetarian restaurant',\n",
        "    'Rajasthani restaurant',\n",
        "    'Breakfast restaurant',\n",
        "    'Italian restaurant',\n",
        "    'Punjabi restaurant',\n",
        "    'Candy store',\n",
        "    'Chicken restaurant',\n",
        "    'Fine dining restaurant',\n",
        "    'Biryani restaurant',\n",
        "    'Sandwich shop',\n",
        "    'Middle Eastern restaurant',\n",
        "    'Takeout restaurant',\n",
        "    'Small plates restaurant',\n",
        "    'American restaurant',\n",
        "    'Chinese restaurant',\n",
        "    'Dhaba',\n",
        "    'Juice shop',\n",
        "    'Grill',\n",
        "    'Shawarma restaurant',\n",
        "    'Bar',\n",
        "    'Momo restaurant',\n",
        "    'Asian restaurant',\n",
        "    'Buffet restaurant',\n",
        "    'Bengali restaurant',\n",
        "    'Country food restaurant',\n",
        "    'Hyderabadi restaurant',\n",
        "    'Seafood restaurant',\n",
        "    'Dessert shop',\n",
        "    'Health food restaurant',\n",
        "    'Vegan restaurant',\n",
        "    'Ice cream shop',\n",
        "    'Hamburger restaurant',\n",
        "    'Diner',\n",
        "    'Seafood donburi restaurant',\n",
        "    'Gujarati restaurant',\n",
        "    'Snack bar',\n",
        "    'Indian takeaway',\n",
        "    'Fish & chips restaurant',\n",
        "    'Hoagie restaurant',\n",
        "    'Cold noodle restaurant',\n",
        "    'Cape Verdean restaurant',\n",
        "    'Afghan restaurant',\n",
        "    'Tiffin center',\n",
        "    'Continental restaurant',\n",
        "    'Mandarin restaurant',\n",
        "    'Chinese noodle restaurant',\n",
        "    'Fondue restaurant',\n",
        "    'Sundae restaurant',\n",
        "    'Fish restaurant',\n",
        "    'Rice restaurant',\n",
        "    'Korean restaurant'\n",
        "]\n",
        "\n"
      ]
    },
    {
      "cell_type": "code",
      "execution_count": 451,
      "metadata": {
        "id": "GhgXgw8J8-qC"
      },
      "outputs": [],
      "source": [
        "import math\n",
        "def recommend(latitude,longitude,rad,user_choice,restroom,wifi):\n",
        "\n",
        "    user_location = np.array([latitude,longitude]).reshape(1, -1)\n",
        "    cluster = kmeans.predict(user_location)[0]\n",
        "    recommended_restaurants = df[df[\"cluster\"]==cluster].iloc[0:200][['Restaurant', 'Latitude', 'Longitude','Rating','categoryName','url','Restroom','Wifi Availabilty','Cost of 2 person','Payment Method']]\n",
        "   \n",
        "\n",
        "    recommended_restaurants['Distance'] = None\n",
        "\n",
        "    fixed_lat = latitude\n",
        "    fixed_lon = longitude\n",
        "    radius = rad\n",
        "    # List of other coordinates\n",
        "    for index, row in recommended_restaurants.iterrows():\n",
        "        restaurant_latitude = row['Latitude']\n",
        "        restaurant_longitude = row['Longitude']\n",
        "\n",
        "        lat1_rad = math.radians(fixed_lat)\n",
        "        lon1_rad = math.radians(fixed_lon)\n",
        "        lat2_rad = math.radians(restaurant_latitude)\n",
        "        lon2_rad = math.radians(restaurant_longitude)\n",
        "\n",
        "\n",
        "    # Difference between the latitudes and longitudes\n",
        "        d_lat = lat2_rad - lat1_rad\n",
        "        d_lon = lon2_rad - lon1_rad\n",
        "\n",
        "\n",
        "    # Haversine formula\n",
        "        a = math.sin(d_lat/2)**2 + math.cos(lat1_rad) * math.cos(lat2_rad) * math.sin(d_lon/2)**2\n",
        "        c = 2 * math.atan2(math.sqrt(a), math.sqrt(1-a))\n",
        "\n",
        "    # Radius of the Earth (in kilometers)\n",
        "        radius = 6371\n",
        "\n",
        "    # Calculate the distance\n",
        "        distance = radius * c\n",
        "        recommended_restaurants.at[index,'Distance']=distance \n",
        "\n",
        "\n",
        "\n",
        "    \n",
        "    filtered_dist = recommended_restaurants[(recommended_restaurants['Distance'] <= rad)]\n",
        "\n",
        "    print(filtered_dist)\n",
        "\n",
        "    if restroom == 1 and wifi == 1 :\n",
        "        filtered_dist = filtered_dist[(filtered_dist['Restroom'] == 'Yes') &\n",
        "                                    (filtered_dist['Wifi Availabilty'] == 'Yes')]\n",
        "    elif restroom == 1 and wifi == 0 :\n",
        "        filtered_dist = filtered_dist[(filtered_dist['Restroom'] == 'Yes')]\n",
        "    elif restroom == 0 and wifi == 1 :\n",
        "        filtered_dist = filtered_dist[(filtered_dist['Wifi Availabilty'] == 'Yes')]\n",
        " \n",
        "    \n",
        " \n",
        "    print(filtered_dist)\n",
        "\n",
        "\n",
        "    \n",
        "    bychoice = filtered_dist[filtered_dist['categoryName'].str.contains(user_choice, case=False)]\n",
        "\n",
        "    bychoice = pd.concat([bychoice, filtered_dist.head(10)])\n",
        "\n",
        "\n",
        "\n",
        "    \n",
        "\n",
        "    print(\"Top 10 Restaurant Near you\")\n",
        "    print(bychoice[['Restaurant', 'categoryName','Rating','Distance','url','Restroom','Wifi Availabilty','Payment Method']].head(10))\n",
        "\n",
        "    bychoice = bychoice.reset_index(drop=True)\n",
        "\n",
        "    return bychoice[['Restaurant', 'categoryName','Rating','Distance','url','Latitude','Longitude','Restroom','Wifi Availabilty','Payment Method']].head(10).to_json(orient='columns')\n",
        "\n",
        "\n",
        "\n"
      ]
    },
    {
      "cell_type": "code",
      "execution_count": 452,
      "metadata": {},
      "outputs": [],
      "source": [
        "\n",
        "import cloudpickle\n",
        "cloudpickle.dump(recommend,open('model.pkl','wb'))"
      ]
    },
    {
      "cell_type": "code",
      "execution_count": 453,
      "metadata": {
        "colab": {
          "base_uri": "https://localhost:8080/",
          "height": 918
        },
        "id": "teaxCFw_925M",
        "outputId": "12ce6aea-b2ff-4142-c8fe-2df0836e3868"
      },
      "outputs": [
        {
          "name": "stdout",
          "output_type": "stream",
          "text": [
            "                                             Restaurant   Latitude  Longitude   \n",
            "88                                     Hotel Al Rahman.  21.178522  79.131802  \\\n",
            "208   Jaiswal Restaurant/Haldiram Sweets,Snacks,Brea...  21.179375  79.117884   \n",
            "298                                    Zaika Restaurant  21.183517  79.115713   \n",
            "306                              New taj biryani centre  21.174380  79.110735   \n",
            "317                Afghan Darbar Restaurant & Takeaways  21.182665  79.124052   \n",
            "...                                                 ...        ...        ...   \n",
            "1717                                        Nasta point  21.189997  79.126312   \n",
            "1729                            ChongQing Cafe & Restro  21.162718  79.113376   \n",
            "1737                                  Hide & Seek Caffe  21.183852  79.132737   \n",
            "1739                                       Yogesh Hotel  21.197014  79.117982   \n",
            "1741                                    Chotu Pani Puri  21.174687  79.138543   \n",
            "\n",
            "        Rating          categoryName   \n",
            "88    4.200000    Mughlai restaurant  \\\n",
            "208   3.800000            Restaurant   \n",
            "298   3.900000            Restaurant   \n",
            "306   3.800000    Biryani restaurant   \n",
            "317   4.000000            Restaurant   \n",
            "...        ...                   ...   \n",
            "1717  4.191499           Coffee shop   \n",
            "1729  4.191499                  Cafe   \n",
            "1737  4.191499                  Cafe   \n",
            "1739  4.191499                  Cafe   \n",
            "1741  4.191499  Fast food restaurant   \n",
            "\n",
            "                                                    url Restroom   \n",
            "88    https://www.google.com/maps/place/Hotel+Al+Rah...      Yes  \\\n",
            "208   https://www.google.com/maps/place/Jaiswal+Rest...       No   \n",
            "298   https://www.google.com/maps/place/Zaika+Restau...      Yes   \n",
            "306   https://www.google.com/maps/place/New+taj+biry...      Yes   \n",
            "317   https://www.google.com/maps/place/Afghan+Darba...      Yes   \n",
            "...                                                 ...      ...   \n",
            "1717  https://www.google.com/maps/place/Nasta+point/...      Yes   \n",
            "1729  https://www.google.com/maps/place/ChongQing+Ca...      Yes   \n",
            "1737  https://www.google.com/maps/place/Hide+%26+See...      Yes   \n",
            "1739  https://www.google.com/maps/place/Yogesh+Hotel...      Yes   \n",
            "1741  https://www.google.com/maps/place/Chotu+Pani+P...      Yes   \n",
            "\n",
            "     Wifi Availabilty  Cost of 2 person Payment Method  Distance  \n",
            "88                Yes               989            ALL  1.249657  \n",
            "208               Yes               510   CASH AND UPI  0.547621  \n",
            "298               Yes               788   CASH AND UPI  1.060173  \n",
            "306               Yes               594           CASH  0.999514  \n",
            "317               Yes               880            ALL  0.932706  \n",
            "...               ...               ...            ...       ...  \n",
            "1717               No               641   CASH AND UPI  1.776423  \n",
            "1729               No               856           CASH  1.547297  \n",
            "1737               No               500   CASH AND UPI  1.616785  \n",
            "1739               No               767   CASH AND UPI  2.457889  \n",
            "1741               No               721           CASH  1.886684  \n",
            "\n",
            "[124 rows x 11 columns]\n",
            "                                Restaurant   Latitude  Longitude    Rating   \n",
            "88                        Hotel Al Rahman.  21.178522  79.131802  4.200000  \\\n",
            "298                       Zaika Restaurant  21.183517  79.115713  3.900000   \n",
            "306                 New taj biryani centre  21.174380  79.110735  3.800000   \n",
            "317   Afghan Darbar Restaurant & Takeaways  21.182665  79.124052  4.000000   \n",
            "342             B B C Courtyard Restaurant  21.182806  79.115470  4.200000   \n",
            "...                                    ...        ...        ...       ...   \n",
            "1696             Mauli Tea & Nashta Center  21.183852  79.132737  4.191499   \n",
            "1699                New Jalaram UPHAR GRUH  21.185682  79.130425  4.191499   \n",
            "1700                         Refresh Point  21.183852  79.132737  4.191499   \n",
            "1703                         Shri Vadawale  21.184067  79.132159  4.191499   \n",
            "1710                       Sapphire's Cafe  21.179633  79.119678  4.191499   \n",
            "\n",
            "              categoryName                                                url   \n",
            "88      Mughlai restaurant  https://www.google.com/maps/place/Hotel+Al+Rah...  \\\n",
            "298             Restaurant  https://www.google.com/maps/place/Zaika+Restau...   \n",
            "306     Biryani restaurant  https://www.google.com/maps/place/New+taj+biry...   \n",
            "317             Restaurant  https://www.google.com/maps/place/Afghan+Darba...   \n",
            "342             Restaurant  https://www.google.com/maps/place/B+B+C+Courty...   \n",
            "...                    ...                                                ...   \n",
            "1696  Fast food restaurant  https://www.google.com/maps/place/Mauli+Tea+%2...   \n",
            "1699  Fast food restaurant  https://www.google.com/maps/place/New+Jalaram+...   \n",
            "1700  Fast food restaurant  https://www.google.com/maps/place/Refresh+Poin...   \n",
            "1703  Fast food restaurant  https://www.google.com/maps/place/Shri+Vadawal...   \n",
            "1710                  Cafe  https://www.google.com/maps/place/Sapphire's+C...   \n",
            "\n",
            "     Restroom Wifi Availabilty  Cost of 2 person Payment Method  Distance  \n",
            "88        Yes              Yes               989            ALL  1.249657  \n",
            "298       Yes              Yes               788   CASH AND UPI  1.060173  \n",
            "306       Yes              Yes               594           CASH  0.999514  \n",
            "317       Yes              Yes               880            ALL  0.932706  \n",
            "342       Yes              Yes               847            ALL  1.002844  \n",
            "...       ...              ...               ...            ...       ...  \n",
            "1696      Yes              Yes               928   CASH AND UPI  1.616764  \n",
            "1699      Yes              Yes               573           CASH  1.580051  \n",
            "1700      Yes              Yes               635           CASH  1.616764  \n",
            "1703      Yes              Yes               537           CASH  1.584675  \n",
            "1710      Yes              Yes               613   CASH AND UPI  0.517625  \n",
            "\n",
            "[65 rows x 11 columns]\n",
            "Top 10 Restaurant Near you\n",
            "                     Restaurant        categoryName    Rating  Distance   \n",
            "747                  Aroma Cafe                Cafe  4.300000  1.550902  \\\n",
            "1012             Delicioso cafe                Cafe  4.900000  0.551067   \n",
            "1298              Triple 2 cafe                Cafe  5.000000  1.488534   \n",
            "1409    The Cafe - Taste Dil Se                Cafe  5.000000  1.722731   \n",
            "1516             Nilesh Service                Cafe  4.191499  0.440622   \n",
            "1543        Chandravanshi Juice                Cafe  4.191499  2.946462   \n",
            "1622  Harsh Chai & Nashta Cente                Cafe  4.191499  2.185933   \n",
            "1710            Sapphire's Cafe                Cafe  4.191499  0.517625   \n",
            "88             Hotel Al Rahman.  Mughlai restaurant  4.200000  1.249657   \n",
            "298            Zaika Restaurant          Restaurant  3.900000  1.060173   \n",
            "\n",
            "                                                    url Restroom   \n",
            "747   https://www.google.com/maps/place/Aroma+Cafe/@...      Yes  \\\n",
            "1012  https://www.google.com/maps/place/Delicioso+ca...      Yes   \n",
            "1298  https://www.google.com/maps/place/Triple+2+caf...      Yes   \n",
            "1409  https://www.google.com/maps/place/The+Cafe+-+T...      Yes   \n",
            "1516  https://www.google.com/maps/place/Nilesh+Servi...      Yes   \n",
            "1543  https://www.google.com/maps/place/Chandravansh...      Yes   \n",
            "1622  https://www.google.com/maps/place/Harsh+Chai+%...      Yes   \n",
            "1710  https://www.google.com/maps/place/Sapphire's+C...      Yes   \n",
            "88    https://www.google.com/maps/place/Hotel+Al+Rah...      Yes   \n",
            "298   https://www.google.com/maps/place/Zaika+Restau...      Yes   \n",
            "\n",
            "     Wifi Availabilty Payment Method  \n",
            "747               Yes           CASH  \n",
            "1012              Yes           CASH  \n",
            "1298              Yes   CASH AND UPI  \n",
            "1409              Yes           CASH  \n",
            "1516              Yes           CASH  \n",
            "1543              Yes           CASH  \n",
            "1622              Yes           CASH  \n",
            "1710              Yes   CASH AND UPI  \n",
            "88                Yes            ALL  \n",
            "298               Yes   CASH AND UPI  \n"
          ]
        },
        {
          "name": "stderr",
          "output_type": "stream",
          "text": [
            "c:\\Users\\RITESH\\AppData\\Local\\Programs\\Python\\Python311\\Lib\\site-packages\\sklearn\\base.py:439: UserWarning:\n",
            "\n",
            "X does not have valid feature names, but KMeans was fitted with feature names\n",
            "\n"
          ]
        },
        {
          "data": {
            "text/plain": [
              "'{\"Restaurant\":{\"0\":\"Aroma Cafe\",\"1\":\"Delicioso cafe\",\"2\":\"Triple 2 cafe\",\"3\":\"The Cafe - Taste Dil Se\",\"4\":\"Nilesh Service\",\"5\":\"Chandravanshi Juice\",\"6\":\"Harsh Chai & Nashta Cente\",\"7\":\"Sapphire\\'s Cafe\",\"8\":\"Hotel Al Rahman.\",\"9\":\"Zaika Restaurant\"},\"categoryName\":{\"0\":\"Cafe\",\"1\":\"Cafe\",\"2\":\"Cafe\",\"3\":\"Cafe\",\"4\":\"Cafe\",\"5\":\"Cafe\",\"6\":\"Cafe\",\"7\":\"Cafe\",\"8\":\"Mughlai restaurant\",\"9\":\"Restaurant\"},\"Rating\":{\"0\":4.3,\"1\":4.9,\"2\":5.0,\"3\":5.0,\"4\":4.191498741,\"5\":4.191498741,\"6\":4.191498741,\"7\":4.191498741,\"8\":4.2,\"9\":3.9},\"Distance\":{\"0\":1.5509019776,\"1\":0.5510665334,\"2\":1.4885336716,\"3\":1.7227313612,\"4\":0.44062159,\"5\":2.9464617408,\"6\":2.1859334305,\"7\":0.5176254452,\"8\":1.24965724,\"9\":1.0601730535},\"url\":{\"0\":\"https:\\\\/\\\\/www.google.com\\\\/maps\\\\/place\\\\/Aroma+Cafe\\\\/@21.1626597,79.1134203,17z\\\\/data=!3m1!4b1!4m6!3m5!1s0x3bd4c7bc234408cd:0xd6c4fbacd175968c!8m2!3d21.1626597!4d79.1134203!16s%2Fg%2F11k2b4fyvj?hl=en\",\"1\":\"https:\\\\/\\\\/www.google.com\\\\/maps\\\\/place\\\\/Delicioso+cafe\\\\/@21.1716088,79.1242059,17z\\\\/data=!3m1!4b1!4m6!3m5!1s0x3bd4c72e7f45631b:0x4f841b58e5d608a9!8m2!3d21.1716088!4d79.1242059!16s%2Fg%2F11t31z8dgh?hl=en\",\"2\":\"https:\\\\/\\\\/www.google.com\\\\/maps\\\\/place\\\\/Triple+2+cafe\\\\/@21.1631604,79.1136915,17z\\\\/data=!3m1!4b1!4m6!3m5!1s0x3bd4c73a53cae6a9:0x6a7e1cc5b2155f0c!8m2!3d21.1631604!4d79.1136915!16s%2Fg%2F11ssx6n_rs?hl=en\",\"3\":\"https:\\\\/\\\\/www.google.com\\\\/maps\\\\/place\\\\/The+Cafe+-+Taste+Dil+Se\\\\/@21.1904355,79.1186938,17z\\\\/data=!3m1!4b1!4m6!3m5!1s0x3bd4c7ef72a8f0d5:0x1e6073d86f9727eb!8m2!3d21.1904355!4d79.1186938!16s%2Fg%2F11ssfgqxdr?hl=en\",\"4\":\"https:\\\\/\\\\/www.google.com\\\\/maps\\\\/place\\\\/Nilesh+Service\\\\/@21.1728497,79.1167948,17z\\\\/data=!3m1!4b1!4m6!3m5!1s0x3bd4c7526d14116b:0x637e4293ad955720!8m2!3d21.1728497!4d79.1167948!16s%2Fg%2F11s5cxgp7s?hl=en\",\"5\":\"https:\\\\/\\\\/www.google.com\\\\/maps\\\\/place\\\\/Chandravanshi+Juice\\\\/@21.1768972,79.148696,17z\\\\/data=!3m1!4b1!4m6!3m5!1s0x3bd4c7a844b0303b:0xe5d718c1ca97d03c!8m2!3d21.1768972!4d79.148696!16s%2Fg%2F11s_vxtp_9?hl=en\",\"6\":\"https:\\\\/\\\\/www.google.com\\\\/maps\\\\/place\\\\/Harsh+Chai+%26+Nashta+Cente\\\\/@21.1937322,79.1268125,17z\\\\/data=!3m1!4b1!4m6!3m5!1s0x3bd4c7b914016c75:0x75c6fe5592d6b604!8m2!3d21.1937322!4d79.1268125!16s%2Fg%2F11q4g5cr1f?hl=en\",\"7\":\"https:\\\\/\\\\/www.google.com\\\\/maps\\\\/place\\\\/Sapphire\\'s+Cafe\\\\/@21.1796325,79.119678,17z\\\\/data=!3m1!4b1!4m6!3m5!1s0x3bd4c724962e81dd:0x82f2d3ad1d6edd9c!8m2!3d21.1796325!4d79.119678!16s%2Fg%2F11q1vf4k9g?hl=en\",\"8\":\"https:\\\\/\\\\/www.google.com\\\\/maps\\\\/place\\\\/Hotel+Al+Rahman.\\\\/@21.1785225,79.1318024,17z\\\\/data=!3m1!4b1!4m6!3m5!1s0x3bd4c6ddf2569ab7:0xdc811520d44e7891!8m2!3d21.1785225!4d79.1318024!16s%2Fg%2F11bwjqf3sc?hl=en\",\"9\":\"https:\\\\/\\\\/www.google.com\\\\/maps\\\\/place\\\\/Zaika+Restaurant\\\\/@21.1835171,79.1157128,17z\\\\/data=!3m1!4b1!4m6!3m5!1s0x3bd4c6ce0d225c11:0x953f052733feb17e!8m2!3d21.1835171!4d79.1157128!16s%2Fg%2F11c1tywnb2?hl=en\"},\"Latitude\":{\"0\":21.1626597,\"1\":21.1716088,\"2\":21.1631604,\"3\":21.1904355,\"4\":21.1728497,\"5\":21.1768972,\"6\":21.1937322,\"7\":21.1796325,\"8\":21.1785225,\"9\":21.1835171},\"Longitude\":{\"0\":79.1134203,\"1\":79.1242059,\"2\":79.1136915,\"3\":79.1186938,\"4\":79.1167948,\"5\":79.148696,\"6\":79.1268125,\"7\":79.119678,\"8\":79.1318024,\"9\":79.1157128},\"Restroom\":{\"0\":\"Yes\",\"1\":\"Yes\",\"2\":\"Yes\",\"3\":\"Yes\",\"4\":\"Yes\",\"5\":\"Yes\",\"6\":\"Yes\",\"7\":\"Yes\",\"8\":\"Yes\",\"9\":\"Yes\"},\"Wifi Availabilty\":{\"0\":\"Yes\",\"1\":\"Yes\",\"2\":\"Yes\",\"3\":\"Yes\",\"4\":\"Yes\",\"5\":\"Yes\",\"6\":\"Yes\",\"7\":\"Yes\",\"8\":\"Yes\",\"9\":\"Yes\"},\"Payment Method\":{\"0\":\"CASH\",\"1\":\"CASH\",\"2\":\"CASH AND UPI\",\"3\":\"CASH\",\"4\":\"CASH\",\"5\":\"CASH\",\"6\":\"CASH\",\"7\":\"CASH AND UPI\",\"8\":\"ALL\",\"9\":\"CASH AND UPI\"}}'"
            ]
          },
          "execution_count": 453,
          "metadata": {},
          "output_type": "execute_result"
        }
      ],
      "source": [
        "recommend(21.1750198,79.1203504,3,'Cafe',1,1)\n"
      ]
    },
    {
      "cell_type": "code",
      "execution_count": 454,
      "metadata": {
        "colab": {
          "base_uri": "https://localhost:8080/",
          "height": 918
        },
        "id": "dh3CFZl0_Fbd",
        "outputId": "ac7ec616-c5c8-4467-eebd-0818cd00fa30"
      },
      "outputs": [],
      "source": [
        "# recommend(21.1730198,79.1003504,20,'Fast Food')"
      ]
    },
    {
      "cell_type": "code",
      "execution_count": 455,
      "metadata": {
        "colab": {
          "base_uri": "https://localhost:8080/",
          "height": 918
        },
        "id": "ctFtCFIV5rG0",
        "outputId": "df33544c-ff1f-46f2-f868-8d8f0709fac8"
      },
      "outputs": [],
      "source": [
        "# recommend(21.120712,78.9900825,10,'Vegetarian')\n"
      ]
    },
    {
      "cell_type": "code",
      "execution_count": 456,
      "metadata": {
        "colab": {
          "base_uri": "https://localhost:8080/",
          "height": 918
        },
        "id": "90TMvXTK8PmC",
        "outputId": "07bebf79-60c0-41df-c199-745a4524ee8e"
      },
      "outputs": [],
      "source": [
        "# recommend(21.120712,78.9900825,6,'Biryani')"
      ]
    },
    {
      "cell_type": "code",
      "execution_count": 457,
      "metadata": {
        "colab": {
          "base_uri": "https://localhost:8080/",
          "height": 1000
        },
        "id": "7R_9n0kgIH98",
        "outputId": "9bd257fd-10ab-4784-b6e0-cb996589a988"
      },
      "outputs": [],
      "source": [
        "# final = recommend(21.17121463402801, 79.12374868158489,10,'North Indian')\n",
        "# px.scatter_mapbox(final, lat=\"Latitude\", lon=\"Longitude\", color=\"Rating\",\n",
        "                #   size_max=30, zoom=3, width=1200, height=800)"
      ]
    },
    {
      "cell_type": "code",
      "execution_count": 458,
      "metadata": {
        "colab": {
          "base_uri": "https://localhost:8080/",
          "height": 363
        },
        "id": "Skbfj96PocmJ",
        "outputId": "20237da7-a130-40eb-d7f5-02e28f430f50"
      },
      "outputs": [],
      "source": [
        "# final = recommend(20.7533238,78.5911708,100,'Fast Food')"
      ]
    },
    {
      "cell_type": "code",
      "execution_count": 459,
      "metadata": {
        "colab": {
          "base_uri": "https://localhost:8080/",
          "height": 987
        },
        "id": "m9alRwZmgdqx",
        "outputId": "a0cd9f77-26df-4dd4-da99-68affdfb9b45"
      },
      "outputs": [],
      "source": [
        "# user_latitude = float(input(\"Enter your latitude: \"))\n",
        "# user_longitude = float(input(\"Enter your longitude: \"))\n",
        "# distance = float(input(\"Enter Distance radius: \"))\n",
        "# choice = input(\"Enter your choice: \")\n",
        "\n",
        "# final = recommend(user_latitude,user_longitude,distance,choice)\n",
        "\n",
        "# px.scatter_mapbox(final, lat=\"Latitude\", lon=\"Longitude\", color=\"Rating\",\n",
        "#                   size_max=30, zoom=3, width=1200, height=800)\n",
        "# final"
      ]
    },
    {
      "cell_type": "code",
      "execution_count": null,
      "metadata": {},
      "outputs": [],
      "source": []
    }
  ],
  "metadata": {
    "colab": {
      "provenance": []
    },
    "kernelspec": {
      "display_name": "Python 3",
      "name": "python3"
    },
    "language_info": {
      "codemirror_mode": {
        "name": "ipython",
        "version": 3
      },
      "file_extension": ".py",
      "mimetype": "text/x-python",
      "name": "python",
      "nbconvert_exporter": "python",
      "pygments_lexer": "ipython3",
      "version": "3.11.2"
    }
  },
  "nbformat": 4,
  "nbformat_minor": 0
}
